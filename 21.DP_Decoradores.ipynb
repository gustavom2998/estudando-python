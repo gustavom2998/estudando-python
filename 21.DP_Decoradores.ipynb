{
 "cells": [
  {
   "cell_type": "markdown",
   "metadata": {},
   "source": [
    "# Design Pattern - Decoradores\n",
    "\n",
    "## Decoradores\n",
    "O design pattern de decoradores permite adicionar comportamento adicional para objetos específios. Uma forma de fazer isto é decorar o objeto (método, função, classe, com tipos que fornecem os comportamentos adicionais sem utilizar herança. Em Python especificamente, os decoradores são funções que aceitam outras funções (ou métodos) e retornam uma terceira função com o comportamento decorado. \n",
    "\n",
    "Decoradores na realidade são objetos que podem ser manipulados, se comportando com macros que podem ser aplicados para objetos, retornando outros objetos (normalmente, uma nova função). \n",
    "\n",
    "## Definindo um decorador\n",
    "Para definir um decorador, é necessário ter um objeto manipulável (exemplo, uma função decoradora) que recebe outra função como paramêtro (função a ser decorada), retornando uma nova função (função decorada). O comportamento decorado demonstrado é apenas a inclusão de alguns prints, mas pode ser muito mais complexo, como lidar com atributos adicionais, pré-processar argumentos, etc. Como por exemplo:"
   ]
  },
  {
   "cell_type": "code",
   "execution_count": 3,
   "metadata": {},
   "outputs": [],
   "source": [
    "# Decorador que encapsula a funcao original\n",
    "def funcDecorador(func):\n",
    "    # Nova funcao a ser implementada, decora a funcao original\n",
    "    def funcDecorada():\n",
    "        print(\"Chamando \" + func.__name__ + \"...\")\n",
    "        func() # Chamada da funcao original, qualquer outra linha eh comportamento decorado\n",
    "        print(func.__name__ + \" chamado...\")\n",
    "    return funcDecorada"
   ]
  },
  {
   "cell_type": "markdown",
   "metadata": {},
   "source": [
    "## Utilizando decoradores\n",
    "Podemos definir uma nova função para demonstrar um exemplo da utilização do decorador definido anteriormente."
   ]
  },
  {
   "cell_type": "code",
   "execution_count": 6,
   "metadata": {},
   "outputs": [
    {
     "name": "stdout",
     "output_type": "stream",
     "text": [
      "Chamando func...\n",
      "Função.\n",
      "func chamado...\n"
     ]
    }
   ],
   "source": [
    "def func():\n",
    "    print(\"Função.\")\n",
    "    \n",
    "func_dec = funcDecorador(func)\n",
    "func_dec()"
   ]
  },
  {
   "cell_type": "markdown",
   "metadata": {},
   "source": [
    "O comportamento decorado demonstrado é muito simples, mas ele pode ser modificado para ser muito mais complexo. Observe que é possível utilizar o decorador sintático (diferente do design pattern) `@funcDecorador` para associar a função a ser decorada o decorador."
   ]
  },
  {
   "cell_type": "code",
   "execution_count": 7,
   "metadata": {},
   "outputs": [
    {
     "name": "stdout",
     "output_type": "stream",
     "text": [
      "Chamando func...\n",
      "Função.\n",
      "func chamado...\n"
     ]
    }
   ],
   "source": [
    "@funcDecorador\n",
    "def func():\n",
    "    print(\"Função.\")\n",
    "    \n",
    "func_dec()"
   ]
  },
  {
   "cell_type": "markdown",
   "metadata": {},
   "source": [
    "## Funções com paramêtros\n",
    "Decoradores podem ser aplicados para funções que possuem paramêtros, desde que o decorador também aceite os paramêtros."
   ]
  },
  {
   "cell_type": "markdown",
   "metadata": {},
   "source": [
    "## Decoradores Empilhados\n",
    "Decoradores pode ser empilhados, ou seja, multiplos decoradores podem ser aplicado sobre o mesmo objeto. Para isto, é necessário garantir sempre que a quantidade de paramêtros do objeto decorado não se altere. "
   ]
  },
  {
   "cell_type": "code",
   "execution_count": 15,
   "metadata": {},
   "outputs": [
    {
     "name": "stdout",
     "output_type": "stream",
     "text": [
      "<b><i>Ola mundo.</i></b>\n"
     ]
    }
   ],
   "source": [
    "def dec_negrito(func):\n",
    "    def negrito():\n",
    "        return \"<b>\" + func() + \"</b>\"\n",
    "    return negrito\n",
    "\n",
    "def dec_italico(func):\n",
    "    def italico():\n",
    "        return \"<i>\" + func() + \"</i>\"\n",
    "    return italico\n",
    "\n",
    "@dec_negrito\n",
    "@dec_italico\n",
    "def func_str():\n",
    "    return 'Ola mundo.'\n",
    "\n",
    "print(func_str())"
   ]
  },
  {
   "cell_type": "markdown",
   "metadata": {},
   "source": [
    "## Decoradores Parametrizados\n",
    "Decoradores também podem ser seus próprios paramêtros, entretanto, a sintaxe deles requer um tratamento especial. Por exemplo, para um paramêtro binário que define se a função deve ser chamada ou não, é necessário adicionar duas implementações diferentes dentro do decorador."
   ]
  },
  {
   "cell_type": "code",
   "execution_count": 16,
   "metadata": {},
   "outputs": [
    {
     "name": "stdout",
     "output_type": "stream",
     "text": [
      "Tentando executar func1...\n",
      "Executando...\n",
      "Funcao 1.\n",
      "Tentando executar func2...\n",
      "Não executado...\n"
     ]
    }
   ],
   "source": [
    "def func_par(executa = True):\n",
    "    def decorador(func):\n",
    "        def func_decorada():\n",
    "            print(\"Tentando executar \" + func.__name__ + \"...\")\n",
    "            if(executa):\n",
    "                print(\"Executando...\")\n",
    "                func()\n",
    "            else:\n",
    "                print(\"Não executado...\")\n",
    "        return func_decorada\n",
    "    return decorador\n",
    "\n",
    "@func_par()\n",
    "def func1():\n",
    "    print(\"Funcao 1.\")\n",
    "    \n",
    "@func_par(executa = False)\n",
    "def func2():\n",
    "    print(\"Funcao 2.\")\n",
    "\n",
    "func1()\n",
    "func2()"
   ]
  },
  {
   "cell_type": "markdown",
   "metadata": {},
   "source": [
    "## Decoradores de métodos\n",
    "Até então, implementamos decoradores para funções normais, entretanto, é possível implementar decoradores para métodos também. É valido relembrar que métodos sempre recebem o paramêtro self, logo, é necessário que o decorador também receba este paramêtro. No exemplo abaixo, implementamos uma função decoradora de métodos. Note que a função definida dentro do decorador recebe o argumento self, já que a refêrencia ao método é feito de forma direta, e não através do objeto."
   ]
  },
  {
   "cell_type": "code",
   "execution_count": 5,
   "metadata": {},
   "outputs": [
    {
     "name": "stdout",
     "output_type": "stream",
     "text": [
      "<b>Joao</b>\n"
     ]
    }
   ],
   "source": [
    "def decorador(metodo):\n",
    "    def metodo_decorado(self):\n",
    "        return \"<b>\" + metodo(self) + \"</b>\"\n",
    "    return metodo_decorado\n",
    "    \n",
    "class Pessoa():\n",
    "    def __init__(self,nome,idade):\n",
    "        self.nome = nome\n",
    "        self.idade = idade\n",
    "     \n",
    "    @decorador\n",
    "    def get_nome_bold(self):\n",
    "        return self.nome\n",
    "    \n",
    "x = Pessoa(\"Joao\",18)\n",
    "print(x.get_nome_bold())"
   ]
  },
  {
   "cell_type": "markdown",
   "metadata": {},
   "source": [
    "Para métodos com paramêtros, basta passar os paramêtros do método após o self, da mesma forma que se faz na definição do método dentro da classe. Note que o método decorado deve chamar o método original também passando os paramêtros."
   ]
  },
  {
   "cell_type": "code",
   "execution_count": 7,
   "metadata": {},
   "outputs": [
    {
     "name": "stdout",
     "output_type": "stream",
     "text": [
      "Chamando o método...\n",
      "Ola Joao, seja bem vindo!\n"
     ]
    }
   ],
   "source": [
    "def decorador(metodo):\n",
    "    def metodo_decorado(self,antecedente,consequente):\n",
    "        print(\"Chamando o método...\")\n",
    "        return metodo(self,antecedente,consequente)\n",
    "    return metodo_decorado\n",
    "    \n",
    "class Pessoa():\n",
    "    def __init__(self,nome,idade):\n",
    "        self.nome = nome\n",
    "        self.idade = idade\n",
    "     \n",
    "    @decorador\n",
    "    def conc_nome(self,antecedente,consequente):\n",
    "        return antecedente + self.nome + consequente\n",
    "    \n",
    "x = Pessoa(\"Joao\",18)\n",
    "print(x.conc_nome(\"Ola \", \", seja bem vindo!\"))"
   ]
  },
  {
   "cell_type": "markdown",
   "metadata": {},
   "source": [
    "## Decoradores de classes\n",
    "Como já comentado anteriormente, é possível decorar classes também. Isto pode ser feito para extender funcionalidades das classes, sem ter que realizar a herança. Por exemplo, há um design pattern chamado de singleton DP, cujo objetivo é permitir no máximo uma instância de uma classe no programa. Para implementar isto, pode se decorar uma classe."
   ]
  },
  {
   "cell_type": "code",
   "execution_count": 8,
   "metadata": {},
   "outputs": [],
   "source": [
    "def decorador_singleton(cls):\n",
    "    instance = None\n",
    "    \n",
    "    def get_instance():\n",
    "        nonlocal instance\n",
    "        if instance is None:\n",
    "            instance = cls()\n",
    "        return instance\n",
    "    return get_instance"
   ]
  },
  {
   "cell_type": "code",
   "execution_count": 9,
   "metadata": {},
   "outputs": [],
   "source": [
    "@decorador_singleton\n",
    "class Pessoa():\n",
    "    def print_self(self):\n",
    "        print(self)"
   ]
  },
  {
   "cell_type": "markdown",
   "metadata": {},
   "source": [
    "Então, instânciamos dois objetos para a classe. Note que, após imprimir o objeto, e criar um novo, o endereço do novo não é armazenado, já que o mesmo teria que sobreescrever a váriavel instance, algo que é impossibilitado pelo if. "
   ]
  },
  {
   "cell_type": "code",
   "execution_count": 9,
   "metadata": {},
   "outputs": [
    {
     "name": "stdout",
     "output_type": "stream",
     "text": [
      "<__main__.Pessoa object at 0x00000299581DB308>\n",
      "<__main__.Pessoa object at 0x00000299581DB308>\n"
     ]
    }
   ],
   "source": [
    "p1 = Pessoa()\n",
    "p1.print_self()\n",
    "p2 = Pessoa()\n",
    "p2.print_self()"
   ]
  },
  {
   "cell_type": "markdown",
   "metadata": {},
   "source": [
    "## Execução de um decorador\n",
    "A execução de um decorador geralmente ocorre em tempo de importação (quando o módulo é importado pelo Python). A função decorada e função original só são executadas entretanto quando ocorre uma chamada, no caso, em tempo de execução. "
   ]
  },
  {
   "cell_type": "markdown",
   "metadata": {},
   "source": [
    "## Functools Wrap\n",
    "Ao utilizar um decorador, acaba se perdendo as informações (name, doc e module) da função,já que a que é retornada ao chamar o método é a da função decorada. Para contornar este problema, o Python possuí o pacote `functools`, que possuí o módulo `wraps`, que contém o decorador `@wraps`. O `@wraps` pode ser utilizado para atualizar os atributos da função decorada para aqueles da função original."
   ]
  },
  {
   "cell_type": "code",
   "execution_count": 13,
   "metadata": {},
   "outputs": [
    {
     "name": "stdout",
     "output_type": "stream",
     "text": [
      "Chamando funcao...\n",
      "hello world.\n",
      "Funcao ja decorada.\n"
     ]
    }
   ],
   "source": [
    "from functools import wraps\n",
    "\n",
    "def decorador(func):\n",
    "    @wraps(func)\n",
    "    def func_decorada():\n",
    "        \"\"\"Funcao ja decorada.\"\"\"\n",
    "        print(\"Chamando funcao...\")\n",
    "        func()\n",
    "    return func_decorada\n",
    "\n",
    "@decorador\n",
    "def funcao():\n",
    "    \"\"\"Funcao a ser decorada.\"\"\"\n",
    "    print(\"hello world.\")\n",
    "\n",
    "funcao()\n",
    "print(funcao.__doc__)"
   ]
  }
 ],
 "metadata": {
  "kernelspec": {
   "display_name": "Python 3",
   "language": "python",
   "name": "python3"
  },
  "language_info": {
   "codemirror_mode": {
    "name": "ipython",
    "version": 3
   },
   "file_extension": ".py",
   "mimetype": "text/x-python",
   "name": "python",
   "nbconvert_exporter": "python",
   "pygments_lexer": "ipython3",
   "version": "3.7.7"
  }
 },
 "nbformat": 4,
 "nbformat_minor": 4
}
