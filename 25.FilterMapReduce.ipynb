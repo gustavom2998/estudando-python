{
 "cells": [
  {
   "cell_type": "markdown",
   "metadata": {},
   "source": [
    "# Aplicação de Funções de Ordem Superior: Filter, Map e Reduce\n",
    "Nesta tópico, estudamos três funções que o Python possuí para implementar a metodologia de programação funcional com tipos de coleções. "
   ]
  },
  {
   "cell_type": "markdown",
   "metadata": {},
   "source": [
    "## Filter\n",
    "O método `filter()` é uma função de ordem superior que pode ser utilizada para filtrar elementos de uma coleção. O resultado retornado por essa função é uma nova coleção do tipo `filter` que contém os valores que passam pelo filtro. Há dois paramêtros que devem ser passado para essa função. A primeira, é a função de filtragem, cuja implementação deve receber um item de coleção como paramêtro, e realizar um teste, retornando um valor booleano, onde aqueles verdadeiros estarão no novo iterável. O segundo paramêtro é o próprio objeto iterável a ser testado.\n",
    "\n",
    "Abaixo, criamos um filtro de valores pares para uma lista. "
   ]
  },
  {
   "cell_type": "code",
   "execution_count": 7,
   "metadata": {},
   "outputs": [
    {
     "name": "stdout",
     "output_type": "stream",
     "text": [
      "[0, 2, 4, 6, 8, 10]\n"
     ]
    }
   ],
   "source": [
    "dados = [x for x in range(0,11)]\n",
    "func_isEven = lambda i: i % 2 == 0\n",
    "dados_par = filter(func_isEven,dados)\n",
    "print(list(dados_par))"
   ]
  },
  {
   "cell_type": "markdown",
   "metadata": {},
   "source": [
    "Há inumeras aplicações para este tipo de função, como por exemplo, para fazer uma consulta em uma lista que contem multiplas instâncias de um objeto."
   ]
  },
  {
   "cell_type": "code",
   "execution_count": 8,
   "metadata": {},
   "outputs": [
    {
     "name": "stdout",
     "output_type": "stream",
     "text": [
      "Nome: João  | Idade: 18\n",
      "Nome: Jessica  | Idade: 24\n"
     ]
    }
   ],
   "source": [
    "class Pessoa():\n",
    "    def __init__(self,nome,idade):\n",
    "        self.nome = nome\n",
    "        self.idade = idade\n",
    "        \n",
    "    def __str__(self):\n",
    "        return \"Nome: \" + self.nome + \"  | Idade: \" + str(self.idade)\n",
    "\n",
    "dados = [Pessoa('João', 18), Pessoa('José', 49), Pessoa('Maria',51), Pessoa('Jessica', 24)]\n",
    "\n",
    "func_isIdadeEven = lambda obj: obj.idade % 2 == 0\n",
    "dados_idadepar = filter(func_isIdadeEven,dados)\n",
    "\n",
    "for p in  dados_idadepar:\n",
    "    print(p)"
   ]
  },
  {
   "cell_type": "markdown",
   "metadata": {},
   "source": [
    "## Map\n",
    "A função Map é responsável por aplicar um conjunto de operações fornecido através de uma função, aplicando a função sobre cada valor do objeto iterável. É o equivalente a aplicar um laço for, utilizando a função e armazenando o resultado em um objeto iterável. O primeiro paramêtro é a função a ser aplicada sobre cada elemento, e o segundo é o objeto iterável. \n",
    "\n",
    "Abaixo, criamos um exemplo que para uma lista de valores, encontra o quadrado do valor. "
   ]
  },
  {
   "cell_type": "code",
   "execution_count": 9,
   "metadata": {},
   "outputs": [
    {
     "name": "stdout",
     "output_type": "stream",
     "text": [
      "[0, 1, 4, 9, 16, 25, 36, 49, 64, 81, 100]\n"
     ]
    }
   ],
   "source": [
    "dados = [x for x in range(0,11)]\n",
    "func_sq = lambda i: i**2\n",
    "dados_sq = map(func_sq,dados)\n",
    "print(list(dados_sq))"
   ]
  },
  {
   "cell_type": "markdown",
   "metadata": {},
   "source": [
    "É possível especificar multiplos objetos iteráveis, entretanto, para isso, é necessário passar uma função que recebe a mesma quanidade de atributos que iteráveis informados, como demonstrado no exemplo abaixo. "
   ]
  },
  {
   "cell_type": "code",
   "execution_count": 10,
   "metadata": {},
   "outputs": [
    {
     "name": "stdout",
     "output_type": "stream",
     "text": [
      "[['0', '0'], ['1', '-1'], ['4', '-4'], ['9', '-9'], ['16', '-16']]\n"
     ]
    }
   ],
   "source": [
    "dados1 = [x for x in range(0,11)]\n",
    "dados2 = {'a':0, 'b':1, 'c':2, 'd':3, 'e':4}\n",
    "\n",
    "def func_oper(x1,x2):\n",
    "    x1 = x1 * x1\n",
    "    x2 = -1 * x2 * x2\n",
    "    return [str(x1),str(x2)]\n",
    "\n",
    "dados_sq = map(func_oper,dados1,dados2.values())\n",
    "print(list(dados_sq))"
   ]
  },
  {
   "cell_type": "markdown",
   "metadata": {},
   "source": [
    "Como já falado anteriomente, pode se trabalhar com tipos de dados definidos pelo usuário também."
   ]
  },
  {
   "cell_type": "code",
   "execution_count": 11,
   "metadata": {},
   "outputs": [
    {
     "name": "stdout",
     "output_type": "stream",
     "text": [
      "['JOÃO', 'JOSÉ', 'MARIA', 'JESSICA']\n"
     ]
    }
   ],
   "source": [
    "dados = [Pessoa('João', 18), Pessoa('José', 49), Pessoa('Maria',51), Pessoa('Jessica', 24)]\n",
    "func = lambda obj: obj.nome.upper()\n",
    "dados_upper = map(func,dados)\n",
    "print(list(dados_upper))"
   ]
  },
  {
   "cell_type": "markdown",
   "metadata": {},
   "source": [
    "## Reduce\n",
    "A ultima função de ordem superior estuda é a `reduce()` que além de aplicar a função sobre os elementos (Semelhante ao map), combina todos os elementos em um único resultado. Por ser uma função que deixou de fazer parte do Python, é necessário importar ela do pacote `functools`.\n",
    "\n",
    "Há três pamêtros recebidos por esta função. O primeiro é a função utilizada, esta deve receber dois argumentos, sendo eles o valor acumulado atual e o segundo o elemento atual. O segundo paramêtro dessa função é o objeto iterável, e o terceiro, que é opcional, é o valor inicial acumulado. \n",
    "\n",
    "No exemplo abaixo, criamos uma função cujo objetivo é acumular os elementos de uma lista."
   ]
  },
  {
   "cell_type": "code",
   "execution_count": 12,
   "metadata": {},
   "outputs": [
    {
     "name": "stdout",
     "output_type": "stream",
     "text": [
      "55\n"
     ]
    }
   ],
   "source": [
    "from functools import reduce\n",
    "dados = [x for x in range(0,11)]\n",
    "func_acumuladora = lambda acc,i: acc + i\n",
    "print(reduce(func_acumuladora,dados))"
   ]
  },
  {
   "cell_type": "markdown",
   "metadata": {},
   "source": [
    "Criamos outro exemplo com o propósito de multiplicar os valores, iniciando o acumulador com o valor 2. Logo, obtemos o produtório dos elementos vezes dois."
   ]
  },
  {
   "cell_type": "code",
   "execution_count": 15,
   "metadata": {},
   "outputs": [
    {
     "name": "stdout",
     "output_type": "stream",
     "text": [
      "7257600\n"
     ]
    }
   ],
   "source": [
    "dados = [x for x in range(1,11)]\n",
    "func_produtorio = lambda acc,i: acc * i\n",
    "print(reduce(func_produtorio,dados,2))"
   ]
  },
  {
   "cell_type": "markdown",
   "metadata": {},
   "source": [
    "Outra aplicação muito útil, agora usando a classe Pessoa, é encontrar por exemplo o valor de idade média para uma lista de pessoas."
   ]
  },
  {
   "cell_type": "code",
   "execution_count": 17,
   "metadata": {},
   "outputs": [
    {
     "name": "stdout",
     "output_type": "stream",
     "text": [
      "35.5\n"
     ]
    }
   ],
   "source": [
    "dados = [Pessoa('João', 18), Pessoa('José', 49), Pessoa('Maria',51), Pessoa('Jessica', 24)]\n",
    "func_idMed = lambda acc,obj: acc + obj.idade\n",
    "print(reduce(func_idMed,dados,0)/len(dados))"
   ]
  }
 ],
 "metadata": {
  "kernelspec": {
   "display_name": "Python 3",
   "language": "python",
   "name": "python3"
  },
  "language_info": {
   "codemirror_mode": {
    "name": "ipython",
    "version": 3
   },
   "file_extension": ".py",
   "mimetype": "text/x-python",
   "name": "python",
   "nbconvert_exporter": "python",
   "pygments_lexer": "ipython3",
   "version": "3.7.7"
  }
 },
 "nbformat": 4,
 "nbformat_minor": 4
}
