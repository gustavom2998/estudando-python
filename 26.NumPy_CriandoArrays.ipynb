{
 "cells": [
  {
   "cell_type": "markdown",
   "metadata": {},
   "source": [
    "# NumPy: Criando Arrays\n",
    "Neste tópico, propomos o estudo do pacote `NumPy`, cujo objetivo é fornecer suporte para arrays multidimensionais, que possuem implementações prontas para operações básicas e funções de algebra linear extremamente úteis. Este pacote é a base de grande parte dos pacotes do Python que serão futuramente estudados. A implementação deste pacote é feita através de C, logo, ele é extremamente otimizado (devido a tipagém estática e uso de memória contigua), sendo ótimo para carregar, armazenear, e manipular dados dentro de memória no Python."
   ]
  },
  {
   "cell_type": "markdown",
   "metadata": {},
   "source": [
    "## O Pacote NumPy\n",
    "O pacote NumPy veio para \"corrigir\" uma das características que torna ela uma linguagem tão atrativa, entretanto, causa ela para ser tão lerda. Enquanto em uma linguagem  tradicional (como C) implementa a tipagem estática, ou seja, uma vez uma váriavel recebe um tipo, ela só pode armazenar valores deste tipo, O Python trabalha com tipagem dinâmica, onde qualquer váriavel pode armazenar qualquer tipo de dado a qualquer momento. \n",
    "\n",
    "Como O Python é escrito em C, por trás de um objeto do tipo integer no Python, há um ponteiro para uma estrutura de dados implementada em C, que possuí multiplos valores, como informações sobre a classe do objeto, refêrencia ao espaço ocupado em memória e seu tamanho, o valor em si. Logo, há um overhead ao armazenar tipos de dados iguais (por exemplo `long`) em C e Python. Toda essa informação adicional se torna problemática ao colecionar uma grande quantidade de dados.\n",
    "\n",
    "Uma lista em Python pode conter diversos elementos de vários tipos, cada um sendo seu próprio objeto, que contém os vários campos falados anteriomente. Quando esses elementos são do mesmo tipo, muito dessas informações são redundantes, logo é ótimo ter um array de tipagem estática, que o NumPy apresenta. Enquanto uma lista de Python contém um ponteiro para cada elemento, um array possuí um único ponteiro para uma sequência contígua de valores"
   ]
  },
  {
   "cell_type": "markdown",
   "metadata": {},
   "source": [
    "## Array de Tipo Fixo \n",
    "> Dica: Segue a documentação sobre criação de arrays ([link](https://numpy.org/doc/1.18/reference/routines.array-creation.html)).\n",
    "### Criando Arrays Apartir de Listas\n",
    "A partir do Python 3.3, há o módulo `array` que possuí alternativas eficientes para armazenar dados. Por exemplo, é possível transformar uma lista em um array de tipo estático utilizando este módulo, que é mais eficiente.\n",
    "\n",
    "No exemplo abaixo, utilizamos o método array para transformar uma lista que contém valores numéricos inteiros em um array do tipo inteiro (indicado pelo `i`). Uma limitação dos arrays deste pacote é que as operações não são tão eficientes."
   ]
  },
  {
   "cell_type": "code",
   "execution_count": 2,
   "metadata": {},
   "outputs": [
    {
     "name": "stdout",
     "output_type": "stream",
     "text": [
      "array('i', [0, 1, 2, 3, 4, 5, 6, 7, 8, 9])\n"
     ]
    }
   ],
   "source": [
    "import array\n",
    "l = list(range(10))\n",
    "a = array.array('i',l)\n",
    "print(a)"
   ]
  },
  {
   "cell_type": "markdown",
   "metadata": {},
   "source": [
    "Para contornar este problema, podemos utilizar os arrays do NumPy, que além do armazenamento eficiente, também fornece operações otimizadas. Tradicionalmente, se importa o pacote `numpy` com o alias `np`, que torna refêrenciar ao pacote uma tarefa mais simples. Em seguida, definimos a lista e transformamos ela um array do NumPy."
   ]
  },
  {
   "cell_type": "code",
   "execution_count": 3,
   "metadata": {},
   "outputs": [
    {
     "name": "stdout",
     "output_type": "stream",
     "text": [
      "[0 1 2 3 4 5 6 7 8 9]\n"
     ]
    }
   ],
   "source": [
    "import numpy as np\n",
    "l = list(range(10))\n",
    "a = np.array(l)\n",
    "print(a)"
   ]
  },
  {
   "cell_type": "markdown",
   "metadata": {},
   "source": [
    "É válido ressaltar que diferente de listas, todos os elementos de um array devem ser do mesmo tipo. Logo, ao incluir um valor com ponto flutuante, todos (mesmo que sejam introduzidos como inteiros), serão armazenados como valores de ponto flutuante (indicado pelo ponto após imprimir o array)."
   ]
  },
  {
   "cell_type": "code",
   "execution_count": 4,
   "metadata": {},
   "outputs": [
    {
     "name": "stdout",
     "output_type": "stream",
     "text": [
      "[1.  2.  3.  3.5 5. ]\n"
     ]
    }
   ],
   "source": [
    "l = [1, 2, 3, 3.5, 5]\n",
    "a = np.array(l)\n",
    "print(a)"
   ]
  },
  {
   "cell_type": "markdown",
   "metadata": {},
   "source": [
    "É possível utilizar o paramêtro `dtype` para especificar qual tipo de dados (do NumPy) devem ser utilizado para o array."
   ]
  },
  {
   "cell_type": "code",
   "execution_count": 5,
   "metadata": {},
   "outputs": [
    {
     "data": {
      "text/plain": [
       "array([1. , 2. , 3. , 3.5, 5. ], dtype=float32)"
      ]
     },
     "execution_count": 5,
     "metadata": {},
     "output_type": "execute_result"
    }
   ],
   "source": [
    "np.array([1, 2, 3, 3.5, 5], dtype = 'float32')"
   ]
  },
  {
   "cell_type": "markdown",
   "metadata": {},
   "source": [
    "Além disso, arrays são inerentemente objetos multidimensionais, e tem suporte para operações multidimensionais, por exemplo, é muito fácil criar uma matriz 3x3. "
   ]
  },
  {
   "cell_type": "code",
   "execution_count": 6,
   "metadata": {},
   "outputs": [
    {
     "data": {
      "text/plain": [
       "array([[1, 2, 3],\n",
       "       [4, 5, 6],\n",
       "       [7, 8, 9]])"
      ]
     },
     "execution_count": 6,
     "metadata": {},
     "output_type": "execute_result"
    }
   ],
   "source": [
    "np.array([[1,2,3],[4,5,6],[7,8,9]])"
   ]
  },
  {
   "cell_type": "markdown",
   "metadata": {},
   "source": [
    "### Criando Arrays do Zero\n",
    "Ao invés de utilizar listas para definir arrays, podemos recorrer a criação de arrays utilizando o NumPy, que é uma forma muito mais otimizada.\n",
    "\n",
    "Por exemplo, podemos criar um array iniciado com zeros utilizando a função `zeros()` do NumPy. O primeiro paramêtro recebido por esta função é o shape do array (pode ser um único valor, ou uma tupla), e o segundo (`dtype`) é o tipo de dados que devem ser utilizados."
   ]
  },
  {
   "cell_type": "code",
   "execution_count": 7,
   "metadata": {},
   "outputs": [
    {
     "data": {
      "text/plain": [
       "array([[0, 0, 0],\n",
       "       [0, 0, 0],\n",
       "       [0, 0, 0]], dtype=int8)"
      ]
     },
     "execution_count": 7,
     "metadata": {},
     "output_type": "execute_result"
    }
   ],
   "source": [
    "np.zeros((3,3),dtype = 'int8')"
   ]
  },
  {
   "cell_type": "markdown",
   "metadata": {},
   "source": [
    "A função `ones()` permite realizar uma tarefa semelhante, entretanto, inicializa o array com valores `1`."
   ]
  },
  {
   "cell_type": "code",
   "execution_count": 8,
   "metadata": {},
   "outputs": [
    {
     "data": {
      "text/plain": [
       "array([[1., 1., 1., 1.],\n",
       "       [1., 1., 1., 1.]], dtype=float32)"
      ]
     },
     "execution_count": 8,
     "metadata": {},
     "output_type": "execute_result"
    }
   ],
   "source": [
    "np.ones((2,4),dtype = 'float32')"
   ]
  },
  {
   "cell_type": "markdown",
   "metadata": {},
   "source": [
    "A função `arange()` (semelhante ao range) permite criar um array unidimensional contendo uma sequência de valor entre um intervalo, dados por dois valores passados como paramêtros (primeiro valor inclusivivo, segundo exclusivo), que seguem um passo entre valores (terceiro valor)."
   ]
  },
  {
   "cell_type": "code",
   "execution_count": 9,
   "metadata": {},
   "outputs": [
    {
     "data": {
      "text/plain": [
       "array([-2. , -1.5, -1. , -0.5,  0. ,  0.5,  1. ,  1.5,  2. ,  2.5,  3. ,\n",
       "        3.5,  4. ,  4.5,  5. ,  5.5,  6. ,  6.5])"
      ]
     },
     "execution_count": 9,
     "metadata": {},
     "output_type": "execute_result"
    }
   ],
   "source": [
    "np.arange(-2,7,0.5)"
   ]
  },
  {
   "cell_type": "markdown",
   "metadata": {},
   "source": [
    "Outra função semelhante é a `linspace()`, entretanto, nessa se específica a quantidade de valores a serem gerados dentro do intervalo."
   ]
  },
  {
   "cell_type": "code",
   "execution_count": 11,
   "metadata": {},
   "outputs": [
    {
     "data": {
      "text/plain": [
       "array([-10.,  -8.,  -6.,  -4.,  -2.,   0.,   2.,   4.,   6.,   8.,  10.])"
      ]
     },
     "execution_count": 11,
     "metadata": {},
     "output_type": "execute_result"
    }
   ],
   "source": [
    "np.linspace(-10,10,11)"
   ]
  },
  {
   "cell_type": "markdown",
   "metadata": {},
   "source": [
    "Por ultimo podemos criar uma matriz identidade através da função `eye()`, que retorna uma matriz de duas dimensões. O primeiro paramêtro (`N`) é o numero de linhas, o segundo (`M`, se for oculto é N por default) o numero de colunas, o terceiro (`k`) é em qual indíce (na primeira linha) se encontra a diagonal principal, e por ultimo o tipo de dados a ser utilizado."
   ]
  },
  {
   "cell_type": "code",
   "execution_count": 31,
   "metadata": {},
   "outputs": [
    {
     "data": {
      "text/plain": [
       "array([[1., 0., 0., 0., 0.],\n",
       "       [0., 1., 0., 0., 0.],\n",
       "       [0., 0., 1., 0., 0.],\n",
       "       [0., 0., 0., 1., 0.],\n",
       "       [0., 0., 0., 0., 1.]])"
      ]
     },
     "execution_count": 31,
     "metadata": {},
     "output_type": "execute_result"
    }
   ],
   "source": [
    "np.eye(3)"
   ]
  },
  {
   "cell_type": "code",
   "execution_count": 33,
   "metadata": {},
   "outputs": [
    {
     "data": {
      "text/plain": [
       "array([[0., 0., 0., 0., 0.],\n",
       "       [1., 0., 0., 0., 0.],\n",
       "       [0., 1., 0., 0., 0.],\n",
       "       [0., 0., 1., 0., 0.],\n",
       "       [0., 0., 0., 1., 0.]])"
      ]
     },
     "execution_count": 33,
     "metadata": {},
     "output_type": "execute_result"
    }
   ],
   "source": [
    "np.eye(N=5,k = -1)"
   ]
  },
  {
   "cell_type": "markdown",
   "metadata": {},
   "source": [
    "### Criação de Arrays apartir de Amostragem Aleatória\n",
    "É possível utilizar o módulo `random` do Numpy para gera numeros pseudo aleatórios utilizando um BitGenerator (objeto que gera valores aleatórios) e um Generator (Objeto que transforma valores aleatórios em uma distribuição probábilística). \n",
    "\n",
    "Para instânciar um gerador, se utiliza a classe `default_rng` do módulo random. Então, a distribuição pode ser selecionada através dos métodos deste objeto. Por exemplo, para gerar um array por numeros aleatórios utilizando a distribuição padrão, podemos simplesmente utilizar o método `random()` e fornecer um shape através de uma tupla.\n"
   ]
  },
  {
   "cell_type": "code",
   "execution_count": 26,
   "metadata": {},
   "outputs": [
    {
     "data": {
      "text/plain": [
       "array([[0.31276067, 0.86512065, 0.2303314 ],\n",
       "       [0.36949592, 0.04805353, 0.29118477]])"
      ]
     },
     "execution_count": 26,
     "metadata": {},
     "output_type": "execute_result"
    }
   ],
   "source": [
    "x = np.random.default_rng()\n",
    "x.random((2,3))"
   ]
  },
  {
   "cell_type": "markdown",
   "metadata": {},
   "source": [
    "Entretanto, pode ser que desejamos utilizar alguma distribuição probabílistica diferente, como por exemplo uma distribuição de Poisson. Então, utilizamos o método `poisson()` do objeto, fornecendo como primeiro paramêtro o valor de lambda, e o segundo sendo uma tupla contendo o shape do array.\n",
    "> Dica: Para uma lista de distribuições possíveis, recomendo visitar o [link](https://numpy.org/doc/1.18/reference/random/generator.html#distributions) da documentação. "
   ]
  },
  {
   "cell_type": "code",
   "execution_count": 28,
   "metadata": {},
   "outputs": [
    {
     "data": {
      "text/plain": [
       "array([[3, 6, 5],\n",
       "       [7, 9, 8],\n",
       "       [6, 3, 6],\n",
       "       [7, 8, 6],\n",
       "       [5, 9, 2]], dtype=int64)"
      ]
     },
     "execution_count": 28,
     "metadata": {},
     "output_type": "execute_result"
    }
   ],
   "source": [
    "x.poisson(5,(5,3))"
   ]
  },
  {
   "cell_type": "markdown",
   "metadata": {},
   "source": [
    "## Tipos de Dados\n",
    "Há diversos tipos de dados para o qual se pode definir um array. Na maioria dos casos que se define um array, é possível especificar o tipo de dado utilizado. Abaixo listamos os principais tipo de dados e suas descrições. \n",
    "\n",
    "| Tipo de dado | Significado |\n",
    "| --- | --- |\n",
    "| 'bool_' | Valor booleano true ou false armazenado como byte. |\n",
    "| 'int_' | Inteiro default, equivalente ao long do C, normalmente de 32 ou 64 bits. |\n",
    "| 'intc' | Identico ao inteiro do C. |\n",
    "| 'intp' | Inteiro utilizado para indexação, equivalente ao ssize_t do C, normalmente de 32 ou 64 bits. |\n",
    "| 'int8' | Inteiro que ocupa um byte (-128 a 127). |\n",
    "| 'int16' | Inteiro que ocupa dois bytes (-32768 a 32767). |\n",
    "| 'int32' | Inteiro que ocupa quatro bytes (-2147483648 a 2147483647). |\n",
    "| 'int64' | Inteiro que ocupa oito bytes (-9223372036854775808 a 9223372036854775807)). |\n",
    "| 'uint8' | Inteiro sem sinal que ocupa um byte (0 a 255). |\n",
    "| 'uint16' | Inteiro sem sinal que ocupa dois byte (0 a 65535). |\n",
    "| 'uint32' | Inteiro sem sinal que ocupa quatro bytes (0 a 4294967295). |\n",
    "| 'uint64' | Inteiro sem sinal que ocupa oito bytes (0 a 18446744073709551615). |\n",
    "| 'float_' | Curto para float64. |\n",
    "| 'float16' | Float de meia precisão - Um bit de sinal; 5 bits de expoente; 10 bits de mantissa. |\n",
    "| 'float32' | Float de precisão única - Um bit de sinal; 8 bits de expoente; 23 bits de mantissa. |\n",
    "| 'float64' | Float de precisão dupla - Um bit de sinal; 11 bits de expoente; 52 bits de mantissa. |\n",
    "| 'complex_' | Curto para complex128. |\n",
    "| 'complex64' | Numero complexo representado por dois floats de 32 bits. |\n",
    "| 'complex128' | Numero complexo representado por dois floats de 64 bits. |\n"
   ]
  },
  {
   "cell_type": "markdown",
   "metadata": {},
   "source": [
    "## Referência:\n",
    "[1] VANDERPLAS, Jake. **Python Data Science Handbook - Essential tools for working with Data.** O’Reilly Media, Inc. 2017. "
   ]
  }
 ],
 "metadata": {
  "kernelspec": {
   "display_name": "Python 3",
   "language": "python",
   "name": "python3"
  },
  "language_info": {
   "codemirror_mode": {
    "name": "ipython",
    "version": 3
   },
   "file_extension": ".py",
   "mimetype": "text/x-python",
   "name": "python",
   "nbconvert_exporter": "python",
   "pygments_lexer": "ipython3",
   "version": "3.7.7"
  }
 },
 "nbformat": 4,
 "nbformat_minor": 4
}
