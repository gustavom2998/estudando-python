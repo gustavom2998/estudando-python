{
 "cells": [
  {
   "cell_type": "markdown",
   "metadata": {},
   "source": [
    "# NumPy: Indexação Avançanda\n",
    "Neste tópico, propomos o estudo do pacote `NumPy`, cujo objetivo é fornecer suporte para arrays multidimensionais, que possuem implementações prontas para operações básicas e funções de algebra linear extremamente úteis. Este pacote é a base de grande parte dos pacotes do Python que serão futuramente estudados. A implementação deste pacote é feita através de C, logo, ele é extremamente otimizado (devido a tipagém estática e uso de memória contigua), sendo ótimo para carregar, armazenear, e manipular dados dentro de memória no Python."
   ]
  },
  {
   "cell_type": "markdown",
   "metadata": {},
   "source": [
    "## Indexação Avançada\n",
    "Até então, sabemos como utilizar indexação simples (`x[0]`), indexação por fatiamento de arrays (`x[0:3]`) e utilizando mascaras booleanas (`x[x < 3]`). Outra maneira de indexar é através de \"fancy indexing\", que pode ser traduzida para indexação chique. Ela é semalhante a indexação normal, entretanto, ocorre a passagem de arrays de indíces, ao invés de utilizar a passagem de escalares. \n",
    "\n",
    "Ao passar um array de indíces, é possível acessar multiplos elementos do array ao mesmo tempo. Além disso, o shape dos indíces fornecidos é utilizado como o shape da saída, como demonstrado abaixo. "
   ]
  },
  {
   "cell_type": "code",
   "execution_count": 28,
   "metadata": {},
   "outputs": [
    {
     "name": "stdout",
     "output_type": "stream",
     "text": [
      "[51 92 14 71 60 20 82 86 74 74]\n",
      "[[71 20]\n",
      " [86 60]]\n"
     ]
    }
   ],
   "source": [
    "import numpy as np\n",
    "np.random.seed(0)\n",
    "rand = np.random.RandomState(42)\n",
    "x = rand.randint(100, size = 10)\n",
    "print(x)\n",
    "indices = np.array([[3, 5],\n",
    "                    [7, 4]])\n",
    "print(x[indices])"
   ]
  },
  {
   "cell_type": "markdown",
   "metadata": {},
   "source": [
    "Também é possível utilizar este tipo de indeção em arrays multidimensionais. Note que ocorre o broadcasting caso o reshape de algum dos indíces seja (1,2), e a saída é um array 2x2.  "
   ]
  },
  {
   "cell_type": "code",
   "execution_count": 29,
   "metadata": {},
   "outputs": [
    {
     "name": "stdout",
     "output_type": "stream",
     "text": [
      "[[87 99 23  2]\n",
      " [21 52  1 87]\n",
      " [29 37  1 63]\n",
      " [59 20 32 75]]\n",
      "[[21]\n",
      " [32]]\n"
     ]
    }
   ],
   "source": [
    "y = rand.randint(100,size = 16).reshape((4,4))\n",
    "print(y)\n",
    "ind_lin = np.array([1,3]).reshape(2,1)\n",
    "ind_col = np.array([0,2]).reshape(2,1)\n",
    "print(y[ind_lin,ind_col])"
   ]
  },
  {
   "cell_type": "markdown",
   "metadata": {},
   "source": [
    "## Indexação Combinada\n",
    "É possível combinar as multiplas formas de indexação para obter resultados ainda mais poderosos. Abaixo combinamos um valor numérico para obter os valores da terceira linha, e então passamos uma lista para obter uma seleção de valores dessa linha reordenada. "
   ]
  },
  {
   "cell_type": "code",
   "execution_count": 30,
   "metadata": {},
   "outputs": [
    {
     "data": {
      "text/plain": [
       "array([63, 29, 37])"
      ]
     },
     "execution_count": 30,
     "metadata": {},
     "output_type": "execute_result"
    }
   ],
   "source": [
    "y[2,[3,0,1]]"
   ]
  },
  {
   "cell_type": "markdown",
   "metadata": {},
   "source": [
    "Também é possível combinarar esta técnica com fatiamento de arrays."
   ]
  },
  {
   "cell_type": "code",
   "execution_count": 31,
   "metadata": {},
   "outputs": [
    {
     "data": {
      "text/plain": [
       "array([[ 2, 23, 99],\n",
       "       [63,  1, 37]])"
      ]
     },
     "execution_count": 31,
     "metadata": {},
     "output_type": "execute_result"
    }
   ],
   "source": [
    "y[::2,[3,2,1]]"
   ]
  },
  {
   "cell_type": "markdown",
   "metadata": {},
   "source": [
    "E por ultimo podemos combinar isso com o uso de mascaras booleanas."
   ]
  },
  {
   "cell_type": "code",
   "execution_count": 32,
   "metadata": {},
   "outputs": [
    {
     "data": {
      "text/plain": [
       "array([[52, 87],\n",
       "       [37, 63],\n",
       "       [20, 75]])"
      ]
     },
     "execution_count": 32,
     "metadata": {},
     "output_type": "execute_result"
    }
   ],
   "source": [
    "mask = np.arange(4)\n",
    "mask = ((mask) % (2)) != (0) \n",
    "arr = np.array([[1],[2],[3]])\n",
    "y[arr, mask]"
   ]
  },
  {
   "cell_type": "markdown",
   "metadata": {},
   "source": [
    "## Modificação de valores\n",
    "Da mesma forma que podemos utilizar as diversas formas de indexação para acessar subconjuntos de arrays, podemoss utilizar eles para alterar subconjuntos destes arrays. Deve se tomar cuidado entretanto com a repetição de indíces, já que pode causar resultados inesperados. "
   ]
  },
  {
   "cell_type": "code",
   "execution_count": 33,
   "metadata": {},
   "outputs": [
    {
     "name": "stdout",
     "output_type": "stream",
     "text": [
      "[0. 4. 0. 0. 0. 0. 0. 0. 0. 0.]\n"
     ]
    }
   ],
   "source": [
    "# Neste exemplo apenas a ultima alteração eh mantida\n",
    "x = np.zeros(10)\n",
    "i = [1,1]\n",
    "values = [2,4]\n",
    "x[i] = values\n",
    "print(x)"
   ]
  },
  {
   "cell_type": "code",
   "execution_count": 34,
   "metadata": {},
   "outputs": [
    {
     "name": "stdout",
     "output_type": "stream",
     "text": [
      "[0. 4. 1. 1. 1. 0. 0. 0. 0. 0.]\n"
     ]
    }
   ],
   "source": [
    "# Neste exemplo, a declarao x = x + 1 eh avaliada apenas uma vez\n",
    "i = [2,3,3,4,4,4]\n",
    "x[i] += 1\n",
    "print(x)"
   ]
  },
  {
   "cell_type": "markdown",
   "metadata": {},
   "source": [
    "Para resolver problemas como o anterior, onde se deseja que a declaração seja avaliada para cada iteração, se utiliza a UFunc `at()`. O objetivo desta UFunc é realizar uma operação chamada através de uma UFunc especificando o array a ser operado, os indíces de operação, e o valor a ser utilizada para a operação. "
   ]
  },
  {
   "cell_type": "code",
   "execution_count": 35,
   "metadata": {},
   "outputs": [
    {
     "name": "stdout",
     "output_type": "stream",
     "text": [
      "[0. 0. 1. 2. 3. 0. 0. 0. 0. 0.]\n"
     ]
    }
   ],
   "source": [
    "x = np.zeros(10)\n",
    "np.add.at(x,i,1)\n",
    "print(x)"
   ]
  },
  {
   "cell_type": "markdown",
   "metadata": {},
   "source": [
    "Outro método interessante a ser estudado é o `reduceat()`,  que realiza um reduce localmente para os elementos de um array ao longo de uma dimensão. "
   ]
  },
  {
   "cell_type": "markdown",
   "metadata": {},
   "source": [
    "### Aplicação: Binning de dados\n",
    "A tarefa de binning consiste em agrupar dados em subgrupos que discretizam os intervalos de valores. "
   ]
  },
  {
   "cell_type": "code",
   "execution_count": 36,
   "metadata": {},
   "outputs": [
    {
     "name": "stdout",
     "output_type": "stream",
     "text": [
      "[-5.         -4.47368421 -3.94736842 -3.42105263 -2.89473684 -2.36842105\n",
      " -1.84210526 -1.31578947 -0.78947368 -0.26315789  0.26315789  0.78947368\n",
      "  1.31578947  1.84210526  2.36842105  2.89473684  3.42105263  3.94736842\n",
      "  4.47368421  5.        ]\n",
      "[ 0.  0.  0.  0.  0.  1.  1.  7. 13. 16. 20. 19. 11.  7.  5.  0.  0.  0.\n",
      "  0.  0.]\n"
     ]
    }
   ],
   "source": [
    "x = np.random.randn(100) # Gera valores aleatorios entre -5 e 5\n",
    "bins = np.linspace(-5,5,20) # Gera intervalos\n",
    "contagem = np.zeros_like(bins) # Array de zeros do tamanho de bins\n",
    "bin_elem = np.searchsorted(bins,x) # Encontra indices onde inserir bins para manter ordem\n",
    "np.add.at(contagem,bin_elem,1) # Prenche array de zeros com a contagem de cada bin\n",
    "print(bins)\n",
    "print(contagem)"
   ]
  }
 ],
 "metadata": {
  "kernelspec": {
   "display_name": "Python 3",
   "language": "python",
   "name": "python3"
  },
  "language_info": {
   "codemirror_mode": {
    "name": "ipython",
    "version": 3
   },
   "file_extension": ".py",
   "mimetype": "text/x-python",
   "name": "python",
   "nbconvert_exporter": "python",
   "pygments_lexer": "ipython3",
   "version": "3.7.7"
  }
 },
 "nbformat": 4,
 "nbformat_minor": 4
}
