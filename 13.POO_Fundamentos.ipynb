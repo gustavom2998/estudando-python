{
 "cells": [
  {
   "cell_type": "markdown",
   "metadata": {},
   "source": [
    "# Programação Orientada a Objetos - Abstração e Encapsulamento\n",
    "A orientação a objetos é um paradigma de programação conhecido por seus quatro pilares principais: Encapsulamento; Abstração; Herença e Polimorfismo. O propósito deste paradigma é solucionar os problemas tradicionais da programação procedural, onde muitas vezes há pouco aproveitamento de código e fraca associação entre dados e às funções reponsáveis por manipular estes dados. Neste estudo, buscamos revisar os conceitos fundamentais da orientação a objetos e identificar como eles são implementados na linguagem Python.\n",
    "\n",
    "## Abstração: O Primeiro Pilar\n",
    "A abstração consiste em compreender a estrutura que se deseja representar, e distinguir aquilo que é necessário incluir na descrição da estrutura e aquilo que não é, além de encontrar objetos que podem ser agrupados e descritos através de suas características em comum. Por exemplo, vamos supor que eu quero criar um sistema de gerenciamento de carros utilizando orientação a objetos, é necessário o que precisamos representar neste sistema e o que não é necessário. É importante saber a marca do carro? Eu preciso criar uma estrutura para cada marca de carro, ou eu posso agrupar tudo como carro e incluir uma informação sobre a marca? É importante saber a cor da tampa do bico de ar do pneu? É importante criar uma função que permite alterar as características dos carros? Ao compreender os outros pilares, entender este primeiro passo fica mais fácil. \n",
    "\n",
    "Além destes detalhes, a etapa de abstração também trata a questão do usuário. O usuário precisa saber todas as informações do carro? Ele precisa entender como ocorre o processo de transferência de posse do veículo da vendora para o nome dele? Ou ele precisa apenas fornecer as informações necessárias para que a empresa tome conta da transferência. Na aplicação da orientação a objetos, as funções da estrutura são disponibilizadas prontas para uso, onde não é necessário compreender como elas funcionam intermente, apenas como utilizar estas funções. \n",
    "\n",
    "## Encapsulamento: O Segundo Pilar\n",
    "O encapsulamento consiste em agrupar os dados em conjunto com as funções que manipulam estes dados em uma única estrutura. O conjunto de dados que descrevem a estrutura são chamados de *atributos*, os mecânismos que servem para manipula-los (que até então chamamos de funções, mecânismos, funcionalidades, etc.) são os métodos e a estrutura que une este dois é chamada de *classe*. Logo, a classe é o mecânismo utilizado para implementar o encapsulamento. Ao prencheer os campos de uma classe, se cria um objeto (ou instância). \n",
    "\n",
    "Além do mais, ao encapsular, as estruturas são ocultas umas das outras, e devem compartilhar informações apenas quando necessário. Por exemplo, ao representar o carro e o vendedores como classes distintas, alguém que tem acesso as informações de um carro (como um cliente) precisa ter acesso a todos os dados do vendedor (incluíndo salário, endereço, nome da esposa)? Na maioria das vezes, é necessário definir que estes dados devem ser ocultos, e limitar o acesso a atributos. A ocultação de informação ocorre através de mecânismos de *controle de acesso*. Ao utilizar o controle do acesso, se altera quem pode ou não acessar o atributo."
   ]
  },
  {
   "cell_type": "markdown",
   "metadata": {},
   "source": [
    "## Classes\n",
    "Geralmente, as classe são utilizadas para representar formas abstratas de entidades do mundo real (entretanto, isto não é uma regra). Para criar uma classe, uma entidade é representada na linguagem de programação através da definição de suas carectísticas (atributos) e de como ela é manipulada (métodos). Uma classe pode ser interpretada como um modelo para criar um objeto, onde campos são criados, e a maneira que estes campos se comportam são descritos, para que possam posteriormente serem preenchidos. \n",
    "\n",
    "No exemplo, criamos uma classe simples com o propósito de representar canetas. Uma caneta possui fabricante (descrita através de uma sequência de texto), cor  (descrita através de uma sequência de texto), podendo ter botão ou não (descrito através de uma váriavel booleana). Uma caneta que acaba de ser fabricada sempre vai possuir tinta. Em Python, para criar uma classe é necessário especificar um bloco utilizando a palavra reservada `class` seguida pelo nome da classe. Em seguida, os *atributos da classe* são definidos, eles são atributos que possuem valor igual para todas instâncias da classe. Logo depois, os *atributos da instância* são definidos e preenchidos, onde eles possuem valores especifícos para cada instância, podendo se igual ou não entre os objetos. Os *atributos de instância* são definidos dentro do método construtor (`__init__` no caso do Python), pela palavra reservada `self.` seguido pelo nome do atributo, e são preenchidos através de argumentos do método construtor. Sempre que um método for acessar os atributos de um objeto, `self` deve ser passado como paramêtro do método. "
   ]
  },
  {
   "cell_type": "code",
   "execution_count": 9,
   "metadata": {},
   "outputs": [],
   "source": [
    "class Caneta:\n",
    "    tinta = 1\n",
    "    \n",
    "    def __init__(self, fabricante, cor, tem_botao):\n",
    "        self.fabricante = fabricante\n",
    "        self.cor = cor\n",
    "        self.tem_botao = tem_botao"
   ]
  },
  {
   "cell_type": "markdown",
   "metadata": {},
   "source": [
    "## Métodos\n",
    "O método `__init__` ja foi apresentado. Um método em Python nada mais é que uma função com o único propósito de manipular a classe. Um método pode ser para ler, retornar, ou atualizar valores de atributos da classe com base em alguma lógica programada. O método construtor tem o propósito de preencher os atributos da classe. Ele pode ser customizado para verificar se os valores a serem inseridos cumprem um conjunto de condições, ou preencher os atributos com base em alguma computação. Outros métodos podem ser definidos através da criação de novas funções dentro do bloco da classe. Por exemplo, podemos criar um método que tenta escrever se houver tinta, decrementando a quantidade de tinta. "
   ]
  },
  {
   "cell_type": "code",
   "execution_count": 27,
   "metadata": {},
   "outputs": [],
   "source": [
    "class Caneta:\n",
    "    quantidade_tinta = 1\n",
    "    \n",
    "    def __init__(self,fabricante, cor, tem_botao):\n",
    "        if(isinstance(fabricante,str)):\n",
    "            self.fabricante = fabricante\n",
    "            \n",
    "        if(isinstance(cor,str)):\n",
    "            self.cor = cor\n",
    "        \n",
    "        if(isinstance(tem_botao,bool)):\n",
    "            self.tem_botao = tem_botao\n",
    "        \n",
    "    def tenta_escrever(self,texto):\n",
    "        if(self.quantidade_tinta >= 0.01):\n",
    "            print(texto)\n",
    "            self.quantidade_tinta -= 0.01\n",
    "        else:\n",
    "            print(\" \")"
   ]
  },
  {
   "cell_type": "markdown",
   "metadata": {},
   "source": [
    "Métodos que não recebem paramêtros só podem manipular os dados da instância, logo, são chamados de *métodos de instância* já que os resultados gerados são baseados nos valores da instância."
   ]
  },
  {
   "cell_type": "markdown",
   "metadata": {},
   "source": [
    "## Objetos\n",
    "Até então, definimos as classes e o métodos para manipular as instâncias destas classes, entretanto, não criamos nenhuma instância. Uma instância é criada toda vez que o nome da classe for chamado como uma função, passando como paramêtro os valores para preencher os atributos. Esta ação chama o método construtor, logo, é necessário passar os valores na ordem definido pelos paramêtros do método construtor caso o nome dos paramêtros não forem especificados. Não é necessário preencher o paramêtro self."
   ]
  },
  {
   "cell_type": "code",
   "execution_count": 28,
   "metadata": {},
   "outputs": [
    {
     "name": "stdout",
     "output_type": "stream",
     "text": [
      "<__main__.Caneta object at 0x0000019A340D3EC8>\n"
     ]
    }
   ],
   "source": [
    "a = Caneta(fabricante='Caneta Inc.', cor=\"Azul\", tem_botao=False)\n",
    "print(a)"
   ]
  },
  {
   "cell_type": "markdown",
   "metadata": {},
   "source": [
    "Note que após criar a instância, associamos ela a uma váriavel. Isto é necessário pois precisamos ter a refêrencia a instância. Ao criar uma nova instância (podendo ter os mesmos argumentos), um novo objeto é criado."
   ]
  },
  {
   "cell_type": "code",
   "execution_count": 29,
   "metadata": {},
   "outputs": [
    {
     "name": "stdout",
     "output_type": "stream",
     "text": [
      "<__main__.Caneta object at 0x0000019A34257348>\n"
     ]
    }
   ],
   "source": [
    "b = Caneta(fabricante='Caneta Inc.', cor=\"Azul\", tem_botao=False)\n",
    "print(b)"
   ]
  },
  {
   "cell_type": "markdown",
   "metadata": {},
   "source": [
    "Após criar a instância, é possível acessar seus atributos, caso não ocorra o controle de acesso. Da mesma que utilizamos o `self.`, substituimos self pelo nome da váriavel que contém a referência do objeto. "
   ]
  },
  {
   "cell_type": "code",
   "execution_count": 30,
   "metadata": {},
   "outputs": [
    {
     "name": "stdout",
     "output_type": "stream",
     "text": [
      "Caneta Inc.\n"
     ]
    }
   ],
   "source": [
    "print(a.fabricante)"
   ]
  },
  {
   "cell_type": "markdown",
   "metadata": {},
   "source": [
    "Um método (que não seja o construtor) pode ser chamado de maneira semelhante, porém da mesma forma que se acessa uma função, com os argumentos entre parêntesis. Note que o valor de tinta é atualizado em A, mas não em B, pois apenas A foi utilizada para realizar a ação de escrita."
   ]
  },
  {
   "cell_type": "code",
   "execution_count": 31,
   "metadata": {},
   "outputs": [
    {
     "name": "stdout",
     "output_type": "stream",
     "text": [
      "Hello World.\n",
      "0.99 1\n"
     ]
    }
   ],
   "source": [
    "a.tenta_escrever(\"Hello World.\")\n",
    "print(a.quantidade_tinta, b.quantidade_tinta)"
   ]
  },
  {
   "cell_type": "markdown",
   "metadata": {},
   "source": [
    "## Tornando a classe mais interativa\n",
    "Podemos melhorar a interativadade da classe melhorando o seu comportamento. Primeiro, devemos descrever o que a classe representa através da definição de um comentário para a classe. Depois, podemos utilizar o método string para formalizar o que deve ocorrer quando se tenta imprimir um objeto da classe."
   ]
  },
  {
   "cell_type": "markdown",
   "metadata": {},
   "source": [
    "### Comentário\n",
    "Ao adicionar um comentário chamado de `docstring`, documentamos o propósito da classe, explicando para o usuário como ela deve ser utilizada em casos de dúvidas. Para a classe, recomenda-se documentar o propósito da classe, o atributos de classe, e os atributos de instância. Para cada método, recomenda-se documentar seu propósito, os argumentos recebidos, os possíveis erros gerados, além do retorno da função (caso ocorra)."
   ]
  },
  {
   "cell_type": "code",
   "execution_count": 40,
   "metadata": {},
   "outputs": [
    {
     "name": "stdout",
     "output_type": "stream",
     "text": [
      "Help on class Caneta in module __main__:\n",
      "\n",
      "class Caneta(builtins.object)\n",
      " |  Caneta(fabricante, cor, tem_botao)\n",
      " |  \n",
      " |  Uma classe utilizada para armazenar informações sobre canetas.\n",
      " |  \n",
      " |  Argumentos \n",
      " |      tinta - O nível de tinta atual da caneta. Sempre começa como 1. num\n",
      " |      fabricante - O nome do fabricante da caneta. str\n",
      " |      cor - A cor da tinta da caneta. str\n",
      " |      tem_botao - Se a caneta possuí botão ou não. bool\n",
      " |  \n",
      " |  Methods defined here:\n",
      " |  \n",
      " |  __init__(self, fabricante, cor, tem_botao)\n",
      " |      Método construtor padrão.\n",
      " |      \n",
      " |      Paramêtros: fabricante - O nome do fabricante da caneta. STR\n",
      " |                  cor - A cor da tinta da caneta. STR\n",
      " |                  tem_botao - Se a caneta possuí botão ou não. BOOL\n",
      " |      \n",
      " |      Retorno: Refêrencia a nova instânia.\n",
      " |  \n",
      " |  ----------------------------------------------------------------------\n",
      " |  Data descriptors defined here:\n",
      " |  \n",
      " |  __dict__\n",
      " |      dictionary for instance variables (if defined)\n",
      " |  \n",
      " |  __weakref__\n",
      " |      list of weak references to the object (if defined)\n",
      " |  \n",
      " |  ----------------------------------------------------------------------\n",
      " |  Data and other attributes defined here:\n",
      " |  \n",
      " |  tinta = 1\n",
      "\n"
     ]
    }
   ],
   "source": [
    "class Caneta:\n",
    "    \"\"\"\n",
    "    Uma classe utilizada para armazenar informações sobre canetas.\n",
    "    \n",
    "    Argumentos \n",
    "        tinta - O nível de tinta atual da caneta. Sempre começa como 1. num\n",
    "        fabricante - O nome do fabricante da caneta. str\n",
    "        cor - A cor da tinta da caneta. str\n",
    "        tem_botao - Se a caneta possuí botão ou não. bool\n",
    "    \"\"\"\n",
    "    \n",
    "    tinta = 1\n",
    "    \n",
    "    def __init__(self, fabricante, cor, tem_botao):\n",
    "        \"\"\"\n",
    "        Método construtor padrão.\n",
    "\n",
    "        Paramêtros: fabricante - O nome do fabricante da caneta. STR\n",
    "                    cor - A cor da tinta da caneta. STR\n",
    "                    tem_botao - Se a caneta possuí botão ou não. BOOL\n",
    "\n",
    "        Retorno: Refêrencia a nova instânia.\n",
    "        \"\"\"\n",
    "        self.fabricante = fabricante\n",
    "        self.cor = cor\n",
    "        self.tem_botao = tem_botao\n",
    "\n",
    "help(Caneta)\n"
   ]
  },
  {
   "cell_type": "markdown",
   "metadata": {},
   "source": [
    "### Método String\n",
    "Ao tentar imprimir um objeto, o método string (`__str__`) é utilizado para obter a string que é impressa. Logo, é possível definir este método para imprimir outra informação além do endereço do objeto. "
   ]
  },
  {
   "cell_type": "code",
   "execution_count": 33,
   "metadata": {},
   "outputs": [
    {
     "name": "stdout",
     "output_type": "stream",
     "text": [
      "Caneta Azul fabricada por Caneta Inc. sem botão.\n"
     ]
    }
   ],
   "source": [
    "class Caneta:\n",
    "    tinta = 1\n",
    "    \n",
    "    def __init__(self, fabricante, cor, tem_botao):\n",
    "        self.fabricante = fabricante\n",
    "        self.cor = cor\n",
    "        self.tem_botao = tem_botao\n",
    "        \n",
    "    def __str__(self):\n",
    "        string = \"Caneta \" + self.cor + \" fabricada por \" + self.fabricante\n",
    "        if(self.tem_botao):\n",
    "            string = string + \" com botão.\"\n",
    "        else:\n",
    "            string = string + \" sem botão.\"\n",
    "        return string\n",
    "\n",
    "caneta_1 = Caneta(\"Caneta Inc.\", \"Azul\", False)\n",
    "print(caneta_1)"
   ]
  }
 ],
 "metadata": {
  "kernelspec": {
   "display_name": "Python 3",
   "language": "python",
   "name": "python3"
  },
  "language_info": {
   "codemirror_mode": {
    "name": "ipython",
    "version": 3
   },
   "file_extension": ".py",
   "mimetype": "text/x-python",
   "name": "python",
   "nbconvert_exporter": "python",
   "pygments_lexer": "ipython3",
   "version": "3.7.7"
  }
 },
 "nbformat": 4,
 "nbformat_minor": 4
}
