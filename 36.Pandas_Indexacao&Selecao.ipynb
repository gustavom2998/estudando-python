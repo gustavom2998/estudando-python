{
 "cells": [
  {
   "cell_type": "markdown",
   "metadata": {},
   "source": [
    "# Pandas: Indexação e Selação \n",
    "O Pandas é um pacote que fornece estruturas de dados e ferramentas de análise de dados de alto desempenho para Python. Este módulo realiza isto através de um objeto chamado DataFrame, que lembra a estrutura de uma tabela, ótima para trabalhar com dados. Prentedemos estudar neste tópico como reestruturar um conjunto de dados, através de agregação, união, modifcação. O pandas permite trabalhar com multiplos tipos de arquivos como CSVs, TXTs, Arquivo do Excel e Bases de Dados SQL.\n",
    "\n",
    "Neste tópico revisamos métodos e mecânismos para acessar, inserir, e modificar valores em Series e DataFrames do Pandas. \n",
    "\n",
    "# Seleção de dados em Series\n",
    "A classe series pode ser enxergada com um dicionário, possuíndo uma sequência de valorese chaves (indíces). Logo, as operações de indexação vistas para dicionários também funcionam. "
   ]
  },
  {
   "cell_type": "code",
   "execution_count": 184,
   "metadata": {},
   "outputs": [],
   "source": [
    "import pandas as pd\n",
    "dados = pd.Series([0.25,0.5,0.75,1.0], index = ['a','b','c','d '])"
   ]
  },
  {
   "cell_type": "code",
   "execution_count": 185,
   "metadata": {},
   "outputs": [
    {
     "name": "stdout",
     "output_type": "stream",
     "text": [
      "0.5\n",
      "True\n",
      "Index(['a', 'b', 'c', 'd '], dtype='object')\n",
      "[('a', 0.25), ('b', 0.5), ('c', 0.75), ('d ', 1.0)]\n"
     ]
    }
   ],
   "source": [
    "print(dados['b']) # Indexacao simples\n",
    "print('a' in dados) # Utilizacao de IN\n",
    "print(dados.keys()) # Uso do metodo de chaves/indices\n",
    "print(list(dados.items()))  # Coercao de conjunto de itens em lista\n",
    "dados['e'] = 1.25 # Modificacao atraves da indexacao por chave"
   ]
  },
  {
   "cell_type": "markdown",
   "metadata": {},
   "source": [
    "Também é possível utilizar expressões com sintaxe semelhante a de dicionários. A forma que o pandas realzia essas operações é extremamente eficiente, e o programador não tem que se preocupar com como isso é feito. "
   ]
  },
  {
   "cell_type": "code",
   "execution_count": 186,
   "metadata": {},
   "outputs": [
    {
     "name": "stdout",
     "output_type": "stream",
     "text": [
      "a    0.25\n",
      "b    0.50\n",
      "c    0.75\n",
      "dtype: float64\n",
      "b    0.50\n",
      "c    0.75\n",
      "dtype: float64\n",
      "a    0.25\n",
      "b    0.50\n",
      "dtype: float64\n"
     ]
    }
   ],
   "source": [
    "print(dados['a':'c'])\n",
    "print(dados[(dados > 0.3) & (dados < 0.8)])\n",
    "l = ['a','b']\n",
    "print(dados[l])"
   ]
  },
  {
   "cell_type": "markdown",
   "metadata": {},
   "source": [
    "Geralmente, o fatiamento pode ser considerado confuso quando se usa o fatiamento. Logo, uma series possuí atributos de indexação, que identificam qual esquema de indexação é utilizado. \n",
    "\n",
    "O atributo `loc` retorna o array indexado de forma explicita, ou seja, o indíce acessado pelo fatiamento é a posição. Caso contrário, ao acessar indíce, a segunda posição do vetor seria retornada. "
   ]
  },
  {
   "cell_type": "code",
   "execution_count": 187,
   "metadata": {},
   "outputs": [
    {
     "data": {
      "text/plain": [
       "'a'"
      ]
     },
     "execution_count": 187,
     "metadata": {},
     "output_type": "execute_result"
    }
   ],
   "source": [
    "dados = pd.Series(['a','b','c'], index = [1,3,5])\n",
    "dados.loc[1]"
   ]
  },
  {
   "cell_type": "markdown",
   "metadata": {},
   "source": [
    "O atributo `iloc` retorna o array indexado de forma implicita, ou seja, a posição é utilizada para o fateamento."
   ]
  },
  {
   "cell_type": "code",
   "execution_count": 188,
   "metadata": {},
   "outputs": [
    {
     "data": {
      "text/plain": [
       "'b'"
      ]
     },
     "execution_count": 188,
     "metadata": {},
     "output_type": "execute_result"
    }
   ],
   "source": [
    "dados.iloc[1]"
   ]
  },
  {
   "cell_type": "markdown",
   "metadata": {},
   "source": [
    "## Seleção de dados em DataFrames\n",
    "Como já dito anteriormente, é possível visualizar um dataframe como um dicionário de objetos series. É possível acessar as colunas de um data frame via nomeação da coluna ou como atributo, porém isso só funciona com strings (e ainda, que não compartilham nomes com métodos). "
   ]
  },
  {
   "cell_type": "code",
   "execution_count": 189,
   "metadata": {},
   "outputs": [
    {
     "name": "stdout",
     "output_type": "stream",
     "text": [
      "0    a\n",
      "1    b\n",
      "2    c\n",
      "Name: col1, dtype: object\n",
      "0    x\n",
      "1    y\n",
      "2    z\n",
      "Name: col2, dtype: object\n"
     ]
    }
   ],
   "source": [
    "dados1 = pd.Series(['a','b','c'])\n",
    "dados2 = pd.Series(['x','y','z'])\n",
    "dados = pd.DataFrame({'col1':dados1, 'col2':dados2})\n",
    "\n",
    "print(dados['col1'])\n",
    "print(dados.col2)"
   ]
  },
  {
   "cell_type": "markdown",
   "metadata": {},
   "source": [
    "É recomendado evitar a atribuição utilizando atributos. Deve se utilizar a indexação direta da coluna."
   ]
  },
  {
   "cell_type": "code",
   "execution_count": 190,
   "metadata": {},
   "outputs": [],
   "source": [
    "dados3 = pd.Series(['c','b','a'])\n",
    "dados.col1 = dados3 # errado\n",
    "dados['col1'] = dados1 # correto"
   ]
  },
  {
   "cell_type": "markdown",
   "metadata": {},
   "source": [
    "É possível interpretar o dataframe com sendo um array bidimensional. Logo, é possível fazer qualquer operação já realizada com estes arrays (como por exemplo, obter a transposta da matriz)."
   ]
  },
  {
   "cell_type": "code",
   "execution_count": 191,
   "metadata": {},
   "outputs": [
    {
     "data": {
      "text/html": [
       "<div>\n",
       "<style scoped>\n",
       "    .dataframe tbody tr th:only-of-type {\n",
       "        vertical-align: middle;\n",
       "    }\n",
       "\n",
       "    .dataframe tbody tr th {\n",
       "        vertical-align: top;\n",
       "    }\n",
       "\n",
       "    .dataframe thead th {\n",
       "        text-align: right;\n",
       "    }\n",
       "</style>\n",
       "<table border=\"1\" class=\"dataframe\">\n",
       "  <thead>\n",
       "    <tr style=\"text-align: right;\">\n",
       "      <th></th>\n",
       "      <th>0</th>\n",
       "      <th>1</th>\n",
       "      <th>2</th>\n",
       "    </tr>\n",
       "  </thead>\n",
       "  <tbody>\n",
       "    <tr>\n",
       "      <th>col1</th>\n",
       "      <td>a</td>\n",
       "      <td>b</td>\n",
       "      <td>c</td>\n",
       "    </tr>\n",
       "    <tr>\n",
       "      <th>col2</th>\n",
       "      <td>x</td>\n",
       "      <td>y</td>\n",
       "      <td>z</td>\n",
       "    </tr>\n",
       "  </tbody>\n",
       "</table>\n",
       "</div>"
      ],
      "text/plain": [
       "      0  1  2\n",
       "col1  a  b  c\n",
       "col2  x  y  z"
      ]
     },
     "execution_count": 191,
     "metadata": {},
     "output_type": "execute_result"
    }
   ],
   "source": [
    "dados.T"
   ]
  },
  {
   "cell_type": "markdown",
   "metadata": {},
   "source": [
    "Outro comportamento interessante que é herdado das matrizes é a capacidade de acessar linhas inteiras através da indexação única."
   ]
  },
  {
   "cell_type": "code",
   "execution_count": 192,
   "metadata": {},
   "outputs": [
    {
     "data": {
      "text/plain": [
       "array(['a', 'x'], dtype=object)"
      ]
     },
     "execution_count": 192,
     "metadata": {},
     "output_type": "execute_result"
    }
   ],
   "source": [
    "dados.values[0]"
   ]
  },
  {
   "cell_type": "code",
   "execution_count": 193,
   "metadata": {},
   "outputs": [
    {
     "data": {
      "text/plain": [
       "0    a\n",
       "1    b\n",
       "2    c\n",
       "Name: col1, dtype: object"
      ]
     },
     "execution_count": 193,
     "metadata": {},
     "output_type": "execute_result"
    }
   ],
   "source": [
    "dados['col1']"
   ]
  },
  {
   "cell_type": "markdown",
   "metadata": {},
   "source": [
    "Logo, um problema semelhante ao das series surge, já que é necessário encontrar um meio para explicita qual tipo de indexação utilizar para fatiamento. Tanto os atributos quanto as colunas podem ser indexadas utilizando os atributos `loc` e `iloc`."
   ]
  },
  {
   "cell_type": "code",
   "execution_count": 195,
   "metadata": {},
   "outputs": [
    {
     "data": {
      "text/plain": [
       "col1    a\n",
       "col2    x\n",
       "Name: c, dtype: object"
      ]
     },
     "execution_count": 195,
     "metadata": {},
     "output_type": "execute_result"
    }
   ],
   "source": [
    "dados.index = ['c','b','a']\n",
    "dados.loc['c']"
   ]
  },
  {
   "cell_type": "code",
   "execution_count": 197,
   "metadata": {},
   "outputs": [
    {
     "data": {
      "text/plain": [
       "col1    a\n",
       "col2    x\n",
       "Name: c, dtype: object"
      ]
     },
     "execution_count": 197,
     "metadata": {},
     "output_type": "execute_result"
    }
   ],
   "source": [
    "dados.iloc[0]"
   ]
  },
  {
   "cell_type": "markdown",
   "metadata": {},
   "source": [
    "É possível utilizar mascaras booleanas também para a selação de dados. Os resultados são retornadas por linhas que satisfazem a condição."
   ]
  },
  {
   "cell_type": "code",
   "execution_count": 200,
   "metadata": {},
   "outputs": [
    {
     "data": {
      "text/html": [
       "<div>\n",
       "<style scoped>\n",
       "    .dataframe tbody tr th:only-of-type {\n",
       "        vertical-align: middle;\n",
       "    }\n",
       "\n",
       "    .dataframe tbody tr th {\n",
       "        vertical-align: top;\n",
       "    }\n",
       "\n",
       "    .dataframe thead th {\n",
       "        text-align: right;\n",
       "    }\n",
       "</style>\n",
       "<table border=\"1\" class=\"dataframe\">\n",
       "  <thead>\n",
       "    <tr style=\"text-align: right;\">\n",
       "      <th></th>\n",
       "      <th>col1</th>\n",
       "      <th>col2</th>\n",
       "    </tr>\n",
       "  </thead>\n",
       "  <tbody>\n",
       "    <tr>\n",
       "      <th>b</th>\n",
       "      <td>b</td>\n",
       "      <td>y</td>\n",
       "    </tr>\n",
       "    <tr>\n",
       "      <th>a</th>\n",
       "      <td>c</td>\n",
       "      <td>z</td>\n",
       "    </tr>\n",
       "  </tbody>\n",
       "</table>\n",
       "</div>"
      ],
      "text/plain": [
       "  col1 col2\n",
       "b    b    y\n",
       "a    c    z"
      ]
     },
     "execution_count": 200,
     "metadata": {},
     "output_type": "execute_result"
    }
   ],
   "source": [
    "dados[dados.col1 >= 'b']"
   ]
  }
 ],
 "metadata": {
  "kernelspec": {
   "display_name": "Python 3",
   "language": "python",
   "name": "python3"
  },
  "language_info": {
   "codemirror_mode": {
    "name": "ipython",
    "version": 3
   },
   "file_extension": ".py",
   "mimetype": "text/x-python",
   "name": "python",
   "nbconvert_exporter": "python",
   "pygments_lexer": "ipython3",
   "version": "3.7.7"
  }
 },
 "nbformat": 4,
 "nbformat_minor": 4
}
