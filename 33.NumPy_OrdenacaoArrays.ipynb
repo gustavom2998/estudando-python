{
 "cells": [
  {
   "cell_type": "markdown",
   "metadata": {},
   "source": [
    "# NumPy: Ordenação de Arrays\n",
    "Neste tópico, propomos o estudo do pacote `NumPy`, cujo objetivo é fornecer suporte para arrays multidimensionais, que possuem implementações prontas para operações básicas e funções de algebra linear extremamente úteis. Este pacote é a base de grande parte dos pacotes do Python que serão futuramente estudados. A implementação deste pacote é feita através de C, logo, ele é extremamente otimizado (devido a tipagém estática e uso de memória contigua), sendo ótimo para carregar, armazenear, e manipular dados dentro de memória no Python.\n",
    "\n",
    "## Ordenação\n",
    "Até então, pensamos nas ferramentas de criação, acesso e modificação de arrays. Uma tarefa importante para arrays é a ordenação dos valores, que pode ser uma tarefa computacionalmente intensiva. Por este motivo, há implementações otimizadas para os diferentes algoritmos de ordenação de estrutura de dados. \n",
    "\n",
    "### Ordenação otimizada\n",
    "O Python possuí funções próprias de ordenação de arrays, mas como já mencionamos diversas vezes, aquelas implementadas pelo NumPy são muito mais otimizadas. A função `sort()` do NumPy possuí por default um desempenho $O(N Log N)$ através do quicksort, entretanto, há implementações para heapsort e mergesort. \n",
    "\n",
    "Pode se utilizar a função `sort()` para obter um cópia (sem alterar o array original) ordenada do array. O primeiro paramêtro deve ser o array a ser ordenado, o segundo (`axis`) é a dimensão em qual deve ser realizada a ordenação, o terceiro (`kind`) é o tipo de algoritmo de ordenação que deve ser utilizado (Possíveis valores: 'quicksort','mergesort','heapsort' e 'stable'), e o ultimo (`order`).  "
   ]
  },
  {
   "cell_type": "code",
   "execution_count": 1,
   "metadata": {},
   "outputs": [
    {
     "data": {
      "text/plain": [
       "array([1, 2, 3, 4, 5])"
      ]
     },
     "execution_count": 1,
     "metadata": {},
     "output_type": "execute_result"
    }
   ],
   "source": [
    "import numpy as np\n",
    "np.random.seed(0)\n",
    "x = np.array([5,2,1,4,3])\n",
    "np.sort(x)"
   ]
  },
  {
   "cell_type": "markdown",
   "metadata": {},
   "source": [
    "Para ordenar o próprio array, então, deve se utilizar o método sort, que funciona semelhante a função, sem o paramêtro com o array a ser ordenado. "
   ]
  },
  {
   "cell_type": "code",
   "execution_count": 2,
   "metadata": {},
   "outputs": [
    {
     "name": "stdout",
     "output_type": "stream",
     "text": [
      "[1 2 3 4 5]\n"
     ]
    }
   ],
   "source": [
    "x = np.array([5,2,1,4,3])\n",
    "x.sort()\n",
    "print(x)"
   ]
  },
  {
   "cell_type": "markdown",
   "metadata": {},
   "source": [
    "A função `argsort()` funciona da mesma maneira, entretanto o retorno é um array de indíces que quando utilizado para endereçar o array original, retorn o array ordenado."
   ]
  },
  {
   "cell_type": "code",
   "execution_count": 3,
   "metadata": {},
   "outputs": [
    {
     "name": "stdout",
     "output_type": "stream",
     "text": [
      "Array Original:  [5 2 1 4 3]\n",
      "Indices para ordenar:  [2 1 4 3 0]\n",
      "Array Ordenado [1 2 3 4 5]\n"
     ]
    }
   ],
   "source": [
    "x = np.array([5,2,1,4,3])\n",
    "print(\"Array Original: \", x)\n",
    "print(\"Indices para ordenar: \", np.argsort(x))\n",
    "print(\"Array Ordenado\", x[np.argsort(x)])"
   ]
  },
  {
   "cell_type": "markdown",
   "metadata": {},
   "source": [
    "### Ordenação Bidimensional\n",
    "É possível utilizar as funções de ordenação para ordenar uma determinada linha ou coluna utilizando o NumPy. Quando um `axis` vazio é fornecido, então o array é transformado em um array unidimensional, e ocorre a ordenação."
   ]
  },
  {
   "cell_type": "code",
   "execution_count": 4,
   "metadata": {},
   "outputs": [
    {
     "name": "stdout",
     "output_type": "stream",
     "text": [
      "[[4 3]\n",
      " [2 1]]\n"
     ]
    },
    {
     "data": {
      "text/plain": [
       "array([1, 2, 3, 4])"
      ]
     },
     "execution_count": 4,
     "metadata": {},
     "output_type": "execute_result"
    }
   ],
   "source": [
    "x = np.array([4,3,2,1]).reshape((2,2))\n",
    "print(x)\n",
    "np.sort(x,axis=None)"
   ]
  },
  {
   "cell_type": "markdown",
   "metadata": {},
   "source": [
    "Por default, a ordenação ocorre permutando os elementos da mesma linha. "
   ]
  },
  {
   "cell_type": "code",
   "execution_count": 5,
   "metadata": {},
   "outputs": [
    {
     "name": "stdout",
     "output_type": "stream",
     "text": [
      "[[4 3]\n",
      " [2 1]]\n"
     ]
    },
    {
     "data": {
      "text/plain": [
       "array([[3, 4],\n",
       "       [1, 2]])"
      ]
     },
     "execution_count": 5,
     "metadata": {},
     "output_type": "execute_result"
    }
   ],
   "source": [
    "x = np.array([4,3,2,1]).reshape((2,2))\n",
    "print(x)\n",
    "np.sort(x)"
   ]
  },
  {
   "cell_type": "markdown",
   "metadata": {},
   "source": [
    "É possível especificar o axis para realizar a ordenação. "
   ]
  },
  {
   "cell_type": "code",
   "execution_count": 6,
   "metadata": {},
   "outputs": [
    {
     "name": "stdout",
     "output_type": "stream",
     "text": [
      "[[4 3]\n",
      " [2 1]]\n"
     ]
    },
    {
     "data": {
      "text/plain": [
       "array([[2, 1],\n",
       "       [4, 3]])"
      ]
     },
     "execution_count": 6,
     "metadata": {},
     "output_type": "execute_result"
    }
   ],
   "source": [
    "x = np.array([4,3,2,1]).reshape((2,2))\n",
    "print(x)\n",
    "np.sort(x,axis=0)"
   ]
  },
  {
   "cell_type": "markdown",
   "metadata": {},
   "source": [
    "## Particionamento\n",
    "As vezes pode ser que não seja de interesse realiza uma ordenação completa, por exemplo, há alguns casos que pode se desejar os K menores valores dentro de um array. A função `partition()` do NumPy recebe um array e um valor K, gerando um novo array com os K menores valores a esquerda (em qualquer ordem), e os demais a direita (em qualquer ordem). "
   ]
  },
  {
   "cell_type": "code",
   "execution_count": 7,
   "metadata": {},
   "outputs": [
    {
     "data": {
      "text/plain": [
       "array([3, 1, 2, 4, 5, 6])"
      ]
     },
     "execution_count": 7,
     "metadata": {},
     "output_type": "execute_result"
    }
   ],
   "source": [
    "x = np.array([6,5,4,3,2,1])\n",
    "np.partition(x,3)"
   ]
  },
  {
   "cell_type": "markdown",
   "metadata": {},
   "source": [
    "É possível realizar este particionamento ao longo de qualquer dimensão também. "
   ]
  },
  {
   "cell_type": "code",
   "execution_count": 8,
   "metadata": {},
   "outputs": [
    {
     "name": "stdout",
     "output_type": "stream",
     "text": [
      "[[9 8 7]\n",
      " [6 5 4]\n",
      " [3 2 1]]\n",
      "[[3 2 1]\n",
      " [6 5 4]\n",
      " [9 8 7]]\n",
      "[[7 8 9]\n",
      " [4 5 6]\n",
      " [1 2 3]]\n",
      "[2 1 3 4 5 8 6 7 9]\n"
     ]
    }
   ],
   "source": [
    "x = np.array([9,8,7,6,5,4,3,2,1]).reshape((3,3))\n",
    "print(x)\n",
    "print(np.partition(x,1,axis=0)) # Menor valor por coluna no topo\n",
    "print(np.partition(x,1,axis=1)) # Menor valor por linha na esquerda\n",
    "print(np.partition(x,3,axis=None)) # Menores 3 valores no array na esquerda"
   ]
  },
  {
   "cell_type": "markdown",
   "metadata": {},
   "source": [
    "A função `argpartition()` realiza a mesma função, entretanto, retorna os indíces dos menores K elementos a esquerda/topo."
   ]
  },
  {
   "cell_type": "code",
   "execution_count": 9,
   "metadata": {},
   "outputs": [
    {
     "name": "stdout",
     "output_type": "stream",
     "text": [
      "[[2 2 2]\n",
      " [1 1 1]\n",
      " [0 0 0]]\n"
     ]
    }
   ],
   "source": [
    "x = np.array([9,8,7,6,5,4,3,2,1]).reshape((3,3))\n",
    "print(np.argpartition(x,1,axis=0)) # Posição do Menor por coluna no topo do array"
   ]
  },
  {
   "cell_type": "markdown",
   "metadata": {},
   "source": [
    "## Exemplo: K-Nearest Neighbor\n",
    "Abaixo, aplicamos o particionamento para encontrar os K valores mais próximos de cada ponto (par linha coluna). Primeiro criamos um array 10x2, preenchido com valores aleatórios."
   ]
  },
  {
   "cell_type": "code",
   "execution_count": 10,
   "metadata": {},
   "outputs": [],
   "source": [
    "x = np.random.rand(10,2)"
   ]
  },
  {
   "cell_type": "code",
   "execution_count": 11,
   "metadata": {
    "jupyter": {
     "source_hidden": true
    }
   },
   "outputs": [
    {
     "data": {
      "image/png": "[encoded data removed]",
      "text/plain": [
       "<Figure size 432x288 with 1 Axes>"
      ]
     },
     "metadata": {
      "needs_background": "light"
     },
     "output_type": "display_data"
    }
   ],
   "source": [
    "%matplotlib inline\n",
    "import matplotlib.pyplot as plt\n",
    "plt.scatter(x[:, 0], x[:, 1], s=100);"
   ]
  },
  {
   "cell_type": "markdown",
   "metadata": {},
   "source": [
    "Em seguida, podemos calcular a distância entre cada par de pontos."
   ]
  },
  {
   "cell_type": "code",
   "execution_count": 12,
   "metadata": {},
   "outputs": [
    {
     "name": "stdout",
     "output_type": "stream",
     "text": [
      "[[0.         0.03191478 0.02046653 0.04355307 0.28215654 0.09371163\n",
      "  0.04464105 0.62273073 0.2932027  0.07656842]\n",
      " [0.03191478 0.         0.04228309 0.14761571 0.15631178 0.03596213\n",
      "  0.14614813 0.49227256 0.42215104 0.13647168]\n",
      " [0.02046653 0.04228309 0.         0.06065054 0.36048996 0.14916451\n",
      "  0.09908191 0.43655809 0.19762743 0.17590053]\n",
      " [0.04355307 0.14761571 0.06065054 0.         0.53515638 0.2570941\n",
      "  0.01816316 0.78181123 0.17769582 0.11646115]\n",
      " [0.28215654 0.15631178 0.36048996 0.53515638 0.         0.05071927\n",
      "  0.45044593 0.88458336 1.09184844 0.27116346]\n",
      " [0.09371163 0.03596213 0.14916451 0.2570941  0.05071927 0.\n",
      "  0.20740521 0.71454947 0.68747133 0.11654506]\n",
      " [0.04464105 0.14614813 0.09908191 0.01816316 0.45044593 0.20740521\n",
      "  0.         0.95004493 0.30875819 0.04723677]\n",
      " [0.62273073 0.49227256 0.43655809 0.78181123 0.88458336 0.71454947\n",
      "  0.95004493 0.         0.55833859 1.11292523]\n",
      " [0.2932027  0.42215104 0.19762743 0.17769582 1.09184844 0.68747133\n",
      "  0.30875819 0.55833859 0.         0.57586873]\n",
      " [0.07656842 0.13647168 0.17590053 0.11646115 0.27116346 0.11654506\n",
      "  0.04723677 1.11292523 0.57586873 0.        ]]\n"
     ]
    }
   ],
   "source": [
    "dif_dist = x[:,np.newaxis,:] - x[np.newaxis,:,:] # Gera uma matriz para cada coordenada, com as distancias ate as outras coordenadas\n",
    "dif_dist_quad = dif_dist ** 2 # Eleva distancias ao quadrado\n",
    "dist_euc = dif_dist_quad.sum(-1) # Matriz de distancias de cada ponto para cada ponto\n",
    "print(dist_euc)"
   ]
  },
  {
   "cell_type": "markdown",
   "metadata": {},
   "source": [
    "Através do broadcasting, também podemos obter o mesmo resultado, de forma muito mais otimizada."
   ]
  },
  {
   "cell_type": "code",
   "execution_count": 13,
   "metadata": {},
   "outputs": [
    {
     "name": "stdout",
     "output_type": "stream",
     "text": [
      "[[0.         0.03191478 0.02046653 0.04355307 0.28215654 0.09371163\n",
      "  0.04464105 0.62273073 0.2932027  0.07656842]\n",
      " [0.03191478 0.         0.04228309 0.14761571 0.15631178 0.03596213\n",
      "  0.14614813 0.49227256 0.42215104 0.13647168]\n",
      " [0.02046653 0.04228309 0.         0.06065054 0.36048996 0.14916451\n",
      "  0.09908191 0.43655809 0.19762743 0.17590053]\n",
      " [0.04355307 0.14761571 0.06065054 0.         0.53515638 0.2570941\n",
      "  0.01816316 0.78181123 0.17769582 0.11646115]\n",
      " [0.28215654 0.15631178 0.36048996 0.53515638 0.         0.05071927\n",
      "  0.45044593 0.88458336 1.09184844 0.27116346]\n",
      " [0.09371163 0.03596213 0.14916451 0.2570941  0.05071927 0.\n",
      "  0.20740521 0.71454947 0.68747133 0.11654506]\n",
      " [0.04464105 0.14614813 0.09908191 0.01816316 0.45044593 0.20740521\n",
      "  0.         0.95004493 0.30875819 0.04723677]\n",
      " [0.62273073 0.49227256 0.43655809 0.78181123 0.88458336 0.71454947\n",
      "  0.95004493 0.         0.55833859 1.11292523]\n",
      " [0.2932027  0.42215104 0.19762743 0.17769582 1.09184844 0.68747133\n",
      "  0.30875819 0.55833859 0.         0.57586873]\n",
      " [0.07656842 0.13647168 0.17590053 0.11646115 0.27116346 0.11654506\n",
      "  0.04723677 1.11292523 0.57586873 0.        ]]\n"
     ]
    }
   ],
   "source": [
    "dist_euc = np.sum((x[:,np.newaxis,:] - x[np.newaxis,:,:]) ** 2, axis=-1)\n",
    "print(dist_euc)"
   ]
  },
  {
   "cell_type": "markdown",
   "metadata": {},
   "source": [
    "Logo, é possível encontrar a menor distância para cada ponto encontrando a menor distância para cada linha, onde a i-esima linha é o i-esimo ponto. Cada Linha representa um ponto, logo, os elemetos ao longo da linha representam as distâncias. Podemos utilizar o `argsort()` que realiza a ordenação por colunas, para obter na primeira coluna distância entre os próprios pontos, na segunda a distância entre o 2º ponto mais próximo, e assim por diante."
   ]
  },
  {
   "cell_type": "code",
   "execution_count": 14,
   "metadata": {},
   "outputs": [
    {
     "name": "stdout",
     "output_type": "stream",
     "text": [
      "[[0 2 1 3 6 9 5 4 8 7]\n",
      " [1 0 5 2 9 6 3 4 8 7]\n",
      " [2 0 1 3 6 5 9 8 4 7]\n",
      " [3 6 0 2 9 1 8 5 4 7]\n",
      " [4 5 1 9 0 2 6 3 7 8]\n",
      " [5 1 4 0 9 2 6 3 8 7]\n",
      " [6 3 0 9 2 1 5 8 4 7]\n",
      " [7 2 1 8 0 5 3 4 6 9]\n",
      " [8 3 2 0 6 1 7 9 5 4]\n",
      " [9 6 0 3 5 1 2 4 8 7]]\n"
     ]
    }
   ],
   "source": [
    "mais_prox = np.argsort(dist_euc, axis = 1)\n",
    "print(mais_prox) # Prima coluna - Ponto mais proximo (aka numero da linha), Segunda col - 2o ponto mais proximo"
   ]
  },
  {
   "cell_type": "markdown",
   "metadata": {},
   "source": [
    "Para O KNN entretanto, não precisamos a menor n-esima (no caso 10) distância entre todos os pontos. Podemos otimizar isso para encontrar apenas a k-esima distancia mais proxima."
   ]
  },
  {
   "cell_type": "code",
   "execution_count": 15,
   "metadata": {},
   "outputs": [
    {
     "name": "stdout",
     "output_type": "stream",
     "text": [
      "[[0 2 1 3 6 9 5 7 8 4]\n",
      " [1 0 5 2 9 3 6 7 8 4]\n",
      " [0 2 1 3 6 5 9 7 8 4]\n",
      " [3 6 0 2 9 5 1 7 8 4]\n",
      " [1 4 5 9 3 2 6 7 8 0]\n",
      " [1 4 5 0 3 2 6 7 8 9]\n",
      " [3 0 6 9 1 5 2 7 8 4]\n",
      " [1 7 2 8 0 5 3 4 6 9]\n",
      " [8 3 2 0 6 1 7 9 5 4]\n",
      " [6 9 0 3 5 1 2 7 8 4]]\n"
     ]
    }
   ],
   "source": [
    "k = 2\n",
    "k_dist_prox = np.argpartition(dist_euc, k + 1, axis = 1)\n",
    "print(k_dist_prox)"
   ]
  },
  {
   "cell_type": "code",
   "execution_count": 16,
   "metadata": {},
   "outputs": [
    {
     "data": {
      "image/png": "[encoded data removed]",
      "text/plain": [
       "<Figure size 432x288 with 1 Axes>"
      ]
     },
     "metadata": {
      "needs_background": "light"
     },
     "output_type": "display_data"
    }
   ],
   "source": [
    "plt.scatter(x[:, 0], x[:, 1], s=100)\n",
    "K = 2\n",
    "for i in range(x.shape[0]):\n",
    "    for j in k_dist_prox[i, :K+1]:\n",
    "        plt.plot(*zip(x[j], x[i]), color='black')"
   ]
  }
 ],
 "metadata": {
  "kernelspec": {
   "display_name": "Python 3",
   "language": "python",
   "name": "python3"
  },
  "language_info": {
   "codemirror_mode": {
    "name": "ipython",
    "version": 3
   },
   "file_extension": ".py",
   "mimetype": "text/x-python",
   "name": "python",
   "nbconvert_exporter": "python",
   "pygments_lexer": "ipython3",
   "version": "3.7.7"
  }
 },
 "nbformat": 4,
 "nbformat_minor": 4
}
