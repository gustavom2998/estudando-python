{
 "cells": [
  {
   "cell_type": "markdown",
   "metadata": {},
   "source": [
    "# Fundamentos de Programação - Tópicos Avançados: Escopo de váriaveis\n",
    "Continuando nosso estudo sobre os fudamentos de programação, considere as seguintes aulas como sendo aulas de tópicos avançados. Iniciamos os estudos buscando compreender o escopo de váriaveis, ou seja, quais váriaveis o programa pode utilizar.Em seguida, anlisamos as funções de escopo maior, onde a passagem de referência de funções como paramêtro é estudada.  Por ultimo, analisamos a técnica chamada de currying, para evitar repetição de código. "
   ]
  },
  {
   "cell_type": "markdown",
   "metadata": {},
   "source": [
    "## Escopo de Váriaveis\n",
    "O escopo de uma váriavel define quando uma váriavel vai poder ser utilizada ou não. Por definição, uma váriavel definida globalmente é acessivel de qualquer parte do programa, logo seu escopo é global. Ja uma váriavel local só pode ser utilizada dentro da função em que ela foi definida, logo seu escopo é local. "
   ]
  },
  {
   "cell_type": "markdown",
   "metadata": {},
   "source": [
    "## Váriavel Global\n",
    "Como dito anteriormente, uma váriavel global pode ser utilizada por qualquer parte do programa. Logo, uma função pode utilizar uma váriavel, mesmo que ela não foi passada como argumento ou definida dentro da função. A baixo temos um exemplo de váriavel global, que pode ser utilizada por qualquer função. "
   ]
  },
  {
   "cell_type": "code",
   "execution_count": 4,
   "metadata": {},
   "outputs": [
    {
     "name": "stdout",
     "output_type": "stream",
     "text": [
      "10\n",
      "Hello.\n"
     ]
    }
   ],
   "source": [
    "def a():\n",
    "    return x\n",
    "\n",
    "def b():\n",
    "    return x\n",
    "\n",
    "x = 10\n",
    "print(a())\n",
    "x = \"Hello.\"\n",
    "print(b())"
   ]
  },
  {
   "cell_type": "markdown",
   "metadata": {},
   "source": [
    "## Váriaveis Locais\n",
    "Normalmente, o uso de váriaveis globais é limitado pelo desenvolvedor como boa prática de programação, já que uma váriavel  global pode ser acessada e alterada de qualquer parte do programa. Logo, para garantir que uma váriavel esteja no estado esperado, utiliza-se váriaveis de escopo local. Um exemplo de váriavel local é quando se define uma váriavel dentro de uma função. Note que para uso dentro da função, a váriavel estára disponível. Entretanto, caso você tente usar a mesma váriavel fora da função, um erro acontecerá. "
   ]
  },
  {
   "cell_type": "code",
   "execution_count": 5,
   "metadata": {},
   "outputs": [
    {
     "name": "stdout",
     "output_type": "stream",
     "text": [
      "1\n"
     ]
    },
    {
     "ename": "NameError",
     "evalue": "name 'i' is not defined",
     "output_type": "error",
     "traceback": [
      "\u001b[1;31m---------------------------------------------------------------------------\u001b[0m",
      "\u001b[1;31mNameError\u001b[0m                                 Traceback (most recent call last)",
      "\u001b[1;32m<ipython-input-5-6d52e64fd526>\u001b[0m in \u001b[0;36m<module>\u001b[1;34m\u001b[0m\n\u001b[0;32m      4\u001b[0m \u001b[1;33m\u001b[0m\u001b[0m\n\u001b[0;32m      5\u001b[0m \u001b[0mprint\u001b[0m\u001b[1;33m(\u001b[0m\u001b[0mtest\u001b[0m\u001b[1;33m(\u001b[0m\u001b[1;33m)\u001b[0m\u001b[1;33m)\u001b[0m\u001b[1;33m\u001b[0m\u001b[1;33m\u001b[0m\u001b[0m\n\u001b[1;32m----> 6\u001b[1;33m \u001b[0mprint\u001b[0m\u001b[1;33m(\u001b[0m\u001b[0mi\u001b[0m\u001b[1;33m)\u001b[0m\u001b[1;33m\u001b[0m\u001b[1;33m\u001b[0m\u001b[0m\n\u001b[0m",
      "\u001b[1;31mNameError\u001b[0m: name 'i' is not defined"
     ]
    }
   ],
   "source": [
    "def test():\n",
    "    i = 1\n",
    "    return i\n",
    "\n",
    "print(test())\n",
    "print(i)"
   ]
  },
  {
   "cell_type": "markdown",
   "metadata": {},
   "source": [
    "Toda vez que a função `test()` for utilizada, a váriavel i será definida. Após o retorno da função (mesmo que retorne `None` ), a váriavel deixara de existir, e não poderá mais ser utilizada. "
   ]
  },
  {
   "cell_type": "markdown",
   "metadata": {},
   "source": [
    "# Global x Local\n",
    "Uma duvida que pode surgir é sobre o que acontece quando se definir uma váriavel global, e depois, criar uma váriavel local na função com o mesmo nome. Isto é algo tratado pela linguagem Python, onde haverá duas versões distintas da mesma váriavel, uma global e outra local. "
   ]
  },
  {
   "cell_type": "code",
   "execution_count": 6,
   "metadata": {},
   "outputs": [
    {
     "name": "stdout",
     "output_type": "stream",
     "text": [
      "1\n",
      "2\n"
     ]
    }
   ],
   "source": [
    "def test():\n",
    "    i = 1\n",
    "    return i\n",
    "\n",
    "i = 2\n",
    "print(test())\n",
    "print(i)"
   ]
  },
  {
   "cell_type": "markdown",
   "metadata": {},
   "source": [
    "Uma desvantagem é que se o nome de uma váriavel global for utilizada para definir uma local, a função perde o acesso a váriavel global. Este problema é resolvido pela palavra reservada `global`. Esta palavra chave pode ser utilizada para definir uma referência a váriavel global para ser utilizada dentro da função. Note que o valor global também é alterado após utilizar a função"
   ]
  },
  {
   "cell_type": "code",
   "execution_count": 13,
   "metadata": {},
   "outputs": [
    {
     "name": "stdout",
     "output_type": "stream",
     "text": [
      "50\n",
      "  50\n"
     ]
    }
   ],
   "source": [
    "def test():\n",
    "    global i \n",
    "    i = 50\n",
    "    return i\n",
    "\n",
    "i = -1\n",
    "print(test())\n",
    "print(\" \", i)"
   ]
  },
  {
   "cell_type": "markdown",
   "metadata": {},
   "source": [
    "## Váriaveis Não Locais\n",
    "Python permite aninhamento de definição de funções. Logo, um problema que pode surgir é que quando uma função possui uma váriavel, que deve ser utilizada por uma função que ela também define, a váriavel é local, logo a função filho não consegue utilizar a palavra chave global para modificar a local, e a mudança feita pela filha não ocorrerá. "
   ]
  },
  {
   "cell_type": "code",
   "execution_count": 18,
   "metadata": {},
   "outputs": [
    {
     "name": "stdout",
     "output_type": "stream",
     "text": [
      "190\n"
     ]
    }
   ],
   "source": [
    "def func_pai():\n",
    "    i = 190\n",
    "    def func_filho():\n",
    "        i = -190\n",
    "    func_filho()\n",
    "    return i\n",
    "\n",
    "print(func_pai())"
   ]
  },
  {
   "cell_type": "markdown",
   "metadata": {},
   "source": [
    "Isto é um problema que pode ser resolvido de uma váriavel não local, definida através da palavra reservada `nonlocal`. Isto indica que a váriavel não é global, entretanto, pode ser modificada por qualquer código que esteja contido no escopo da função."
   ]
  },
  {
   "cell_type": "code",
   "execution_count": 21,
   "metadata": {},
   "outputs": [
    {
     "name": "stdout",
     "output_type": "stream",
     "text": [
      "-190\n"
     ]
    }
   ],
   "source": [
    "def func_pai():\n",
    "    i = 190\n",
    "    def func_filho():\n",
    "        nonlocal i \n",
    "        i = -190\n",
    "    func_filho()\n",
    "    return i\n",
    "\n",
    "print(func_pai())"
   ]
  }
 ],
 "metadata": {
  "kernelspec": {
   "display_name": "Python 3",
   "language": "python",
   "name": "python3"
  },
  "language_info": {
   "codemirror_mode": {
    "name": "ipython",
    "version": 3
   },
   "file_extension": ".py",
   "mimetype": "text/x-python",
   "name": "python",
   "nbconvert_exporter": "python",
   "pygments_lexer": "ipython3",
   "version": "3.7.7"
  }
 },
 "nbformat": 4,
 "nbformat_minor": 4
}
