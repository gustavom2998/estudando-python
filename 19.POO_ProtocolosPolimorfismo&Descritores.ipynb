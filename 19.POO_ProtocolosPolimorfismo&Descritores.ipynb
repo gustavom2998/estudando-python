{
 "cells": [
  {
   "cell_type": "markdown",
   "metadata": {},
   "source": [
    "# Programação Orientada a Objetos - Protocolos, Polimorfismo e Descritores\n",
    "A orientação a objetos é um paradigma de programação conhecido por seus quatro pilares principais: Encapsulamento; Abstração; Herença e Polimorfismo. O propósito deste paradigma é solucionar os problemas tradicionais da programação procedural, onde muitas vezes há pouco aproveitamento de código e fraca associação entre dados e às funções reponsáveis por manipular estes dados. Neste estudo, buscamos revisar os conceitos fundamentais da orientação a objetos e identificar como eles são implementados na linguagem Python.\n",
    "\n",
    "## Contratos Implicitos\n",
    "Em outras liguagens (Java e C#), contratos implicitos (chamados de interfaces) são definidos parra garantir que certos métodos vão ser disponibilizadas, com certos tipos de paramêtros e retorno. Python fornece um método mais flexível de realizar isto, sem utilizar um mecânismo de interface. \n",
    "\n",
    "Um contrato implicito está presente quando um método só funciona dado que, por exemplo, um determinado método só funciona para certos tipos de operadores. Por exemplo, para uma função que soma dois operadores através do operador `+`, há um contrato implicito que diz que o método só funciona ao fornecer argumentos que possam ser operados com `+`.\n",
    "\n",
    "## Duck Typing\n",
    "Este termo surge da frase: \"Se anda como pato, nada como pato e faz quack como um pato, é um pato\". Duck typing diz que se um objeto pode realizar um pré-requisito de operações, então ele é aplicável para ser utilizado para realizar a taréfa desejada. Por exemplo, se um tipo pode somar, subtrair, multiplicar e dividir, mesmo ele não sendo numérico, ele pode ser tratado como numérico. Isto é útil pois permite expandir certos mecânismos, mesmo que não sejam originalmente projetados para lidar com novos tipos, para lidar com estes novos tipos, desde que estes novos satisfaçam um contrato implícito. \n",
    "\n",
    "Ainda, para um novo tipo, para utilizar um mecânismo (como uma calculadora), não é necessário implementar todas as operações, desde que sejam utilizadas apenas as operações que possuem implementação. \n",
    "\n",
    "## Protocolos\n",
    "Como não há mecânismos implemetados para definir um prérequisito entre o fornecedor de uma funcionalidade e o usuário/consumidor desta funcionalidade, o duck typing é utilizado como uma solução menos formal. Surge então a dúvido de como saber que todos os prérequisitos são atendidos. Neste caso, é necessário introduzir o conceito de um protocólo, que é um descrito informal da interface de programador fornecida por algo dentro do Python (uma classe, módulo ou função). O protócolo é definido através de documentação (Geralmente docstring), e deve dizer quais prérequisitos o usuário deve atender para utilizar o mecânismo. Note que não há nenhum mecânismo do Python que verifique se os pré-requisios são atendidos ou não. \n",
    "\n",
    "O protócolo do gerenciador de contexto é associado a uma declaração do tipo `with as`, que geralmente é utilizada para alocar e liberar recursos (conexões que permitem a leitura  e utilização de objetos). Recursos podem ser arquivos, conexões com bancos de dados, etc. A declaração `with as` garante que qualquer passo de configuração é realizado antes de tentar ler um objeto, e estará garantido sua disponibilidade posterior ao finalizar a conexão. \n",
    "\n",
    "```\n",
    "with <objeto_gerenciado> as <nome_local>:\n",
    "    Codigo para utilizar <objeto gerenciado> com alias <nome_local>\n",
    "```\n",
    "\n",
    "O protocolo indica que ao gerenciar o objeto, após o `:` um método `__enter__()` é chamado, logo deve ser definido. Ao finalizar o bloco, o método `__exit__()` é chamado, e pode ser utilizado para finalizar as atividades ou relatar erros. \n",
    "\n",
    "## Polimorfismo\n",
    "O poliformismo é capacidade de enviar uma mesma mensagem (solicitação de executar um método) para diferentes objetos, onde cada classe do objeto lida em como resolver a solicitação da mesnsagem. Há diversos tipos de polimorfismos, incluíndo de funções (onde uma função varia sua funcionalidade conforme se altera a quantidade de argumentos), classes (onde diversas classes implementam os mesmos métodos com o mesmo nome).\n",
    "\n",
    "## Descritores\n",
    "O protocoló descritor permite criar atributos gerenciados, que são atributos de objetos gerenciados (ou protegido) do acesso direto por código externo. O descritor pode validar modificações, acessos, etc. O descritor possuí quatro métodos: __get__(self,instance,owner); __set__(self,instance,owner); __delete__(self,instance) e __set_name__(self,owner,name). É o protocolo estudado para implementar modificadores de acesso. \n",
    "\n"
   ]
  }
 ],
 "metadata": {
  "kernelspec": {
   "display_name": "Python 3",
   "language": "python",
   "name": "python3"
  },
  "language_info": {
   "codemirror_mode": {
    "name": "ipython",
    "version": 3
   },
   "file_extension": ".py",
   "mimetype": "text/x-python",
   "name": "python",
   "nbconvert_exporter": "python",
   "pygments_lexer": "ipython3",
   "version": "3.7.7"
  }
 },
 "nbformat": 4,
 "nbformat_minor": 4
}
