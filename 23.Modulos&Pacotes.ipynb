{
 "cells": [
  {
   "cell_type": "markdown",
   "metadata": {},
   "source": [
    "# Módulos e Pacotes\n",
    "Módulos e pacotes são mecânismos utilizados para organizar grandes programas dentro do Python. Aqui, tentamos entender o básico sobre os módulos, como eles são acessados, definidos, o que são pacotes e sub-pacotes. "
   ]
  },
  {
   "cell_type": "markdown",
   "metadata": {},
   "source": [
    "## Módulos\n",
    "Um módulo permite agrupar funções, classes e código em geral em um arquivo. Bibliotecas nada mais são que um ou mais módulos que extendem as funcionalidades básicas da linguagem de programação. É útil organizar o código em módulo quando se tem um projeto grande, pois melhora a manutebilidade e legibilidade do código, matendo partes modulares separadas. Isto simplifica os aspectos que tem que ser analisados para desenvolver uma solução, pois se desenvolve uma solução por partes. A fase de testes do código também melhora, pois é possível testar os módulos de forma indenpedente. Ao criar módulos, se cria uma solução abstrata, que pode ser reutilizada em outros problemas. \n",
    "\n",
    "Um módulo em Python é um arquivo que pode conter funções, classes, variáveis, código executável e atributos associados ao módulo (como seu nome). O nome de um módulo é definido pelo nome do arquivo (sem a extensão). Um módulo pode conter uma docstring no início de sua definição para ajudar a definir o propósito do módulo, informações gerais sobre como utilizar o módulo, e exemplos de aplicações. Ao importar o módulo, todo código será \"executado\", como definição de funções, classes, váriaveis, etc. Estas definições podem ser acessadas dentro do código que importa o módulo através do nome do módulo.\n",
    "\n",
    "### Definindo Módulos\n",
    "\n",
    "A baixo, primeiro definimos um código que pode ser utilizado para definir o módulo novoModulo dentro do arquivo `novoModulo.py`."
   ]
  },
  {
   "cell_type": "code",
   "execution_count": 12,
   "metadata": {},
   "outputs": [],
   "source": [
    "\"\"\"Este módulo é um módulo de exemplo.\n",
    "\n",
    "Ele possui Uma Classe, Uma função e uma instância da classe.\"\"\"\n",
    "def printNumeroUm():\n",
    "    print(\"1\")\n",
    "    \n",
    "class Numero():\n",
    "    def __init__(self,valor):\n",
    "        self._valor = valor\n",
    "    \n",
    "    @property\n",
    "    def valor(self):\n",
    "        return self._valor\n",
    "    \n",
    "    @valor.setter\n",
    "    def valor(self, novoValor):\n",
    "        self._valor = novoValor\n",
    "        \n",
    "x = Numero(5)"
   ]
  },
  {
   "cell_type": "markdown",
   "metadata": {},
   "source": [
    "### Utilizando Módulos\n",
    "Então, em um novo arquivo qualquer definido dentro da mesma pasta, é possível importar o módulo com a palavra reservada `import`. Sempre que utilizamos algo que esteja definido dentro do módulo, utilizamos como préfixo o nome do módulo."
   ]
  },
  {
   "cell_type": "code",
   "execution_count": 1,
   "metadata": {},
   "outputs": [
    {
     "name": "stdout",
     "output_type": "stream",
     "text": [
      "1\n",
      "8\n",
      "5\n"
     ]
    }
   ],
   "source": [
    "import novoModulo\n",
    "\n",
    "novoModulo.printNumeroUm()\n",
    "y = novoModulo.Numero(8)\n",
    "print(y.valor)\n",
    "print(novoModulo.x.valor)"
   ]
  },
  {
   "cell_type": "markdown",
   "metadata": {},
   "source": [
    "É possível importar vários módulos, seja importando um módulo de cada vez, ou importanto todos em uma só linha, separando o nome dos módulos com vírgulas. Normalmente, todas importações são feitas no início do código (por convenção). "
   ]
  },
  {
   "cell_type": "code",
   "execution_count": 2,
   "metadata": {},
   "outputs": [
    {
     "ename": "ModuleNotFoundError",
     "evalue": "No module named 'modulo1'",
     "output_type": "error",
     "traceback": [
      "\u001b[1;31m---------------------------------------------------------------------------\u001b[0m",
      "\u001b[1;31mModuleNotFoundError\u001b[0m                       Traceback (most recent call last)",
      "\u001b[1;32m<ipython-input-2-18d20322fd53>\u001b[0m in \u001b[0;36m<module>\u001b[1;34m\u001b[0m\n\u001b[1;32m----> 1\u001b[1;33m \u001b[1;32mimport\u001b[0m \u001b[0mmodulo1\u001b[0m\u001b[1;33m\u001b[0m\u001b[1;33m\u001b[0m\u001b[0m\n\u001b[0m\u001b[0;32m      2\u001b[0m \u001b[1;32mimport\u001b[0m \u001b[0mmodulo2\u001b[0m\u001b[1;33m\u001b[0m\u001b[1;33m\u001b[0m\u001b[0m\n\u001b[0;32m      3\u001b[0m \u001b[1;32mimport\u001b[0m \u001b[0mmodulo3\u001b[0m\u001b[1;33m,\u001b[0m\u001b[0mmodulo4\u001b[0m\u001b[1;33m,\u001b[0m\u001b[0mmodulo5\u001b[0m\u001b[1;33m\u001b[0m\u001b[1;33m\u001b[0m\u001b[0m\n",
      "\u001b[1;31mModuleNotFoundError\u001b[0m: No module named 'modulo1'"
     ]
    }
   ],
   "source": [
    "import modulo1\n",
    "import modulo2\n",
    "import modulo3,modulo4,modulo5"
   ]
  },
  {
   "cell_type": "markdown",
   "metadata": {},
   "source": [
    "Também é possível importar o módulo de uma forma que não é necessário utilizar o nome como prefixo. Utilizando a palavra reservada `from` é possível especificar quais utilidades se deseja importar do módulo especificado. É possível usar o símbolo de asterisco para dizer que deseja se importar tudo da biblioteca. Ao realizar realizar isto, utilizar o nome do módulo deixa de ser necessário."
   ]
  },
  {
   "cell_type": "code",
   "execution_count": 4,
   "metadata": {},
   "outputs": [
    {
     "name": "stdout",
     "output_type": "stream",
     "text": [
      "1\n",
      "8\n",
      "5\n"
     ]
    }
   ],
   "source": [
    "from novoModulo import *\n",
    "\n",
    "printNumeroUm()\n",
    "y = Numero(8)\n",
    "print(y.valor)\n",
    "print(x.valor)"
   ]
  },
  {
   "cell_type": "markdown",
   "metadata": {},
   "source": [
    "É possível usar outros valores além do asterisco. O asterisco indica que tudo deve ser importado do módulo. É possível especificar o que se deseja importar, como por exemplo, apenas uma classe."
   ]
  },
  {
   "cell_type": "code",
   "execution_count": 5,
   "metadata": {},
   "outputs": [
    {
     "name": "stdout",
     "output_type": "stream",
     "text": [
      "10\n"
     ]
    }
   ],
   "source": [
    "from novoModulo import Numero\n",
    "\n",
    "n = Numero(10)\n",
    "print(n.valor)"
   ]
  },
  {
   "cell_type": "markdown",
   "metadata": {},
   "source": [
    "É possível renomear a forma que se referência o módulo durante o uso através da palavra reservada `as`. É possível também redefinir a forma que refere a classes, funções e váriaveis. "
   ]
  },
  {
   "cell_type": "code",
   "execution_count": 7,
   "metadata": {},
   "outputs": [
    {
     "name": "stdout",
     "output_type": "stream",
     "text": [
      "1\n"
     ]
    }
   ],
   "source": [
    "import novoModulo as md\n",
    "\n",
    "md.printNumeroUm()"
   ]
  },
  {
   "cell_type": "markdown",
   "metadata": {},
   "source": [
    "### Encapsulamento em Módulos\n",
    "Qualquer definição dentro do módulo iniciada com `_` é oculta quando ocorre uma importação de todos elementos do módulo através do asterisco. Logo, é possível ocultar certos elementos, a não ser que eles sejam importados especificamente.\n",
    "\n",
    "### Importação em funções\n",
    "A importação pertence ao escopo do programa. Logo, pode ser útil ou conveniente importar um módulo dentro de uma função, para que ele esteja disponível (e ocupando memória) apenas quando for necessário."
   ]
  },
  {
   "cell_type": "markdown",
   "metadata": {},
   "source": [
    "## Propriedades de um Módulo\n",
    "Todo módulo contém um conjunto de propriedades para descreve-lo. Eles são\n",
    "* `__name__`: Nome do módulo.\n",
    "* `__doc__`: Documentação do módulo.\n",
    "* `__file__`: O arquivo em qual o módulo foi definido.\n",
    "\n",
    "É possível descobrir todos os nomes que um módulo define através da função `dir()`."
   ]
  },
  {
   "cell_type": "code",
   "execution_count": 10,
   "metadata": {},
   "outputs": [
    {
     "name": "stdout",
     "output_type": "stream",
     "text": [
      "['Numero', '__builtins__', '__cached__', '__doc__', '__file__', '__loader__', '__name__', '__package__', '__spec__', 'printNumeroUm', 'x']\n"
     ]
    }
   ],
   "source": [
    "import novoModulo as md\n",
    "\n",
    "print(dir(md))\n"
   ]
  },
  {
   "cell_type": "markdown",
   "metadata": {},
   "source": [
    "## Módulos Padrões\n",
    "Há varios módulos padrões disponibilizados para o Python. \n",
    "\n",
    "Um exemplo é módulo `sys` que contém várias funções e estruturas para trabalhar com e obter informações do sistema que executa o programa. Outro exemplo é o módulo `winreg`, que se encontra disponível apenas em sistemas windows. "
   ]
  },
  {
   "cell_type": "code",
   "execution_count": 11,
   "metadata": {},
   "outputs": [
    {
     "name": "stdout",
     "output_type": "stream",
     "text": [
      "3.7.7 (default, Mar 23 2020, 23:19:08) [MSC v.1916 64 bit (AMD64)]\n",
      "win32\n"
     ]
    }
   ],
   "source": [
    "import sys\n",
    "\n",
    "print(sys.version)\n",
    "print(sys.platform)"
   ]
  },
  {
   "cell_type": "markdown",
   "metadata": {},
   "source": [
    "## Módulos como Scripts\n",
    "Qualquer arquivo de Python (.py) é um módulo e também um script. Logo, ao dizer que é um script, se diz que é possível executar todo o código dentro do módulo diretamente. Se um arquivo for executado como script, ao invés do `__name__` ser o nome do script, ele conterá a string \"__main__\". Isto permite definir um comportamento padrão que ocorre ao executar o módulo como script, mas não quando se carrega o módulo. Tradicionalmente, todo código é colocado dentro de uma função `main()`, e no final do código, se `__name__ == '__main__'` for satisfeito, a função é executada."
   ]
  },
  {
   "cell_type": "markdown",
   "metadata": {},
   "source": [
    "## Pacotes em Python\n",
    "Pacotes permitem ao programador organizar módulos dentro de um container que possuí estrutura hierarquica baseada nos diretórios. Logo, um pacote é um diretório contendo um ou mais arquivos de Python. Um arquivo opcional chamado de `__init__.py` pode ser definido, onde ele contem o código executado quando um módulo for importado do pacote.\n",
    "\n",
    "É possível definir um módulo a ser importado do pacote como se define atributo de uma classe. Por exemplo, para um diretório (pacote) chamado de `Pacote` contendo 3 módulos, é possível importar individualmente cada módulo. Note que os arquivos/módulos tem que estar dentro do pacote/diretório.\n",
    "\n",
    "```\n",
    "from Pacote.modulo1 import *\n",
    "from Pacote.modulo2 import *\n",
    "from Pacote.modulo3 import *\n",
    "```\n",
    "\n",
    "Ainda, podem haver subpacotes dentro de um pacote. Cada aninhamento pode ser separado através de um ponto. Cada subpacote\n",
    "\n",
    "```\n",
    "from Pacote.subpacote1.modulo1 import *\n",
    "from Pacote.subpacote2.modulo4 import *\n",
    "```"
   ]
  },
  {
   "cell_type": "code",
   "execution_count": null,
   "metadata": {},
   "outputs": [],
   "source": []
  }
 ],
 "metadata": {
  "kernelspec": {
   "display_name": "Python 3",
   "language": "python",
   "name": "python3"
  },
  "language_info": {
   "codemirror_mode": {
    "name": "ipython",
    "version": 3
   },
   "file_extension": ".py",
   "mimetype": "text/x-python",
   "name": "python",
   "nbconvert_exporter": "python",
   "pygments_lexer": "ipython3",
   "version": "3.7.7"
  }
 },
 "nbformat": 4,
 "nbformat_minor": 4
}
