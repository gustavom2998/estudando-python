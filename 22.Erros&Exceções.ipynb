{
 "cells": [
  {
   "cell_type": "markdown",
   "metadata": {},
   "source": [
    "## Erros e Exceções\n",
    "Erros e exceções são conceitos que tradicionalmente são introduzidos em conjunto com orientação a objetos, mas não necessariamente são um conceito de orientação a objetos. Erros e exceções são modelados através de objetos para levantar ou analisar erros durante a execução do programa. Aqui prentedemos estudar a definição de um erro e uma exceção, como elas são implementadas, como utilizar-las e como implementar novos erros e exceções. "
   ]
  },
  {
   "cell_type": "markdown",
   "metadata": {},
   "source": [
    "## Erros\n",
    "Durante a execução de um programa, algo pode ocorrer de errado, e é necessário informar o usuário. A forma que isto é feito é através da geração de um erro. \n",
    "\n",
    "## Exceções \n",
    "Tradicionalmente uma exceção é semelhante a um erro, entretanto, ela é uma ocorrência que pode ser prevista pelo criador do programa, e logo, diferente do erro, pode ser tratada.\n",
    "\n",
    "## Erros vs Exceções em Python\n",
    "Em Python, estes dois representam o mesmo conceito, e não são diferenciados. No geral, tudo é chamado de excessão, já que é o nome da classe criada para representar estes conceitos. A hierarquia de erros e exceções dentro do Python é complexa, entretanto podemos resumir brevemente as principais classe. A classe Excepetion herda da classe BaseException. A clase Exception é herdada por 13 classes diretamente, e 28 classes no total. Segue uma imagem da hierarquia obtida através de Hunt (2019). \n",
    "\n",
    "Quando uma exceção ocorre, se diz que foi gerada, e quando ela é passada para o código responsável por lidar com ela, uma exceção foi lançada. Ao ser tratada, se diz que a exceção foi capturada.\n",
    "\n",
    "![Hierarquia de Exceções](img/hierarchy.png)\n",
    "\n",
    "## Captura de exceções\n",
    "Geralmente, ao gerar uma exceção, ela não é tratada no escopo local. Logo, a exceção é lançada de um contexto do programa para outro, até que ela seja tratada ou não tenha mais nenhum contexto que possa tratar a exceção. \n",
    "\n",
    "Diferente tipos de erros podem prouzir diferentes tipos de exceções. A divisão por zero por exemplo gera uma exceção aritmética. O tipo de exceção pode ser indentificada através do tipo do seu objeto. O bloco manipulador de exceção é o trecho de código responsável por tratar a exceção gerada. \n",
    "\n",
    "Ao gerar uma exceção, um objeto da classe da exceção equivalente é instânciado. Dentro da pilha de execução, o sistema tenta encontrar um bloco manipulador de exceção capaz de tratar a exceção gerada. O bloco manipulador de exceção pode realizar alguma tarefa que resolve o problema, encerrar a execução do programa de forma controlada, ou até mesmo reiniciar a execução do programa. \n",
    "\n",
    "Para preparar o código para lídar com uma exceção, o usuário pode definir um bloco `try`, que indica que o código dentro do bloco pode gerar uma exceção. Após o bloco de tentativa, é possível definir um bloco opcional `except`, que tenta resolver um exceção de uma determinada classe. "
   ]
  },
  {
   "cell_type": "code",
   "execution_count": 21,
   "metadata": {},
   "outputs": [
    {
     "name": "stdout",
     "output_type": "stream",
     "text": [
      "Impossível realizar divisão por zero.\n"
     ]
    }
   ],
   "source": [
    "def cincoDiv(x):\n",
    "    return 5/x\n",
    "\n",
    "try:\n",
    "    cincoDiv(0)\n",
    "except ZeroDivisionError:\n",
    "    print(\"Impossível realizar divisão por zero.\")"
   ]
  },
  {
   "cell_type": "markdown",
   "metadata": {},
   "source": [
    "É possível definir uma sequência destes blocos para lidar com diferentes classes de exceções. No exemplo abaixo, geramos outro tipo de exceção, que não é do tipo `ZeroDivisionError`, logo, ela é tratada pelo segundo bloco, que no caso é `Exception`. "
   ]
  },
  {
   "cell_type": "code",
   "execution_count": 22,
   "metadata": {},
   "outputs": [
    {
     "name": "stdout",
     "output_type": "stream",
     "text": [
      "Ocorreu um erro.\n"
     ]
    }
   ],
   "source": [
    "def cincoDiv(x):\n",
    "    return 5/x\n",
    "\n",
    "try:\n",
    "    cincoDiv(\"f\")\n",
    "except ZeroDivisionError:\n",
    "    print(\"Impossível realizar divisão por zero.\")\n",
    "except Exception:\n",
    "    print(\"Ocorreu um erro.\")"
   ]
  },
  {
   "cell_type": "markdown",
   "metadata": {},
   "source": [
    "Note que toda exceção pode ser tratada pela `Exception`, já que todas herdam esta classe. Entretanto, o tratamento de exceção ocorrem por ordem (como o `elif`). Logo, ao gerar uma divisão por zero, o bloco de `ZeroDivisionError` será utilizado para tratar o erro. É possível também não específicar nenhuma classe de exceção, o que permite tratar até as exceções desconhecidas."
   ]
  },
  {
   "cell_type": "code",
   "execution_count": 23,
   "metadata": {},
   "outputs": [
    {
     "name": "stdout",
     "output_type": "stream",
     "text": [
      "Impossível realizar divisão por zero.\n"
     ]
    }
   ],
   "source": [
    "def cincoDiv(x):\n",
    "    return 5/x\n",
    "\n",
    "try:\n",
    "    cincoDiv(0)\n",
    "except ZeroDivisionError:\n",
    "    print(\"Impossível realizar divisão por zero.\")\n",
    "except Exception:\n",
    "    print(\"Ocorreu um erro.\")\n",
    "except:\n",
    "    print(\"Que tipo de erro é esse?\")"
   ]
  },
  {
   "cell_type": "markdown",
   "metadata": {},
   "source": [
    "Após este bloco, o bloco `else`, que também é opcional, indica um trecho de código a ser executado somente se o bloco `try` não lançar exceções. O bloco opcional `finally` executa após o bloco `try`, com ou sem a ocorrência de exceções. Note que ao gerar uma exceção no bloco `try`, a excecução do código salta para o bloco de tratamento de exceção, logo qualquer código posterior ao trecho que gerou a exceção dentro do bloco `try` não é excutado."
   ]
  },
  {
   "cell_type": "code",
   "execution_count": 24,
   "metadata": {},
   "outputs": [
    {
     "name": "stdout",
     "output_type": "stream",
     "text": [
      "2.5 \n",
      " 1\n"
     ]
    }
   ],
   "source": [
    "res = 0\n",
    "\n",
    "def cincoDiv(x):\n",
    "    return 5/x\n",
    "\n",
    "try:\n",
    "    res = cincoDiv(2)\n",
    "    x = 1 # So sera definido se nao ocorrer excecao\n",
    "except ZeroDivisionError:\n",
    "    # Excecuta ao ocorrer divisao por zero\n",
    "     # X nao estara disponivel.\n",
    "    print(\"Impossível realizar divisão por zero.\")\n",
    "else:\n",
    "    # Executa se nao ocorrer excecao\n",
    "    print(res,\"\\n\",x)\n",
    "finally:\n",
    "    # Sempre executa\n",
    "    del res"
   ]
  },
  {
   "cell_type": "markdown",
   "metadata": {},
   "source": [
    "## Acessando Exceções\n",
    "A exceção é instânciada como um objeto. Logo, ao definir um bloco que pode gerar uma exceção, é possível referenciar a possível exceção gerada dentro do bloco `except`. Para isto, basta específicar definir uma váriavel ao qual o objeto da exceção deve ser atribuído após definir o tipo de exceção no bloco `except`."
   ]
  },
  {
   "cell_type": "code",
   "execution_count": 25,
   "metadata": {},
   "outputs": [
    {
     "name": "stdout",
     "output_type": "stream",
     "text": [
      "division by zero\n",
      "Impossível realizar divisão por zero.\n"
     ]
    }
   ],
   "source": [
    "def cincoDiv(x):\n",
    "    return 5/x\n",
    "\n",
    "try:\n",
    "    res = cincoDiv(0)\n",
    "except ZeroDivisionError as exp:\n",
    "    print(exp)\n",
    "    print(\"Impossível realizar divisão por zero.\")"
   ]
  },
  {
   "cell_type": "markdown",
   "metadata": {},
   "source": [
    "## Gerando exceções\n",
    "Um erro pode ser gerado através da palavra reservada `raise`. Neste caso, é necessário instânciar a exceção passando como paramêtro a mensagem de erro. É possível gerar um erro de um determinado tipo conforme o programador desejar, caso ele considere que o usuário tenha feito algo errado. "
   ]
  },
  {
   "cell_type": "code",
   "execution_count": 26,
   "metadata": {},
   "outputs": [
    {
     "name": "stdout",
     "output_type": "stream",
     "text": [
      "Valor Negativo.\n"
     ]
    }
   ],
   "source": [
    "def cincoDiv(x):\n",
    "    res = 5/x\n",
    "    if(res < 0): \n",
    "        raise ValueError(\"Valor Negativo.\")\n",
    "    return 5/x\n",
    "\n",
    "try:\n",
    "    res = cincoDiv(-1)\n",
    "except ValueError as ve:\n",
    "    print(ve)"
   ]
  },
  {
   "cell_type": "markdown",
   "metadata": {},
   "source": [
    "Caso o programador deseje continuar passando a exceção adiante, é possível utilizar o `raise` novamente. Isto passa a exceção para tratamento no bloco `try` anterior na pilha de execução. "
   ]
  },
  {
   "cell_type": "code",
   "execution_count": 27,
   "metadata": {},
   "outputs": [
    {
     "name": "stdout",
     "output_type": "stream",
     "text": [
      "Valor Negativo.\n",
      "Aqui tratamos o erro.\n",
      "5.0\n"
     ]
    }
   ],
   "source": [
    "def cincoDiv(x):\n",
    "    res = 5/x\n",
    "    if(res < 0): \n",
    "        raise ValueError(\"Valor Negativo.\")\n",
    "    return res\n",
    "\n",
    "def tenta_div_cinco(x):\n",
    "    try:\n",
    "        res = cincoDiv(x)\n",
    "        return res\n",
    "    except ValueError as ve:\n",
    "        print(ve)\n",
    "        raise\n",
    "\n",
    "try:\n",
    "    x = -1\n",
    "    tenta_div_cinco(x)\n",
    "except ValueError as ve:\n",
    "    print(\"Aqui tratamos o erro.\")\n",
    "    y = (-1)*x\n",
    "    y = tenta_div_cinco(y)\n",
    "    print(y)\n"
   ]
  },
  {
   "cell_type": "markdown",
   "metadata": {},
   "source": [
    "## Criando Exceções\n",
    "É possível definir novos tipos de erros e exceções. Isto permite gerenciar melhor o que ocorre em cada circunstância. Para criar uma classe de exceção, basta herdar a classe `Exception` ou qualquer uma das suas subclasses. "
   ]
  },
  {
   "cell_type": "code",
   "execution_count": 28,
   "metadata": {},
   "outputs": [],
   "source": [
    "class cpfInvalidoException(Exception):\n",
    "    \"\"\"CPF deve ser fornecido no formato de string contendo 11 digitos.\"\"\"\n",
    "    pass"
   ]
  },
  {
   "cell_type": "markdown",
   "metadata": {},
   "source": [
    "Após definir a exceção, podemos lançar ela na definição de uma classe por exemplo. Neste caso, ao tentar modificar o CPF no método setter, lançamos uma exceção caso o CPF não esteja corretamente formatado."
   ]
  },
  {
   "cell_type": "code",
   "execution_count": 29,
   "metadata": {},
   "outputs": [],
   "source": [
    "class Pessoa():\n",
    "    def __init__(self, cpf, nome):\n",
    "        self._nome = nome\n",
    "        self._cpf = cpf\n",
    "        \n",
    "    @property\n",
    "    def cpf(self):\n",
    "        return self._cpf\n",
    "    \n",
    "    @cpf.setter\n",
    "    def cpf(self, novoCpf):\n",
    "        if(isinstance(novoCpf,str) and len(novoCpf) == 11):\n",
    "            self._cpf = novoCpf\n",
    "        else:\n",
    "            raise cpfInvalidoException(\"CPF fornecido: \" + novoCpf)\n",
    "            \n",
    "x = Pessoa(\"11122233344\",\"Ze\")"
   ]
  },
  {
   "cell_type": "markdown",
   "metadata": {},
   "source": [
    "Então, testamos o funcionamento da exceção implementada tentando modificar o CPF da instância. "
   ]
  },
  {
   "cell_type": "code",
   "execution_count": 30,
   "metadata": {},
   "outputs": [
    {
     "name": "stdout",
     "output_type": "stream",
     "text": [
      "CPF deve ser fornecido no formato de string contendo 11 digitos.\n",
      "CPF fornecido: 111\n"
     ]
    }
   ],
   "source": [
    "try:\n",
    "    x.cpf = \"111\"\n",
    "except cpfInvalidoException as exp:\n",
    "    print(cpfInvalidoException.__doc__)\n",
    "    print(exp)"
   ]
  },
  {
   "cell_type": "markdown",
   "metadata": {},
   "source": [
    "## Encadeamento de Exceções\n",
    "É possível encadear exceções a alguma exceção genérica. Isto permite criar e lançar uma exceção específica para minha aplicação após ocorre alguma exceção qualquer. Isto significa que ao gerar a exceção genérica, outra exceção (de aplicação) será lançada, e a informação de ambas será lançada. \n",
    "\n",
    "No exemplo abaixo, criamos uma exceção específica para ocorrência da divisão por zero dentro de uma função. Nesta exceção, incluímos o nome da função que gerou o erro com propriedade."
   ]
  },
  {
   "cell_type": "code",
   "execution_count": 32,
   "metadata": {},
   "outputs": [
    {
     "ename": "SyntaxError",
     "evalue": "invalid syntax (<ipython-input-32-bca24692f1b7>, line 10)",
     "output_type": "error",
     "traceback": [
      "\u001b[1;36m  File \u001b[1;32m\"<ipython-input-32-bca24692f1b7>\"\u001b[1;36m, line \u001b[1;32m10\u001b[0m\n\u001b[1;33m    @nomeFuncao.setter(self,valor):\u001b[0m\n\u001b[1;37m                                  ^\u001b[0m\n\u001b[1;31mSyntaxError\u001b[0m\u001b[1;31m:\u001b[0m invalid syntax\n"
     ]
    }
   ],
   "source": [
    "class ErroFuncDivZero(Exception):\n",
    "    \"\"\"Ocorreu uma divisão por zero dentro da função.\"\"\"\n",
    "    def __init__(self, nomeFuncao):\n",
    "        self._nomeFuncao = nomeFuncao\n",
    "        \n",
    "    @property\n",
    "    def nomeFuncao(self):\n",
    "        return _nomeFuncao\n",
    "    \n",
    "    @nomeFuncao.setter(self,valor):\n",
    "        self._nomeFuncao = valor"
   ]
  },
  {
   "cell_type": "markdown",
   "metadata": {},
   "source": [
    "Entretanto, ao realizar a divisão, sabemos que o erro lançado será do tipo `ZeroDivisionError`, já que ele é gerado pelo Python ao realizar uma divisão por zero. Logo, ao capturar a exceção do tipo `ZeroDivisionError`, lançamos uma nova exceção com o próposito de complementar as informações sobre a divisão por zero. O encadeamento ocorre através da palavra reservada `from`. Isto indica que a exceção após o `from` preencheram o campo de `__cause__` da nova exceção lançada, sendo assim, a causa por lançar a nova exceção. "
   ]
  },
  {
   "cell_type": "code",
   "execution_count": null,
   "metadata": {},
   "outputs": [],
   "source": [
    "def div5(valor):\n",
    "    return 5/valor\n",
    "\n",
    "y = 0\n",
    "\n",
    "try:\n",
    "    resultado = div5(y)\n",
    "except ZeroDivisionError as exp:\n",
    "    raise ErroFuncDivZero(\"Erro de divisão por zero causado pela função div5.\") from exp"
   ]
  },
  {
   "cell_type": "markdown",
   "metadata": {},
   "source": [
    "# Referências\n",
    "HUNT, John. **A beginners guide to Python 3 programming**. Springer Nature Switzerland AG 2019. 2019."
   ]
  },
  {
   "cell_type": "code",
   "execution_count": null,
   "metadata": {},
   "outputs": [],
   "source": []
  }
 ],
 "metadata": {
  "kernelspec": {
   "display_name": "Python 3",
   "language": "python",
   "name": "python3"
  },
  "language_info": {
   "codemirror_mode": {
    "name": "ipython",
    "version": 3
   },
   "file_extension": ".py",
   "mimetype": "text/x-python",
   "name": "python",
   "nbconvert_exporter": "python",
   "pygments_lexer": "ipython3",
   "version": "3.7.7"
  }
 },
 "nbformat": 4,
 "nbformat_minor": 4
}
