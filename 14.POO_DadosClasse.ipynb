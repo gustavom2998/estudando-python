{
 "cells": [
  {
   "cell_type": "markdown",
   "metadata": {},
   "source": [
    "# Programação Orientada a Objetos - Dados das classes (estatícos)\n",
    "A orientação a objetos é um paradigma de programação conhecido por seus quatro pilares principais: Encapsulamento; Abstração; Herença e Polimorfismo. O propósito deste paradigma é solucionar os problemas tradicionais da programação procedural, onde muitas vezes há pouco aproveitamento de código e fraca associação entre dados e às funções reponsáveis por manipular estes dados. Neste estudo, buscamos revisar os conceitos fundamentais da orientação a objetos e identificar como eles são implementados na linguagem Python."
   ]
  },
  {
   "cell_type": "markdown",
   "metadata": {},
   "source": [
    "## Dados da classe\n",
    "Quando nos referimos a métodos e atributos que não são específicos de objetos, chamamos eles da classe, ou tradicionalmente, nas outras linguagens, de atributos e métodos estatícos. Em Python, há uma diferença entre métodos da classe e estatícos, então, diferenciamos os dois.\n",
    "\n",
    "### Atributos da classe\n",
    "São atributos que são declarados no escopo da classe, mas fora de qualquer método. Os valores armazenados neste atributos podem ser acessados e modificados por todos objetos das classes, e atualizar o valor em um objeto, atualiza o campo para todos os outros. Um exemplo disto é para criar um atributo para contabilizar a quantidade de instâncias já criadas. Para acessar o campo, ao invés de utilizar o `self.` dentro da classe, utiliza-se o nome da classe seguido por um ponto e o nome do atributo da classe. "
   ]
  },
  {
   "cell_type": "code",
   "execution_count": 6,
   "metadata": {},
   "outputs": [
    {
     "name": "stdout",
     "output_type": "stream",
     "text": [
      "2\n",
      "2\n"
     ]
    }
   ],
   "source": [
    "class Caneta:\n",
    "    quantidade_canetas = 0\n",
    "    \n",
    "    def __init__(self,fabricante, cor, tem_botao):\n",
    "        self.fabricante = fabricante\n",
    "        self.cor = cor\n",
    "        self.tem_botao = tem_botao\n",
    "        Caneta.quantidade_canetas += 1\n",
    "        \n",
    "    def nCanetas(self):\n",
    "        print(Caneta.quantidade_canetas)\n",
    "        \n",
    "a = Caneta(\"Caneta Inc.\",\"Azul\",True)\n",
    "b = Caneta(\"Caneta Inc.\",\"Vermelha\",True)\n",
    "\n",
    "a.nCanetas()\n",
    "print(b.quantidade_canetas)"
   ]
  },
  {
   "cell_type": "markdown",
   "metadata": {},
   "source": [
    "## Métodos da classe\n",
    "Métodos específicos da classe devem atuar com base em informações da classe, logo, afetando todas as instâncias da classe. A definição de um método específico da classe é simples, sendo necessário incluir a palavra reservada `@classmethod` antes da definição da função. Métodos da classe devem receber a classe como paramêtro, denotado por `cls`, ao invés de receber a instância (`self`)."
   ]
  },
  {
   "cell_type": "code",
   "execution_count": 1,
   "metadata": {},
   "outputs": [
    {
     "name": "stdout",
     "output_type": "stream",
     "text": [
      "2\n",
      "2\n"
     ]
    }
   ],
   "source": [
    "class Caneta:\n",
    "    quantidade_canetas = 0\n",
    "    \n",
    "    def __init__(self,fabricante, cor, tem_botao):\n",
    "        self.fabricante = fabricante\n",
    "        self.cor = cor\n",
    "        self.tem_botao = tem_botao\n",
    "        self.caneta_criada()\n",
    "    \n",
    "    @classmethod\n",
    "    def caneta_criada(cls):\n",
    "        cls.quantidade_canetas += 1\n",
    "    \n",
    "    @classmethod\n",
    "    def nCanetas(cls):\n",
    "        print(cls.quantidade_canetas)\n",
    "        \n",
    "a = Caneta(\"Caneta Inc.\",\"Azul\",True)\n",
    "b = Caneta(\"Caneta Inc.\",\"Vermelha\",True)\n",
    "\n",
    "a.nCanetas()\n",
    "print(b.quantidade_canetas)"
   ]
  },
  {
   "cell_type": "markdown",
   "metadata": {},
   "source": [
    "## Métodos estatícos\n",
    "Em Python, métodos estatícos são definidos dentro da classe, mas não são associados nem a classe nem a instância, logo, não recebem nenhum paramêtro do tipo `this` ou `cls`. A utilidade de um método estatíco é a mesma que uma função qualquer, entretanto, são definidos dentro da classe por fins de organização ou conveniência. Antes de definir uma função estatíca, é necessário utilizar a palavra reservada `@staticmethod`."
   ]
  },
  {
   "cell_type": "code",
   "execution_count": 3,
   "metadata": {},
   "outputs": [
    {
     "name": "stdout",
     "output_type": "stream",
     "text": [
      "Bom dia!\n"
     ]
    }
   ],
   "source": [
    "class Caneta:\n",
    "    quantidade_canetas = 0\n",
    "    \n",
    "    def __init__(self,fabricante, cor, tem_botao):\n",
    "        self.fabricante = fabricante\n",
    "        self.cor = cor\n",
    "        self.tem_botao = tem_botao\n",
    "        self.caneta_criada()\n",
    "    \n",
    "    @classmethod\n",
    "    def caneta_criada(cls):\n",
    "        cls.quantidade_canetas += 1\n",
    "    \n",
    "    @staticmethod\n",
    "    def bom_dia():\n",
    "        print(\"Bom dia!\")\n",
    "        \n",
    "\n",
    "a = Caneta(\"Caneta Inc.\",\"Azul\",True)\n",
    "Caneta.bom_dia()"
   ]
  }
 ],
 "metadata": {
  "kernelspec": {
   "display_name": "Python 3",
   "language": "python",
   "name": "python3"
  },
  "language_info": {
   "codemirror_mode": {
    "name": "ipython",
    "version": 3
   },
   "file_extension": ".py",
   "mimetype": "text/x-python",
   "name": "python",
   "nbconvert_exporter": "python",
   "pygments_lexer": "ipython3",
   "version": "3.7.7"
  }
 },
 "nbformat": 4,
 "nbformat_minor": 4
}
