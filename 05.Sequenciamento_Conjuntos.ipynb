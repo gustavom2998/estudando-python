{
 "cells": [
  {
   "cell_type": "markdown",
   "metadata": {},
   "source": [
    "# Sequenciamento - Conjuntos\n",
    "Neste notebook estudamos algumas estruturas de dados da linguagem Python utilizadas para **sequenciamento**. Segundo a documentação, estruturas de **sequenciamento** compartilham certas propriedades como indexação, fatiamento, concatenação e muito mais. \n",
    "> Observação: Para ler mais sobre as estruturas de sequenciamento, recomendo a leitura da documentação sobre estes tipos de dados na documentação do Python 3 ([link](https://docs.python.org/3/library/stdtypes.html#typesseq)).\n",
    "\n",
    "Nos estudos, buscamos entender como utilizar estas estruturas e suas principais diferenças."
   ]
  },
  {
   "cell_type": "markdown",
   "metadata": {},
   "source": [
    "## Conjuntos\n",
    "Um **conjunto** (**set** em inglês) é uma estrutura do tipo coleção que pode conter diferentes elementos de diferentes tipos de dados (desde que sejam imutáveis), parecido com tuplas e listas. As duas principais diferenças é que os elementos de um conjunto não são ordenados e não podem ter valores repetidos. Além disso, não se pode alterar um elemento existente em conjunto de forma direta. Para isso, é necessário remover o elemento e inserir um novo elemento com o valor atualizado.\n",
    "> Observação: Segue um [link](https://docs.python.org/3/library/stdtypes.html?highlight=set#set) da documentação referente a conjuntos.\n",
    "\n",
    "### Definição de conjuntos\n",
    "Podemos construir um conjunto com o operador de chaves `{}`, inserindo entre as chaves os elementos separados por vírgulas."
   ]
  },
  {
   "cell_type": "code",
   "execution_count": 2,
   "metadata": {},
   "outputs": [
    {
     "name": "stdout",
     "output_type": "stream",
     "text": [
      "{'B', 'D', 'A', 'C'}\n"
     ]
    },
    {
     "data": {
      "text/plain": [
       "set"
      ]
     },
     "execution_count": 2,
     "metadata": {},
     "output_type": "execute_result"
    }
   ],
   "source": [
    "conjA = {\"A\",\"B\",\"C\",\"D\",\"A\"}\n",
    "print(conjA)\n",
    "type(conjA)"
   ]
  },
  {
   "cell_type": "markdown",
   "metadata": {},
   "source": [
    "Também podemos utilizar o método construtor `set()` para realizar **casting** forçando uma lista a ser transformada em um conjunto. "
   ]
  },
  {
   "cell_type": "code",
   "execution_count": 3,
   "metadata": {},
   "outputs": [
    {
     "name": "stdout",
     "output_type": "stream",
     "text": [
      "{'E', 'F'}\n"
     ]
    },
    {
     "data": {
      "text/plain": [
       "set"
      ]
     },
     "execution_count": 3,
     "metadata": {},
     "output_type": "execute_result"
    }
   ],
   "source": [
    "listA = [\"E\",\"F\"]\n",
    "conjB = set(listA)\n",
    "print(conjB)\n",
    "type(conjB)"
   ]
  },
  {
   "cell_type": "markdown",
   "metadata": {},
   "source": [
    "### Operações e Métodos\n",
    "\n",
    "#### Inserção\n",
    "É possível realizar a inserção em conjunto através do método `add()`. Este método recebe um argumento que é o elemento a ser inserido.\n"
   ]
  },
  {
   "cell_type": "code",
   "execution_count": 4,
   "metadata": {},
   "outputs": [
    {
     "name": "stdout",
     "output_type": "stream",
     "text": [
      "{'E', 'F', 'G'}\n"
     ]
    }
   ],
   "source": [
    "conjB.add(\"G\")\n",
    "print(conjB)"
   ]
  },
  {
   "cell_type": "markdown",
   "metadata": {},
   "source": [
    "O método `update()` pode ser utilizado para inserir mais de um elemento de uma vez só em um conjunto. Ele pode receber uma quantidade indefinida de elementos separados por vírgulas, ou outros tipos iteráveis como listas e tuplas. "
   ]
  },
  {
   "cell_type": "code",
   "execution_count": 5,
   "metadata": {},
   "outputs": [
    {
     "name": "stdout",
     "output_type": "stream",
     "text": [
      "{'E', 'C', 'B', 'A', 'G', 'F'}\n"
     ]
    }
   ],
   "source": [
    "conjB.update(\"A\",\"B\",\"C\")\n",
    "print(conjB)"
   ]
  },
  {
   "cell_type": "markdown",
   "metadata": {},
   "source": [
    "Note que é impossível inserir elementos mutáveis em conjuntos (como listas e conjuntos). Veja um exemplo abaixo:"
   ]
  },
  {
   "cell_type": "code",
   "execution_count": 6,
   "metadata": {},
   "outputs": [
    {
     "ename": "TypeError",
     "evalue": "unhashable type: 'list'",
     "output_type": "error",
     "traceback": [
      "\u001b[1;31m---------------------------------------------------------------------------\u001b[0m",
      "\u001b[1;31mTypeError\u001b[0m                                 Traceback (most recent call last)",
      "\u001b[1;32m<ipython-input-6-7d3e3416e32f>\u001b[0m in \u001b[0;36m<module>\u001b[1;34m\u001b[0m\n\u001b[1;32m----> 1\u001b[1;33m \u001b[0maux\u001b[0m \u001b[1;33m=\u001b[0m \u001b[1;33m{\u001b[0m\u001b[1;33m[\u001b[0m\u001b[1;36m1\u001b[0m\u001b[1;33m,\u001b[0m\u001b[1;36m2\u001b[0m\u001b[1;33m]\u001b[0m\u001b[1;33m}\u001b[0m\u001b[1;33m\u001b[0m\u001b[1;33m\u001b[0m\u001b[0m\n\u001b[0m",
      "\u001b[1;31mTypeError\u001b[0m: unhashable type: 'list'"
     ]
    }
   ],
   "source": [
    "aux = {[1,2]}"
   ]
  },
  {
   "cell_type": "markdown",
   "metadata": {},
   "source": [
    "Caso se deseje inserir um conjunto dentro de outro conjunto, você pode criar um **frozenset**. Este tipo de conjunto é um conjunto imútavel, e portanto, pode ser um elemento de um conjunto. Podemos transformar uma lista em um frozenset para poder manter ela dentro de um conjunto."
   ]
  },
  {
   "cell_type": "code",
   "execution_count": 7,
   "metadata": {},
   "outputs": [
    {
     "name": "stdout",
     "output_type": "stream",
     "text": [
      "{frozenset({1, 2})}\n"
     ]
    }
   ],
   "source": [
    "aux = { frozenset([1,2])}\n",
    "print(aux)"
   ]
  },
  {
   "cell_type": "markdown",
   "metadata": {},
   "source": [
    "#### Remoção\n",
    "Para realizar a remoção podemos utilizar o método `remove()`. Este método recebe um único argumento que é o elemento a ser removido. Caso o elemento não exista, um erro ocorre. "
   ]
  },
  {
   "cell_type": "code",
   "execution_count": 8,
   "metadata": {},
   "outputs": [
    {
     "name": "stdout",
     "output_type": "stream",
     "text": [
      "{'E', 'C', 'B', 'A', 'F'}\n"
     ]
    }
   ],
   "source": [
    "conjB.remove(\"G\")\n",
    "print(conjB)"
   ]
  },
  {
   "cell_type": "markdown",
   "metadata": {},
   "source": [
    "Para evitar a ocorrência de erros caso o elemento não exista na lista, é possível utilizar o método `discard()`. "
   ]
  },
  {
   "cell_type": "code",
   "execution_count": 9,
   "metadata": {},
   "outputs": [
    {
     "name": "stdout",
     "output_type": "stream",
     "text": [
      "{'E', 'C', 'B', 'A', 'F'}\n"
     ]
    }
   ],
   "source": [
    "conjB.discard(\"Z\")\n",
    "print(conjB)"
   ]
  },
  {
   "cell_type": "markdown",
   "metadata": {},
   "source": [
    "O método `pop()` também funciona para conjuntos, mas não recomenmendamos seu uso. Ele geralmente é utilizado para remover o ultimo elemento do iterável, mas como conjuntos não são ordenados, não há como sabermos qual elemento ele irá remover. \n",
    "\n",
    "O método `clear()` server para remover todos elementos de um conjunto. Devemos tomar cuidado com atribuições pois elas funcionam como tuplas. Ao atribuir um conjunto a outro conjunto, ao modificar o novo conjunto (que na realidade é uma referência ao original) se modifica o conjunto original. Para evitar isto, ao tentar fazer esta atribuição, usamos o construtor `set()` para indicar a criação de um novo conjunto a partir do antigo. Outra forma de fazer isto é utilizando o me´todo `copy()` que retorna uma cópia de um conjunto."
   ]
  },
  {
   "cell_type": "code",
   "execution_count": 10,
   "metadata": {},
   "outputs": [
    {
     "name": "stdout",
     "output_type": "stream",
     "text": [
      "set() {'E', 'C', 'B', 'A', 'F'}\n"
     ]
    }
   ],
   "source": [
    "conjC = conjB.copy()\n",
    "conjC.clear()\n",
    "print(conjC, conjB)"
   ]
  },
  {
   "cell_type": "markdown",
   "metadata": {},
   "source": [
    "#### Verificação de existência\n",
    "Um operador que pode ser utilizado é o `in`. Antes do operador deve ser informado um elemento, e depois do operador deve ser informado o conjunto. O operador verifica se o elemento pertence ou não ao conjunto retornando um resultado `True` ou `False`."
   ]
  },
  {
   "cell_type": "code",
   "execution_count": 11,
   "metadata": {},
   "outputs": [
    {
     "name": "stdout",
     "output_type": "stream",
     "text": [
      "True\n",
      "False\n"
     ]
    }
   ],
   "source": [
    "print(\"A\" in conjB)\n",
    "print(\"Z\" in conjB)"
   ]
  },
  {
   "cell_type": "markdown",
   "metadata": {},
   "source": [
    "O numero de elementos no conjunto pode ser verificado com a função `len()` passando um conjunto como argumento."
   ]
  },
  {
   "cell_type": "code",
   "execution_count": 12,
   "metadata": {},
   "outputs": [
    {
     "name": "stdout",
     "output_type": "stream",
     "text": [
      "5\n"
     ]
    }
   ],
   "source": [
    "print(len(conjB))"
   ]
  },
  {
   "cell_type": "markdown",
   "metadata": {},
   "source": [
    "#### Intersecção\n",
    "É possível utilizar o operador **AND**, dado pelo simbolo `&`, para gerar um novo conjunto que contém a intersecção entre conjuntos. A intersecção é um conjunto que contém os elementos que são compartilhados pelos dois conjuntos. "
   ]
  },
  {
   "cell_type": "code",
   "execution_count": 13,
   "metadata": {},
   "outputs": [
    {
     "name": "stdout",
     "output_type": "stream",
     "text": [
      "{'B', 'A', 'C'}\n"
     ]
    }
   ],
   "source": [
    "print(conjA & conjB)"
   ]
  },
  {
   "cell_type": "markdown",
   "metadata": {},
   "source": [
    "O método `intersection()` pode ser utilizado para retornar o mesmo resultado. Outro método mais interessante é o `intersection_update()` que ao invés de reotrnar um novo conjunto, atualiza o conjunto original."
   ]
  },
  {
   "cell_type": "code",
   "execution_count": 14,
   "metadata": {},
   "outputs": [
    {
     "name": "stdout",
     "output_type": "stream",
     "text": [
      "{'B', 'A', 'C'}\n"
     ]
    }
   ],
   "source": [
    "conjD = conjA.copy()\n",
    "conjD.intersection_update(conjB)\n",
    "print(conjD)"
   ]
  },
  {
   "cell_type": "markdown",
   "metadata": {},
   "source": [
    "#### União\n",
    "Outra operação que temos é a união entre conjuntos. O operador **OU**, representado pelo simbolo `|`, pode ser utilizado para gerar um novo conjunto que contém todos elementos que o primeiro, ou segundo, ou ambos conjuntos contém. A união também pode ser representada pelo método `union()`."
   ]
  },
  {
   "cell_type": "code",
   "execution_count": 15,
   "metadata": {},
   "outputs": [
    {
     "name": "stdout",
     "output_type": "stream",
     "text": [
      "{'E', 'D', 'C', 'F', 'B', 'A'}\n",
      "{'E', 'D', 'C', 'B', 'A', 'F'}\n"
     ]
    }
   ],
   "source": [
    "print(conjA | conjB)\n",
    "print(conjB.union(conjA))"
   ]
  },
  {
   "cell_type": "markdown",
   "metadata": {},
   "source": [
    "O método update pode ser utilizado para atualizar o conjunto com a união com outro conjunto, ao invés de retorna o novo conjunto como vimos na inserção."
   ]
  },
  {
   "cell_type": "markdown",
   "metadata": {},
   "source": [
    "#### Diferença\n",
    "A diferença entre conjuntos é representada pelo oeprador de subtração `-`. O resultado desta operação entre dois conjuntos é um novo conjunto que contém os elementos do primeiro conjunto que não estão no segundo. Isto pode ser feito pelo método `difference()` também."
   ]
  },
  {
   "cell_type": "code",
   "execution_count": 16,
   "metadata": {},
   "outputs": [
    {
     "name": "stdout",
     "output_type": "stream",
     "text": [
      "{'E', 'F'}\n",
      "{'D'}\n"
     ]
    }
   ],
   "source": [
    "print(conjB - conjA)\n",
    "print(conjA.difference(conjB))"
   ]
  },
  {
   "cell_type": "markdown",
   "metadata": {},
   "source": [
    "O método `difference_update()` pode ser utilizado para atualizar o conjunto original com a diferença.\n",
    "\n",
    "A união simétrica é a união entre as duas diferenças de um conjunto. O conjunto gerado contém todos os elementos que não são compartilhados entre os dois conjuntos (tanto do primeiro quanto do segundo)."
   ]
  },
  {
   "cell_type": "code",
   "execution_count": 17,
   "metadata": {},
   "outputs": [
    {
     "name": "stdout",
     "output_type": "stream",
     "text": [
      "{'E', 'D', 'F'}\n"
     ]
    }
   ],
   "source": [
    "print(conjA ^ conjB)"
   ]
  },
  {
   "cell_type": "markdown",
   "metadata": {},
   "source": [
    "Outra forma de realizar esta operação é através do método `symmetric_difference()`. Como vimos nos outros exemplos, também há um método `symmetric_difference_update()` para atualizar o conjunto original.\n",
    "> Curiosidade: Segundo a documentação, a diferença entre os operadores, no caso:`|`; `&`; `-` e `^`, e os métodos é que operadores permitem apenas operações entre conjuntos, enquanto os métodos permitem operações entre qualquer iterável (transformando eles em conjuntos e depois realizando a operação).  "
   ]
  },
  {
   "cell_type": "markdown",
   "metadata": {},
   "source": [
    "#### Tipos de conjuntos\n",
    "Um **superconjunto** é um conjunto que contém todos os elementos de outro conjunto, podendo também conter outros itens. É possível verificar sem um conjunto é superconjunto de outro conjunto com o método `issuperset()`. O resultado é retornado de forma booleana."
   ]
  },
  {
   "cell_type": "code",
   "execution_count": 26,
   "metadata": {},
   "outputs": [
    {
     "data": {
      "text/plain": [
       "True"
      ]
     },
     "execution_count": 26,
     "metadata": {},
     "output_type": "execute_result"
    }
   ],
   "source": [
    "# Todos elementos presentes no argumento ({'A'}) estão presentes no conjunto ({'B', 'D', 'A', 'C'}?\n",
    "conjTest = {\"A\"}\n",
    "conjA.issuperset(conjTest)"
   ]
  },
  {
   "cell_type": "markdown",
   "metadata": {},
   "source": [
    "Também podemos verificar se um conjunto é **subconjunto** de outro conjunto. Isto significa que todos seus itens pertecem ao conjunto passado como argumento. O conjunto passado como argumento pode conter mais elementos, além dos que estão no conjunto original. Utilizamos o método `issubset()` para isso."
   ]
  },
  {
   "cell_type": "code",
   "execution_count": 27,
   "metadata": {},
   "outputs": [
    {
     "data": {
      "text/plain": [
       "True"
      ]
     },
     "execution_count": 27,
     "metadata": {},
     "output_type": "execute_result"
    }
   ],
   "source": [
    "# Todos no presentes no conjunto ({'A'}) estão presentes no argumento({'B', 'D', 'A', 'C'})?\n",
    "conjTest.issubset(conjA)"
   ]
  },
  {
   "cell_type": "markdown",
   "metadata": {},
   "source": [
    "Por ultimo podemos verificar se dois conjuntos são **disjuntos**. Dois conjuntos são disjuntos quando eles não compartilham nenhum elemento em comum. Para isso utilizamos o método `isdisjoint()`"
   ]
  },
  {
   "cell_type": "code",
   "execution_count": 28,
   "metadata": {},
   "outputs": [
    {
     "data": {
      "text/plain": [
       "False"
      ]
     },
     "execution_count": 28,
     "metadata": {},
     "output_type": "execute_result"
    }
   ],
   "source": [
    "conjTest.isdisjoint(conjA)"
   ]
  }
 ],
 "metadata": {
  "kernelspec": {
   "display_name": "Python 3",
   "language": "python",
   "name": "python3"
  },
  "language_info": {
   "codemirror_mode": {
    "name": "ipython",
    "version": 3
   },
   "file_extension": ".py",
   "mimetype": "text/x-python",
   "name": "python",
   "nbconvert_exporter": "python",
   "pygments_lexer": "ipython3",
   "version": "3.7.7"
  }
 },
 "nbformat": 4,
 "nbformat_minor": 4
}
