{
 "cells": [
  {
   "cell_type": "markdown",
   "metadata": {},
   "source": [
    "# Pandas: Dados Ausentes\n",
    "Dados do mundo real raramente são completos e limpos. Por isso, é interessante saber como lidar com representações diferentes de dados ausentes e realizar a limpeza dos dados. As diferentes formas encontradas podem ser `null`, `NaN` ou `NA`. \n",
    "\n",
    "Para identificar valores ausentes, há duas formas tradicionalmente tomadas. Uma mascara global é utilizada para indicar valores ausentes, ou um valor sentila que indica valores ausentes. \n",
    "\n",
    "Para a mascara global, pode se utilizar um array booleano separado ou um único bit para indiicar a validade ou não de um valor. \n",
    "\n",
    "Já na utilização de um valor sentinela, toma-se uma convenção específica para os dados como por exemplo indicar um inteiro ausente com -9999 ou algum outro valor raro de acontecer, ou até mesmo para Floats a indicação de NaN, valor que faz parte da representação de floats da IEEE.\n",
    "\n",
    "O Pandas utiliza a forma de sentinela para indicar valores ausentes, utilizando o valor `NaN` para alguns tipos de dados e o objeto `None` do Python para outros. "
   ]
  },
  {
   "cell_type": "markdown",
   "metadata": {},
   "source": [
    "# None: Objetos Ausentes\n",
    "O Objeto `None` é uma estrutura do Python, logo, não é associado para valores do NumPy/Pandas, mas pode ser utilizado para arrays de objetos do Python. É possível definir arrays do NumPy de Objetos, entretanto, todas as operações são feitos em nível do Python, logo, o desempenho é fraco. Além disso, operações de agregação como `sum()` e `min()` com um valor `None` geram um erro."
   ]
  },
  {
   "cell_type": "code",
   "execution_count": 2,
   "metadata": {},
   "outputs": [
    {
     "data": {
      "text/plain": [
       "array([1, None, 3, 4], dtype=object)"
      ]
     },
     "execution_count": 2,
     "metadata": {},
     "output_type": "execute_result"
    }
   ],
   "source": [
    "import numpy as np\n",
    "\n",
    "vals1 = np.array([1,None,3,4])\n",
    "vals1"
   ]
  },
  {
   "cell_type": "markdown",
   "metadata": {},
   "source": [
    "# NaN: Valores Numéricos Ausentes"
   ]
  },
  {
   "cell_type": "code",
   "execution_count": null,
   "metadata": {},
   "outputs": [],
   "source": []
  }
 ],
 "metadata": {
  "kernelspec": {
   "display_name": "Python 3",
   "language": "python",
   "name": "python3"
  },
  "language_info": {
   "codemirror_mode": {
    "name": "ipython",
    "version": 3
   },
   "file_extension": ".py",
   "mimetype": "text/x-python",
   "name": "python",
   "nbconvert_exporter": "python",
   "pygments_lexer": "ipython3",
   "version": "3.7.7"
  }
 },
 "nbformat": 4,
 "nbformat_minor": 4
}
