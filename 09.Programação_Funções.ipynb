{
 "cells": [
  {
   "cell_type": "markdown",
   "metadata": {},
   "source": [
    "# Fundamentos de Programação - Funções\n",
    "Neste notebook introduzimos mecânismos fundamentais para realizar tarefas de programação. Iniciamos vendo mecânismos de ramificação de lógica para realizar determinadas tarefas de acordo com a ocorrência de certas condições. Em seguida, vemos como o mecânismo de iteração é implementado para realizar uma sequência de tarefas até atingir certo objetivo. Então introduzimos como utilizar os mecânismo do paradigma funcional para minimizar e re-aproveitar código. Por ultimo, introduzimos os mecânismos implementados para utilizar o paradigma Orientado a Objetos."
   ]
  },
  {
   "cell_type": "markdown",
   "metadata": {},
   "source": [
    "## Funções\n",
    "A definição mais básica de uma função é como sendo um processo que recebe algo de entrada e produz uma saída. Uma função é útil pois pode ser reutilizada, sem necessariamente entender como a função faz algo, apenas que ela faz. Além disso, uma função permite evitar repetição de código para tarefas repetitivas, onde apenas as entradas mudam, mas o processo é o mesmo. \n",
    "\n",
    "Há dois principais tipos de funções, as que já são da linguagem Python, e aquelas definidas pelo usuário. O foco ao estudar funções é naquelas definidas pelo usuário. \n",
    "\n",
    "Um exemplo de uma função do Python é a `len()` que recebe uma sequência como entrada, e retorna a quantidade de itens na sequência. Métodos são similares a funções, entretanto, geralmente se diferenciam os dois através da ausência de retorno em um método. \n",
    "\n",
    "Uma vez definida uma função, ela pode ser chamada em qualquer parte posterior do código. Logo, ao chamar uma função, a execução do programa \"salta\" para o código da função, realiza as operações da função retornando para a linha que chamou a função após finalizar as operações. \n",
    "\n",
    "Para diferenciar uma função de uma váriavel normal, o uso de parentêsis sempre ocorre após o nome da função, mesmo que não há paramêtros para a função. "
   ]
  },
  {
   "cell_type": "markdown",
   "metadata": {},
   "source": [
    "## Definição de funções\n",
    "Para definir uma função, a palavra reservada `def` indica o inicio da declaração de uma função. Tradicionalmente, a sua estrutura é da seguinte forma:\n",
    "```\n",
    "def <nome_função>(<paramêtros da função>):\n",
    "    <bloco_código>\n",
    "```\n",
    "\n",
    "Quando uma função é chamada pelo seu nome, os paramêtros, que são uma quantidade fixa de váriaveis utilizadas no código pelo nome de cada váriavel, e o bloco de código é executado utilizando o nome dos paramêtros. Abaixo, temos um exemplo que sempre multiplica o valor por 5. "
   ]
  },
  {
   "cell_type": "code",
   "execution_count": 2,
   "metadata": {},
   "outputs": [
    {
     "name": "stdout",
     "output_type": "stream",
     "text": [
      "25\n",
      "50\n"
     ]
    }
   ],
   "source": [
    "def mul5(valor):\n",
    "    aux = valor * 5\n",
    "    return  aux\n",
    "\n",
    "m5 = mul5(5)\n",
    "m10 = mul5(10)\n",
    "\n",
    "print(m5)\n",
    "print(m10)"
   ]
  },
  {
   "cell_type": "markdown",
   "metadata": {},
   "source": [
    "## Retorno de uma função\n",
    "Uma função sempre retorna algo. O que é retornado fica a critério do usuário. Caso o usuário não utilize a palavra reservada `return`, então um objeto chamado `None` é retornado. "
   ]
  },
  {
   "cell_type": "code",
   "execution_count": 6,
   "metadata": {},
   "outputs": [
    {
     "name": "stdout",
     "output_type": "stream",
     "text": [
      "Gustavo.\n",
      "None\n"
     ]
    }
   ],
   "source": [
    "def print_nome():\n",
    "    print(\"Gustavo.\")\n",
    "    \n",
    "print(print_nome())"
   ]
  },
  {
   "cell_type": "markdown",
   "metadata": {},
   "source": [
    "Uma função não necessariamente tem que retornar só uma váriavel. É possível retornar multiplas variáveis através de uma tupla, desde que a atribuição do retorno da função seja para a mesma quantidade de váriaveis. Caso contrário, o resultado é retornado como tupla. "
   ]
  },
  {
   "cell_type": "code",
   "execution_count": 12,
   "metadata": {},
   "outputs": [
    {
     "name": "stdout",
     "output_type": "stream",
     "text": [
      "3   5\n"
     ]
    }
   ],
   "source": [
    "def troca(x,y):\n",
    "    return y,x\n",
    "\n",
    "x = 5\n",
    "y = 3\n",
    "x,y = troca(x,y)\n",
    "\n",
    "print(x, \" \", y)"
   ]
  },
  {
   "cell_type": "markdown",
   "metadata": {},
   "source": [
    "## Documentação de funções\n",
    "Para a documentação de uma função, seis aspas duplas podem ser definidas no início de uma função para representar uma \"docstring\", ou seja, string de documentação. A informação de documentação deve ser inserida após as três primeiras aspas. O objetivo de uma documentação é auxiliar o usuário a entender o que uma função faz. A documentação de uma função pode ser consultada, caso ela exista, através da função `help(<nome_função>)`."
   ]
  },
  {
   "cell_type": "code",
   "execution_count": 8,
   "metadata": {},
   "outputs": [
    {
     "name": "stdout",
     "output_type": "stream",
     "text": [
      "Help on function retorna_negativo in module __main__:\n",
      "\n",
      "retorna_negativo(valor)\n",
      "    O propósito desta função é retornar o valor negativo de um numero passado como paramêtro\n",
      "\n"
     ]
    }
   ],
   "source": [
    "def retorna_negativo(valor):\n",
    "    \"\"\" \n",
    "    O propósito desta função é retornar o valor negativo de um numero passado como paramêtro\n",
    "    \"\"\"\n",
    "    return (valor * -1)\n",
    "\n",
    "help(retorna_negativo)"
   ]
  },
  {
   "cell_type": "markdown",
   "metadata": {},
   "source": [
    "## Paramêtros de uma função\n",
    "Uma função pode possuir nenhum, um ou vários paramêtros que são utilizados durante o código. A quantidade de paramêtros necessárias para utilizar uma função é definido ao declarar a função. Um argumento nada mais é que um valor passado como paramêtro. "
   ]
  },
  {
   "cell_type": "markdown",
   "metadata": {},
   "source": [
    "Para definir mais de um paramêtro, basta ir nomeando os mesmos separados por vírgulas. "
   ]
  },
  {
   "cell_type": "code",
   "execution_count": 15,
   "metadata": {},
   "outputs": [
    {
     "name": "stdout",
     "output_type": "stream",
     "text": [
      "Jab uti caba\n"
     ]
    }
   ],
   "source": [
    "def test_p(a, b, c):\n",
    "    print(a,b,c)\n",
    "    \n",
    "test_p(\"Jab\",\"uti\",\"caba\")"
   ]
  },
  {
   "cell_type": "markdown",
   "metadata": {},
   "source": [
    "### Paramêtros padrões\n",
    "Um paramêtro default, ou padrão em português, é um paramêtro que possuí valor padrão caso ele não seja passado com argumento na chamada da função. Logo, se o paramêtro não for informado, o valor default é utilizado para preencher o mesmo. Para definir um valor padrão, basta definir ele após o nome do paramêtro com um sinal de igualdade na definição da função. Quando um paramêtro não possuí valor default, ele é obrigatório, caso contrário, ele é opcional. "
   ]
  },
  {
   "cell_type": "code",
   "execution_count": 17,
   "metadata": {},
   "outputs": [
    {
     "name": "stdout",
     "output_type": "stream",
     "text": [
      "Limão Abobora\n"
     ]
    }
   ],
   "source": [
    "def test(a,b = \"Abobora\"):\n",
    "    return a,b\n",
    "\n",
    "a = \"Limão\"\n",
    "a,b = test(a)\n",
    "\n",
    "print(a,b)"
   ]
  },
  {
   "cell_type": "markdown",
   "metadata": {},
   "source": [
    "É importante dizer que uma vez definido um paramêtro com valor padrão, todos os paramêtros a direita dele precisam ter valor padrão. Pode ser necessário reorganizar a ordem da definição dos paramêtros caso ela não esteja correta para atender esta necessidade."
   ]
  },
  {
   "cell_type": "code",
   "execution_count": 18,
   "metadata": {},
   "outputs": [
    {
     "data": {
      "text/plain": [
       "['b', 'c']"
      ]
     },
     "execution_count": 18,
     "metadata": {},
     "output_type": "execute_result"
    }
   ],
   "source": [
    "B = ['a','b','c']\n",
    "B[1:]"
   ]
  },
  {
   "cell_type": "markdown",
   "metadata": {},
   "source": [
    "## Funções sem retorno\n",
    "Para definir uma função, não é necessário definir um retorno de valor. Nestes casos, o Python automaticamente insere o retorno de um objeto chamado `None`. A linguagem de Python geralmente trata objetos deste tipo com um comportamente excepcional. "
   ]
  },
  {
   "cell_type": "markdown",
   "metadata": {},
   "source": [
    "## Funções sem código\n",
    "A palavra reservada `pass` possui a utilidade de permitir definir uma função cujo bloco de código é vazio, e não realiza nada. "
   ]
  },
  {
   "cell_type": "code",
   "execution_count": 7,
   "metadata": {},
   "outputs": [
    {
     "name": "stdout",
     "output_type": "stream",
     "text": [
      "None\n"
     ]
    }
   ],
   "source": [
    "def faz_nada():\n",
    "    pass\n",
    "\n",
    "print(faz_nada())"
   ]
  },
  {
   "cell_type": "markdown",
   "metadata": {},
   "source": [
    "## Argumentos Nomeados\n",
    "Até então, ao passar os argumentos para um função, a ordem é utilizada para definir qual paramêtro cada argumento representa. Em funções com uma quantidade grande de paramêtros, isto não é viável. Justamente por isso, é possível definir a qual paramêtro um argumento deve ser passado,  através de um argumento nomeado. Para nomear um argumento, basta utilizar o nome do paramêtro seguido pelo sinal de atribuição, seguido pelo argumento."
   ]
  },
  {
   "cell_type": "code",
   "execution_count": 1,
   "metadata": {},
   "outputs": [
    {
     "name": "stdout",
     "output_type": "stream",
     "text": [
      "Jab uti caba\n"
     ]
    }
   ],
   "source": [
    "def test_p(a, b, c):\n",
    "    print(a,b,c)\n",
    "    \n",
    "test_p(c = \"caba\",a = \"Jab\", b = \"uti\")"
   ]
  },
  {
   "cell_type": "markdown",
   "metadata": {},
   "source": [
    "## Argumentos Arbitrários\n",
    "Argumentos arbitrários são utilizados quando não se sabe quantos argumentos serão passados pelo usuário da função. O operador `*` é utilizado antes de um paramêtro para definir que ele possui tamanho arbitrário. "
   ]
  },
  {
   "cell_type": "code",
   "execution_count": 2,
   "metadata": {},
   "outputs": [
    {
     "name": "stdout",
     "output_type": "stream",
     "text": [
      "159\n"
     ]
    }
   ],
   "source": [
    "def somaNumeros(*numeros):\n",
    "    aux = 0\n",
    "    for i in numeros:\n",
    "        aux += i\n",
    "    return aux\n",
    "\n",
    "print(somaNumeros(10,123,54,1,-43,4,10))"
   ]
  },
  {
   "cell_type": "markdown",
   "metadata": {},
   "source": [
    "## Argumentos Posicionais e de Palavras Chaves\n",
    "Algumas funções em Python são definidas de tal forma que uma quantidade váriavel de argumentos sem nome e argumentos com nomes (palavras chaves) pode ser fornecidos."
   ]
  },
  {
   "cell_type": "code",
   "execution_count": 35,
   "metadata": {},
   "outputs": [
    {
     "name": "stdout",
     "output_type": "stream",
     "text": [
      "Ola\n",
      "Mundo\n",
      ".\n",
      "Chave:  ini  Argumento:  Em execução.\n",
      "Chave:  final  Argumento:  Desligando.\n"
     ]
    }
   ],
   "source": [
    "def test(*seq, **seq_nome):\n",
    "    for i in  seq:\n",
    "        print(i)\n",
    "    for j in seq_nome:\n",
    "        print(\"Chave: \", j, \" Argumento: \", seq_nome[j])\n",
    "        \n",
    "test(\"Ola\",\"Mundo\",\".\",ini = \"Em execução.\", final=\"Desligando.\")"
   ]
  },
  {
   "cell_type": "code",
   "execution_count": 32,
   "metadata": {},
   "outputs": [
    {
     "name": "stdout",
     "output_type": "stream",
     "text": [
      "[-19, -18]\n"
     ]
    }
   ],
   "source": [
    "def seq_operacao(*numeros,**operacao):\n",
    "    \"\"\" \n",
    "    Aplica todas as somas e subtrações nomeadas para a cada numero da sequência de numeros não nomeadas.\n",
    "    A sequência de numeros não deve ser nomeada. \n",
    "    Cada valor a ser somado deve ser nomeado incialmente com soma.\n",
    "    Cada valor a ser subtraido deve ser nomeado inicialmente com sub.\n",
    "    O retorno é uma lista, contendo a sequência, com a aplicação de cada soma e subtração em cada posição.\n",
    "    \"\"\"\n",
    "    cont = 0\n",
    "    res = []\n",
    "    lista = []\n",
    "    \n",
    "    for i in operacao:\n",
    "        lista.append(str(i))\n",
    "\n",
    "    for i in numeros:\n",
    "        res.append(i)\n",
    "        for chave in operacao.keys():\n",
    "            if(str(chave)[0:4] == \"soma\"):\n",
    "                res[cont] += operacao[chave]\n",
    "            if(str(chave)[0:3] == \"sub\"):\n",
    "                res[cont] -= operacao[chave]\n",
    "        cont += 1\n",
    "    return res\n",
    "   \n",
    "    \n",
    "        \n",
    "print(operacao(1,2,soma1 = 3,soma2 = 2,sub1=10, sub2 = 15))"
   ]
  },
  {
   "cell_type": "markdown",
   "metadata": {},
   "source": [
    "## Funções Anônimas\n",
    "Funções anônimas, que também são conhecidas com funções lambda, são funções sem nome, com o objetivo de serem utilizadas uma única vez. Para definir uma função ânonima, é necessário utilizar a palavra reservada lambda, da seguinte forma:\n",
    "```\n",
    "lambda argumentos: expressão\n",
    "```\n",
    "Uma expressão lambda pode ter qualquer quantidade  de argumentos (inclusive nenhum), entretanto, somente uma expressão é permitida. "
   ]
  },
  {
   "cell_type": "code",
   "execution_count": 2,
   "metadata": {},
   "outputs": [
    {
     "name": "stdout",
     "output_type": "stream",
     "text": [
      "4\n",
      "16\n"
     ]
    }
   ],
   "source": [
    "quad = lambda x : x*x\n",
    "print(quad(2))\n",
    "print(quad(4))"
   ]
  },
  {
   "cell_type": "markdown",
   "metadata": {},
   "source": [
    "Geralmente, essa funções são utilizadas sem atribuir-las a uma váriavel, de modo que elas são utilizadas uma unica vez. Neste exemplo, passamos a função lambda como paramêtro para a função `map()`. O primeiro paramêtro da função map é um função, e o segundo, um tipo iteravel. O objetivo da função map é aplicar a função sobre cada elemento do iterável. Desta forma, podemos aplicar uma função sobre uma lista, sem definir a função."
   ]
  },
  {
   "cell_type": "code",
   "execution_count": 3,
   "metadata": {},
   "outputs": [
    {
     "data": {
      "text/plain": [
       "[1, 4, 9, 16, 25]"
      ]
     },
     "execution_count": 3,
     "metadata": {},
     "output_type": "execute_result"
    }
   ],
   "source": [
    "x = [1,2,3,4,5]\n",
    "list(map(lambda i : i*i,x))"
   ]
  }
 ],
 "metadata": {
  "kernelspec": {
   "display_name": "Python 3",
   "language": "python",
   "name": "python3"
  },
  "language_info": {
   "codemirror_mode": {
    "name": "ipython",
    "version": 3
   },
   "file_extension": ".py",
   "mimetype": "text/x-python",
   "name": "python",
   "nbconvert_exporter": "python",
   "pygments_lexer": "ipython3",
   "version": "3.7.7"
  }
 },
 "nbformat": 4,
 "nbformat_minor": 4
}
