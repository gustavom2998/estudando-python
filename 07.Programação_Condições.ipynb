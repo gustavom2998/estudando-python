{
 "cells": [
  {
   "cell_type": "markdown",
   "metadata": {},
   "source": [
    "# Fundamentos de Programação - Condições e Ramificação\n",
    "Neste notebook introduzimos mecânismos fundamentais para realizar tarefas de programação. Iniciamos vendo mecânismos de ramificação de lógica para realizar determinadas tarefas de acordo com a ocorrência de certas condições. Em seguida, vemos como o mecânismo de iteração é implementado para realizar uma sequência de tarefas até atingir certo objetivo. Então introduzimos como utilizar os mecânismo do paradigma funcional para minimizar e re-aproveitar código. Por ultimo, introduzimos os mecânismos implementados para utilizar o paradigma Orientado a Objetos."
   ]
  },
  {
   "cell_type": "markdown",
   "metadata": {},
   "source": [
    "## Expressões Condicionais\n",
    "São expressões que geram um valor booleano após verificar se uma condição é verdadeira ou falsa. Caso a condição for verdadeira, um bloco de código será executado, e caso contrário, o mesmo não será executado. Uma expressão condicional é composta por no mínimo um `if():`. Entre o parêntesis deve ocorrer uma expressão que gera um resultado booleano, conforme já visto. "
   ]
  },
  {
   "cell_type": "code",
   "execution_count": 2,
   "metadata": {},
   "outputs": [
    {
     "name": "stdout",
     "output_type": "stream",
     "text": [
      "É verdadeiro.\n"
     ]
    }
   ],
   "source": [
    "i = True;\n",
    "\n",
    "if(i):\n",
    "    print(\"É verdadeiro.\")"
   ]
  },
  {
   "cell_type": "markdown",
   "metadata": {},
   "source": [
    "O operador `:` deve ser seguido por uma nova linha, onde o bloco de código a ser executado condicionalmente deve ser identado. Aquele que não for identado, é executado de qualquer maneira."
   ]
  },
  {
   "cell_type": "code",
   "execution_count": 3,
   "metadata": {},
   "outputs": [
    {
     "name": "stdout",
     "output_type": "stream",
     "text": [
      "Tanto faz.\n"
     ]
    }
   ],
   "source": [
    "i = False;\n",
    "\n",
    "if(i):\n",
    "    print(\"É verdadeiro.\")\n",
    "\n",
    "print(\"Tanto faz.\")"
   ]
  },
  {
   "cell_type": "markdown",
   "metadata": {},
   "source": [
    "Pode ser interesssante verificar mais de uma condição, de tal forma que se as anteriores não forem satisfeitas, outras possam ser verificadas. Para realizar isto, uma expressão condicional pode ser seguida por zero ou mais `elif():`'s. As verificações ocorrem em uma sequência, até uma condição ser satisfeita e um bloco de código for executado. Note que se um bloco for executado, mesmo que uma condição posterior for satisfeita, o bloco de código não é executado."
   ]
  },
  {
   "cell_type": "code",
   "execution_count": 4,
   "metadata": {},
   "outputs": [
    {
     "name": "stdout",
     "output_type": "stream",
     "text": [
      "i é falso e j é verdadeiro.\n"
     ]
    }
   ],
   "source": [
    "i = False\n",
    "j = True\n",
    "k = True\n",
    "\n",
    "if(i):\n",
    "    print(\"i é verdadeiro.\")\n",
    "elif(j):\n",
    "    print(\"i é falso e j é verdadeiro.\")\n",
    "elif(k):\n",
    "    print(\"i e j são falsos, k é verdadeiro.\")"
   ]
  },
  {
   "cell_type": "markdown",
   "metadata": {},
   "source": [
    "Ainda pode ser necessário verificar se nenhuma condição foi satisfeita, como se fosse para ter um bloco de escape. Uma sequência condicional pode opcionalmente ser finalizada por um `else:`. Caso nenhuma condição anterior for satisfeita, o bloco de código do `else:` será executado. Note que não há condição entre parentêsis, pois esta não é a função do `else:`."
   ]
  },
  {
   "cell_type": "code",
   "execution_count": 5,
   "metadata": {},
   "outputs": [
    {
     "name": "stdout",
     "output_type": "stream",
     "text": [
      "i e j são falsos.\n"
     ]
    }
   ],
   "source": [
    "i = False\n",
    "j = False\n",
    "\n",
    "if(i):\n",
    "    print(\"i é verdadeiro.\")\n",
    "elif(j):\n",
    "    print(\"i é falso e j é verdadeiro.\")\n",
    "else:\n",
    "    print(\"i e j são falsos.\")\n",
    "    "
   ]
  },
  {
   "cell_type": "markdown",
   "metadata": {},
   "source": [
    "## Operadores de Comparação\n",
    "Não é interessante apenas verificar se valores booleanos específicos são verdadeiros. Para aumentar a utilidade do desvio condicional, há um conjunto de operadores que quando fornecido dois operandos, retornam um valor booleano que representa o resultado da comparação. \n",
    "\n",
    "- Igualdade: Verifica se dois operandos são iguais. Representado pelo operador `==`.\n",
    "- Desigualdade: Verifica se dois operandos são diferentes. Representado pelo operador `!=`.\n",
    "- Maior que: Verifica se o primeiro operando é maior que o segundo. Representado pelo operador `>`.\n",
    "- Menor que: Verifica se o primeiro operando é menor que o segundo. Representado pelo operador `<`.\n",
    "- Maior ou igual que: Verifica se o primeiro operando é maior ou igual ao segundo. Representado pelo operador `>=`.\n",
    "- Menor ou igual que: Verifica se o primeiro operando é menor ou igual ao segundo. Representado pelo operador `<=`."
   ]
  },
  {
   "cell_type": "markdown",
   "metadata": {},
   "source": [
    "### Exemplo - Igualdade\n",
    "Neste exemplo verificamos a igualdade de dois inteiros. Como os valores definidos não são iguais, o primeiro `if():` não será satisfeito, restando apenas o bloco de código do `else:` para ser executado."
   ]
  },
  {
   "cell_type": "code",
   "execution_count": 6,
   "metadata": {},
   "outputs": [
    {
     "name": "stdout",
     "output_type": "stream",
     "text": [
      "5  é diferente de  4\n"
     ]
    }
   ],
   "source": [
    "i = 5\n",
    "j = 4\n",
    "\n",
    "if(i == j):\n",
    "    print(i, \" é igual a \", j)\n",
    "else:\n",
    "    print(i, \" é diferente de \", j)"
   ]
  },
  {
   "cell_type": "markdown",
   "metadata": {},
   "source": [
    "### Exemplo - Desigualdade\n",
    "Neste exemplo verificamos a diferença entre duas strings. Como elas são iguais, a condição do primeiro `if():` não é satisfeito, restando apenas o bloco do `else:` para ser executado."
   ]
  },
  {
   "cell_type": "code",
   "execution_count": 7,
   "metadata": {},
   "outputs": [
    {
     "name": "stdout",
     "output_type": "stream",
     "text": [
      "abc  é igual a  abc\n"
     ]
    }
   ],
   "source": [
    "i = \"abc\"\n",
    "j = \"abc\"\n",
    "\n",
    "if(i != j):\n",
    "    print(i, \" é diferente de \", j)\n",
    "else:\n",
    "    print(i, \" é igual a \", j)"
   ]
  },
  {
   "cell_type": "markdown",
   "metadata": {},
   "source": [
    "## Operações Booleanas\n",
    "Até então, para verificar mais de uma condição para um mesmo bloco de código, seria necessário aninhar `if():`'s (colocar outro `if():` no bloco de código). Por exemplo, caso eu queira imprimir \"Sucesso\" só e `i` for maior que zero e `j` for menor que zero."
   ]
  },
  {
   "cell_type": "code",
   "execution_count": 8,
   "metadata": {},
   "outputs": [
    {
     "name": "stdout",
     "output_type": "stream",
     "text": [
      "Sucesso.\n"
     ]
    }
   ],
   "source": [
    "i = 2\n",
    "j = -1\n",
    "\n",
    "if(i > 0):\n",
    "    if(j < 0):\n",
    "        print(\"Sucesso.\")"
   ]
  },
  {
   "cell_type": "markdown",
   "metadata": {},
   "source": [
    "Uma operação booleana retorna um valor booleano para uma operação entre dois valores booleanos. Por exemplo, o problema anterior pode ser resolvido através da operação booleana `and`."
   ]
  },
  {
   "cell_type": "markdown",
   "metadata": {},
   "source": [
    "### AND Lógico\n",
    "Realiza a operação \"E\", em inglês, \"AND\", entre uma condição/valor booleano antes do `and` e depois do `and`, retornando um valor verdadeiro apenas se ambas condições forém satisfeitas."
   ]
  },
  {
   "cell_type": "code",
   "execution_count": 9,
   "metadata": {},
   "outputs": [
    {
     "name": "stdout",
     "output_type": "stream",
     "text": [
      "Sucesso.\n"
     ]
    }
   ],
   "source": [
    "i = 2\n",
    "j = -1\n",
    "\n",
    "if((i > 0) and (j < 0)):\n",
    "    print(\"Sucesso.\")"
   ]
  },
  {
   "cell_type": "markdown",
   "metadata": {},
   "source": [
    "### OR Lógico\n",
    "Realiza a operação \"OU\", em inglês, \"OR\", entre uma condição/valor booleano antes do `or` e depois do `or`, retornando um valor verdadeiro apenas se alguma das condições forém satisfeitas. Note que `j` não é menor que zero, e mesmo assim o código é executado. "
   ]
  },
  {
   "cell_type": "code",
   "execution_count": 10,
   "metadata": {},
   "outputs": [
    {
     "name": "stdout",
     "output_type": "stream",
     "text": [
      "Sucesso.\n"
     ]
    }
   ],
   "source": [
    "i = 2\n",
    "j = 2\n",
    "\n",
    "if((i > 0) or (j < 0)):\n",
    "    print(\"Sucesso.\")"
   ]
  },
  {
   "cell_type": "markdown",
   "metadata": {},
   "source": [
    "### NOT Lógico\n",
    "Realiza a operação \"NOT\", que é verdadeira apenas se a condição não for satisfeita."
   ]
  },
  {
   "cell_type": "code",
   "execution_count": 11,
   "metadata": {},
   "outputs": [
    {
     "name": "stdout",
     "output_type": "stream",
     "text": [
      "i não é 1.\n"
     ]
    }
   ],
   "source": [
    "i = 0\n",
    "\n",
    "if(not (i == 0)):\n",
    "    print(\"i não é 0.\")\n",
    "elif(not (i == 1)):\n",
    "    print(\"i não é 1.\")"
   ]
  },
  {
   "cell_type": "markdown",
   "metadata": {},
   "source": [
    "> Obs: Há uma diferença sobre quando utilizar as palavras reservadas(AND,OR,XOR,NOT) contra os operadores (&,|,^,~). Enquanto as palavras realizam a operação para a declaração, os operadores realizam estas operações BIT A BIT para os objetos da declaração. Por exemplo, ao realizar a operação 8 AND 4, os valores são interrpetados como sendo não zero, logo a operação realizada é TRUE AND TRUE, cujo resultado é interpretado como sendo true (na realidade o ultimo valor é retornado, no caso 4 é retornado, que é interpretado como true). Para as operações bitwise, isto não é verdade, pois a operação realizada é entre as representações binárias dos dois valores, logo, 8 & 4 realiza a operação 1000 & 0100, cujo resultado é 0000, logo, false. "
   ]
  },
  {
   "cell_type": "code",
   "execution_count": 14,
   "metadata": {},
   "outputs": [
    {
     "name": "stdout",
     "output_type": "stream",
     "text": [
      "0\n",
      "4\n"
     ]
    }
   ],
   "source": [
    "print(8 & 4)\n",
    "print(8 and 4)"
   ]
  },
  {
   "cell_type": "markdown",
   "metadata": {},
   "source": [
    "## Exercício 1 - Troco de Recebimento\n",
    "Para uma valor X inteiro, que é quantidade em reais de troco que deve ser fornecido, imprimir quantas cédulas de: 100 reais, 50, 20, 10, 5, 2 e 1 devem ser utilizadas para formar o troco."
   ]
  },
  {
   "cell_type": "code",
   "execution_count": null,
   "metadata": {},
   "outputs": [],
   "source": [
    "X = 593\n",
    "troco = {'100':0, '50':0, '20':0, '10':0, '5':0, '2':0, '1':0}\n",
    "\n",
    "if(X >= 100):\n",
    "    troco[\"100\"]=X//100\n",
    "    X = X - (troco[\"100\"]*100)\n",
    "if(X >= 50):\n",
    "    troco[\"50\"]=X//50\n",
    "    X = X - (troco[\"50\"]*50)\n",
    "if(X >= 20):\n",
    "    troco[\"20\"]=X//20\n",
    "    X = X - (troco[\"20\"]*20)\n",
    "if(X >= 10):\n",
    "    troco[\"10\"]=X//10\n",
    "    X = X - (troco[\"10\"]*10)\n",
    "if(X >= 5):\n",
    "    troco[\"5\"]=X//5\n",
    "    X = X - (troco[\"5\"]*5)\n",
    "if(X >= 2):\n",
    "    troco[\"2\"]=X//2\n",
    "    X = X - (troco[\"2\"]*2)\n",
    "if(X >= 1):\n",
    "    troco[\"1\"]=X//1\n",
    "    X = X - (troco[\"1\"]*1)\n",
    "\n",
    "print(troco)"
   ]
  },
  {
   "cell_type": "code",
   "execution_count": null,
   "metadata": {},
   "outputs": [],
   "source": []
  }
 ],
 "metadata": {
  "kernelspec": {
   "display_name": "Python 3",
   "language": "python",
   "name": "python3"
  },
  "language_info": {
   "codemirror_mode": {
    "name": "ipython",
    "version": 3
   },
   "file_extension": ".py",
   "mimetype": "text/x-python",
   "name": "python",
   "nbconvert_exporter": "python",
   "pygments_lexer": "ipython3",
   "version": "3.7.7"
  }
 },
 "nbformat": 4,
 "nbformat_minor": 4
}
