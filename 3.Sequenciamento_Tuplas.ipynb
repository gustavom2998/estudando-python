{
 "cells": [
  {
   "cell_type": "markdown",
   "metadata": {},
   "source": [
    "# Sequenciamento - Tuplas\n",
    "Neste notebook estudamos algumas estruturas de dados da linguagem Python utilizadas para **sequenciamento**. Segundo a documentação, estruturas de **sequenciamento** compartilham certas propriedades como indexação, fatiamento, concatenação e muito mais. \n",
    "> Observação: Para ler mais sobre as estruturas de sequenciamento, recomendo a leitura da documentação sobre estes tipos de dados na documentação do Python 3 ([link](https://docs.python.org/3/library/stdtypes.html#typesseq)).\n",
    "\n",
    "Nos estudos, buscamos entender como utilizar estas estruturas e suas principais diferenças."
   ]
  },
  {
   "cell_type": "markdown",
   "metadata": {},
   "source": [
    "## Tuplas\n",
    "As tuplas são estruturas de dados de **sequenciamento** segundo a documentação do Python. No estudo sobre strings, nós identificamos como utilizar todas as propriedades, logo podemos dizer que as strings também são estruturas de sequenciamento.\n",
    "> Observação: Segue o link da documentação sobre tuplas ([link](https://docs.python.org/3/tutorial/datastructures.html#tuples-and-sequences)).\n",
    "\n",
    "### Definição de tuplas\n",
    "As tuplas podem ser identificadas por sequência de elementos separados por vírgulas entre parentesis `()`. Um elemento pode ser qualquer valor, de qualquer tipo de dado como strings, booleanos, floats, etc. "
   ]
  },
  {
   "cell_type": "code",
   "execution_count": 13,
   "metadata": {},
   "outputs": [
    {
     "data": {
      "text/plain": [
       "tuple"
      ]
     },
     "execution_count": 13,
     "metadata": {},
     "output_type": "execute_result"
    }
   ],
   "source": [
    "tup = (\"A\",2,True)\n",
    "type(tup)"
   ]
  },
  {
   "cell_type": "markdown",
   "metadata": {},
   "source": [
    "Tuplas são imútaveis, ou seja, para modificar uma tupla se cria uma nova tupla e não se altera os elementos da tupla original. "
   ]
  },
  {
   "cell_type": "code",
   "execution_count": 14,
   "metadata": {},
   "outputs": [
    {
     "ename": "TypeError",
     "evalue": "'tuple' object does not support item assignment",
     "output_type": "error",
     "traceback": [
      "\u001b[1;31m---------------------------------------------------------------------------\u001b[0m",
      "\u001b[1;31mTypeError\u001b[0m                                 Traceback (most recent call last)",
      "\u001b[1;32m<ipython-input-14-7ce8e87163d6>\u001b[0m in \u001b[0;36m<module>\u001b[1;34m\u001b[0m\n\u001b[0;32m      1\u001b[0m \u001b[0mtup2\u001b[0m \u001b[1;33m=\u001b[0m \u001b[0mtup\u001b[0m\u001b[1;33m\u001b[0m\u001b[1;33m\u001b[0m\u001b[0m\n\u001b[1;32m----> 2\u001b[1;33m \u001b[0mtup2\u001b[0m\u001b[1;33m[\u001b[0m\u001b[1;36m0\u001b[0m\u001b[1;33m]\u001b[0m\u001b[1;33m=\u001b[0m\u001b[1;34m\"B\"\u001b[0m\u001b[1;33m\u001b[0m\u001b[1;33m\u001b[0m\u001b[0m\n\u001b[0m\u001b[0;32m      3\u001b[0m \u001b[0mprint\u001b[0m\u001b[1;33m(\u001b[0m\u001b[0mtup\u001b[0m\u001b[1;33m,\u001b[0m\u001b[1;34m\"\\n\"\u001b[0m\u001b[1;33m,\u001b[0m\u001b[0mtup2\u001b[0m\u001b[1;33m)\u001b[0m\u001b[1;33m\u001b[0m\u001b[1;33m\u001b[0m\u001b[0m\n",
      "\u001b[1;31mTypeError\u001b[0m: 'tuple' object does not support item assignment"
     ]
    }
   ],
   "source": [
    "# Vai gerar um erro\n",
    "tupAux = tup\n",
    "tupAux[0]=\"B\""
   ]
  },
  {
   "cell_type": "code",
   "execution_count": 17,
   "metadata": {},
   "outputs": [
    {
     "name": "stdout",
     "output_type": "stream",
     "text": [
      "('A', 2, True) ('B', 2, True)\n"
     ]
    }
   ],
   "source": [
    "# Vai realizar a alteração criando uma nova tupla\n",
    "tupAux = (\"B\", tup[1], tup[2])\n",
    "print(tup,tupAux)"
   ]
  },
  {
   "cell_type": "markdown",
   "metadata": {},
   "source": [
    "Podemos construir tuplas vazias e tuplas de um único item com uma sintaxe adicional adotada pela lingaugem."
   ]
  },
  {
   "cell_type": "code",
   "execution_count": 21,
   "metadata": {},
   "outputs": [
    {
     "name": "stdout",
     "output_type": "stream",
     "text": [
      "Vazio:  <class 'tuple'> 0 \n",
      "Um Item:  <class 'tuple'> 1\n"
     ]
    }
   ],
   "source": [
    "tupVazia = ()     # Feito utilizando paretensis vazio\n",
    "tupUmItem = (1,)  # Feito adicionando um elemento seguido por virgula\n",
    "print(\"Vazio: \", type(tupVazia), len(tupVazia), \"\\nUm Item: \",type(tupUmItem), len(tupUmItem))"
   ]
  },
  {
   "cell_type": "markdown",
   "metadata": {},
   "source": [
    "O **empacotamento** de tuplas é o processo de definir as tuplas inserindo os valores dos elementos separados por vírgulas entre parêntesis e atribuindo para uma váriavel. \n",
    "\n",
    "Da mesma forma, podemos ter o processo inverso, o **desempacotamento**. O desempacotamento é a tarefa de separar os elementos de uma tupla em váriaveis separadas. "
   ]
  },
  {
   "cell_type": "code",
   "execution_count": 24,
   "metadata": {},
   "outputs": [
    {
     "name": "stdout",
     "output_type": "stream",
     "text": [
      "A  Tipo:  <class 'str'> \n",
      " 2  Tipo:  <class 'int'> \n",
      " True  Tipo:  <class 'bool'> \n",
      "\n"
     ]
    }
   ],
   "source": [
    "# Desempacotamento da tupla em três variaveis\n",
    "(x, y, z) = tup\n",
    "print(x,\" Tipo: \", type(x),\"\\n\",y,\" Tipo: \", type(y),\"\\n\",z,\" Tipo: \", type(z),\"\\n\")"
   ]
  },
  {
   "cell_type": "markdown",
   "metadata": {},
   "source": [
    "### Indexação de tuplas\n",
    "Como visto anteriomente, tuplas podem ser indexadas por valores positivos e negativos. "
   ]
  },
  {
   "cell_type": "code",
   "execution_count": 5,
   "metadata": {},
   "outputs": [
    {
     "name": "stdout",
     "output_type": "stream",
     "text": [
      "True 2 A\n"
     ]
    }
   ],
   "source": [
    "print(tup[-1],tup[-2],tup[-3])"
   ]
  },
  {
   "cell_type": "markdown",
   "metadata": {},
   "source": [
    "Também podemos realizar o fatiamento de tuplas utilizando o operador `::` no operador de indíce. Lembre-se que o primeiro item é o indíce de início (quando não informado é 0), o segundo é o item indíce final não inclusivo, e o terceiro é o valor de incremento (quando não informado é 1). "
   ]
  },
  {
   "cell_type": "code",
   "execution_count": 18,
   "metadata": {},
   "outputs": [
    {
     "name": "stdout",
     "output_type": "stream",
     "text": [
      "('A', 2)\n"
     ]
    }
   ],
   "source": [
    "print(tup[:len(tup)-1:])"
   ]
  },
  {
   "cell_type": "markdown",
   "metadata": {},
   "source": [
    "O resultado do fatiamento é uma tupla nova com os elementos selecionados. "
   ]
  },
  {
   "cell_type": "markdown",
   "metadata": {},
   "source": [
    "### Concatenção e Replicação de tuplas\n",
    "Podemos concatenar tuplas da mesma forma que concatenamos strings. As concatenação de tuplas é feita pelo operador `+` e cria uma tupla que contém primeiros os elemetos do primeiro argumento, e depois os elementos do segundo argumento, em uma única tupla"
   ]
  },
  {
   "cell_type": "code",
   "execution_count": 25,
   "metadata": {},
   "outputs": [
    {
     "name": "stdout",
     "output_type": "stream",
     "text": [
      "('A', 2, True, 'B', 2, True)\n"
     ]
    }
   ],
   "source": [
    "tupConcat = tup + tup2\n",
    "print(tupConcat)"
   ]
  },
  {
   "cell_type": "markdown",
   "metadata": {},
   "source": [
    "Também podemos repetir tuplas *n* vezes onde n é um numero inteiro usando o operador `*`."
   ]
  },
  {
   "cell_type": "code",
   "execution_count": 1,
   "metadata": {},
   "outputs": [
    {
     "ename": "NameError",
     "evalue": "name 'tupConcat' is not defined",
     "output_type": "error",
     "traceback": [
      "\u001b[1;31m---------------------------------------------------------------------------\u001b[0m",
      "\u001b[1;31mNameError\u001b[0m                                 Traceback (most recent call last)",
      "\u001b[1;32m<ipython-input-1-5a50a416d736>\u001b[0m in \u001b[0;36m<module>\u001b[1;34m\u001b[0m\n\u001b[1;32m----> 1\u001b[1;33m \u001b[0mprint\u001b[0m\u001b[1;33m(\u001b[0m\u001b[0mtupConcat\u001b[0m\u001b[1;33m*\u001b[0m\u001b[1;36m2\u001b[0m\u001b[1;33m)\u001b[0m\u001b[1;33m\u001b[0m\u001b[1;33m\u001b[0m\u001b[0m\n\u001b[0m",
      "\u001b[1;31mNameError\u001b[0m: name 'tupConcat' is not defined"
     ]
    }
   ],
   "source": [
    "print(tupConcat*2)"
   ]
  },
  {
   "cell_type": "markdown",
   "metadata": {},
   "source": [
    "### Ordenação de tuplas\n",
    "Podemos utilizar a função `sorted()`, que também funcionam para outras estruturas de sequenciamento. Ele pode receber até três argumentos: \n",
    "- Sequência: A estrutura de sequênciamento que deve ser ordenada.\n",
    "- Key: Uma função que retorna um valor  para cada elemento. Este valor é utilizado para ordenar.  É opcional.\n",
    "- Reverse: Valor booleano que indica `True` se a estrutura deve ser ordenada de forma decrescente. É opcional.\n",
    "O retorno da função é uma lista. Podemos converter ela de volta para uma tupla usando a função `tuple()`."
   ]
  },
  {
   "cell_type": "code",
   "execution_count": 29,
   "metadata": {},
   "outputs": [
    {
     "name": "stdout",
     "output_type": "stream",
     "text": [
      "[1, 2, 3, 4, 5]\n"
     ]
    }
   ],
   "source": [
    "# Ordenação de tupla de forma crescente\n",
    "tup1 = sorted((5,4,3,2,1))\n",
    "print(tup1)"
   ]
  },
  {
   "cell_type": "code",
   "execution_count": 32,
   "metadata": {},
   "outputs": [
    {
     "name": "stdout",
     "output_type": "stream",
     "text": [
      "(5, 4, 3, 2, 1)\n"
     ]
    }
   ],
   "source": [
    "# Ordenação de tupla de forma decrescente\n",
    "tup2 = sorted(tup1,reverse = True)\n",
    "print(tuple(tup2))"
   ]
  },
  {
   "cell_type": "code",
   "execution_count": 33,
   "metadata": {},
   "outputs": [
    {
     "name": "stdout",
     "output_type": "stream",
     "text": [
      "('....', '...', '..', '.')\n"
     ]
    }
   ],
   "source": [
    "# Ordenação de tupla por tamanho da string decrescente\n",
    "tup3 = sorted((\"..\",\"...\",\".\",\"....\"), key = len, reverse = True)\n",
    "print(tuple(tup3))"
   ]
  },
  {
   "cell_type": "markdown",
   "metadata": {},
   "source": [
    "### Tuplas aninhada\n",
    "É possível utilizar uma tupla (ou qualquer outra estrutura de dados mais complexa) como um elemento para o empacotamento de uma tupla. Para fazer isso, basta definir o elemento como tupla. "
   ]
  },
  {
   "cell_type": "code",
   "execution_count": 38,
   "metadata": {},
   "outputs": [],
   "source": [
    "tup = ((\"Nome\",\"Sobrenome\"),\"Idade\",\"Altura\")"
   ]
  },
  {
   "cell_type": "markdown",
   "metadata": {},
   "source": [
    "Para acessar os elementos de uma tupla aninhada, basta utilizar o operador de indexação novamente no indíce da tupla. Este segundo operador extende todas as propriedades do primeiro (como fatiamento). "
   ]
  },
  {
   "cell_type": "code",
   "execution_count": 37,
   "metadata": {},
   "outputs": [
    {
     "name": "stdout",
     "output_type": "stream",
     "text": [
      "Sobrenome\n"
     ]
    }
   ],
   "source": [
    "print(tup[0][1])"
   ]
  },
  {
   "cell_type": "markdown",
   "metadata": {},
   "source": [
    "Em seguida, temos um exemplo mais complexo de aninhamento."
   ]
  },
  {
   "cell_type": "code",
   "execution_count": 41,
   "metadata": {},
   "outputs": [
    {
     "name": "stdout",
     "output_type": "stream",
     "text": [
      "(('Joao', 'Maria', 'Jose'), ('Auxiliar', 'Gerente', 'Atendente'), (1500, 2500, 1500)) \n",
      "\n",
      "Informacoes de 0: \n",
      " Nome: Joao \n",
      " Cargo: Auxiliar \n",
      " Salario: 1500\n"
     ]
    }
   ],
   "source": [
    "nomes = (\"Joao\",\"Maria\",\"Jose\")\n",
    "cargos = (\"Auxiliar\",\"Gerente\",\"Atendente\")\n",
    "salario = (1500,2500,1500)\n",
    "tup = (nomes,cargos,salario)\n",
    "print(tup,\"\\n\")\n",
    "print(\"Informacoes de 0:\",\n",
    "      \"\\n Nome:\",tup[0][0],\n",
    "      \"\\n Cargo:\", tup[1][0],\n",
    "      \"\\n Salario:\", tup[2][0])"
   ]
  },
  {
   "cell_type": "markdown",
   "metadata": {},
   "source": [
    "### Métodos adicionais\n",
    "As tuplas também possuem dois métodos específicos já implementados. O método `count()` pode ser utilizado para contabilizar quantas vezes um determinado element ocorre dentro da tupla. O método recebe apenas um paramêtro que é o valor a ser buscado na tupla. O resultado é um valor numérico com o numero de vezes que um elemento ocorre."
   ]
  },
  {
   "cell_type": "code",
   "execution_count": 1,
   "metadata": {},
   "outputs": [
    {
     "name": "stdout",
     "output_type": "stream",
     "text": [
      "Numero de zeros:  5 \n",
      " Numero de Uns:  4\n"
     ]
    }
   ],
   "source": [
    "tup = (1,0,0,1,0,1,0,0,1)\n",
    "nZeros = tup.count(0)\n",
    "nUns = tup.count(1)\n",
    "print(\"Numero de zeros: \", nZeros,\"\\n Numero de Uns: \", nUns)"
   ]
  },
  {
   "cell_type": "markdown",
   "metadata": {},
   "source": [
    "O método `index()` retorna o primeiro indíce que um determinado elemento ocorre. Ele pode ser utilizado para buscar a primeira ocorrência de certos valores em uma tupla."
   ]
  },
  {
   "cell_type": "code",
   "execution_count": 2,
   "metadata": {},
   "outputs": [
    {
     "name": "stdout",
     "output_type": "stream",
     "text": [
      "Indice do 1o 0:  1 \n",
      " Indice do 1o 1:  0\n"
     ]
    }
   ],
   "source": [
    "primZero = tup.index(0)\n",
    "primUm = tup.index(1)\n",
    "print(\"Indice do 1o 0: \", primZero,\"\\n Indice do 1o 1: \", primUm)"
   ]
  }
 ],
 "metadata": {
  "kernelspec": {
   "display_name": "Python 3",
   "language": "python",
   "name": "python3"
  },
  "language_info": {
   "codemirror_mode": {
    "name": "ipython",
    "version": 3
   },
   "file_extension": ".py",
   "mimetype": "text/x-python",
   "name": "python",
   "nbconvert_exporter": "python",
   "pygments_lexer": "ipython3",
   "version": "3.7.7"
  }
 },
 "nbformat": 4,
 "nbformat_minor": 4
}
