{
 "cells": [
  {
   "cell_type": "markdown",
   "metadata": {},
   "source": [
    "# NumPy: Broadcasting\n",
    "Neste tópico, propomos o estudo do pacote `NumPy`, cujo objetivo é fornecer suporte para arrays multidimensionais, que possuem implementações prontas para operações básicas e funções de algebra linear extremamente úteis. Este pacote é a base de grande parte dos pacotes do Python que serão futuramente estudados. A implementação deste pacote é feita através de C, logo, ele é extremamente otimizado (devido a tipagém estática e uso de memória contigua), sendo ótimo para carregar, armazenear, e manipular dados dentro de memória no Python.\n",
    "\n",
    "## Broadcasting\n",
    "Até então, analisamos como se utilizar as UFuncs para realizar a vetorização de operações. Uma outra forma de vetorizar operações é através do broadcasting, que é um conjunto de regros para aplicar UFuncs binárias em arrays de tamanho diferente. \n",
    "\n",
    "Como vimos anteriormente, operações binárias são realizadas elemento a elemento para pares de array. O broadcasting nos permite realizar estas mesma operações com arrays que não são do mesmo tamanho. Por exemplo, ao somar um valor numérico ao array, sabemos que o que \"parece\" ocorrer é a criação de um array do tamanho do primeiro, preenchendo todas posições com o valor, e somando os dois arrays. O broadcasting permite este tipo deoperação."
   ]
  },
  {
   "cell_type": "code",
   "execution_count": 20,
   "metadata": {},
   "outputs": [
    {
     "name": "stdout",
     "output_type": "stream",
     "text": [
      "[1 2 3]\n",
      "[6 7 8]\n"
     ]
    }
   ],
   "source": [
    "import numpy as np\n",
    "x = np.arange(1,4)\n",
    "print(x)\n",
    "print(x+5)"
   ]
  },
  {
   "cell_type": "markdown",
   "metadata": {},
   "source": [
    "Algo semelhante ocorre quando aumentamos o numero de dimensões. Ao somar um array de uma só dimensão a um de duas dimensões, a operação é repetida ao longo da dimensão que o array não possuí. Logo, no exemplo abaixo, o broadcasting causa a adição do array ao longo das várias linhas da matriz. "
   ]
  },
  {
   "cell_type": "code",
   "execution_count": 21,
   "metadata": {},
   "outputs": [
    {
     "name": "stdout",
     "output_type": "stream",
     "text": [
      "[[2. 3. 4.]\n",
      " [2. 3. 4.]\n",
      " [2. 3. 4.]]\n"
     ]
    }
   ],
   "source": [
    "y = np.ones((3,3))\n",
    "print(x + y)"
   ]
  },
  {
   "cell_type": "markdown",
   "metadata": {},
   "source": [
    "Estes dois exemplos são mais simples, mas há situações mais complexas, como demonstrado abaixo. "
   ]
  },
  {
   "cell_type": "code",
   "execution_count": 22,
   "metadata": {},
   "outputs": [
    {
     "name": "stdout",
     "output_type": "stream",
     "text": [
      "[1 2 3]\n",
      "[[1]\n",
      " [2]\n",
      " [3]]\n"
     ]
    }
   ],
   "source": [
    "x = np.arange(1,4)\n",
    "y = np.arange(1,4)[:,np.newaxis]\n",
    "print(x)\n",
    "print(y)"
   ]
  },
  {
   "cell_type": "markdown",
   "metadata": {},
   "source": [
    "Neste caso, ao somar os dois valores, através do broadcasting, a matriz 1x3 é transformada em uma matriz 3x3 composta por uma linha de 1's, outra de 2's e a ultima de 3's. Assim, é possível somar o array unidimensional ao longo das linhas. "
   ]
  },
  {
   "cell_type": "code",
   "execution_count": 23,
   "metadata": {},
   "outputs": [
    {
     "data": {
      "text/plain": [
       "array([[2, 3, 4],\n",
       "       [3, 4, 5],\n",
       "       [4, 5, 6]])"
      ]
     },
     "execution_count": 23,
     "metadata": {},
     "output_type": "execute_result"
    }
   ],
   "source": [
    "x + y"
   ]
  },
  {
   "cell_type": "markdown",
   "metadata": {},
   "source": [
    "## Regras para Broadcasting\n",
    "Há três regras seguidas para realizar o broadcasting. \n",
    "* 1. Se dois arrays possuem quantidade de dimensões diferentes, o shape daquele com menos dimensões é completado com 1 a esquerda. \n",
    "* 2. Se o shape de dois arrays não forem de mesmo tamanho em qualquer dimensão, aquele array com tamanho igual 1 é usado para preencher o resto da dimensão.\n",
    "* 3. Se qualquer tamanho de dimensões não forem iguais entre arrays, e tiverem tamanho maior que 1, um erro é gerado. \n",
    "\n",
    "Demonstramos o funcionamento destas regras através de exemplos. "
   ]
  },
  {
   "cell_type": "markdown",
   "metadata": {},
   "source": [
    "### Exemplo 1: Somando um array 1D com um 2D."
   ]
  },
  {
   "cell_type": "code",
   "execution_count": 24,
   "metadata": {},
   "outputs": [
    {
     "name": "stdout",
     "output_type": "stream",
     "text": [
      "[[1. 1. 1.]\n",
      " [1. 1. 1.]]\n",
      "[0 1 2]\n"
     ]
    }
   ],
   "source": [
    "x = np.ones((2,3))\n",
    "print(x)\n",
    "y = np.arange(3)\n",
    "print(y)"
   ]
  },
  {
   "cell_type": "markdown",
   "metadata": {},
   "source": [
    "Pela regra 1, como ao longo das linhas y não possuí dimensao, a dimensão a esquerda é criada com valor 1."
   ]
  },
  {
   "cell_type": "code",
   "execution_count": 25,
   "metadata": {},
   "outputs": [
    {
     "name": "stdout",
     "output_type": "stream",
     "text": [
      "(1, 3) \n",
      " [[0 1 2]]\n"
     ]
    }
   ],
   "source": [
    "y1 = y[np.newaxis,:]\n",
    "print(np.shape(y1),\"\\n\",y1)"
   ]
  },
  {
   "cell_type": "markdown",
   "metadata": {},
   "source": [
    "Agora, apesar de termos a mesma quantidade de dimensões, é necessário cumprir a regra 2. Como os valores não são iguais, precisamos preencher a nova dimensão repetindo o primeiro valor da dimensão ao longo da dimensão."
   ]
  },
  {
   "cell_type": "code",
   "execution_count": 26,
   "metadata": {},
   "outputs": [
    {
     "name": "stdout",
     "output_type": "stream",
     "text": [
      "[[0 1 2]\n",
      " [0 1 2]]\n"
     ]
    }
   ],
   "source": [
    "y1 = np.vstack([y1,y1])\n",
    "print(y1)"
   ]
  },
  {
   "cell_type": "markdown",
   "metadata": {},
   "source": [
    "Como os shapes agora batem, e a regra 3 não se encaixa na situação, podemos agora realizar operações entre os dois arrays. Comparamos os resultados sem realizar esses passos (logo o Broadcasting trata o cumprimento das regras) e após realizar os passos, e vêmos que os resultados são iguais. "
   ]
  },
  {
   "cell_type": "code",
   "execution_count": 27,
   "metadata": {},
   "outputs": [
    {
     "data": {
      "text/plain": [
       "array([[1., 2., 3.],\n",
       "       [1., 2., 3.]])"
      ]
     },
     "execution_count": 27,
     "metadata": {},
     "output_type": "execute_result"
    }
   ],
   "source": [
    "x + y"
   ]
  },
  {
   "cell_type": "code",
   "execution_count": 28,
   "metadata": {},
   "outputs": [
    {
     "data": {
      "text/plain": [
       "array([[1., 2., 3.],\n",
       "       [1., 2., 3.]])"
      ]
     },
     "execution_count": 28,
     "metadata": {},
     "output_type": "execute_result"
    }
   ],
   "source": [
    "x + y1"
   ]
  },
  {
   "cell_type": "markdown",
   "metadata": {},
   "source": [
    "### Exemplo 2: Broadcasting de ambos arrays\n",
    "No exemplo abaixo, demonstramos em uma situação em que ambos os arrays precisam ser manipulados pelo broadcasting para ser possível realizar a operação."
   ]
  },
  {
   "cell_type": "code",
   "execution_count": 29,
   "metadata": {},
   "outputs": [
    {
     "name": "stdout",
     "output_type": "stream",
     "text": [
      "[[0]\n",
      " [1]\n",
      " [2]]\n",
      "[0 1 2]\n"
     ]
    }
   ],
   "source": [
    "x = np.arange(3).reshape(3,1)\n",
    "y = np.arange(3)\n",
    "print(x)\n",
    "print(y)"
   ]
  },
  {
   "cell_type": "markdown",
   "metadata": {},
   "source": [
    "Primeiro, temos que Y possuí uma dimensão a menos, logo, para cumprir a regra 1, é adicionada uma dimensão a esquerda no shape. "
   ]
  },
  {
   "cell_type": "code",
   "execution_count": 30,
   "metadata": {},
   "outputs": [
    {
     "name": "stdout",
     "output_type": "stream",
     "text": [
      "Shape X:  (3, 1) Shape Y:  (3,)\n",
      "Shape X:  (3, 1) Shape Y:  (1, 3)\n"
     ]
    }
   ],
   "source": [
    "print(\"Shape X: \", np.shape(x), \"Shape Y: \",np.shape(y))\n",
    "y1 = y[np.newaxis,:]\n",
    "print(\"Shape X: \", np.shape(x), \"Shape Y: \",np.shape(y1))"
   ]
  },
  {
   "cell_type": "markdown",
   "metadata": {},
   "source": [
    "Em segundo lugar, devemos cumprir a regra 2, onde a nova dimensão adicionada deve ser preenchida com a extensão do array. Note que além de realizar para um array, precisamos realizar paro o outro também."
   ]
  },
  {
   "cell_type": "code",
   "execution_count": 31,
   "metadata": {},
   "outputs": [
    {
     "name": "stdout",
     "output_type": "stream",
     "text": [
      "Shape X:  (3, 1) Shape Y:  (1, 3)\n",
      "Shape X:  (3, 1) Shape Y:  (3, 3)\n",
      "Shape X:  (3, 3) Shape Y:  (3, 3)\n"
     ]
    }
   ],
   "source": [
    "print(\"Shape X: \", np.shape(x), \"Shape Y: \",np.shape(y1))\n",
    "y1 = np.vstack([y1,y1,y1])\n",
    "print(\"Shape X: \", np.shape(x), \"Shape Y: \",np.shape(y1))\n",
    "x1 = np.hstack([x,x,x])\n",
    "print(\"Shape X: \", np.shape(x1), \"Shape Y: \",np.shape(y1))"
   ]
  },
  {
   "cell_type": "markdown",
   "metadata": {},
   "source": [
    "Como conseguimos cumprir os dois acsos, então, podemos finalmente somar os valores."
   ]
  },
  {
   "cell_type": "code",
   "execution_count": 32,
   "metadata": {},
   "outputs": [
    {
     "data": {
      "text/plain": [
       "array([[0, 1, 2],\n",
       "       [1, 2, 3],\n",
       "       [2, 3, 4]])"
      ]
     },
     "execution_count": 32,
     "metadata": {},
     "output_type": "execute_result"
    }
   ],
   "source": [
    "y1 + x1"
   ]
  },
  {
   "cell_type": "code",
   "execution_count": 33,
   "metadata": {},
   "outputs": [
    {
     "data": {
      "text/plain": [
       "array([[0, 1, 2],\n",
       "       [1, 2, 3],\n",
       "       [2, 3, 4]])"
      ]
     },
     "execution_count": 33,
     "metadata": {},
     "output_type": "execute_result"
    }
   ],
   "source": [
    "x +y"
   ]
  },
  {
   "cell_type": "markdown",
   "metadata": {},
   "source": [
    "### Exemplo 3: Arrays Incompátiveis\n",
    "Por ultimos, análisamos um caso em que temos um erro gerado, já que os arrays não são compátiveis para realizar o broadcasting."
   ]
  },
  {
   "cell_type": "code",
   "execution_count": 34,
   "metadata": {},
   "outputs": [],
   "source": [
    "x = np.ones((3,2))\n",
    "y = np.arange(3)"
   ]
  },
  {
   "cell_type": "markdown",
   "metadata": {},
   "source": [
    "Primeiro, precisamos adicionar uma dimensão ao Y para cumprir a primeira regra."
   ]
  },
  {
   "cell_type": "code",
   "execution_count": 35,
   "metadata": {},
   "outputs": [
    {
     "name": "stdout",
     "output_type": "stream",
     "text": [
      "Shape X:  (3, 2) Shape Y:  (3,)\n",
      "Shape X:  (3, 2) Shape Y:  (1, 3)\n"
     ]
    }
   ],
   "source": [
    "print(\"Shape X: \", np.shape(x), \"Shape Y: \",np.shape(y))\n",
    "y1 = y[np.newaxis,:]\n",
    "print(\"Shape X: \", np.shape(x), \"Shape Y: \",np.shape(y1))"
   ]
  },
  {
   "cell_type": "markdown",
   "metadata": {},
   "source": [
    "Então, precisamos preencher a nova dimensão de Y repetindo o array 3 vezes para igualar o tamanho da dimensão em X. Entretanto, Não podemos fazer isto para a outra dimensão de X, já que ela não é 1."
   ]
  },
  {
   "cell_type": "code",
   "execution_count": 36,
   "metadata": {},
   "outputs": [
    {
     "name": "stdout",
     "output_type": "stream",
     "text": [
      "Shape X:  (3, 2) Shape Y:  (1, 3)\n",
      "Shape X:  (3, 2) Shape Y:  (3, 3)\n"
     ]
    }
   ],
   "source": [
    "print(\"Shape X: \", np.shape(x), \"Shape Y: \",np.shape(y1))\n",
    "y1 = np.vstack([y1,y1,y1])\n",
    "print(\"Shape X: \", np.shape(x), \"Shape Y: \",np.shape(y1))"
   ]
  },
  {
   "cell_type": "markdown",
   "metadata": {},
   "source": [
    "Neste caso, caímos pela regra 3, e é necessário gerar um erro, como visto acontecendo abaixo."
   ]
  },
  {
   "cell_type": "code",
   "execution_count": 37,
   "metadata": {},
   "outputs": [
    {
     "ename": "ValueError",
     "evalue": "operands could not be broadcast together with shapes (3,2) (3,) ",
     "output_type": "error",
     "traceback": [
      "\u001b[1;31m---------------------------------------------------------------------------\u001b[0m",
      "\u001b[1;31mValueError\u001b[0m                                Traceback (most recent call last)",
      "\u001b[1;32m<ipython-input-37-cd60f97aa77f>\u001b[0m in \u001b[0;36m<module>\u001b[1;34m\u001b[0m\n\u001b[1;32m----> 1\u001b[1;33m \u001b[0mx\u001b[0m \u001b[1;33m+\u001b[0m \u001b[0my\u001b[0m\u001b[1;33m\u001b[0m\u001b[1;33m\u001b[0m\u001b[0m\n\u001b[0m",
      "\u001b[1;31mValueError\u001b[0m: operands could not be broadcast together with shapes (3,2) (3,) "
     ]
    }
   ],
   "source": [
    "x + y"
   ]
  },
  {
   "cell_type": "markdown",
   "metadata": {},
   "source": [
    "## Aplicando Broadcasting"
   ]
  },
  {
   "cell_type": "markdown",
   "metadata": {},
   "source": [
    "As aplicações de broadcasting podem facilitar a vida em inúmeras situações. Abaixo, demonstramos algumas. \n",
    "\n",
    "### Centralização de um Array\n",
    "A centralização de um Array consiste em centralizar um array. A centralização de um array é a tarefa de reescrever os valores dos elementos, realizando a subtração pela média do array em todas posições. Para realizar esta tarefa, podemos utilizar broadcasting para utilizar o valor numérico da média e subtrair o valor em todas as posições."
   ]
  },
  {
   "cell_type": "code",
   "execution_count": 38,
   "metadata": {},
   "outputs": [
    {
     "name": "stdout",
     "output_type": "stream",
     "text": [
      "[[0.02153373 0.6016236  0.8011604 ]\n",
      " [0.47731305 0.74487241 0.15155993]\n",
      " [0.89109918 0.56603375 0.20928175]\n",
      " [0.01344295 0.69270572 0.35332013]\n",
      " [0.41811496 0.98146517 0.72207892]\n",
      " [0.31730574 0.62051661 0.03329391]\n",
      " [0.4653743  0.838652   0.08917189]\n",
      " [0.5784924  0.94500746 0.75267011]\n",
      " [0.22826343 0.71877555 0.11379356]\n",
      " [0.12022178 0.55955892 0.52517407]] \n",
      " [0.35311615 0.72692112 0.37515047]\n"
     ]
    }
   ],
   "source": [
    "x = np.random.random((10,3))\n",
    "x_med = x.mean(0)\n",
    "print(x,\"\\n\",x_med)"
   ]
  },
  {
   "cell_type": "code",
   "execution_count": 39,
   "metadata": {},
   "outputs": [
    {
     "name": "stdout",
     "output_type": "stream",
     "text": [
      "[[-0.33158242 -0.12529752  0.42600993]\n",
      " [ 0.1241969   0.01795129 -0.22359053]\n",
      " [ 0.53798303 -0.16088737 -0.16586871]\n",
      " [-0.3396732  -0.0342154  -0.02183034]\n",
      " [ 0.06499881  0.25454405  0.34692845]\n",
      " [-0.03581042 -0.10640451 -0.34185656]\n",
      " [ 0.11225815  0.11173088 -0.28597858]\n",
      " [ 0.22537624  0.21808634  0.37751964]\n",
      " [-0.12485272 -0.00814557 -0.2613569 ]\n",
      " [-0.23289437 -0.1673622   0.1500236 ]]\n"
     ]
    }
   ],
   "source": [
    "x = x - x_med\n",
    "print(x)"
   ]
  },
  {
   "cell_type": "markdown",
   "metadata": {},
   "source": [
    "Podemos conferir que a centralização deu certo pois a média de array centralizado deve ser zero. "
   ]
  },
  {
   "cell_type": "code",
   "execution_count": 40,
   "metadata": {},
   "outputs": [
    {
     "data": {
      "text/plain": [
       "array([ 8.88178420e-17, -8.88178420e-17, -1.11022302e-17])"
      ]
     },
     "execution_count": 40,
     "metadata": {},
     "output_type": "execute_result"
    }
   ],
   "source": [
    "x.mean(0)"
   ]
  },
  {
   "cell_type": "markdown",
   "metadata": {},
   "source": [
    "### Plotando uma função bi-dimensional\n",
    "O broadcasting é extremamente útil para plotar funções bidimensionais(do tipo $z = f(x,y)$ ), para computar a função ao longo de uma malha. Primeiro definimos um array x que cresce horizontalmente e um array y que cresce verticalmente. Então definimos uma função que depende dos dois vetores, e gera um valor numérico para cada \"par\" entre dois valores dentro dos dois vetores."
   ]
  },
  {
   "cell_type": "code",
   "execution_count": 41,
   "metadata": {},
   "outputs": [],
   "source": [
    "x = np.linspace(0,5,50)\n",
    "y = np.linspace(0,5,50)[:, np.newaxis]\n",
    "z = np.sin(x) ** 10 + np.cos(10 + y*x) * np.cos(x)"
   ]
  },
  {
   "cell_type": "code",
   "execution_count": 45,
   "metadata": {},
   "outputs": [
    {
     "data": {
      "text/plain": [
       "<matplotlib.image.AxesImage at 0x21241a5cc88>"
      ]
     },
     "execution_count": 45,
     "metadata": {},
     "output_type": "execute_result"
    },
    {
     "data": {
      "image/png": "[encoded data removed]",
      "text/plain": [
       "<Figure size 432x288 with 1 Axes>"
      ]
     },
     "metadata": {
      "needs_background": "light"
     },
     "output_type": "display_data"
    }
   ],
   "source": [
    "%matplotlib inline\n",
    "import matplotlib.pyplot as plt\n",
    "plt.imshow(z, origin='lower', extent=[0,5,0,5], cmap='viridis')"
   ]
  }
 ],
 "metadata": {
  "kernelspec": {
   "display_name": "Python 3",
   "language": "python",
   "name": "python3"
  },
  "language_info": {
   "codemirror_mode": {
    "name": "ipython",
    "version": 3
   },
   "file_extension": ".py",
   "mimetype": "text/x-python",
   "name": "python",
   "nbconvert_exporter": "python",
   "pygments_lexer": "ipython3",
   "version": "3.7.7"
  }
 },
 "nbformat": 4,
 "nbformat_minor": 4
}
