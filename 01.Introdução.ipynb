{
 "cells": [
  {
   "cell_type": "markdown",
   "metadata": {},
   "source": [
    "# Introdução ao Python\n",
    "Neste documento descrevemos um notebook básico para introduzir e revisar alguns conceitos básicos de programação aplicados a Python 3 utilizando Jupyter Notebooks. Assumimos que o leitor já conheça o Jupyter Notebooks para utilizar este documento."
   ]
  },
  {
   "cell_type": "markdown",
   "metadata": {},
   "source": [
    "## Conceitos básicos\n",
    "Para iniciar o aprendizado, começamos introduzindo alguns conceitos fundamentais para enteder como utilizar uma linguagem de programação.\n",
    "\n",
    "**Comentários** são linhas que ajudam ao programador ou alguém que esteja interpretando o código, a compreender qual é objetivo do trecho de código. Muitas vezes quando se escreve um programa, é necessário descrever qual o objetivo daquele programa ou de um determinado conjunto de instruções. Para isso, o simbolo de hashtag(`#`) pode ser utilizado para dizer ao Python que aquela linha é um comentário, e que não deve ser interpretada pelo Python.\n",
    "\n",
    "Quando estamos programando, há três tipos de erros principais que podemos acabar fazendo. \n",
    "\n",
    "Um **erro de sintaxe** ocorre quando se digita o nome de uma função ou váriavel de forma errada. Ao digitar o nome errado, tenta se usar um recurso da linguagem que não existe, causando um erro. Abaixo elaboramos um exemplo de um comentário e um erro de sintaxe. Na linguagem Python, não há função, operação ou váriavel atualmente definida pelo comando \"Essa sera\", logo um erro de sintaxe ocorre."
   ]
  },
  {
   "cell_type": "code",
   "execution_count": 49,
   "metadata": {},
   "outputs": [
    {
     "ename": "SyntaxError",
     "evalue": "invalid syntax (<ipython-input-49-332501319cd2>, line 2)",
     "output_type": "error",
     "traceback": [
      "\u001b[1;36m  File \u001b[1;32m\"<ipython-input-49-332501319cd2>\"\u001b[1;36m, line \u001b[1;32m2\u001b[0m\n\u001b[1;33m    Essa sera\u001b[0m\n\u001b[1;37m            ^\u001b[0m\n\u001b[1;31mSyntaxError\u001b[0m\u001b[1;31m:\u001b[0m invalid syntax\n"
     ]
    }
   ],
   "source": [
    "# Essa linha nao sera executada\n",
    "Essa sera"
   ]
  },
  {
   "cell_type": "markdown",
   "metadata": {},
   "source": [
    "Já um **erro de lógica** ocorre quando nós queremos que o programa faça algo, mas por não conseguir descrever corretamente a lógica, o programa faz algo que não é o nosso propósito. Estes tipos de erro não impedem o programa de executar, mas podem acabar causando comportamentos que não são desejados.\n",
    "\n",
    "Elaboramos um pequeno exemplo em seguida. Supomos que seja solicitado para escrever um programa que imprima o valor 0 depois o valor 1. Vemos que por um erro de lógica, o programa vai primeiro imprimir valor 1. O programa não tem problema nenhum para executar e vai funcionar normalmente, mas não vai realizar a tarefa que eu desejava."
   ]
  },
  {
   "cell_type": "code",
   "execution_count": 50,
   "metadata": {},
   "outputs": [
    {
     "name": "stdout",
     "output_type": "stream",
     "text": [
      "1\n",
      "0\n"
     ]
    }
   ],
   "source": [
    "# Escreva um programa que primeiro imprima 0, depois imprima 1.\n",
    "print(1)\n",
    "print(0)"
   ]
  },
  {
   "cell_type": "markdown",
   "metadata": {},
   "source": [
    "O ultimo tipo é o *Erro de semântica*. Por ainda não apresentar algumas ideias, é difícil exemplificar este tipo de erro. De forma resumida, ele consiste e mutilizar um recurso da linguagem de forma inapropriada. \n",
    "\n",
    "**Funções** são instruções que podemos utilizar para realizar determinada tarefa com **argumentos**. Quando chamamos uma função, uma sequência de operações são realizadas utilizando os argumentos passados como paramêtros. A baixo, utilizaremos a função `print()` para mostrar o argumento `Ola mundo!` na saída do console."
   ]
  },
  {
   "cell_type": "code",
   "execution_count": 51,
   "metadata": {},
   "outputs": [
    {
     "name": "stdout",
     "output_type": "stream",
     "text": [
      "Ola mundo!\n"
     ]
    }
   ],
   "source": [
    "# Utilizando a função print() com o argumento \"Ola Mundo!\"\n",
    "print(\"Ola mundo!\")"
   ]
  },
  {
   "cell_type": "markdown",
   "metadata": {},
   "source": [
    "A função `print()` é uma função fornecida pela linguagem Python para gerar uma saída para o console contendo o conteúdo passado como argumento. Esta função é capaz de imprimir argumentos que sejam de diferentes tipos de dados, como numeros inteiros, numeros em ponto flutuante e cadeias de caracteres, transformando todos estes argumentos em uma cadeia única de caracteres.\n",
    "\n",
    "> Curiosidade: Para entender mais sobre a função `print()` recomendo que você futuramente visite a página de documentação do Python 3 sobre funções embutidas [(link)](https://docs.python.org/3/library/functions.html#print) para melhor compreender o que essa função faz."
   ]
  },
  {
   "cell_type": "markdown",
   "metadata": {},
   "source": [
    "## Tipos de dados\n",
    "Neste tópico, iremos introduzir o que são tipos de dados para que você possa entender de forma mais clara o que realmente são argumentos, e como o Python encherga eles.\n",
    "\n",
    "Construímos uma tabela sobre alguns tipos de dados primitivos que serão úteis para introduzir conceitos de Python. Há muitos outros tipos de dados que a linguagem Python fornece, mas deixaremos para explorar eles mais a frente.\n",
    "\n",
    "Tipo | Descrição | Conversão | Exemplo\n",
    "--- | --- | --- | ---\n",
    "Inteiro | Utilizado para representar valores numéricos inteiros com sinais. | `int()` | -5\n",
    "Ponto flutuante | Utilizado para representar valores numéricos como ponto flutuante. Diferente dos inteiros, estes valores conseguem representar de forma mais precisa o conjunto de números reais. | `float()` | -1.3333\n",
    "Boleano | Utilizado para representar dados que podem possuir apenas dois estados. | `bool()` | True\n",
    "Cadeia de caracteres | Utilizado para armazenar sequência de caracteres que se encontram entre uma, duas ou três aspas. | `string()` | \"abc\"\n",
    "\n",
    "Algo interessante que se pode fazer com Python é transformar um valor de um certo tipo em outro. Na linha de código abaixo, utilizamos a função print para demonstrar como as funções de conversão de tipo de dados podem ser utilizados para fazer isso.\n"
   ]
  },
  {
   "cell_type": "code",
   "execution_count": 52,
   "metadata": {},
   "outputs": [
    {
     "name": "stdout",
     "output_type": "stream",
     "text": [
      "-1\n"
     ]
    }
   ],
   "source": [
    "# Note que valores reais são convertidos ignorando o valor após a vírgula.\n",
    "print(int(-1.933))"
   ]
  },
  {
   "cell_type": "code",
   "execution_count": 53,
   "metadata": {},
   "outputs": [
    {
     "name": "stdout",
     "output_type": "stream",
     "text": [
      "True\n"
     ]
    }
   ],
   "source": [
    "# Qualquer valor que não seja 0 é transformado no booleano True. \n",
    "# Para entender melhor este comportamento, tire as aspas e verifique o resultado.\n",
    "print(bool(\"0\"))"
   ]
  },
  {
   "cell_type": "markdown",
   "metadata": {},
   "source": [
    "Para verificar qual o tipo de um determinado valor o Python fornece a função `type()`. Em seguida, utilizamos a função para verificar o tipo do valor `True`."
   ]
  },
  {
   "cell_type": "code",
   "execution_count": 54,
   "metadata": {},
   "outputs": [
    {
     "data": {
      "text/plain": [
       "bool"
      ]
     },
     "execution_count": 54,
     "metadata": {},
     "output_type": "execute_result"
    }
   ],
   "source": [
    "type(True)"
   ]
  },
  {
   "cell_type": "markdown",
   "metadata": {},
   "source": [
    "## Expressões Aritméticas\n",
    "Algo que podemos explorar é como o Python decide qual função executar primeiro. No exemplo que utilizamos a função de conversão `int()` notamos que o resultado da função `int()` (que é um valor inteiro) é passado como argumento para a função `print()`. Uma **expressão** é uma cadeia de operações que a linguagem é capaz de interpretar. \n",
    "\n",
    "**Expressões Aritméticas** são essenciais para qualquer programa. Uma sequência de somas(`+`), subtrações(`-`), multiplicações(`*`) e divisões(`/`) nada mais são que uma expressão aritimética. É possível também realizar a divisão inteira (`//`) que converte o resultado em inteiro, ignorando o valor após a vírgula. O Python segue a ordem matemática, onde primeiro as expressões entre parentesis são avaliados, depois as multiplicações e divisões, e por ultimo as somas e subtrações."
   ]
  },
  {
   "cell_type": "code",
   "execution_count": 55,
   "metadata": {},
   "outputs": [
    {
     "data": {
      "text/plain": [
       "-2"
      ]
     },
     "execution_count": 55,
     "metadata": {},
     "output_type": "execute_result"
    }
   ],
   "source": [
    "# Exemplo utilizando soma de produtos\n",
    "2*3 + 5*-2 + 1*2"
   ]
  },
  {
   "cell_type": "code",
   "execution_count": 56,
   "metadata": {},
   "outputs": [
    {
     "data": {
      "text/plain": [
       "7"
      ]
     },
     "execution_count": 56,
     "metadata": {},
     "output_type": "execute_result"
    }
   ],
   "source": [
    "# Exemplo com parentesis\n",
    "(1+3)*2 - 1"
   ]
  },
  {
   "cell_type": "markdown",
   "metadata": {},
   "source": [
    "## Váriaveis\n",
    "Para até mesmo o programa de computador mais básico, se referir diretamente aos valores limita muito o que se pode construir. \n",
    "\n",
    "Uma **váriavel** pode ser utilizada para armazenar valores em um determinado espaço de memória. Cada váriavel recebe um nome, e a ela é associado um espaço de memória para armazenar um valor. Assim, com um único nome, pode se modificar o valor durante a execução do programa.\n",
    "\n",
    "O nome de uma váriavel deve começar com um com uma letra ou underline, podendo conter apenas caracteres alfanuméricos, além de ser case sensitive. \n",
    "A atribuição de um valor para uma váriavel pode ser feita escrevendo o nome da váriavel, seguido pelo operador de atribuição (`=`), seguido pelo valor a ser atribuido a variavel."
   ]
  },
  {
   "cell_type": "code",
   "execution_count": 57,
   "metadata": {},
   "outputs": [],
   "source": [
    "resultado = 1"
   ]
  },
  {
   "cell_type": "markdown",
   "metadata": {},
   "source": [
    "Em seguida, podemos utilizar o nome da váriavel para se referir ao valor armazenado nela."
   ]
  },
  {
   "cell_type": "code",
   "execution_count": 58,
   "metadata": {},
   "outputs": [
    {
     "name": "stdout",
     "output_type": "stream",
     "text": [
      "1\n"
     ]
    }
   ],
   "source": [
    "print(resultado)"
   ]
  },
  {
   "cell_type": "markdown",
   "metadata": {},
   "source": [
    "Podemos substituir o valor de uma váriavel atribuindo um novo valor para ela. Este valor pode ser um valor explicito, ou obtido como resultado de uma expressão."
   ]
  },
  {
   "cell_type": "code",
   "execution_count": 59,
   "metadata": {},
   "outputs": [
    {
     "name": "stdout",
     "output_type": "stream",
     "text": [
      "3\n"
     ]
    }
   ],
   "source": [
    "resultado = int(1.9) + 2\n",
    "print(resultado)"
   ]
  },
  {
   "cell_type": "markdown",
   "metadata": {},
   "source": [
    "É possível também realizar a atribuição de multiplos valores para uma ou multiplas váriaveis."
   ]
  },
  {
   "cell_type": "code",
   "execution_count": 60,
   "metadata": {},
   "outputs": [
    {
     "name": "stdout",
     "output_type": "stream",
     "text": [
      "3   3   3\n"
     ]
    }
   ],
   "source": [
    "# Atribuição de um valor para multiplas váriaveis\n",
    "x = y = z = 3\n",
    "print(x,\" \", y,\" \", z)"
   ]
  },
  {
   "cell_type": "code",
   "execution_count": 61,
   "metadata": {},
   "outputs": [
    {
     "name": "stdout",
     "output_type": "stream",
     "text": [
      "1   2   3\n"
     ]
    }
   ],
   "source": [
    "# Atribuição de multiplos valores para multiplas váriaveis\n",
    "x, y, z = 1, 2, 3\n",
    "print(x,\" \", y,\" \", z)"
   ]
  },
  {
   "cell_type": "markdown",
   "metadata": {},
   "source": [
    "Além de utilizar váriaveis como argumentos para funções, também podemos utilizar váriaveis em expressões para definir o valor que deve armazenado em uma váriavel. \n",
    "\n",
    "No exemplo abaixo primeiro começamos armazenando o valor numérico 20 na váriavel `x`. Depois, armazenamos o valor que se encontra em `x` em `y` também. Por ultimo, pegamos o valor que se encontra em `x`, subtraímos ele por `5`, e novamente armazenamos ele em `x`. Note que ao atualizar `x`, o valor de `y` não muda."
   ]
  },
  {
   "cell_type": "code",
   "execution_count": 62,
   "metadata": {},
   "outputs": [
    {
     "name": "stdout",
     "output_type": "stream",
     "text": [
      "15   20\n"
     ]
    }
   ],
   "source": [
    "x = 20 # x <- 20\n",
    "y = x  # y <- 20\n",
    "x = x - 5 # x <- 20 - 5\n",
    "print(x, \" \", y)"
   ]
  }
 ],
 "metadata": {
  "kernelspec": {
   "display_name": "Python 3",
   "language": "python",
   "name": "python3"
  },
  "language_info": {
   "codemirror_mode": {
    "name": "ipython",
    "version": 3
   },
   "file_extension": ".py",
   "mimetype": "text/x-python",
   "name": "python",
   "nbconvert_exporter": "python",
   "pygments_lexer": "ipython3",
   "version": "3.7.7"
  }
 },
 "nbformat": 4,
 "nbformat_minor": 4
}
