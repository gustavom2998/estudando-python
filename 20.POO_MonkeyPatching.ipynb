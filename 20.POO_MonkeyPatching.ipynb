{
 "cells": [
  {
   "cell_type": "markdown",
   "metadata": {},
   "source": [
    "# Programação Orientada a Objetos - Monkey Patching e Consulta de Atributos\n",
    "A orientação a objetos é um paradigma de programação conhecido por seus quatro pilares principais: Encapsulamento; Abstração; Herença e Polimorfismo. O propósito deste paradigma é solucionar os problemas tradicionais da programação procedural, onde muitas vezes há pouco aproveitamento de código e fraca associação entre dados e às funções reponsáveis por manipular estes dados. Neste estudo, buscamos revisar os conceitos fundamentais da orientação a objetos e identificar como eles são implementados na linguagem Python.\n",
    "\n",
    "## Monkey Patching\n",
    "O monkey patching é a ideia de ser possível adicionar comportamento para um objeto existente em tempo de execução. Isto é útil pois evita ter que implementar todos protocolos para uma classe, deixando os casos raros para serem feitos apenas quando for necessário. Por Python ser dinâmico, o definição de um tipo pode ser alterada em tempo de execução. \n",
    "\n",
    "A baixo temos um exemplo da aplicação de monkey patching. Definimos uma classe sem a definição de um método `__len__()`. "
   ]
  },
  {
   "cell_type": "code",
   "execution_count": 6,
   "metadata": {},
   "outputs": [],
   "source": [
    "class Colecao():\n",
    "    def __init__(self):\n",
    "        self.dados = ['a','b','c']\n",
    "        \n",
    "    def __getitem__(self,pos):\n",
    "        return self.dados[pos]\n",
    "    \n",
    "    def __str__(self):\n",
    "        return \"[\"+ str(self.dados) + \"]\"\n",
    "    "
   ]
  },
  {
   "cell_type": "markdown",
   "metadata": {},
   "source": [
    "Após definir uma classe, criamos uma função separada capaz de imprimir o tamanho do atributo de dados de qualquer argumento passado. "
   ]
  },
  {
   "cell_type": "code",
   "execution_count": 7,
   "metadata": {},
   "outputs": [],
   "source": [
    "def obter_len(self):\n",
    "    return len(self.dados)"
   ]
  },
  {
   "cell_type": "markdown",
   "metadata": {},
   "source": [
    "Então, atribuímos a referência da função `obter_len()` para o método `__len__()` da classe de Coleção, adicionando um novo método para a classe em tempo de execução."
   ]
  },
  {
   "cell_type": "code",
   "execution_count": 8,
   "metadata": {},
   "outputs": [
    {
     "data": {
      "text/plain": [
       "3"
      ]
     },
     "execution_count": 8,
     "metadata": {},
     "output_type": "execute_result"
    }
   ],
   "source": [
    "Colecao.__len__ = obter_len\n",
    "x = Colecao()\n",
    "len(x)"
   ]
  },
  {
   "cell_type": "markdown",
   "metadata": {},
   "source": [
    "O monkey patching é possível já que todos métodos recebem o primeiro paramêtro especial chamado comumente de self que representa o objeto. Logo, qualquer função que trata o primeiro paramêtr como refêrencia a um objeto, pode ser incorparado dentro de uma classe. \n",
    "\n",
    "É possível utilizar o monkey patching também para definir novos atributos para uma classe. Para definir um valor default, basta atribuir um valor para `Classe.nomeAtributo`. Para alterar valores basta atribuir valores para o atributo usando a referência do objeto."
   ]
  },
  {
   "cell_type": "code",
   "execution_count": 13,
   "metadata": {},
   "outputs": [
    {
     "name": "stdout",
     "output_type": "stream",
     "text": [
      "3\n"
     ]
    }
   ],
   "source": [
    "x.tamanho = len(x)\n",
    "print(x.tamanho)"
   ]
  },
  {
   "cell_type": "markdown",
   "metadata": {},
   "source": [
    "## Consulta de Atributos\n",
    "As classes de Python podem ter atributos tantos orientados a instâncias (Ex: Atributo nome, onde cada objeto possuí um valor para nome) ou classes (onde todos os objetos compartilham  o mesmo valor)."
   ]
  },
  {
   "cell_type": "code",
   "execution_count": 20,
   "metadata": {},
   "outputs": [
    {
     "name": "stdout",
     "output_type": "stream",
     "text": [
      "2 1\n",
      "11 11\n"
     ]
    }
   ],
   "source": [
    "class Nova():\n",
    "    def __init__(self):\n",
    "        self.valor = 1\n",
    "\n",
    "Nova.ValorComum = 10\n",
    "\n",
    "x = Nova()\n",
    "y = Nova()\n",
    "\n",
    "x.valor += 1\n",
    "\n",
    "print(str(x.valor) + \" \" + str(y.valor))\n",
    "Nova.ValorComum += 1\n",
    "print(str(x.ValorComum) + \" \" + str(y.ValorComum))"
   ]
  },
  {
   "cell_type": "markdown",
   "metadata": {},
   "source": [
    "Note que ao referenciar o atributo da classe como sendo do objeto, o valor do objeto é atualizado usando o valor da classe, entretanto, o valor da classe não se altera. "
   ]
  },
  {
   "cell_type": "code",
   "execution_count": 21,
   "metadata": {},
   "outputs": [
    {
     "name": "stdout",
     "output_type": "stream",
     "text": [
      "12 11\n",
      "12 12\n"
     ]
    }
   ],
   "source": [
    "x.ValorComum += 1\n",
    "print(str(x.ValorComum) + \" \" + str(y.ValorComum))\n",
    "Nova.ValorComum += 1\n",
    "print(str(x.ValorComum) + \" \" + str(y.ValorComum))"
   ]
  },
  {
   "cell_type": "markdown",
   "metadata": {},
   "source": [
    "Para organizar como isto acontece, o Python mantém um dicionário interno para atributos de classe e outro para atributos de objeto. Para acessar cada um basta se acessar o atributo `__dict__`."
   ]
  },
  {
   "cell_type": "code",
   "execution_count": 23,
   "metadata": {},
   "outputs": [
    {
     "name": "stdout",
     "output_type": "stream",
     "text": [
      "{'__module__': '__main__', '__init__': <function Nova.__init__ at 0x000002936418A708>, '__dict__': <attribute '__dict__' of 'Nova' objects>, '__weakref__': <attribute '__weakref__' of 'Nova' objects>, '__doc__': None, 'ValorComum': 12}\n"
     ]
    }
   ],
   "source": [
    "print(Nova.__dict__)"
   ]
  },
  {
   "cell_type": "code",
   "execution_count": 24,
   "metadata": {},
   "outputs": [
    {
     "name": "stdout",
     "output_type": "stream",
     "text": [
      "{'valor': 2, 'ValorComum': 12}\n"
     ]
    }
   ],
   "source": [
    "print(x.__dict__)"
   ]
  },
  {
   "cell_type": "markdown",
   "metadata": {},
   "source": [
    "Para consultar um atributo de classe, o Python primeiro busca no dicionário pelo atributo. Se um valor não for encontrado, então é buscado no dicionário dos pais da classe. Para consultar um atributo de objeto, o Python busca primeiro no dicionário de instância da classe, se não encontrar, busca no dicionário de classe, e se não encontrar, repete o processo para os dicionários dos pais. \n",
    "\n",
    "Como os atributos são armazenados através de dicionários, é possível acessar o atributo e seus valores através do dicionário. Entretanto, acessar o atributo desta forma, não causa o processo de consulta, e o atributo não sera encontrado se ele não for da classe. "
   ]
  },
  {
   "cell_type": "code",
   "execution_count": 25,
   "metadata": {},
   "outputs": [
    {
     "name": "stdout",
     "output_type": "stream",
     "text": [
      "2\n"
     ]
    }
   ],
   "source": [
    "print(x.__dict__['valor'])"
   ]
  },
  {
   "cell_type": "markdown",
   "metadata": {},
   "source": [
    "## Acesso de Atributos desconhecidos\n",
    "Para lidar com o acesso de atributos não existentes, há outra forma (além do try catch para pegar o AtributteError) para lidar com o problema. Definindo o método `__getattr()__`, que é chamado quando um atributo não é encontrado nos dicionários, é possível realizar o que for necessário para lidar com estes problemas, como gerar uma mensagem de erro ou definir um valor default. "
   ]
  },
  {
   "cell_type": "code",
   "execution_count": 27,
   "metadata": {},
   "outputs": [
    {
     "name": "stdout",
     "output_type": "stream",
     "text": [
      "avulso\n",
      "default\n"
     ]
    }
   ],
   "source": [
    "class Nova():\n",
    "    def __init__(self):\n",
    "        self.valor = 1\n",
    "\n",
    "    def __getattr__(self, attribute):\n",
    "        print(attribute)\n",
    "        return 'default'\n",
    "    \n",
    "x = Nova()\n",
    "y = x.avulso\n",
    "print(y)"
   ]
  },
  {
   "cell_type": "markdown",
   "metadata": {},
   "source": [
    "Vale comentar qeu a chamada deste método faz parte do processo de consulta de atributos, logo, não é chamado se o acesso for diretamente através do dicionário. "
   ]
  },
  {
   "cell_type": "markdown",
   "metadata": {},
   "source": [
    "## Acesso de Métodos Desconhecidos\n",
    "O método `__getattr__()` também é invocado após métodos que não existem serém chamados. Para lidar com isto, é possível definir um método default na própria classe que é executado quando um método for chamado. Logo, ao invés de retornar um valor default, se retorna uma função default, que é executada já que o método não existente é chamado com `()`. Note quea refêrencia para um método default é retornada quando o valor é um atributo. "
   ]
  },
  {
   "cell_type": "code",
   "execution_count": 28,
   "metadata": {},
   "outputs": [
    {
     "name": "stdout",
     "output_type": "stream",
     "text": [
      "avulso\n",
      "<bound method Nova.met_def of <__main__.Nova object at 0x00000293640DCAC8>>\n",
      "avulso\n"
     ]
    },
    {
     "data": {
      "text/plain": [
       "'default'"
      ]
     },
     "execution_count": 28,
     "metadata": {},
     "output_type": "execute_result"
    }
   ],
   "source": [
    "class Nova():\n",
    "    def __init__(self):\n",
    "        self.valor = 1\n",
    "\n",
    "    def __getattr__(self, attribute):\n",
    "        print(attribute)\n",
    "        return self.met_def\n",
    "    \n",
    "    def met_def(self):\n",
    "        return 'default'\n",
    "    \n",
    "x = Nova()\n",
    "y = x.avulso\n",
    "print(y)\n",
    "x.avulso()"
   ]
  },
  {
   "cell_type": "markdown",
   "metadata": {},
   "source": [
    "## Interceptando o processo de consulta de atributo\n",
    "O processo de consulta de atributo pode ser modificado através do método `__getattribute__()`, que é chamado sempre que se acessa um atributo (e não somente quando ocorre um erro). Este método deve retornar o valor do atributo consultado pelo usuário, ou chamar `__getattr__()` caso o atributo não exista. Esta função é chamada sempre que se usa o `.` para acessar um atributo, logo, é importante não implementar recursividade dentro desta função, tentando acessar um atributo da própria classe usando `.`.  O processo é executado como normalmente seria ao chamar o método `__getattribute__()` da classe object no final do método."
   ]
  },
  {
   "cell_type": "code",
   "execution_count": 30,
   "metadata": {},
   "outputs": [
    {
     "name": "stdout",
     "output_type": "stream",
     "text": [
      "Consultando valor...\n",
      "1\n"
     ]
    }
   ],
   "source": [
    "class Nova():\n",
    "    def __init__(self):\n",
    "        self.valor = 1\n",
    "        \n",
    "    def __getattribute__(self, name):\n",
    "        print(\"Consultando \" + name + \"...\")\n",
    "        # Utilizando processo de consulta de atributo de object\n",
    "        return object.__getattribute__(self,name)\n",
    "\n",
    "    def __getattr__(self, attribute):\n",
    "        print(attribute)\n",
    "        return self.met_def\n",
    "    \n",
    "    def met_def(self):\n",
    "        return 'default'\n",
    "    \n",
    "x = Nova()\n",
    "print(x.valor)"
   ]
  },
  {
   "cell_type": "markdown",
   "metadata": {},
   "source": [
    "## Interceptando o processo de atualização de atributo\n",
    "Semelhante a forma vista anteriormente, também é possível interceptar o processo de definir valores para atributos através do método `__setattr__()`. Quando a notação de ponto é utilizada para atribuição de valores, este método é chamado. Note que o método é chamado até mesmo pelo método construtor. "
   ]
  },
  {
   "cell_type": "code",
   "execution_count": 6,
   "metadata": {},
   "outputs": [
    {
     "name": "stdout",
     "output_type": "stream",
     "text": [
      "Atualizando valor com valor 1...\n",
      "Atualizando valor com valor 5...\n"
     ]
    }
   ],
   "source": [
    "class Nova():\n",
    "    ops = 0\n",
    "    \n",
    "    def __init__(self):\n",
    "        self.valor = 1\n",
    "        Nova.ops = 1\n",
    "        \n",
    "    def __setattr__(self, atrib, valor):\n",
    "        print(\"Atualizando \" + str(atrib) + \" com valor \" + str(valor) + \"...\")\n",
    "        return object.__setattr__(self,atrib,valor)\n",
    "x = Nova()\n",
    "x.valor = 5"
   ]
  },
  {
   "cell_type": "markdown",
   "metadata": {},
   "source": [
    "Note que ao atualizar o valor de ops, o método não é chamado, já que este método só é chamado para atributos do objeto."
   ]
  },
  {
   "cell_type": "code",
   "execution_count": null,
   "metadata": {},
   "outputs": [],
   "source": []
  }
 ],
 "metadata": {
  "kernelspec": {
   "display_name": "Python 3",
   "language": "python",
   "name": "python3"
  },
  "language_info": {
   "codemirror_mode": {
    "name": "ipython",
    "version": 3
   },
   "file_extension": ".py",
   "mimetype": "text/x-python",
   "name": "python",
   "nbconvert_exporter": "python",
   "pygments_lexer": "ipython3",
   "version": "3.7.7"
  }
 },
 "nbformat": 4,
 "nbformat_minor": 4
}
