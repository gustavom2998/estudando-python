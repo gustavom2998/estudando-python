{
 "cells": [
  {
   "cell_type": "markdown",
   "metadata": {},
   "source": [
    "# Programação Orientada a Objetos - Sobrecarga de operadores\n",
    "A orientação a objetos é um paradigma de programação conhecido por seus quatro pilares principais: Encapsulamento; Abstração; Herença e Polimorfismo. O propósito deste paradigma é solucionar os problemas tradicionais da programação procedural, onde muitas vezes há pouco aproveitamento de código e fraca associação entre dados e às funções reponsáveis por manipular estes dados. Neste estudo, buscamos revisar os conceitos fundamentais da orientação a objetos e identificar como eles são implementados na linguagem Python."
   ]
  },
  {
   "cell_type": "markdown",
   "metadata": {},
   "source": [
    "## Sobrecarga de Operadores\n",
    "A sobrecarga de operadores permite adicionar à classes definida por usuários, um comportamento que aparentemente é natural, para utilizar operadores algebricos e lógicos. Outras linguagens optam por não permitir a sobrecarga de operadores, já que ela dá ao usuário da linguagem um liberdade que pode tornar a lógica confusa. \n",
    "\n",
    "Para definir a sobrecarga de operadores, para cada operadorar há um método que pode ser sobreescrito dentro da classe que representa o comportamento do operador. Por exemplo, o comportamento do operador `+` pode ser definido com o método `__add__` e o `-` com o `__sub__`, ambos recebendo como paramêtro o primeiro objeto, e depois o segundo."
   ]
  },
  {
   "cell_type": "code",
   "execution_count": 1,
   "metadata": {},
   "outputs": [
    {
     "name": "stdout",
     "output_type": "stream",
     "text": [
      "14\n",
      "6\n"
     ]
    }
   ],
   "source": [
    "class Numero:\n",
    "    def __init__(self, valor = 0):\n",
    "        self.valor = valor\n",
    "        \n",
    "    def __add__(self,other):\n",
    "        return Numero(self.valor + other.valor)\n",
    "    \n",
    "    def __sub__(self,other):\n",
    "        return Numero(self.valor - other.valor)\n",
    "        \n",
    "    def __str__(self):\n",
    "        return str(self.valor)\n",
    "    \n",
    "x = Numero(10)\n",
    "y = Numero(4)\n",
    "\n",
    "print(x + y)\n",
    "print(x - y)"
   ]
  },
  {
   "cell_type": "markdown",
   "metadata": {},
   "source": [
    "### Operadores numéricos:\n",
    "A baixo temos uma tabela com todos os operadores numéricos que podem ser sobrecarregados.\n",
    "\n",
    "| Operador | Expressão | Método de sobreescrita |\n",
    "| --- | --- | --- |\n",
    "| Soma | n1 + n2 | __add__(self, other) |\n",
    "| Subtração | n1 - n2 | __sub__(self, other) |\n",
    "| Multiplicação | n1 * n2 | __mul__(self, other) |\n",
    "| Potênciação | n1 ** n2 | __pow__(self, other) |\n",
    "| Divisão | n1 / n2 | __truediv__(self, other) |\n",
    "| Divisão inteira | n1 // n2 | __floordiv__(self, other) |\n",
    "| Resto de divisão | n1 % n2 | __mod__(self, other) |\n",
    "| Deslocameto de bit a esquerda | n1 << n2 | __lshift__(self, other) |\n",
    "| Deslocameto de bit a direita | n1 >> n2 | __rshift__(self, other) |"
   ]
  },
  {
   "cell_type": "markdown",
   "metadata": {},
   "source": [
    "### Operadores de Comparação\n",
    "De forma semelhante aos operadores numéricos, o operadores de comparação podem ser sobrecarregados.\n",
    "\n",
    "| Operador | Expressão | Método de sobreescrita |\n",
    "| --- | --- | --- |\n",
    "| Menor que | n1 < n2 | __lt__(self, other) |\n",
    "| Menor ou igual que | n1 <= n2 | __le__(self, other) |\n",
    "| Igual a | n1 == n2 | __eq__(self, other) |\n",
    "| Diferente de | n1 != n2 | __ne__(self, other) |\n",
    "| Maior que | n1 > n2 | __gt__(self, other) |\n",
    "| Maior ou igual que | n1 >= n2 | __ge__(self, other) |"
   ]
  },
  {
   "cell_type": "code",
   "execution_count": 2,
   "metadata": {},
   "outputs": [
    {
     "name": "stdout",
     "output_type": "stream",
     "text": [
      "False\n",
      "True\n"
     ]
    }
   ],
   "source": [
    "class Numero:\n",
    "    def __init__(self, valor = 0):\n",
    "        self.valor = valor\n",
    "        \n",
    "    def __eq__(self,other):\n",
    "        return self.valor == other.valor\n",
    "    \n",
    "    def __ge__(self,other):\n",
    "        return self.valor >= other.valor\n",
    "        \n",
    "    def __str__(self):\n",
    "        return str(self.valor)\n",
    "    \n",
    "x = Numero(10)\n",
    "y = Numero(4)\n",
    "\n",
    "print(x == y)\n",
    "print(x >= y)"
   ]
  },
  {
   "cell_type": "markdown",
   "metadata": {},
   "source": [
    "### Operadores Lógicos\n",
    "O teceiro tipo de operador que podemos sobrecarregar é os operadores lógicos. Neste caso é complexo implementar a lógica pois no exemplo utilizamos valores numéricos. \n",
    "\n",
    "| Operador | Expressão | Método de sobreescrita |\n",
    "| --- | --- | --- |\n",
    "| AND | n1 & n2 | __and__(self, other) |\n",
    "| OR | n1 $|$ n2 | __or__(self, other) |\n",
    "| XOR | n1 ^ n2 | __xor__(self, other) |\n",
    "| NOT | ~n1 | __invert__(self) |"
   ]
  },
  {
   "cell_type": "code",
   "execution_count": null,
   "metadata": {},
   "outputs": [],
   "source": []
  }
 ],
 "metadata": {
  "kernelspec": {
   "display_name": "Python 3",
   "language": "python",
   "name": "python3"
  },
  "language_info": {
   "codemirror_mode": {
    "name": "ipython",
    "version": 3
   },
   "file_extension": ".py",
   "mimetype": "text/x-python",
   "name": "python",
   "nbconvert_exporter": "python",
   "pygments_lexer": "ipython3",
   "version": "3.7.7"
  }
 },
 "nbformat": 4,
 "nbformat_minor": 4
}
