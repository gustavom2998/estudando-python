{
 "cells": [
  {
   "cell_type": "markdown",
   "metadata": {},
   "source": [
    "# Fundamentos de Programação - Laços Iterativos\n",
    "Neste notebook introduzimos mecânismos fundamentais para realizar tarefas de programação. Iniciamos vendo mecânismos de ramificação de lógica para realizar determinadas tarefas de acordo com a ocorrência de certas condições. Em seguida, vemos como o mecânismo de iteração é implementado para realizar uma sequência de tarefas até atingir certo objetivo. Então introduzimos como utilizar os mecânismo do paradigma funcional para minimizar e re-aproveitar código. Por ultimo, introduzimos os mecânismos implementados para utilizar o paradigma Orientado a Objetos."
   ]
  },
  {
   "cell_type": "markdown",
   "metadata": {},
   "source": [
    "Um laço é útil para realizar tarefas repetitivas, onde é necessário repetir um bloco de código até a tarefa ser concluída."
   ]
  },
  {
   "cell_type": "markdown",
   "metadata": {},
   "source": [
    "## Laço While\n",
    "Um laço `while:` é util para realizar uma tarefa enquanto uma condição for satisfeita. Ele deve ser utilizado da seguinte forma:\n",
    "\n",
    "```\n",
    "while <condição>:\n",
    "    <bloco código>\n",
    "```\n",
    "    \n",
    "A condição é passada como argumento antes do `:`, e a tarefa através do bloco de código identado depois do `:`. Enquanto a condição for verdadeira, o bloco de código será executado. No exemplo abaixo, imprimimos a váriavel iniciado em `0` e incrimentamos ela, até que esta váriavel seja igual a `3`. "
   ]
  },
  {
   "cell_type": "code",
   "execution_count": 9,
   "metadata": {},
   "outputs": [
    {
     "name": "stdout",
     "output_type": "stream",
     "text": [
      "0\n",
      "1\n",
      "2\n"
     ]
    }
   ],
   "source": [
    "aux = 0\n",
    "\n",
    "while aux<3:\n",
    "    print(aux)\n",
    "    aux += 1"
   ]
  },
  {
   "cell_type": "markdown",
   "metadata": {},
   "source": [
    "Podemos aplicar um laço while para encontrar o indíce de um determinado valor em uma lista, como vemos abaixo, onde busca se o indíce do valor \"RJ\" da lista."
   ]
  },
  {
   "cell_type": "code",
   "execution_count": 10,
   "metadata": {},
   "outputs": [
    {
     "name": "stdout",
     "output_type": "stream",
     "text": [
      "O indice de RJ é  2\n"
     ]
    }
   ],
   "source": [
    "lista = [\"SP\",\"ES\",\"RJ\",\"MG\"]\n",
    "i = 0;\n",
    "while lista[i] != \"RJ\":\n",
    "    i+=1\n",
    "print(\"O indice de RJ é \", i)"
   ]
  },
  {
   "cell_type": "markdown",
   "metadata": {},
   "source": [
    "## Laço For\n",
    "Um for é útil quando se deseja percorrer um intervalo para realizar uma tarefa. Este geralmente é uma estrutura iterável. O `for:` fornece um forma mais simplificada comparado ao `while:` para percorrer sequências, o que o torna útil, especificamente para percorrer sequências e intervalos.\n",
    "\n",
    "```\n",
    "for <iterador> in <intervalo>:\n",
    "    <bloco código>:\n",
    "```\n",
    "\n",
    "Um `for:` recebe como argumento antes do `:` um intervalo/sequência a ser percorrido. Após o `:`, um enter deve ser dado para definir um novo bloco de código. Um intervalo pode ser definido através da função `range()`. Para iterar o intervalo, se usa uma váriavel iteradora (uma váriavel qualquer, descártavel) seguido pelo operador `in`. "
   ]
  },
  {
   "cell_type": "code",
   "execution_count": 11,
   "metadata": {},
   "outputs": [
    {
     "name": "stdout",
     "output_type": "stream",
     "text": [
      "0\n",
      "2\n",
      "4\n",
      "6\n",
      "8\n"
     ]
    }
   ],
   "source": [
    "for i in range(0,10,2):\n",
    "    print(i)"
   ]
  },
  {
   "cell_type": "markdown",
   "metadata": {},
   "source": [
    "Não necessariamente o intervalo precisa ser definido com um `range()`. Pode se utilizar uma das estruturas de sequênciamento já estudas. Logo, é possível iterar, passando por cada elemento, e realizando uma operação com o bloco de código."
   ]
  },
  {
   "cell_type": "code",
   "execution_count": 1,
   "metadata": {},
   "outputs": [
    {
     "name": "stdout",
     "output_type": "stream",
     "text": [
      "Chave:  a  Valor: 1\n",
      "Chave:  b  Valor: 10\n",
      "Chave:  c  Valor: -5\n"
     ]
    }
   ],
   "source": [
    "aux = {\"a\":1, \"b\":10, \"c\":-5}\n",
    "\n",
    "for i in aux:\n",
    "    print(\"Chave: \",i, \" Valor:\", aux[i])"
   ]
  },
  {
   "cell_type": "markdown",
   "metadata": {},
   "source": [
    "## Função Break\n",
    "Esta função pode ser utilizada para forçar uma parada de um laço (tanto for quanto while). A partir do momento que a função é lida, ela para a execução do laço e continua com a primeira linha após o bloco de código do laço. Geralmente, se utiliza uma verificação de alguma condição, para então utilizar o `break`. A baixo temos um exemplo que na teoria executaria mil vezes, mas ao chegar ao break, força a parada do laço."
   ]
  },
  {
   "cell_type": "code",
   "execution_count": 13,
   "metadata": {},
   "outputs": [
    {
     "name": "stdout",
     "output_type": "stream",
     "text": [
      "0\n",
      "Finalizado\n"
     ]
    }
   ],
   "source": [
    "\n",
    "for i in range(1000):\n",
    "    print(i)\n",
    "    break\n",
    "    \n",
    "print(\"Finalizado\")"
   ]
  },
  {
   "cell_type": "markdown",
   "metadata": {},
   "source": [
    "## Função Continue\n",
    "Esta função serve para saltar uma iteração, de tal forma que o contador seja incrementado sem que o restando do código do bloco seja executado. Utilizamos isto para saltar a 3ª iteração no exemplo. "
   ]
  },
  {
   "cell_type": "code",
   "execution_count": 15,
   "metadata": {},
   "outputs": [
    {
     "name": "stdout",
     "output_type": "stream",
     "text": [
      "0\n",
      "1\n",
      "2\n",
      "4\n",
      "5\n"
     ]
    }
   ],
   "source": [
    "for i in range(6):\n",
    "    if(i == 3): continue\n",
    "    else: print(i)"
   ]
  },
  {
   "cell_type": "markdown",
   "metadata": {},
   "source": [
    "## Bloco Else\n",
    "Este bloco opcional é executado apenas após o ultimo valor da sequência ser iterado. No exemplo abaixo, utilizamos ele para imprimir uma mensagem de sucesso."
   ]
  },
  {
   "cell_type": "code",
   "execution_count": 20,
   "metadata": {},
   "outputs": [
    {
     "name": "stdout",
     "output_type": "stream",
     "text": [
      "10\n",
      "9\n",
      "8\n",
      "7\n",
      "6\n",
      "5\n",
      "4\n",
      "3\n",
      "2\n",
      "1\n",
      "LIFT OFF!\n"
     ]
    }
   ],
   "source": [
    "for i in range(10,0,-1):\n",
    "    print(i)\n",
    "else:\n",
    "    print(\"LIFT OFF!\")"
   ]
  }
 ],
 "metadata": {
  "kernelspec": {
   "display_name": "Python 3",
   "language": "python",
   "name": "python3"
  },
  "language_info": {
   "codemirror_mode": {
    "name": "ipython",
    "version": 3
   },
   "file_extension": ".py",
   "mimetype": "text/x-python",
   "name": "python",
   "nbconvert_exporter": "python",
   "pygments_lexer": "ipython3",
   "version": "3.7.7"
  }
 },
 "nbformat": 4,
 "nbformat_minor": 4
}
