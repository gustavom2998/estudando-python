{
 "cells": [
  {
   "cell_type": "markdown",
   "metadata": {},
   "source": [
    "# Programação - Tópicos Avançados: Funções de Ordem Superior\n",
    "Continuando nosso estudo sobre os fudamentos de programação, considere as seguintes aulas como sendo aulas de tópicos avançados. Iniciamos os estudos buscando compreender o escopo de váriaveis, ou seja, quais váriaveis o programa pode utilizar. Em seguida, analisamos as funções de ordem superior, onde a passagem de referência de funções como paramêtro ou retorno de funções é estudada.  Por ultimo, analisamos a técnica chamada de currying, para evitar repetição de código. \n",
    "\n",
    "## Objetos de funções\n",
    "Caso você tente imprimir uma função sem a passagem de paramêtros através de parêntesis, algo interessante ocorre. "
   ]
  },
  {
   "cell_type": "code",
   "execution_count": 1,
   "metadata": {},
   "outputs": [
    {
     "name": "stdout",
     "output_type": "stream",
     "text": [
      "<function test at 0x0000027818644318>\n"
     ]
    }
   ],
   "source": [
    "def test():\n",
    "    return 0\n",
    "\n",
    "print(test)"
   ]
  },
  {
   "cell_type": "markdown",
   "metadata": {},
   "source": [
    "O retorno obtido é o endereço (hexadecimal) da função. Tradicionalmente, funções são endereçadas de forma separada, tal que o endereço de funções geralmente não é acessível através do programa. \n",
    "\n",
    "A realidade é que qualquer função da linguagem Python é uma instância da classe função, associada ao seu devido endereço. Isto pode ser verificado imprimindo o tipo da função."
   ]
  },
  {
   "cell_type": "code",
   "execution_count": 2,
   "metadata": {},
   "outputs": [
    {
     "name": "stdout",
     "output_type": "stream",
     "text": [
      "<class 'function'>\n"
     ]
    }
   ],
   "source": [
    "print(type(test))"
   ]
  },
  {
   "cell_type": "markdown",
   "metadata": {},
   "source": [
    "Ter acesso ao endereço de funções é uma ferramenta extramente poderosa, pois permite a passagem do endereço (que é um tipo de dado) através de paramêtro. Após a passagem do paramêtro, basta utilizar o paratênsis para executar a função. "
   ]
  },
  {
   "cell_type": "code",
   "execution_count": 3,
   "metadata": {},
   "outputs": [
    {
     "name": "stdout",
     "output_type": "stream",
     "text": [
      "Hello.\n"
     ]
    }
   ],
   "source": [
    "def test():\n",
    "    print(\"Hello.\")\n",
    "\n",
    "def chama_func(func):\n",
    "    func()\n",
    "\n",
    "var_test = test\n",
    "chama_func(var_test)"
   ]
  },
  {
   "cell_type": "markdown",
   "metadata": {},
   "source": [
    "## Funções de Ordem Superior\n",
    "Ao associar referências de funções a váriaveis, se torna viável utilizar elas como paramêtros, ou como retorno de funções. Funções que podem receber, retornar referências de outras, ou realizar ambos, são chamadas de *funções de ordem superior*. Abaixo temos um exemplo deste tipo de função."
   ]
  },
  {
   "cell_type": "code",
   "execution_count": 20,
   "metadata": {},
   "outputs": [
    {
     "name": "stdout",
     "output_type": "stream",
     "text": [
      "[0, -1, -4, -9, -16]\n",
      "[0, 1, 4, 9, 16]\n"
     ]
    }
   ],
   "source": [
    "def ap_funcao(x,funcao):\n",
    "    return funcao(x)\n",
    "\n",
    "def funcao_1(x):\n",
    "    return (x*x)*(-1)\n",
    "\n",
    "def funcao_2(x):\n",
    "    return (x*x)\n",
    "\n",
    "x = [0,1,2,3,4]\n",
    "y1 = []\n",
    "y2 = []\n",
    "for i in x:\n",
    "    y1.append(ap_funcao(i,funcao_1))\n",
    "    y2.append(ap_funcao(i,funcao_2))\n",
    "    \n",
    "print(y1)\n",
    "print(y2)"
   ]
  },
  {
   "cell_type": "markdown",
   "metadata": {},
   "source": [
    "## Funções como argumentos\n",
    "Funções de ordem superior podem inicialmente aparentarem serem ineficientes, entretanto, são extremamente úteis quando não sabe se de antemão o que a função deveria fazer. Vamos supor que desejamos criar uma função quer percorre uma lista de valores, aplicando uma $f(x)$ sobre os valores, mas nos não queremos específicar a definição de $f(x)$ de antemão. Neste caso, é necessário passar a função definida pelo usuário de antemão. Para contornar este problema, se cria uma função que aplica $f(x)$ utilizando a referência da função, que será fornecida como argumento pelo usuário ao utilizar a função."
   ]
  },
  {
   "cell_type": "code",
   "execution_count": 23,
   "metadata": {},
   "outputs": [
    {
     "name": "stdout",
     "output_type": "stream",
     "text": [
      "[-1, 0, 1, 2, 3]\n"
     ]
    }
   ],
   "source": [
    "def ap_funcao(x,funcao):\n",
    "    y = []\n",
    "    for i in x:\n",
    "        y.append(funcao(i))\n",
    "    return y\n",
    "\n",
    "def funcao_user(x):\n",
    "    return x-2\n",
    "\n",
    "# Usuario pode customizar o corpo de funcao_user, para descrever sua funcao\n",
    "x = [1,2,3,4,5]\n",
    "print(ap_funcao(x,funcao_user))"
   ]
  },
  {
   "cell_type": "markdown",
   "metadata": {},
   "source": [
    "## Funções como retorno\n",
    "O uso de definição de funções através de retorno é extramemente interessante. Uma possível aplicação é para criação de *fabricas*, onde uma função é utilizada para criar multiplas funções, com base na necessidade do usuário. Isto permite fornecer uma forma do usuário solicitar a definição de um função, sem que ele tenha que sabe como que programar esta função."
   ]
  },
  {
   "cell_type": "code",
   "execution_count": 27,
   "metadata": {},
   "outputs": [
    {
     "name": "stdout",
     "output_type": "stream",
     "text": [
      "True\n"
     ]
    }
   ],
   "source": [
    "def cria_comparacoes(stringComp,val):\n",
    "    if stringComp == 'igual':\n",
    "        return lambda n:n==val\n",
    "    elif stringComp == 'Maior':\n",
    "        return lambda n:n>val\n",
    "    elif stringComp == 'Menor':\n",
    "        return lambda n:n<val\n",
    "\n",
    "maiorQue5 = cria_comparacoes('Maior',5)\n",
    "\n",
    "print(maiorQue5(20))"
   ]
  }
 ],
 "metadata": {
  "kernelspec": {
   "display_name": "Python 3",
   "language": "python",
   "name": "python3"
  },
  "language_info": {
   "codemirror_mode": {
    "name": "ipython",
    "version": 3
   },
   "file_extension": ".py",
   "mimetype": "text/x-python",
   "name": "python",
   "nbconvert_exporter": "python",
   "pygments_lexer": "ipython3",
   "version": "3.7.7"
  }
 },
 "nbformat": 4,
 "nbformat_minor": 4
}
