{
 "cells": [
  {
   "cell_type": "markdown",
   "metadata": {},
   "source": [
    "# NumPy: Comparação, Mascaras e Lógica Booleana\n",
    "Neste tópico, propomos o estudo do pacote `NumPy`, cujo objetivo é fornecer suporte para arrays multidimensionais, que possuem implementações prontas para operações básicas e funções de algebra linear extremamente úteis. Este pacote é a base de grande parte dos pacotes do Python que serão futuramente estudados. A implementação deste pacote é feita através de C, logo, ele é extremamente otimizado (devido a tipagém estática e uso de memória contigua), sendo ótimo para carregar, armazenear, e manipular dados dentro de memória no Python.\n",
    "\n",
    "## Mascaras Booleanas\n",
    "Neste tópico, analisamos como manipular valores do NumPy utilizando mascaras booleanas. Ou os de mascaras se torna útil quando se deseja extrair, modificar, contar, ou manipular valores em um array com base em algum critério, como por exemplo, contar todos valores acima de um certo valor, remover todos os valores que são ruídos, etc. "
   ]
  },
  {
   "cell_type": "code",
   "execution_count": null,
   "metadata": {},
   "outputs": [],
   "source": []
  },
  {
   "cell_type": "markdown",
   "metadata": {},
   "source": [
    "### Operadores de Comparação como UFuncs\n",
    "Há UFuncs especializadas para realizar comparações elemento a elemento, gerando um array de resultados.  Elas são semelhantes as operações aritméticas que vimos anteriomente. Listamos os pares de operação e as UFuncs que são chamadas ao utilizar a operação abaixo. \n",
    "\n",
    "| Operação | UFunc |\n",
    "| --- | --- |\n",
    "| `==` | 'np.equal' |\n",
    "| `!=` | 'np.not_equal' |\n",
    "| `<` | 'np.less' |\n",
    "| `<=` | 'np.less_equal' |\n",
    "| `>` | 'np.greater' |\n",
    "| `<=` | 'np.greater_equal' |"
   ]
  },
  {
   "cell_type": "markdown",
   "metadata": {},
   "source": [
    "Abaixo mostramos alguns exemplos da utilização dessas operações de comparação entre arrays."
   ]
  },
  {
   "cell_type": "code",
   "execution_count": 123,
   "metadata": {},
   "outputs": [
    {
     "name": "stdout",
     "output_type": "stream",
     "text": [
      "[[3 1 2 2]\n",
      " [4 2 2 3]\n",
      " [0 4 2 0]]\n",
      "[[0 2 3 1]\n",
      " [3 2 4 1]\n",
      " [1 2 2 4]]\n"
     ]
    }
   ],
   "source": [
    "x = np.random.randint(5,size=(3,4))\n",
    "print(x)\n",
    "y = np.random.randint(5,size=(3,4))\n",
    "print(y)"
   ]
  },
  {
   "cell_type": "code",
   "execution_count": 124,
   "metadata": {},
   "outputs": [
    {
     "data": {
      "text/plain": [
       "array([[False,  True, False, False],\n",
       "       [False, False, False, False],\n",
       "       [ True, False, False,  True]])"
      ]
     },
     "execution_count": 124,
     "metadata": {},
     "output_type": "execute_result"
    }
   ],
   "source": [
    "x <= 1"
   ]
  },
  {
   "cell_type": "code",
   "execution_count": 125,
   "metadata": {},
   "outputs": [
    {
     "data": {
      "text/plain": [
       "array([[ True,  True,  True,  True],\n",
       "       [ True, False,  True,  True],\n",
       "       [ True,  True, False,  True]])"
      ]
     },
     "execution_count": 125,
     "metadata": {},
     "output_type": "execute_result"
    }
   ],
   "source": [
    "x!=y"
   ]
  },
  {
   "cell_type": "markdown",
   "metadata": {},
   "source": [
    "### Exemplo de Contagem\n",
    "Note que os resultados são arrays booleanos. Como sabemos, booleanos podem ser facilmente transformados em inteiros onde 1 é true e 0 é false. Logo podemos utilizar este retorno para contagem através da UFunc `count_nonzero()`, responsável por contabilizar a quantidade de valores diferente de zero."
   ]
  },
  {
   "cell_type": "code",
   "execution_count": 126,
   "metadata": {},
   "outputs": [
    {
     "data": {
      "text/plain": [
       "3"
      ]
     },
     "execution_count": 126,
     "metadata": {},
     "output_type": "execute_result"
    }
   ],
   "source": [
    "np.count_nonzero(x <= 1)"
   ]
  },
  {
   "cell_type": "markdown",
   "metadata": {},
   "source": [
    "Outra forma de realizar esta contagem é através da UFunc `sum()`, que transforma os valores booleanos em 0 e 1's. Uma vatangem deste método é a possibilidade de realizar esta operação por linhas ou colunas. "
   ]
  },
  {
   "cell_type": "code",
   "execution_count": 127,
   "metadata": {},
   "outputs": [
    {
     "data": {
      "text/plain": [
       "array([2, 3, 3, 2])"
      ]
     },
     "execution_count": 127,
     "metadata": {},
     "output_type": "execute_result"
    }
   ],
   "source": [
    "np.sum(x >= 1, axis=0)"
   ]
  },
  {
   "cell_type": "markdown",
   "metadata": {},
   "source": [
    "Para verificar se algum, ou todos os valores, são verdadeiros, pode se utilizar a UFunc `any()` e `all()`. Ambas podem ser utilizadas com o paramêtro `axis`."
   ]
  },
  {
   "cell_type": "code",
   "execution_count": 128,
   "metadata": {},
   "outputs": [
    {
     "name": "stdout",
     "output_type": "stream",
     "text": [
      "False\n",
      "True\n"
     ]
    }
   ],
   "source": [
    "print(np.any(x==5))\n",
    "print(np.all(x>=0))"
   ]
  },
  {
   "cell_type": "markdown",
   "metadata": {},
   "source": [
    "## Operadores Booleanos\n",
    "Operadores booleanos permitem conferir se mais de um ou vários critérios de comparação são satisteitos ou insatisfeitos. Os operadores bitwise(bit a bit) do tipo `&` (`bitwise_and()`),`|` (`bitwise_or()`),`^`(`bitwise_xor()`) e `~`(`bitwise_not()`) são extendidos pelo NumPy para funcionar com os arrays. Note que os argumentos devem sempre estar entre paratêsis. "
   ]
  },
  {
   "cell_type": "code",
   "execution_count": 129,
   "metadata": {},
   "outputs": [
    {
     "data": {
      "text/plain": [
       "array([[False,  True, False, False],\n",
       "       [False, False, False, False],\n",
       "       [ True, False, False,  True]])"
      ]
     },
     "execution_count": 129,
     "metadata": {},
     "output_type": "execute_result"
    }
   ],
   "source": [
    "(x<=1) & (x!=y)"
   ]
  },
  {
   "cell_type": "markdown",
   "metadata": {},
   "source": [
    "> Obs: Vale ressaltar que para operadores booleanos de arrays, não podemos utilizar as palavras reservadas, já que estas tentam realizar a operação para os valores do objeto inteiro, e não há coerção válida para o objeto em booleano."
   ]
  },
  {
   "cell_type": "markdown",
   "metadata": {},
   "source": [
    "## Arrays Booleanos como Mascaras\n",
    "Até então, analisamos os valores agregados somados diretamente  para os vetores booleanos. Outra forma mais poderosa de utilizar os Arrays Booleanos é como mascaras, para selecionar subconjuntos dos dados. Ao indexar arrays utilizando arrays booleanos de mesmo tamanho, selecionamos um subconjunto do array onde os indíces condizem com os indíces do array booleano que possuí true. \n",
    "\n",
    "Abaixo demonstramos isso. Primeiro, geramos um array booleano que diz se o valor é menor que 2 ou não. Então, utilizamos esse array para indexar o nosso array de valores, assim obtendo apenas os valores menores que 2."
   ]
  },
  {
   "cell_type": "code",
   "execution_count": 130,
   "metadata": {},
   "outputs": [
    {
     "data": {
      "text/plain": [
       "array([1, 0, 0])"
      ]
     },
     "execution_count": 130,
     "metadata": {},
     "output_type": "execute_result"
    }
   ],
   "source": [
    "aux = x < 2\n",
    "x[aux]"
   ]
  },
  {
   "cell_type": "markdown",
   "metadata": {},
   "source": [
    "Também podemos fazer isto diretamente, tornando este mecânismo ainda mais poderoso. Este tipo de operação pode ser encadeada com as funções de agregação para calcular estátísticas interessantes para determinadas casos dos dados (exemplo: Média quando os valores são menor que x, valor máximo menor que y, etc)."
   ]
  },
  {
   "cell_type": "code",
   "execution_count": 131,
   "metadata": {},
   "outputs": [
    {
     "data": {
      "text/plain": [
       "array([3, 4, 3, 4])"
      ]
     },
     "execution_count": 131,
     "metadata": {},
     "output_type": "execute_result"
    }
   ],
   "source": [
    "x[x > 2]"
   ]
  },
  {
   "cell_type": "markdown",
   "metadata": {},
   "source": [
    "### Exemplo\n",
    "Abaixo, criamos um array preenchido com valores aleatórios, entre 0 e 7, e há diversas formas de explorar estes dados. Algo interessante é tentar utilizar as funções universais estudadas."
   ]
  },
  {
   "cell_type": "code",
   "execution_count": 132,
   "metadata": {},
   "outputs": [
    {
     "data": {
      "text/plain": [
       "6.7653937340397245"
      ]
     },
     "execution_count": 132,
     "metadata": {},
     "output_type": "execute_result"
    }
   ],
   "source": [
    "import numpy as np\n",
    "np.random.seed(0)\n",
    "x = np.random.exponential(1.0,365)\n",
    "np.max(x)"
   ]
  },
  {
   "cell_type": "markdown",
   "metadata": {},
   "source": [
    "Por exemplo, vamos considerar que os dados dentro do array são milimetros de chuva ao longo do ano. Também vamos considerar que um dia é considerado chuvoso quando a quantidade de chuva é maior que 1mm. Podemos escrever algumas operações que resumem os dados. Cada posição no array é um dia de chuva, e consideramos que o ano inicia como verão até o dia 90, depois vem o outono até o dia 180, inverno até 270 e primavera até 365."
   ]
  },
  {
   "cell_type": "code",
   "execution_count": 133,
   "metadata": {},
   "outputs": [
    {
     "name": "stdout",
     "output_type": "stream",
     "text": [
      "Chuva média durante o verão:  0.68508194048822\n",
      "Chuva média durante o inverno:  0.6438185335437228\n",
      "Chuva máxima durante a primavera: 4.007949815313653\n",
      "Chuva mínima fora do verão: 6.7653937340397245\n"
     ]
    }
   ],
   "source": [
    "print(\"Chuva média durante o verão: \", np.median(x[np.arange(365) < 90]))\n",
    "print(\"Chuva média durante o inverno: \", np.median(x[(np.arange(365) >= 180) & (np.arange(365) < 270)]))\n",
    "print(\"Chuva máxima durante a primavera:\", np.max(x[np.arange(365) >= 270]))\n",
    "print(\"Chuva mínima fora do verão:\", np.max(x[np.arange(365) >= 90]))"
   ]
  }
 ],
 "metadata": {
  "kernelspec": {
   "display_name": "Python 3",
   "language": "python",
   "name": "python3"
  },
  "language_info": {
   "codemirror_mode": {
    "name": "ipython",
    "version": 3
   },
   "file_extension": ".py",
   "mimetype": "text/x-python",
   "name": "python",
   "nbconvert_exporter": "python",
   "pygments_lexer": "ipython3",
   "version": "3.7.7"
  }
 },
 "nbformat": 4,
 "nbformat_minor": 4
}
