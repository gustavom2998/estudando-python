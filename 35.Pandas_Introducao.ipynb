{
 "cells": [
  {
   "cell_type": "markdown",
   "metadata": {},
   "source": [
    "# Pandas: Introdução\n",
    "O Pandas é um pacote que fornece estruturas de dados e ferramentas de análise de dados de alto desempenho para Python. Este módulo realiza isto através de um objeto chamado DataFrame, que lembra a estrutura de uma tabela, ótima para trabalhar com dados. Prentedemos estudar neste tópico como reestruturar um conjunto de dados, através de agregação, união, modifcação. O pandas permite trabalhar com multiplos tipos de arquivos como CSVs, TXTs, Arquivo do Excel e Bases de Dados SQL."
   ]
  }
 ],
 "metadata": {
  "kernelspec": {
   "display_name": "Python 3",
   "language": "python",
   "name": "python3"
  },
  "language_info": {
   "codemirror_mode": {
    "name": "ipython",
    "version": 3
   },
   "file_extension": ".py",
   "mimetype": "text/x-python",
   "name": "python",
   "nbconvert_exporter": "python",
   "pygments_lexer": "ipython3",
   "version": "3.7.7"
  }
 },
 "nbformat": 4,
 "nbformat_minor": 4
}
