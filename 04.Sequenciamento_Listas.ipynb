{
 "cells": [
  {
   "cell_type": "markdown",
   "metadata": {},
   "source": [
    "# Sequenciamento - Listas\n",
    "Neste notebook estudamos algumas estruturas de dados da linguagem Python utilizadas para **sequenciamento**. Segundo a documentação, estruturas de **sequenciamento** compartilham certas propriedades como indexação, fatiamento, concatenação e muito mais. \n",
    "> Observação: Para ler mais sobre as estruturas de sequenciamento, recomendo a leitura da documentação sobre estes tipos de dados na documentação do Python 3 ([link](https://docs.python.org/3/library/stdtypes.html#typesseq)).\n",
    "\n",
    "Nos estudos, buscamos entender como utilizar estas estruturas e suas principais diferenças."
   ]
  },
  {
   "cell_type": "markdown",
   "metadata": {},
   "source": [
    "## Listas\n",
    "As listas também são estruturas de dados de **sequenciamento** segundo a documentação do Python. Como vimos para as tuplas, que também são estruturas de sequenciamento, a maioria das propriedades vistas(Indexação; Concatenação; Ordenação e Aninhamento) se estendem para listas. Entretanto, as listas possuem algumas particularidades (como a mutabilidade) que as diferenciam de tuplas.\n",
    "> Observação: Segue o link da documentação sobre listas ([link](https://docs.python.org/3/tutorial/datastructures.html#more-on-lists)).\n",
    "\n",
    "### Definição de Listas\n",
    "As **listas** podem ser identificadas por sequência de elementos separados por vírgulas entre chaves(`[]`). Um elemento pode ser qualquer valor, de qualquer tipo de dado como strings, booleanos, floats, etc. "
   ]
  },
  {
   "cell_type": "code",
   "execution_count": 1,
   "metadata": {},
   "outputs": [
    {
     "data": {
      "text/plain": [
       "list"
      ]
     },
     "execution_count": 1,
     "metadata": {},
     "output_type": "execute_result"
    }
   ],
   "source": [
    "lista = [\"A\",2,True]\n",
    "type(lista)"
   ]
  },
  {
   "cell_type": "markdown",
   "metadata": {},
   "source": [
    "Diferente das tuplas, as listas são **mutáveis**, ou seja, é possível modificar um elemento de uma tupla existente."
   ]
  },
  {
   "cell_type": "code",
   "execution_count": 3,
   "metadata": {},
   "outputs": [
    {
     "name": "stdout",
     "output_type": "stream",
     "text": [
      "['B', 2, True]\n"
     ]
    }
   ],
   "source": [
    "# Vai modificar o primeiro item da lista nova\n",
    "listaAux = lista\n",
    "listaAux [0] = \"B\"\n",
    "print(listaAux)"
   ]
  },
  {
   "cell_type": "markdown",
   "metadata": {},
   "source": [
    "Um efeito colateral das listas serem mutáveis é o **aliasing**. Ao modificar o conteúdo de `listaAux`, também modificamos por consequência o conteúdo da lista original `lista`. Por isso, devemos tomar cuidado quando copiamos o conteúdo de uma lista através da atribuição. Uma vantagem deste efeito é que ao utilizar um método de uma lista, geralmente não é necessário reatribuir a lista para a váriavel. "
   ]
  },
  {
   "cell_type": "code",
   "execution_count": 4,
   "metadata": {},
   "outputs": [
    {
     "name": "stdout",
     "output_type": "stream",
     "text": [
      "['B', 2, True] ['B', 2, True]\n"
     ]
    }
   ],
   "source": [
    "print(lista, listaAux)"
   ]
  },
  {
   "cell_type": "markdown",
   "metadata": {},
   "source": [
    "Para resolver este problema podemos utilizar o método **construtor** de uma lista para criar uma nova lista a partir de uma lista existente. O método é definido pela função `list()` que recebe como paramêtro os elementos separados por vírgula, ou a estrutura iterável (que no caso, é a própria lista)."
   ]
  },
  {
   "cell_type": "code",
   "execution_count": 3,
   "metadata": {},
   "outputs": [
    {
     "name": "stdout",
     "output_type": "stream",
     "text": [
      "['A', 1, False] ['C', 1, False]\n"
     ]
    }
   ],
   "source": [
    "listaAux = list(lista)\n",
    "listaAux[0] = \"C\"\n",
    "print(lista,listaAux)"
   ]
  },
  {
   "cell_type": "markdown",
   "metadata": {},
   "source": [
    "O método construtor também é capaz de construir uma lista através de qualquer tipo iterável(listas, tuplas, etc.). "
   ]
  },
  {
   "cell_type": "code",
   "execution_count": 2,
   "metadata": {},
   "outputs": [
    {
     "name": "stdout",
     "output_type": "stream",
     "text": [
      "['A', 1, False]\n"
     ]
    }
   ],
   "source": [
    "tupla = (\"A\",1,False)\n",
    "lista = list(tupla)\n",
    "print(lista)"
   ]
  },
  {
   "cell_type": "markdown",
   "metadata": {},
   "source": [
    "## Propriedades de Sequenciamento\n",
    "Aqui, iremos reapresentar como utilizar certas das listas. Apresentamos apenas um breve resumo sobre cada propriedade pois já vimos o que elas fazem no estudo de tuplas."
   ]
  },
  {
   "cell_type": "markdown",
   "metadata": {},
   "source": [
    "### Indexação\n",
    "A indexação permite acessar um elemento, ou um subconjunto de elementos (através do **fatiamento**). A indexação ocorre quando utilizamos o operador `[]` e o fatiamento ocorre quando colocamos três valores de indice (`inicio : fim : incremento`) entre o operador de indexação."
   ]
  },
  {
   "cell_type": "code",
   "execution_count": 4,
   "metadata": {},
   "outputs": [
    {
     "name": "stdout",
     "output_type": "stream",
     "text": [
      "A \n",
      " ['A', 1, False]\n"
     ]
    }
   ],
   "source": [
    "print(lista[0],\"\\n\",lista[:3:])"
   ]
  },
  {
   "cell_type": "markdown",
   "metadata": {},
   "source": [
    "Como as lisetas são mutáveis, também podemos utilizar a indexação para modificar elementos como vimos no exemplo que estudamos aliasing."
   ]
  },
  {
   "cell_type": "markdown",
   "metadata": {},
   "source": [
    "### Concatenação e Replicação\n",
    "A concatenação consiste em unir duas listas em uma única lista. Podemos fazer isto através do operador `+`."
   ]
  },
  {
   "cell_type": "code",
   "execution_count": 6,
   "metadata": {},
   "outputs": [
    {
     "name": "stdout",
     "output_type": "stream",
     "text": [
      "[1, 2, 3, 4, 5]\n"
     ]
    }
   ],
   "source": [
    "lista = [1,2,3] + [4,5]\n",
    "print(lista)"
   ]
  },
  {
   "cell_type": "markdown",
   "metadata": {},
   "source": [
    "A replicação consiste em unir uma lista *n* vezes com si mesma, onde *n* é um inteiro que fica ao outro lado do operador `*`. Em um lado temos o `n` e no outro temos a lista."
   ]
  },
  {
   "cell_type": "code",
   "execution_count": 7,
   "metadata": {},
   "outputs": [
    {
     "name": "stdout",
     "output_type": "stream",
     "text": [
      "[1, 2, 3, 4, 5, 1, 2, 3, 4, 5, 1, 2, 3, 4, 5]\n"
     ]
    }
   ],
   "source": [
    "print(lista*3)"
   ]
  },
  {
   "cell_type": "markdown",
   "metadata": {},
   "source": [
    "### Aninhamento\n",
    "Como nas tuplas, as listas podem ser aninhadas. Para indexar estas listas, ao acessar um elemento que possui uma lista ou qualquer outra estruura de sequenciamento, utilizamos novamento o operador de indexação."
   ]
  },
  {
   "cell_type": "code",
   "execution_count": 13,
   "metadata": {},
   "outputs": [
    {
     "name": "stdout",
     "output_type": "stream",
     "text": [
      "[0, 0] \n",
      " 1\n"
     ]
    }
   ],
   "source": [
    "lista = [[0,0],[0,1],[1,0],[1,1]]\n",
    "print(lista[0],\"\\n\",lista[1][1])"
   ]
  },
  {
   "cell_type": "markdown",
   "metadata": {},
   "source": [
    "## Métodos de listas\n",
    "Um destaque válido de se fazer é que ao utilizar métodos de listas, pelo fato delas serem mutáveis, ao modificar o valor da lista com um método, não é necessãrio fazer a retribuição para váriavel. Isto ocorre pois, ao modificar o conteúdo da lista usando um método,o valor que se encontra ná variável também é modificado. \n",
    "\n",
    "### `append()`\n",
    "Este método pode ser utilizado para inserir um único elemento ao final da lista. Ele recebe apenas um paramêtro, que é o elemento a ser inserido."
   ]
  },
  {
   "cell_type": "code",
   "execution_count": 19,
   "metadata": {},
   "outputs": [
    {
     "name": "stdout",
     "output_type": "stream",
     "text": [
      "[1, 0, 0]\n"
     ]
    }
   ],
   "source": [
    "lista.append([1,0,0])\n",
    "print(lista[-1])"
   ]
  },
  {
   "cell_type": "markdown",
   "metadata": {},
   "source": [
    "### `clear()`\n",
    "Este método é útil para esvaziar os conteúdos de uma lista. Ele não recebe nenhum paramêtro."
   ]
  },
  {
   "cell_type": "code",
   "execution_count": 20,
   "metadata": {},
   "outputs": [
    {
     "name": "stdout",
     "output_type": "stream",
     "text": [
      "['A', [1, 0, 0]]\n",
      "['A']\n"
     ]
    }
   ],
   "source": [
    "print(lista)\n",
    "lista.clear()\n",
    "lista.append(\"A\")\n",
    "print(lista)"
   ]
  },
  {
   "cell_type": "markdown",
   "metadata": {},
   "source": [
    "### `copy()`\n",
    "Este método retorna uma nova lista contendo os mesmos elementos que a lista copiada. Ele é útil para evitar que a modificação de uma váriavel afete a outra (que ocorre quando há atribuição direta). Ele não recebe nenhum paramêtro."
   ]
  },
  {
   "cell_type": "code",
   "execution_count": 18,
   "metadata": {},
   "outputs": [
    {
     "name": "stdout",
     "output_type": "stream",
     "text": [
      "['A']\n",
      "['A'] ['Z']\n"
     ]
    }
   ],
   "source": [
    "lista2 = lista.copy()\n",
    "print(lista2)\n",
    "lista2[0]=\"Z\"\n",
    "print(lista, lista2)"
   ]
  },
  {
   "cell_type": "markdown",
   "metadata": {},
   "source": [
    "### `count()`\n",
    "Este método funciona como visto para tuplas. Ele recebe um paramêtro que é o elemento a ser buscado, retornando o numero de vezes que este elemento aparece na tupla."
   ]
  },
  {
   "cell_type": "code",
   "execution_count": 21,
   "metadata": {},
   "outputs": [
    {
     "name": "stdout",
     "output_type": "stream",
     "text": [
      "3\n"
     ]
    }
   ],
   "source": [
    "# Note que ele não vai contar os valores nas listas aninhadas\n",
    "lista = [[1,2],1,2,[1,2,3],1,1]\n",
    "print(lista.count(1)) "
   ]
  },
  {
   "cell_type": "markdown",
   "metadata": {},
   "source": [
    "### `extend()`\n",
    "Este método é util pois adiciona todos elementos de um iterável já existente (como uma lista) que é passado como paramêtro para a lista. Os elementos são adicionados ao final da lista de forma sequêncial. O único paramêtro recebido é iterável com os elementos a serem adicionados. \n",
    "\n",
    "Normalmente, ao inserir um elemento iterável com `append()`, como por exemplo uma lista, a lista inteira é adicionada em uma única posição. Este método percorre adicionando item por item. "
   ]
  },
  {
   "cell_type": "code",
   "execution_count": 30,
   "metadata": {},
   "outputs": [
    {
     "name": "stdout",
     "output_type": "stream",
     "text": [
      "[0, 0, 0, 1, 1, 1]\n"
     ]
    }
   ],
   "source": [
    "lista = [0,0,0]\n",
    "lista.extend([1,1,1])\n",
    "print(lista)"
   ]
  },
  {
   "cell_type": "markdown",
   "metadata": {},
   "source": [
    "### `index()`\n",
    "Retorna o primeiro indíce de um elemento passado como paramêtro. Caso o elemento não exista na lista, ocorre um erro de valor. O método recebe um único paramêtro."
   ]
  },
  {
   "cell_type": "code",
   "execution_count": 31,
   "metadata": {},
   "outputs": [
    {
     "name": "stdout",
     "output_type": "stream",
     "text": [
      "3\n"
     ]
    }
   ],
   "source": [
    "print(lista.index(1))"
   ]
  },
  {
   "cell_type": "markdown",
   "metadata": {},
   "source": [
    "### `insert()`\n",
    "Realiza a inserção de um elemento em uma posição dado o indíce da posição. O primeiro paramêtro é um valor numérico que representa o indíce em que deve ocorrer a inserção, e o segundo é o elemento a ser inserido. Não há retorno para esta função."
   ]
  },
  {
   "cell_type": "code",
   "execution_count": 32,
   "metadata": {},
   "outputs": [
    {
     "name": "stdout",
     "output_type": "stream",
     "text": [
      "[0, 0, 0, [2, 2], 1, 1, 1]\n"
     ]
    }
   ],
   "source": [
    "lista.insert(3,[2,2])\n",
    "print(lista)"
   ]
  },
  {
   "cell_type": "markdown",
   "metadata": {},
   "source": [
    "### `pop()`\n",
    "Remove e retorna o item na ultima posição da lista, ou então, quando um paramêtro numérico é passado, remove e retorna o elemento no indíce passado."
   ]
  },
  {
   "cell_type": "code",
   "execution_count": 33,
   "metadata": {},
   "outputs": [
    {
     "name": "stdout",
     "output_type": "stream",
     "text": [
      "[0, 0, 0, [2, 2], 1, 1]  Removido:  1\n",
      "[0, 0, 0, 1, 1]  Removido:  [2, 2]\n"
     ]
    }
   ],
   "source": [
    "ult = lista.pop()\n",
    "print(lista, \" Removido: \", ult)\n",
    "rem = lista.pop(3)\n",
    "print(lista, \" Removido: \", rem)"
   ]
  },
  {
   "cell_type": "markdown",
   "metadata": {},
   "source": [
    "### `remove()`\n",
    "Remove (sem retorno de valor) o primeiro item da lista que possui o valor passado como paramêtro. Se o valor não existe na lista, um erro é retornado."
   ]
  },
  {
   "cell_type": "code",
   "execution_count": 34,
   "metadata": {},
   "outputs": [
    {
     "name": "stdout",
     "output_type": "stream",
     "text": [
      "[0, 0, 0, 1]\n"
     ]
    }
   ],
   "source": [
    "lista.remove(1)\n",
    "print(lista)"
   ]
  },
  {
   "cell_type": "markdown",
   "metadata": {},
   "source": [
    "### `reverse()`\n",
    "Pega todos elementos da lista e inverte a ordem. Não há retorno para esta função e ela não recebe nenhum paramêtro."
   ]
  },
  {
   "cell_type": "code",
   "execution_count": 35,
   "metadata": {},
   "outputs": [
    {
     "name": "stdout",
     "output_type": "stream",
     "text": [
      "[1, 0, 0, 0]\n"
     ]
    }
   ],
   "source": [
    "lista.reverse()\n",
    "print(lista)"
   ]
  },
  {
   "cell_type": "markdown",
   "metadata": {},
   "source": [
    "### `sort()`\n",
    "Funciona da mesma forma que o método `sort()` para tuplas. Pode receber três parametros:\n",
    "1. cmp: Função que recebe dois paramêtro e realiza alguma comparação entre os dois, retornando um valor positivo, zero ou negativo indicando que o primeiro valor é maior, igual ou menor que o segundo. Valor defualt é `none` (que indica vazio).\n",
    "2. key: Função que recebe um único paramêtro que é o elemento, e retorna um valor para ser utilizado na hora de ordenar os elmentos. Valor defualt é `none`.\n",
    "3. reverse: Variável booleana que indica `True` se os valores devem ser ordenados em ordem decrescente."
   ]
  },
  {
   "cell_type": "code",
   "execution_count": 37,
   "metadata": {},
   "outputs": [
    {
     "name": "stdout",
     "output_type": "stream",
     "text": [
      "[0, 0, 0, 1]\n"
     ]
    }
   ],
   "source": [
    "lista.sort()\n",
    "print(lista)"
   ]
  },
  {
   "cell_type": "markdown",
   "metadata": {},
   "source": [
    "### split()\n",
    "Este método não é do tipo lista, mas achamos melhor apresentar ele aqui. Ele pega uma string, e divide ela em uma lista de caracteres. Ele pode receber dois paramêtros, o primeiro é um caractere para ser utilizado como separador, cujo valor default é espaço, e o segun é o numero máximo de divisões que podem ocorrer, cujo valor default é -1 que indica dividir todas ocorrências do separador.  "
   ]
  },
  {
   "cell_type": "code",
   "execution_count": 40,
   "metadata": {},
   "outputs": [
    {
     "name": "stdout",
     "output_type": "stream",
     "text": [
      "['A', 'B', 'C', 'D;E']\n"
     ]
    }
   ],
   "source": [
    "string = \"A;B;C;D;E\"\n",
    "lista = string.split(\";\", 3)\n",
    "print(lista)"
   ]
  }
 ],
 "metadata": {
  "kernelspec": {
   "display_name": "Python 3",
   "language": "python",
   "name": "python3"
  },
  "language_info": {
   "codemirror_mode": {
    "name": "ipython",
    "version": 3
   },
   "file_extension": ".py",
   "mimetype": "text/x-python",
   "name": "python",
   "nbconvert_exporter": "python",
   "pygments_lexer": "ipython3",
   "version": "3.7.7"
  }
 },
 "nbformat": 4,
 "nbformat_minor": 4
}
