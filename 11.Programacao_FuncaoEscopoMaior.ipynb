{
 "cells": [
  {
   "cell_type": "markdown",
   "metadata": {},
   "source": [
    "# Programação - Tópicos Avançados: Funções de Escopo Maior\n",
    "Continuando nosso estudo sobre os fudamentos de programação, considere as seguintes aulas como sendo aulas de tópicos avançados. Iniciamos os estudos buscando compreender o escopo de váriaveis, ou seja, quais váriaveis o programa pode utilizar.Em seguida, anlisamos as funções de escopo maior, onde a passagem de referência de funções como paramêtro é estudada.  Por ultimo, analisamos a técnica chamada de currying, para evitar repetição de código. \n",
    "\n",
    "## Objetos de funções\n",
    "Caso você tente imprimir uma função sem a passagem de paramêtros através de parêntesis, algo interessante ocorre. "
   ]
  },
  {
   "cell_type": "code",
   "execution_count": 1,
   "metadata": {},
   "outputs": [
    {
     "name": "stdout",
     "output_type": "stream",
     "text": [
      "<function test at 0x00000295F742DE58>\n"
     ]
    }
   ],
   "source": [
    "def test():\n",
    "    return 0\n",
    "\n",
    "print(test)"
   ]
  },
  {
   "cell_type": "markdown",
   "metadata": {},
   "source": [
    "O retorno obtido é o endereço (hexadecimal) da função. Tradicionalmente, funções são endereçadas de forma separada, tal que o endereço de funções geralmente não é acessível através do programa. \n",
    "\n",
    "A realidade é que qualquer função da linguagem Python é uma instância da classe função, associada ao seu devido endereço. Isto pode ser verificado imprimindo o tipo da função."
   ]
  },
  {
   "cell_type": "code",
   "execution_count": 2,
   "metadata": {},
   "outputs": [
    {
     "name": "stdout",
     "output_type": "stream",
     "text": [
      "<class 'function'>\n"
     ]
    }
   ],
   "source": [
    "print(type(test))"
   ]
  },
  {
   "cell_type": "markdown",
   "metadata": {},
   "source": [
    "Ter acesso ao endereço de funções é uma ferramenta extramente poderosa, pois permite a passagem do endereço (que é um tipo de dado) através de paramêtro. Após a passagem do paramêtro, basta utilizar o paratênsis para executar a função. "
   ]
  },
  {
   "cell_type": "code",
   "execution_count": 6,
   "metadata": {},
   "outputs": [
    {
     "name": "stdout",
     "output_type": "stream",
     "text": [
      "Hello.\n"
     ]
    }
   ],
   "source": [
    "def test():\n",
    "    print(\"Hello.\")\n",
    "\n",
    "def chama_func(func):\n",
    "    func()\n",
    "\n",
    "var_test = test\n",
    "chama_func(var_test)"
   ]
  },
  {
   "cell_type": "markdown",
   "metadata": {},
   "source": [
    "## Exemplo de Função de Ordem Maior"
   ]
  }
 ],
 "metadata": {
  "kernelspec": {
   "display_name": "Python 3",
   "language": "python",
   "name": "python3"
  },
  "language_info": {
   "codemirror_mode": {
    "name": "ipython",
    "version": 3
   },
   "file_extension": ".py",
   "mimetype": "text/x-python",
   "name": "python",
   "nbconvert_exporter": "python",
   "pygments_lexer": "ipython3",
   "version": "3.7.7"
  }
 },
 "nbformat": 4,
 "nbformat_minor": 4
}
