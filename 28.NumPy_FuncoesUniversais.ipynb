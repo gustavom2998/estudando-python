{
 "cells": [
  {
   "cell_type": "markdown",
   "metadata": {},
   "source": [
    "# NumPy: Funções Universais (UFuncs)\n",
    "Neste tópico, propomos o estudo do pacote `NumPy`, cujo objetivo é fornecer suporte para arrays multidimensionais, que possuem implementações prontas para operações básicas e funções de algebra linear extremamente úteis. Este pacote é a base de grande parte dos pacotes do Python que serão futuramente estudados. A implementação deste pacote é feita através de C, logo, ele é extremamente otimizado (devido a tipagém estática e uso de memória contigua), sendo ótimo para carregar, armazenear, e manipular dados dentro de memória no Python."
   ]
  },
  {
   "cell_type": "markdown",
   "metadata": {},
   "source": [
    "## Funções Universais\n",
    "Até então, analisamos a estrutura básica do NumPy, como definir arrays utilizando ele e o funcionamento básico. A principal aplicação do NumPy é devido ao seu ótimo desempenho para computar cálculos. Entretanto, para atingir este alto desempenho, é necessário utilizar operações vetorizadas, que normalmente são implementadas através das funções universais do NumPy (módulo `ufuncs`).\n",
    "\n",
    "A lerdeza do Python normalmente se destaca ao fazer pequenas operações de forma repetida, como por exemplo em laços de iteração, que é principalmente causada pela checagem de tipos que é necessário que o CPython faça para cada ciclo do laço. \n",
    "\n",
    "Como o NumPy possuí arrays de tipo fixo, funções compiladas que se aproveitam desta vantagem podem otimizar essas operações. Essas funções são chamadas de operações vetorizadas, e permitem indicar uma operação, e o NumPy cuida de aplicar a operação sobre cada elemento. \n",
    "\n",
    "## Tipos de UFuncs\n",
    "Há dois tipos principais de funções universais: Unárias e Binárias. Funções universais unárias operam sobre uma única entrada (array), enquanto as binárias operam sobre duas entradas.\n",
    "> Dica: Para uma lista de UFuncs completa, favor acessar o [link](https://numpy.org/doc/stable/reference/ufuncs.html#available-ufuncs). Lá há mais informações sobre UFuncs para operações matemáticas; funções trigonômétricas; Operações de Bits; Funções de Comparações e Funções para Floats. Outra dica é a utilização do submódulo `special` ([link](https://docs.scipy.org/doc/scipy/reference/special.html)) dentro do módulo `scipy`, onde há inumeras funções matemáticas que o NumPy não implementa. \n",
    "\n",
    "## Aritmética de Arrays\n",
    "As operações aritméticas simples são extendidas para arrays, e permitem por exemplo adicionar, subtrair, dividir e multiplicar um valor inteiro em todos elementos do array com uma única linha."
   ]
  },
  {
   "cell_type": "code",
   "execution_count": 23,
   "metadata": {},
   "outputs": [
    {
     "data": {
      "text/plain": [
       "array([0, 1, 2, 3, 4])"
      ]
     },
     "execution_count": 23,
     "metadata": {},
     "output_type": "execute_result"
    }
   ],
   "source": [
    "import numpy as np\n",
    "x = np.arange(5)\n",
    "x"
   ]
  },
  {
   "cell_type": "markdown",
   "metadata": {},
   "source": [
    "A adição, multiplicação, subtração, divisão, divisão inteira, potênciação e resto de divisão pode ser feita da mesma forma que os valores padrões do Python, e o valor opera sobre cada elemento do array. É possível até mesmo encadear essas operações. Todas esses funções são decoradores para funções do NumPy que realizam estas operações. "
   ]
  },
  {
   "cell_type": "code",
   "execution_count": 24,
   "metadata": {},
   "outputs": [
    {
     "data": {
      "text/plain": [
       "array([5, 6, 7, 8, 9])"
      ]
     },
     "execution_count": 24,
     "metadata": {},
     "output_type": "execute_result"
    }
   ],
   "source": [
    "x + 5"
   ]
  },
  {
   "cell_type": "code",
   "execution_count": 25,
   "metadata": {},
   "outputs": [
    {
     "data": {
      "text/plain": [
       "array([0, 2, 4, 6, 8])"
      ]
     },
     "execution_count": 25,
     "metadata": {},
     "output_type": "execute_result"
    }
   ],
   "source": [
    "x * 2"
   ]
  },
  {
   "cell_type": "code",
   "execution_count": 26,
   "metadata": {},
   "outputs": [
    {
     "data": {
      "text/plain": [
       "array([-1,  0,  1,  2,  3])"
      ]
     },
     "execution_count": 26,
     "metadata": {},
     "output_type": "execute_result"
    }
   ],
   "source": [
    "x - 1"
   ]
  },
  {
   "cell_type": "code",
   "execution_count": 27,
   "metadata": {},
   "outputs": [
    {
     "data": {
      "text/plain": [
       "array([0. , 0.2, 0.4, 0.6, 0.8])"
      ]
     },
     "execution_count": 27,
     "metadata": {},
     "output_type": "execute_result"
    }
   ],
   "source": [
    "x / 5"
   ]
  },
  {
   "cell_type": "code",
   "execution_count": 28,
   "metadata": {},
   "outputs": [
    {
     "data": {
      "text/plain": [
       "array([0, 0, 1, 1, 2], dtype=int32)"
      ]
     },
     "execution_count": 28,
     "metadata": {},
     "output_type": "execute_result"
    }
   ],
   "source": [
    "x//2"
   ]
  },
  {
   "cell_type": "code",
   "execution_count": 29,
   "metadata": {},
   "outputs": [
    {
     "data": {
      "text/plain": [
       "array([ 0,  1,  4,  9, 16], dtype=int32)"
      ]
     },
     "execution_count": 29,
     "metadata": {},
     "output_type": "execute_result"
    }
   ],
   "source": [
    "x ** 2"
   ]
  },
  {
   "cell_type": "code",
   "execution_count": 30,
   "metadata": {},
   "outputs": [
    {
     "data": {
      "text/plain": [
       "array([0, 1, 0, 1, 0], dtype=int32)"
      ]
     },
     "execution_count": 30,
     "metadata": {},
     "output_type": "execute_result"
    }
   ],
   "source": [
    "x % 2"
   ]
  },
  {
   "cell_type": "markdown",
   "metadata": {},
   "source": [
    "## Valores Absolutos\n",
    "Para obter valores absolutos, é possível utilizar a função `abs()` nativa do Python, entretanto, a função `abs()` do NumPy é uma operação vetorizada, logo é mais otimizada."
   ]
  },
  {
   "cell_type": "code",
   "execution_count": 31,
   "metadata": {},
   "outputs": [
    {
     "data": {
      "text/plain": [
       "array([10,  7,  4,  1,  2,  5,  8])"
      ]
     },
     "execution_count": 31,
     "metadata": {},
     "output_type": "execute_result"
    }
   ],
   "source": [
    "x = np.arange(-10,10,3)\n",
    "np.abs(x)"
   ]
  },
  {
   "cell_type": "markdown",
   "metadata": {},
   "source": [
    "Esta operação  é muito útil quando se trabalhar com valores imaginários pois retorna a magnitude do numero imaginário."
   ]
  },
  {
   "cell_type": "code",
   "execution_count": 32,
   "metadata": {},
   "outputs": [
    {
     "data": {
      "text/plain": [
       "array([2.23606798, 4.47213595, 2.        , 1.        ])"
      ]
     },
     "execution_count": 32,
     "metadata": {},
     "output_type": "execute_result"
    }
   ],
   "source": [
    "x = np.array([2-1j, 4-2j, 0+2j, 1+0j])\n",
    "np.abs(x)"
   ]
  },
  {
   "cell_type": "markdown",
   "metadata": {},
   "source": [
    "## Funções Trigonômétricas\n",
    "As funções trigonômétricas implementadas pelo NumPy são extremamente úteis. Para utiliar elas, primeiro definimos um array baseado em valores radeanos utilizando o valor de $\\pi$ definido pelo NumPy."
   ]
  },
  {
   "cell_type": "code",
   "execution_count": 33,
   "metadata": {},
   "outputs": [],
   "source": [
    "p = np.pi\n",
    "x = np.array([0, p/2, p, 3*p/2])"
   ]
  },
  {
   "cell_type": "markdown",
   "metadata": {},
   "source": [
    "Então, podemoos utilizar as funções trigonômétricas implementadas pelo NumPy para calcular funções trigonômétricas.  Note que os valores não são exatos já que há erros introduzidos por utilizar numeros de ponto flutuante."
   ]
  },
  {
   "cell_type": "code",
   "execution_count": 34,
   "metadata": {},
   "outputs": [
    {
     "name": "stdout",
     "output_type": "stream",
     "text": [
      "x =  [0.         1.57079633 3.14159265 4.71238898]\n",
      "sin(x) =  [ 0.0000000e+00  1.0000000e+00  1.2246468e-16 -1.0000000e+00]\n",
      "cos(x) =  [ 1.0000000e+00  6.1232340e-17 -1.0000000e+00 -1.8369702e-16]\n",
      "tan(x) =  [ 0.00000000e+00  1.63312394e+16 -1.22464680e-16  5.44374645e+15]\n"
     ]
    }
   ],
   "source": [
    "print(\"x = \", x)\n",
    "print(\"sin(x) = \", np.sin(x))\n",
    "print(\"cos(x) = \", np.cos(x))\n",
    "print(\"tan(x) = \", np.tan(x))"
   ]
  },
  {
   "cell_type": "markdown",
   "metadata": {},
   "source": [
    "Podemos também utilizar as funções trigonométricas inversas. O resultado é retornado em radianos."
   ]
  },
  {
   "cell_type": "code",
   "execution_count": 35,
   "metadata": {},
   "outputs": [
    {
     "name": "stdout",
     "output_type": "stream",
     "text": [
      "x =  [-1  0  1]\n",
      "arcsin(x) =  [-1.57079633  0.          1.57079633]\n",
      "arccos(x) =  [3.14159265 1.57079633 0.        ]\n",
      "arctan(x) =  [-0.78539816  0.          0.78539816]\n"
     ]
    }
   ],
   "source": [
    "x = np.array([-1, 0, 1])\n",
    "print(\"x = \", x)\n",
    "print(\"arcsin(x) = \", np.arcsin(x))\n",
    "print(\"arccos(x) = \", np.arccos(x))\n",
    "print(\"arctan(x) = \", np.arctan(x))"
   ]
  },
  {
   "cell_type": "markdown",
   "metadata": {},
   "source": [
    "Nós podemos utilizar a função `rad2deg()` para converter os valores dos arrays de radianos para graus."
   ]
  },
  {
   "cell_type": "code",
   "execution_count": 36,
   "metadata": {},
   "outputs": [
    {
     "name": "stdout",
     "output_type": "stream",
     "text": [
      "x =  [-1  0  1]\n",
      "arcsin(x) =  [-90.   0.  90.]\n",
      "arccos(x) =  [180.  90.   0.]\n",
      "arctan(x) =  [-45.   0.  45.]\n"
     ]
    }
   ],
   "source": [
    "print(\"x = \", x)\n",
    "print(\"arcsin(x) = \", np.rad2deg(np.arcsin(x)))\n",
    "print(\"arccos(x) = \", np.rad2deg(np.arccos(x)))\n",
    "print(\"arctan(x) = \", np.rad2deg(np.arctan(x)))"
   ]
  },
  {
   "cell_type": "markdown",
   "metadata": {},
   "source": [
    "## Exponênciais e Logaritmos \n",
    "Exponenciais e logaritmos são outros tipos de funções que surgem nos estudos cíentíficos, e é essencial possuir implementações otimizadas para calcular essa funções para um array."
   ]
  },
  {
   "cell_type": "markdown",
   "metadata": {},
   "source": [
    "As funções exponenciais disponíveis são `exp()` e `exp2()`. É possível utilizar a função  `power()` para realizar esta operação também. "
   ]
  },
  {
   "cell_type": "code",
   "execution_count": 37,
   "metadata": {},
   "outputs": [
    {
     "name": "stdout",
     "output_type": "stream",
     "text": [
      "x =  [1 2 3 4]\n",
      "e^(x) =  [ 2.71828183  7.3890561  20.08553692 54.59815003]\n",
      "2^(x) =  [ 2.  4.  8. 16.]\n",
      "3^(x) =  [ 3  9 27 81]\n"
     ]
    }
   ],
   "source": [
    "x = np.arange(1,5)\n",
    "print(\"x = \", x)\n",
    "print(\"e^(x) = \", np.exp(x))\n",
    "print(\"2^(x) = \", np.exp2(x))\n",
    "print(\"3^(x) = \", np.power(3,x))"
   ]
  },
  {
   "cell_type": "markdown",
   "metadata": {},
   "source": [
    "As funções `log()`, `log2()` e `log10()` produzem respectivamente o logaritmo neperiano, logaritmo em base 2, logaritmo em base 10."
   ]
  },
  {
   "cell_type": "code",
   "execution_count": 38,
   "metadata": {},
   "outputs": [
    {
     "name": "stdout",
     "output_type": "stream",
     "text": [
      "x =  [1 2 3 4]\n",
      "ln(x) =  [0.         0.69314718 1.09861229 1.38629436]\n",
      "log2(x) =  [0.        1.        1.5849625 2.       ]\n",
      "log10(x) =  [0.         0.30103    0.47712125 0.60205999]\n"
     ]
    }
   ],
   "source": [
    "x = np.arange(1,5)\n",
    "print(\"x = \", x)\n",
    "print(\"ln(x) = \", np.log(x))\n",
    "print(\"log2(x) = \", np.log2(x))\n",
    "print(\"log10(x) = \", np.log10(x))"
   ]
  },
  {
   "cell_type": "markdown",
   "metadata": {},
   "source": [
    "## Propriedades Avançandas de UFuncs\n",
    "Há algumas propriedades que podem melhorar o desempenho das UFuncs ainda mais, ou facilitar a vida do programador. Por exemplo, para calculos grandes, pode ser útil informar através da chamada da função qual váriavel será utilizada para armazenar os resultados, ao invés de realizar a atribuição, como demonstramos abaixo. Esta funcionalidade é aplicável para todas as UFuncs, e ocorre através da passagem do paramêtro `out`."
   ]
  },
  {
   "cell_type": "code",
   "execution_count": 39,
   "metadata": {},
   "outputs": [
    {
     "data": {
      "text/plain": [
       "array([ 0., 10., 20., 30., 40.])"
      ]
     },
     "execution_count": 39,
     "metadata": {},
     "output_type": "execute_result"
    }
   ],
   "source": [
    "x = np.arange(5)\n",
    "y = np.empty(5)\n",
    "np.multiply(x, 10, out = y)\n",
    "y"
   ]
  },
  {
   "cell_type": "markdown",
   "metadata": {},
   "source": [
    "Para UFuncs binárias, há algumas operações de agregação que podem ser realizadas. Qualquer UFunc podem ser aplicadas utilizando o método `reduce()` da função. Isto aplica a operação entre os elementos, agregando o resultado de cada iteração. Podemos utilizar isso para calcular um somátório ou produtório por exemplo. "
   ]
  },
  {
   "cell_type": "code",
   "execution_count": 40,
   "metadata": {},
   "outputs": [
    {
     "name": "stdout",
     "output_type": "stream",
     "text": [
      "[0 1 2 3 4]\n",
      "10\n",
      "0\n"
     ]
    }
   ],
   "source": [
    "print(x)\n",
    "print(np.add.reduce(x))\n",
    "print(np.multiply.reduce(x))"
   ]
  },
  {
   "cell_type": "markdown",
   "metadata": {},
   "source": [
    "Para obter os valores acumulados para cada iteração, ao invés de utilizar o método `reduce()`, deve se utilizar o `accumulate()`."
   ]
  },
  {
   "cell_type": "code",
   "execution_count": 41,
   "metadata": {},
   "outputs": [
    {
     "name": "stdout",
     "output_type": "stream",
     "text": [
      "[ 0  1  3  6 10]\n",
      "[0 0 0 0 0]\n"
     ]
    }
   ],
   "source": [
    "print(np.add.accumulate(x))\n",
    "print(np.multiply.accumulate(x))"
   ]
  },
  {
   "cell_type": "markdown",
   "metadata": {},
   "source": [
    "Qualquer UFunc pode computar a saída de todos os pares de duas entradas diferentes utilizando o métodoo `outer()`. Logo, é possível realizar uma linha, criar uma tabela de multiplicação."
   ]
  },
  {
   "cell_type": "code",
   "execution_count": 43,
   "metadata": {},
   "outputs": [
    {
     "data": {
      "text/plain": [
       "array([[ 1,  2,  3,  4,  5],\n",
       "       [ 2,  4,  6,  8, 10],\n",
       "       [ 3,  6,  9, 12, 15],\n",
       "       [ 4,  8, 12, 16, 20],\n",
       "       [ 5, 10, 15, 20, 25]])"
      ]
     },
     "execution_count": 43,
     "metadata": {},
     "output_type": "execute_result"
    }
   ],
   "source": [
    "x = np.arange(1,6)\n",
    "np.multiply.outer(x,x)"
   ]
  }
 ],
 "metadata": {
  "kernelspec": {
   "display_name": "Python 3",
   "language": "python",
   "name": "python3"
  },
  "language_info": {
   "codemirror_mode": {
    "name": "ipython",
    "version": 3
   },
   "file_extension": ".py",
   "mimetype": "text/x-python",
   "name": "python",
   "nbconvert_exporter": "python",
   "pygments_lexer": "ipython3",
   "version": "3.7.7"
  }
 },
 "nbformat": 4,
 "nbformat_minor": 4
}
