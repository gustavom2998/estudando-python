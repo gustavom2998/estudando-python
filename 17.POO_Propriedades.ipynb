{
 "cells": [
  {
   "cell_type": "markdown",
   "metadata": {},
   "source": [
    "# Programação Orientada a Objetos - Modificadores de acesso e Propriedades\n",
    "A orientação a objetos é um paradigma de programação conhecido por seus quatro pilares principais: Encapsulamento; Abstração; Herença e Polimorfismo. O propósito deste paradigma é solucionar os problemas tradicionais da programação procedural, onde muitas vezes há pouco aproveitamento de código e fraca associação entre dados e às funções reponsáveis por manipular estes dados. Neste estudo, buscamos revisar os conceitos fundamentais da orientação a objetos e identificar como eles são implementados na linguagem Python."
   ]
  },
  {
   "cell_type": "markdown",
   "metadata": {},
   "source": [
    "## Modificadores de Acesso\n",
    "Os modificadores de acesso em linguagens de programação inibem o acesso de certas informações fora da classe. Para o Python, há convenções a serem seguidas, que definem quais classes devem acessar os dados (atributos ou métodos) da nova classe. \n",
    "\n",
    "Atributos ou métodos do tipo protected (protegido) só devem ser acessados por código no escopo da definição da classe, ou de classes que herdam a classe original do atributo ou método. Logo, qualquer código que esteja fora do escopo da classe (ou seja subclasse) não pode acessar o campo. Os atributos protegidos recebem `_` no início do nome do atributo.\n",
    "\n",
    "Atributos ou métodos do tipo private (privado) só podem ser acessados por código no escopo da definição da classe. Logo, qualquer código que esteja fora do escopo da classe não pode acessar o campo. Os atributos privados recebem `__` no início do nome do atributo."
   ]
  },
  {
   "cell_type": "code",
   "execution_count": 26,
   "metadata": {},
   "outputs": [],
   "source": [
    "class Pessoa:\n",
    "    def __init__(self, nome, cpf):\n",
    "        self._nome = nome # Pessoa e Funcionario podem modificar/acessar\n",
    "        self.__cpf = cpf # Apenas Pessoa pode moficar/acessar\n",
    "        \n",
    "    def _modificaCpf(self,novoCpf): # Pessoa/Funcionario podem utilizar o meodo\n",
    "        self.__cpf = novoCpf\n",
    "        \n",
    "    def __str__(self):\n",
    "        nome = \"Nome: \" + self._nome + \"\\n\"\n",
    "        cpf = \"CPF: \" + self.__cpf + \"\\n\"\n",
    "        return(nome + cpf)\n",
    "        \n",
    "class Funcionario(Pessoa): \n",
    "    def __init__(self,nome,cpf,salario):\n",
    "        super().__init__(nome,cpf) \n",
    "        self._salario = salario # Apenas pessoa pode modificar/acessa\n",
    "        \n",
    "    def _modificaNome(self,novoNome): # Apenas instancia \n",
    "        self._nome = novoNome\n",
    "        \n",
    "    def __str__(self):\n",
    "        sup = super().__str__()\n",
    "        return sup + \"Salario: R$\" + str(self._salario)\n",
    "    \n",
    "        \n",
    "\n",
    "i = Pessoa(\"Joao\",\"111.222.333-44\")\n",
    "j = Funcionario(\"Joao\",\"111.222.333-44\",1000)"
   ]
  },
  {
   "cell_type": "markdown",
   "metadata": {},
   "source": [
    "Note que tudo é definido como convenção, logo dentro do contexto da linguagem, é permitido, entretanto, não é correto."
   ]
  },
  {
   "cell_type": "code",
   "execution_count": 27,
   "metadata": {},
   "outputs": [
    {
     "name": "stdout",
     "output_type": "stream",
     "text": [
      "Nome: Ze\n",
      "CPF: 111\n",
      "Salario: R$1000\n"
     ]
    }
   ],
   "source": [
    "j._modificaCpf(\"111\") # Errado, pois estou acessando fora do escopo da classe\n",
    "j._modificaNome(\"Ze\") # Errado, pois estou acessando fora do escopo da classe\n",
    "j.__cpf = \"Novo\" # Errado, pois estou acessando fora do escopo da classe. Isto causa a criacao de um novo atributo dentro de Funcionario\n",
    "print(j)"
   ]
  },
  {
   "cell_type": "markdown",
   "metadata": {},
   "source": [
    "Este comportamento pode causar erros, logo, é necessário revisar o código muitas vezes para garantir que o novo código não infrinja a documentação da classe."
   ]
  },
  {
   "cell_type": "markdown",
   "metadata": {},
   "source": [
    "## Métodos Acessores\n",
    "Para lidar com a ausência de mêcanismos que permitem limitar o acesso a dados dentro de classes, métodos *getters* e *setters* devem ser implementado pelo criador da classe, garantindo assim que seja possível atualizar os atributos que sejam privados ou protegidos sem acessar eles diretamente.\n",
    "\n",
    "Um método getter possuí a utilidade de retornar um determinado atributo para o usuário. O criador da classe pode implementar uma lógica, como por exemplo, solicitar uma chave de acesso para verificar se o usuário pode ou não acessar essa informação.\n",
    "\n",
    "Um método setter é mais complicado, e seu objetivo é permitir atualizar determinados atributos. Para isto, geralmente se implementa uma lógica para verificar se as mudanças solicitadas pelo usuário são validas. Atributos privados que não possuem métodos getters são atributos de leitura somente, e não podem ser modificados. \n",
    "\n",
    "É metodo para apagar o atributo utiliza a palavra reservada `del` para liberar o espaço de memória do devido atributo. "
   ]
  },
  {
   "cell_type": "code",
   "execution_count": 12,
   "metadata": {},
   "outputs": [
    {
     "name": "stdout",
     "output_type": "stream",
     "text": [
      "11122233344\n",
      "11133355522\n"
     ]
    }
   ],
   "source": [
    "class Pessoa:\n",
    "    def __init__(self, nome, cpf):\n",
    "        self._nome = nome # Pessoa e Funcionario podem modificar/acessar\n",
    "        self.__cpf = cpf # Apenas Pessoa pode moficar/acessar\n",
    "    \n",
    "    # Note que o metodo eh denotado como publico\n",
    "    def get_cpf(self):\n",
    "        return self.__cpf\n",
    "    \n",
    "    def set_cpf(self, novo_cpf):\n",
    "        if(isinstance(novo_cpf,str) and len(novo_cpf) == 11):\n",
    "            self.__cpf = novo_cpf\n",
    "            \n",
    "    def del_cpf(self):\n",
    "        del self.__cpf\n",
    "        \n",
    "    def __str__(self):\n",
    "        nome = \"Nome: \" + self._nome + \"\\n\"\n",
    "        cpf = \"CPF: \" + self.__cpf + \"\\n\"\n",
    "        return(nome + cpf)\n",
    "    \n",
    "a = Pessoa(\"Ze\",\"11122233344\")\n",
    "print(a.get_cpf())\n",
    "a.set_cpf(\"11133355522\")\n",
    "print(a.get_cpf())\n",
    "a.del_cpf()"
   ]
  },
  {
   "cell_type": "markdown",
   "metadata": {},
   "source": [
    "## Propriedades\n",
    "Ao definir propriedades, é possível criar um atributo específico para a interaçã do usuário. Desta forma, se o atributo protegido for chamado de `_nome`, ao definir uma propriedade, se diz que o usuário pode alterar o atributo de interface `nome`, e ao tentar alterar este atributo, o método getter e setter especificados são chamados para atualizar o atributo original `_nome`. Ao não fornecer métodos getters, setters ou para apagar, se diz que aquele manipulação não pode ser feita com o atributo. \n",
    "\n",
    "Decoradores são os mecânismos implementados em Python que permitem definir as propriedades de um atributo de forma menos verbosa. Os decoradores podem ser utilizados da seguinte forma.\n",
    "```\n",
    "@property\n",
    "\n",
    "@<nome da propriedade>.setter\n",
    "\n",
    "@<nome da propriedade>.deleter\n",
    "```"
   ]
  },
  {
   "cell_type": "code",
   "execution_count": 6,
   "metadata": {},
   "outputs": [
    {
     "name": "stdout",
     "output_type": "stream",
     "text": [
      "11122233344\n",
      "Erro\n",
      "11122233344\n",
      "11133355522\n"
     ]
    },
    {
     "ename": "AttributeError",
     "evalue": "'Pessoa' object has no attribute '_Pessoa__cpf'",
     "output_type": "error",
     "traceback": [
      "\u001b[1;31m---------------------------------------------------------------------------\u001b[0m",
      "\u001b[1;31mAttributeError\u001b[0m                            Traceback (most recent call last)",
      "\u001b[1;32m<ipython-input-6-58f00c92c97d>\u001b[0m in \u001b[0;36m<module>\u001b[1;34m\u001b[0m\n\u001b[0;32m     32\u001b[0m \u001b[0mprint\u001b[0m\u001b[1;33m(\u001b[0m\u001b[0ma\u001b[0m\u001b[1;33m.\u001b[0m\u001b[0mcpf\u001b[0m\u001b[1;33m)\u001b[0m\u001b[1;33m\u001b[0m\u001b[1;33m\u001b[0m\u001b[0m\n\u001b[0;32m     33\u001b[0m \u001b[1;32mdel\u001b[0m\u001b[1;33m(\u001b[0m\u001b[0ma\u001b[0m\u001b[1;33m.\u001b[0m\u001b[0mcpf\u001b[0m\u001b[1;33m)\u001b[0m\u001b[1;33m\u001b[0m\u001b[1;33m\u001b[0m\u001b[0m\n\u001b[1;32m---> 34\u001b[1;33m \u001b[0mprint\u001b[0m\u001b[1;33m(\u001b[0m\u001b[0ma\u001b[0m\u001b[1;33m.\u001b[0m\u001b[0mcpf\u001b[0m\u001b[1;33m)\u001b[0m\u001b[1;33m\u001b[0m\u001b[1;33m\u001b[0m\u001b[0m\n\u001b[0m",
      "\u001b[1;32m<ipython-input-6-58f00c92c97d>\u001b[0m in \u001b[0;36mcpf\u001b[1;34m(self)\u001b[0m\n\u001b[0;32m      7\u001b[0m     \u001b[1;32mdef\u001b[0m \u001b[0mcpf\u001b[0m\u001b[1;33m(\u001b[0m\u001b[0mself\u001b[0m\u001b[1;33m)\u001b[0m\u001b[1;33m:\u001b[0m\u001b[1;33m\u001b[0m\u001b[1;33m\u001b[0m\u001b[0m\n\u001b[0;32m      8\u001b[0m         \u001b[1;34m\"\"\"Docstring do atributo CPF\"\"\"\u001b[0m\u001b[1;33m\u001b[0m\u001b[1;33m\u001b[0m\u001b[0m\n\u001b[1;32m----> 9\u001b[1;33m         \u001b[1;32mreturn\u001b[0m \u001b[0mself\u001b[0m\u001b[1;33m.\u001b[0m\u001b[0m__cpf\u001b[0m\u001b[1;33m\u001b[0m\u001b[1;33m\u001b[0m\u001b[0m\n\u001b[0m\u001b[0;32m     10\u001b[0m \u001b[1;33m\u001b[0m\u001b[0m\n\u001b[0;32m     11\u001b[0m     \u001b[1;33m@\u001b[0m\u001b[0mcpf\u001b[0m\u001b[1;33m.\u001b[0m\u001b[0msetter\u001b[0m\u001b[1;33m\u001b[0m\u001b[1;33m\u001b[0m\u001b[0m\n",
      "\u001b[1;31mAttributeError\u001b[0m: 'Pessoa' object has no attribute '_Pessoa__cpf'"
     ]
    }
   ],
   "source": [
    "class Pessoa:\n",
    "    def __init__(self, nome, cpf):\n",
    "        self._nome = nome # Pessoa e Funcionario podem modificar/acessar\n",
    "        self.__cpf = cpf # Apenas Pessoa pode moficar/acessar\n",
    "    \n",
    "    # Metodo getter da propriedade CPF\n",
    "    @property\n",
    "    def cpf(self):\n",
    "        \"\"\"Docstring do atributo CPF\"\"\"\n",
    "        return self.__cpf\n",
    "    \n",
    "    # Metodo setter da propriedade CPF\n",
    "    @cpf.setter\n",
    "    def cpf(self, valor):\n",
    "        if(isinstance(valor,str) and len(valor) == 11):\n",
    "            self.__cpf = valor\n",
    "        else:\n",
    "            print(\"Erro\")\n",
    "    \n",
    "    # Metodo deleter da propriedade CPF\n",
    "    @cpf.deleter\n",
    "    def cpf(self):\n",
    "        del self.__cpf\n",
    "        \n",
    "    def __str__(self):\n",
    "        nome = \"Nome: \" + self._nome + \"\\n\"\n",
    "        cpf = \"CPF: \" + self.__cpf + \"\\n\"\n",
    "        return(nome + cpf)\n",
    "    \n",
    "a = Pessoa(\"Ze\",\"11122233344\")\n",
    "print(a.cpf)\n",
    "a.cpf = 11133355522\n",
    "print(a.cpf)\n",
    "a.cpf = \"11133355522\"\n",
    "print(a.cpf)\n",
    "del(a.cpf)\n",
    "print(a.cpf)"
   ]
  },
  {
   "cell_type": "markdown",
   "metadata": {},
   "source": [
    "Há uma forma mais verbosa (e também mais antiga) de implementar as propriedades em Python. Esta definição não utiliza decoradores, logo, é considerada mais verbosa. Note que os resultados obtidos são os mesmos. "
   ]
  },
  {
   "cell_type": "code",
   "execution_count": 7,
   "metadata": {},
   "outputs": [
    {
     "name": "stdout",
     "output_type": "stream",
     "text": [
      "11122233344\n",
      "Erro\n",
      "11122233344\n",
      "11133355522\n"
     ]
    },
    {
     "ename": "AttributeError",
     "evalue": "'Pessoa' object has no attribute '_Pessoa__cpf'",
     "output_type": "error",
     "traceback": [
      "\u001b[1;31m---------------------------------------------------------------------------\u001b[0m",
      "\u001b[1;31mAttributeError\u001b[0m                            Traceback (most recent call last)",
      "\u001b[1;32m<ipython-input-7-117005837c04>\u001b[0m in \u001b[0;36m<module>\u001b[1;34m\u001b[0m\n\u001b[0;32m     33\u001b[0m \u001b[0mprint\u001b[0m\u001b[1;33m(\u001b[0m\u001b[0ma\u001b[0m\u001b[1;33m.\u001b[0m\u001b[0mcpf\u001b[0m\u001b[1;33m)\u001b[0m\u001b[1;33m\u001b[0m\u001b[1;33m\u001b[0m\u001b[0m\n\u001b[0;32m     34\u001b[0m \u001b[1;32mdel\u001b[0m\u001b[1;33m(\u001b[0m\u001b[0ma\u001b[0m\u001b[1;33m.\u001b[0m\u001b[0mcpf\u001b[0m\u001b[1;33m)\u001b[0m\u001b[1;33m\u001b[0m\u001b[1;33m\u001b[0m\u001b[0m\n\u001b[1;32m---> 35\u001b[1;33m \u001b[0mprint\u001b[0m\u001b[1;33m(\u001b[0m\u001b[0ma\u001b[0m\u001b[1;33m.\u001b[0m\u001b[0mcpf\u001b[0m\u001b[1;33m)\u001b[0m\u001b[1;33m\u001b[0m\u001b[1;33m\u001b[0m\u001b[0m\n\u001b[0m",
      "\u001b[1;32m<ipython-input-7-117005837c04>\u001b[0m in \u001b[0;36mget_cpf\u001b[1;34m(self)\u001b[0m\n\u001b[0;32m      6\u001b[0m     \u001b[1;31m# Metodo getter da propriedade CPF\u001b[0m\u001b[1;33m\u001b[0m\u001b[1;33m\u001b[0m\u001b[1;33m\u001b[0m\u001b[0m\n\u001b[0;32m      7\u001b[0m     \u001b[1;32mdef\u001b[0m \u001b[0mget_cpf\u001b[0m\u001b[1;33m(\u001b[0m\u001b[0mself\u001b[0m\u001b[1;33m)\u001b[0m\u001b[1;33m:\u001b[0m\u001b[1;33m\u001b[0m\u001b[1;33m\u001b[0m\u001b[0m\n\u001b[1;32m----> 8\u001b[1;33m         \u001b[1;32mreturn\u001b[0m \u001b[0mself\u001b[0m\u001b[1;33m.\u001b[0m\u001b[0m__cpf\u001b[0m\u001b[1;33m\u001b[0m\u001b[1;33m\u001b[0m\u001b[0m\n\u001b[0m\u001b[0;32m      9\u001b[0m \u001b[1;33m\u001b[0m\u001b[0m\n\u001b[0;32m     10\u001b[0m     \u001b[1;31m# Metodo setter da propriedade CPF\u001b[0m\u001b[1;33m\u001b[0m\u001b[1;33m\u001b[0m\u001b[1;33m\u001b[0m\u001b[0m\n",
      "\u001b[1;31mAttributeError\u001b[0m: 'Pessoa' object has no attribute '_Pessoa__cpf'"
     ]
    }
   ],
   "source": [
    "class Pessoa:\n",
    "    def __init__(self, nome, cpf):\n",
    "        self._nome = nome # Pessoa e Funcionario podem modificar/acessar\n",
    "        self.__cpf = cpf # Apenas Pessoa pode moficar/acessar\n",
    "    \n",
    "    # Metodo getter da propriedade CPF\n",
    "    def get_cpf(self):\n",
    "        return self.__cpf\n",
    "    \n",
    "    # Metodo setter da propriedade CPF\n",
    "    def set_cpf(self, valor):\n",
    "        if(isinstance(valor,str) and len(valor) == 11):\n",
    "            self.__cpf = valor\n",
    "        else:\n",
    "            print(\"Erro\")\n",
    "            \n",
    "    def del_cpf(self):\n",
    "        del self.__cpf\n",
    "    \n",
    "    # Definicao da propriedade CPF\n",
    "    cpf = property(fget = get_cpf, fset = set_cpf, fdel = del_cpf, doc = \"\"\"Documentacao\"\"\")\n",
    "        \n",
    "    def __str__(self):\n",
    "        nome = \"Nome: \" + self._nome + \"\\n\"\n",
    "        cpf = \"CPF: \" + self.__cpf + \"\\n\"\n",
    "        return(nome + cpf)\n",
    "    \n",
    "a = Pessoa(\"Ze\",\"11122233344\")\n",
    "print(a.cpf)\n",
    "a.cpf = 11133355522\n",
    "print(a.cpf)\n",
    "a.cpf = \"11133355522\"\n",
    "print(a.cpf)\n",
    "del(a.cpf)\n",
    "print(a.cpf)"
   ]
  },
  {
   "cell_type": "code",
   "execution_count": null,
   "metadata": {},
   "outputs": [],
   "source": []
  }
 ],
 "metadata": {
  "kernelspec": {
   "display_name": "Python 3",
   "language": "python",
   "name": "python3"
  },
  "language_info": {
   "codemirror_mode": {
    "name": "ipython",
    "version": 3
   },
   "file_extension": ".py",
   "mimetype": "text/x-python",
   "name": "python",
   "nbconvert_exporter": "python",
   "pygments_lexer": "ipython3",
   "version": "3.7.7"
  }
 },
 "nbformat": 4,
 "nbformat_minor": 4
}
