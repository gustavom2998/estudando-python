{
 "cells": [
  {
   "cell_type": "markdown",
   "metadata": {},
   "source": [
    "# Programação Orientada a Objetos - Classes Abstratas\n",
    "A orientação a objetos é um paradigma de programação conhecido por seus quatro pilares principais: Encapsulamento; Abstração; Herença e Polimorfismo. O propósito deste paradigma é solucionar os problemas tradicionais da programação procedural, onde muitas vezes há pouco aproveitamento de código e fraca associação entre dados e às funções reponsáveis por manipular estes dados. Neste estudo, buscamos revisar os conceitos fundamentais da orientação a objetos e identificar como eles são implementados na linguagem Python.\n",
    "\n",
    "## Classe Abstrata como conceito\n",
    "Uma classe Abstrata é uma classe que não pode instânciar objetos. Tradicionalmente, estas classes são definidas com a ausência de alguns atributos, e são utilizadas para criar novas classes com a inclusão dos novos/diferentes atributos/métodos sem ter que definir todos os outros também. Ainda é possível ao definir o cabeçalho de um método, dizer que um uma classe criada com a classe abstrata tem que ter a definição do método, garantido que ela terá o método definido. \n",
    "\n",
    "## Classe Abstrata em Python\n",
    "Apesar de uma classe abstrata não poder ser instânciada, ela pode ser herdada por subclasses que podem sim ser instânciadas. As classes abstratas permitem também predifinir  uma maneira formal do comportamento que uma classe deve seguir. \n",
    "\n",
    "Uma classe abstrata pode ter: nenhum ou mais métodos/atributos abstratos; Nenhum ou mais métodos/atributos definidos; Atributos tanto privados quanto protegidos. Ao definir um método/atributo abstratos, todas as subclasses devem implementar estes métodos/atributos. \n",
    "\n",
    "Geralmente, uma classe abstrata tem que ser importada do módulo que é definida para ser utilizada. Por exemplo, a classe `MutableSequence` do pacote `collections` é uma classe abstrata para armazenar elementos mutáveis e iteráveis. Podemos utilizar ela pra criar um novo tipo de classe iterável. A classe possuí o pré-requisito de definir os métodos (já que herda uma classe abstrata): `__delitem__`; `__getitem__`; `__len__`; `__setitem__` e `insert`."
   ]
  },
  {
   "cell_type": "code",
   "execution_count": 2,
   "metadata": {},
   "outputs": [],
   "source": [
    "from collections.abc import MutableSequence\n",
    "\n",
    "class Caixa(MutableSequence):\n",
    "    def __delitem__(self, index):\n",
    "        pass\n",
    "    \n",
    "    def __getitem__(self, index):\n",
    "        pass\n",
    "    \n",
    "    def __len__(self, ):\n",
    "        pass\n",
    "    \n",
    "    def __setitem__(self, index, value):\n",
    "        pass\n",
    "    \n",
    "    def insert(self, index, value):\n",
    "        pass\n",
    "    \n",
    "x = Caixa()"
   ]
  },
  {
   "cell_type": "markdown",
   "metadata": {},
   "source": [
    "## Definindo uma Classe Abstrata\n",
    "Para definir uma classe abstrata, é necessário specificar que a classe possuí uma metaclasse, geralmente `ABCMeta`. Esta classe é implementada pelo módulo `abc` (Abstract base classes). Os métodos abstratos da classe podem ser definidos através do decorador `@abstractmethod`, importada do pacote `abc`, e o atributo abstrato através do decorador `@property` seguido pelo decorador de método abstrato."
   ]
  },
  {
   "cell_type": "code",
   "execution_count": 1,
   "metadata": {},
   "outputs": [],
   "source": [
    "from abc import ABCMeta\n",
    "from abc import abstractmethod\n",
    "\n",
    "class NovaABC(metaclass=ABCMeta):\n",
    "    def __init__(self, valor):\n",
    "        self._valor = valor\n",
    "        \n",
    "    @abstractmethod\n",
    "    def mostrar(self) : pass\n",
    "    \n",
    "    @property\n",
    "    @abstractmethod\n",
    "    def valor(self) : pass"
   ]
  },
  {
   "cell_type": "markdown",
   "metadata": {},
   "source": [
    "Após esta definição, não definimos que a classe `NovaABC` não pode ser instânciada até que o método `mostrar()` e propriedade (atributo) `self` sejam implementadas. Logo, qualquer classe que herdar novas, precisam implementer ambas."
   ]
  },
  {
   "cell_type": "code",
   "execution_count": 5,
   "metadata": {},
   "outputs": [
    {
     "name": "stdout",
     "output_type": "stream",
     "text": [
      "Valor: 1\n"
     ]
    }
   ],
   "source": [
    "class  Nova(NovaABC):\n",
    "    def __init__(self, valor):\n",
    "        super().__init__(valor)\n",
    "    \n",
    "    @property\n",
    "    def valor(self):\n",
    "        \"\"\" Valor. \"\"\"\n",
    "        return self._valor\n",
    "    \n",
    "    def mostrar(self):\n",
    "        print(\"Valor: \" + self.valor)\n",
    "        \n",
    "    \n",
    "N = Nova(\"1\")\n",
    "N.mostrar()"
   ]
  },
  {
   "cell_type": "markdown",
   "metadata": {},
   "source": [
    "## Interfaces\n",
    "Linguagens de programação tradicionais como Java e C# possuem definições de interfaces, que estabelecem contratos entre o implemetador de uma interface e o usuário da implemenetação, garantindo que certos serviçõs serão fornecidos. Elas são semelhantes a classes abstratas, entretanto, são definidas separadamente pois elas geralmente não permitem herança multipla, além de que tudo que se encontra em uma interface é público. Em Python, uma classe abstratata pode preencher este papel, já que por definição, ela não precisa possuir métodos e propriedades não abstratas (algo que uma classe tem nas outras linguagens). \n",
    "\n",
    "## Subclasses Virtuais\n",
    "Python possuí uma mecânismo chamado Duck Typing para definir a herança de uma forma mais liberal. Na linguagem, não é necessário ser uma verdadeira subclasse da classe para ser considerada assim em tempo de execução. Uma classe distinta pode ser tratada como subclasse de outra se preencher os prérequisitos de uma interface, sem existir definição relação real entre as duas na definição do código. Ao fazer isto, os métodos `issubclass()` e `isinstance()` retorna true para uma subclasse virtual. Abaixo temos um exemplo de duas classes completamente distintas, onde não há herança. Ao utilizar o método `register()` entre as classes, se registra a classe paramêtro como subclasse."
   ]
  },
  {
   "cell_type": "code",
   "execution_count": 10,
   "metadata": {},
   "outputs": [
    {
     "name": "stdout",
     "output_type": "stream",
     "text": [
      "False\n",
      "True\n",
      "True\n"
     ]
    }
   ],
   "source": [
    "from abc import ABCMeta\n",
    "\n",
    "class Pessoa(metaclass=ABCMeta):\n",
    "    def __init__(self, nome, idade):\n",
    "        self.nome = nome\n",
    "        self.idade = idade\n",
    "        \n",
    "    def ola(self):\n",
    "        print(\"Ola.\")\n",
    "        \n",
    "class Funcionario(object):\n",
    "    def __init__(self, nome, idade, ident):\n",
    "        self.nome = nome\n",
    "        self.idade = idade\n",
    "        self.ident = ident\n",
    "        \n",
    "    def ola(self):\n",
    "        print(\"Eae\")\n",
    "        \n",
    "x = Pessoa(\"Joao\", \"18\")\n",
    "y = Funcionario(\"Joao\", \"18\", \"111\")\n",
    "\n",
    "print(issubclass(Funcionario,Pessoa))\n",
    "Pessoa.register(Funcionario)\n",
    "z = Funcionario(\"Joao\", \"18\", \"111\")\n",
    "print(issubclass(Funcionario,Pessoa))\n",
    "print(isinstance(z,Pessoa))"
   ]
  },
  {
   "cell_type": "code",
   "execution_count": null,
   "metadata": {},
   "outputs": [],
   "source": []
  }
 ],
 "metadata": {
  "kernelspec": {
   "display_name": "Python 3",
   "language": "python",
   "name": "python3"
  },
  "language_info": {
   "codemirror_mode": {
    "name": "ipython",
    "version": 3
   },
   "file_extension": ".py",
   "mimetype": "text/x-python",
   "name": "python",
   "nbconvert_exporter": "python",
   "pygments_lexer": "ipython3",
   "version": "3.7.7"
  }
 },
 "nbformat": 4,
 "nbformat_minor": 4
}
