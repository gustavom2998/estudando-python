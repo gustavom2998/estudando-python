{
 "cells": [
  {
   "cell_type": "markdown",
   "metadata": {},
   "source": [
    "# Programação - Tópicos Avançados: Currying\n",
    "Continuando nosso estudo sobre os fudamentos de programação, considere as seguintes aulas como sendo aulas de tópicos avançados. Iniciamos os estudos buscando compreender o escopo de váriaveis, ou seja, quais váriaveis o programa pode utilizar. Em seguida, analisamos as funções de ordem superior, onde a passagem de referência de funções como paramêtro ou retorno de funções é estudada.  Por ultimo, analisamos a técnica chamada de currying, para evitar repetição de código. "
   ]
  },
  {
   "cell_type": "markdown",
   "metadata": {},
   "source": [
    "# Currying\n",
    "O currying é uma técnica que permite criar novas funções apartir de funções existentes através da fixação de um ou mais paramêtros para um valor específico. Desta forma, ao invés de fornecer todos paramêtros de uma vez só, funções intermediárias podem ser utilizadas para fixar certos paramêtros. O objetivo de do currying é distribuir funções de multiplos paramêtros, em várias funções de somente um paramêtro. \n",
    "\n",
    "No exemplo abaixo, vemos umas função que soma dois numeros, através da passagem de dois argumentos. Para criar uma função de incremento por três, podemos utilizar esta função, fixando o primeiro argumento como o valor 3, e o segundo sendo qualquer outro valor. Para isto, podemos criar uma nova função de incremento. Entretanto, sempre que desejar criar uma função de incremento por outro valor, vou precisar definir uma função nova manualmente. "
   ]
  },
  {
   "cell_type": "code",
   "execution_count": 2,
   "metadata": {},
   "outputs": [
    {
     "name": "stdout",
     "output_type": "stream",
     "text": [
      "8 13\n"
     ]
    }
   ],
   "source": [
    "def soma(x,y):\n",
    "    return x+y\n",
    "\n",
    "def inc3(y):\n",
    "    return soma(3,y)\n",
    "\n",
    "print(inc3(5), inc3(10))"
   ]
  },
  {
   "cell_type": "markdown",
   "metadata": {},
   "source": [
    "Através da passagem da função de soma como paramêtro, seria possível criar uma função que cria uma nova função de incremento, para cada valor de incremento possível. Logo, eu teria uma fábrica de funções de incremento, cujo valor de incremento é passado como argumento."
   ]
  },
  {
   "cell_type": "code",
   "execution_count": null,
   "metadata": {},
   "outputs": [],
   "source": [
    "def incX(x,func):\n",
    "    return lambda y:func(y,x)"
   ]
  },
  {
   "cell_type": "markdown",
   "metadata": {},
   "source": [
    "## Clausura\n",
    "A clausura é uma referência de função, ela é utilizada para permitir que o usúario possa acessar o escopo que originalmente chamou/definiu a função durante a execução da função, para garantir que todas as váriaveis disponíveis no momento de definição também estejam disponíveis  durante o momento de utilização. Uma consequência da clausura é a associação de valores a váriaveis. Uma clausura ocorre quando uma função aninhada refêrencia uma váriavel dentro do escopo da função que a define, e a função que a define retorna a função aninhanda.\n",
    "\n",
    "Veja o exemplo abaixo. Mesmo que não ocorre o retorno, sobreescrevemos uma função existente através do uso de uma função para definir ela. Durante a redefinição da função, uma váriavel que é do escopo da função é utilizada. Apesar de `novo_val` ser uma váriavel de escopo local da função `redef_inc()`, ao redefinir `inc()`, `novo_val` que é uma váriavel local de `redef_inc` ainda estará disponível como o valor 10. "
   ]
  },
  {
   "cell_type": "code",
   "execution_count": 8,
   "metadata": {},
   "outputs": [
    {
     "name": "stdout",
     "output_type": "stream",
     "text": [
      "15\n",
      "20\n"
     ]
    }
   ],
   "source": [
    "def inc(val):\n",
    "    return val + 5\n",
    "\n",
    "def redef_inc():\n",
    "    global inc\n",
    "    novo_val = 10\n",
    "    inc = lambda x:x+novo_val\n",
    "\n",
    "print(inc(10))\n",
    "redef_inc()\n",
    "print(inc(10))"
   ]
  },
  {
   "cell_type": "markdown",
   "metadata": {},
   "source": [
    "A clausura permite disponibilizar váriaveis entre funções, sem que estejam no escopo global. É uma forma excelente de encapsular dados, já que eles não estão disponíveis no escopo global. A clausura é uma forma mais elegante de representar classes que possuem multiplos métodos e um único tributo. "
   ]
  },
  {
   "cell_type": "code",
   "execution_count": 10,
   "metadata": {},
   "outputs": [
    {
     "name": "stdout",
     "output_type": "stream",
     "text": [
      "6\n",
      "9\n"
     ]
    }
   ],
   "source": [
    "def inc_x(x):\n",
    "    # X eh uma variavel local, disponive no escopo de inc_X\n",
    "    def inc(y):\n",
    "    # inc_3 tera x fixo, dispoonivel gracas a clausura\n",
    "    # y sera disponibilizado atraves da passagem de parametro\n",
    "        return y+x\n",
    "    return inc\n",
    "\n",
    "inc_3 = inc_x(3)\n",
    "inc_6 = inc_x(6)\n",
    "\n",
    "print(inc_3(3))\n",
    "print(inc_6(3))"
   ]
  }
 ],
 "metadata": {
  "kernelspec": {
   "display_name": "Python 3",
   "language": "python",
   "name": "python3"
  },
  "language_info": {
   "codemirror_mode": {
    "name": "ipython",
    "version": 3
   },
   "file_extension": ".py",
   "mimetype": "text/x-python",
   "name": "python",
   "nbconvert_exporter": "python",
   "pygments_lexer": "ipython3",
   "version": "3.7.7"
  }
 },
 "nbformat": 4,
 "nbformat_minor": 4
}
