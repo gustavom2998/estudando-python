{
 "cells": [
  {
   "cell_type": "markdown",
   "metadata": {},
   "source": [
    "# Tratamento de Strings\n",
    "Neste notebook estudamos como acessar strings e suas substrings, utilizar métodos da classe string para modificar as strings, e realizar a formatação de strings. "
   ]
  },
  {
   "cell_type": "markdown",
   "metadata": {},
   "source": [
    "## Manipulação de Strings\n",
    "Para compreender como manipular strings, é útil pensar nelas como cadeias onde cada caractere é numerado de acordo com sua posição, como na tabela a baixo. Assim, conseguimos entender o que cada indíce representa. Note que o primeiro caractere de uma string sempre vai ser indexado pelo inteiro 0. O indíce então se incrementa por 1 para cada caractere a direita. \n",
    "\n",
    "| Caractere       | O   | l  | a  |    | m  | u  | n  | d  | o  | !  |\n",
    "|-----------------|-----|----|----|----|----|----|----|----|----|----|\n",
    "| Indice          | 0   | 1  | 2  | 3  | 4  | 5  | 6  | 7  | 8  | 9  |\n",
    "| Indice negativo | -10 | -9 | -8 | -7 | -6 | -5 | -4 | -3 | -2 | -1 |"
   ]
  },
  {
   "cell_type": "code",
   "execution_count": 73,
   "metadata": {},
   "outputs": [],
   "source": [
    "my_string = \"Ola mundo!\""
   ]
  },
  {
   "cell_type": "markdown",
   "metadata": {},
   "source": [
    "### Indexação\n",
    "Para acessar um determinado caractere de uma string, podemos digitar o indíce entre o operador de indíce(`[]`) após o nome da váriavel, ou após a string."
   ]
  },
  {
   "cell_type": "code",
   "execution_count": 74,
   "metadata": {},
   "outputs": [
    {
     "name": "stdout",
     "output_type": "stream",
     "text": [
      "a\n",
      "l\n"
     ]
    }
   ],
   "source": [
    "print(\"Ola mundo!\"[2])\n",
    "print(my_string[-9])"
   ]
  },
  {
   "cell_type": "markdown",
   "metadata": {},
   "source": [
    "### Tamanho de strings\n",
    "Para determinar o numero de caracteres que uma string possui pode se usar a função `len()` do Python. Note que este valor sempre será o valor do ultimo indíce somado com um."
   ]
  },
  {
   "cell_type": "code",
   "execution_count": 75,
   "metadata": {},
   "outputs": [
    {
     "data": {
      "text/plain": [
       "10"
      ]
     },
     "execution_count": 75,
     "metadata": {},
     "output_type": "execute_result"
    }
   ],
   "source": [
    "len(my_string)"
   ]
  },
  {
   "cell_type": "markdown",
   "metadata": {},
   "source": [
    "### Fatiamento de strings\n",
    "O **fatiamento** de strings (slicing em inglês) significa extrair apenas uma parte desejada da string. \n",
    "\n",
    "Podemos fazer isto definindo um intervalo de indíces em python com o operador de fatiamento, que funciona de forma similar a função `range()`.\n",
    "\n",
    "O operador de fatiamento deve receber três parametros separados por `:` para definir um intervalo numérico entre o operador de indíce. O primeiro parametro é o indíce de início, o segundo é o indíce final e o terceiro é o valor de incremento do indíce. O valor padrão (quando não é informado) para o indíce de início e zero e para o incremento é 1. O indíce de parada é necessário sempre."
   ]
  },
  {
   "cell_type": "code",
   "execution_count": 98,
   "metadata": {},
   "outputs": [
    {
     "name": "stdout",
     "output_type": "stream",
     "text": [
      "Oamno\n",
      " mundo\n"
     ]
    }
   ],
   "source": [
    "# Exemplo 1: Todos indices pares de 0 até 9\n",
    "print(my_string[:10:2])\n",
    "# Exemplo 2: Todos os indices entre 3 e 9\n",
    "print(my_string[3:9])"
   ]
  },
  {
   "cell_type": "markdown",
   "metadata": {},
   "source": [
    "### Concatenação de strings\n",
    "A **concatenação** é a operação que une duas strings em uma só. Para realizar esta operação, podemos utilizar o operador de soma(`+`) onde um dos argumentos da soma é uma string. "
   ]
  },
  {
   "cell_type": "code",
   "execution_count": 99,
   "metadata": {},
   "outputs": [
    {
     "name": "stdout",
     "output_type": "stream",
     "text": [
      "Ola mundo! Tudo bem?\n"
     ]
    }
   ],
   "source": [
    "print(my_string + \" Tudo bem?\")"
   ]
  },
  {
   "cell_type": "markdown",
   "metadata": {},
   "source": [
    "### Replicação de strings\n",
    "Também podemos realizar a **replicação** que repete a string N vezes, onde N é argument numérico passado. Se N for um valor menor ou igual a zero, é retornado a string vazia. Se N for um valor não inteiro é retornado um erro."
   ]
  },
  {
   "cell_type": "code",
   "execution_count": 100,
   "metadata": {},
   "outputs": [
    {
     "name": "stdout",
     "output_type": "stream",
     "text": [
      "Ola mundo!Ola mundo!\n"
     ]
    }
   ],
   "source": [
    "print(my_string * 2)"
   ]
  },
  {
   "cell_type": "markdown",
   "metadata": {},
   "source": [
    "### Sequências de escape\n",
    "Uma **sequência de escape** representa um caractere cuja entrada não é trivial. Há sequências de escape para indicar quebras de linha, caracteres, ou até mesmo para representar a contra barra.\n",
    "\n",
    "Abaixo temos o exemplo de algumas sequências de escapa e seu funcionamento."
   ]
  },
  {
   "cell_type": "code",
   "execution_count": 101,
   "metadata": {},
   "outputs": [
    {
     "name": "stdout",
     "output_type": "stream",
     "text": [
      "12\n",
      "34\n"
     ]
    }
   ],
   "source": [
    "# Sequência \\n indica quebra de linha\n",
    "print(\"12\\n34\")"
   ]
  },
  {
   "cell_type": "code",
   "execution_count": 102,
   "metadata": {},
   "outputs": [
    {
     "name": "stdout",
     "output_type": "stream",
     "text": [
      "12\t34\n"
     ]
    }
   ],
   "source": [
    "# Sequência \\t indica tab\n",
    "print(\"12\\t34\")"
   ]
  },
  {
   "cell_type": "code",
   "execution_count": 103,
   "metadata": {},
   "outputs": [
    {
     "name": "stdout",
     "output_type": "stream",
     "text": [
      "12\\34\n"
     ]
    }
   ],
   "source": [
    "# Sequência \\\\ indica contra barra\n",
    "print(\"12\\\\34\")"
   ]
  },
  {
   "cell_type": "code",
   "execution_count": 104,
   "metadata": {},
   "outputs": [
    {
     "name": "stdout",
     "output_type": "stream",
     "text": [
      "12'34\n"
     ]
    }
   ],
   "source": [
    "# Sequência \\' indica aspas simples na string\n",
    "print(\"12\\'34\")"
   ]
  },
  {
   "cell_type": "markdown",
   "metadata": {},
   "source": [
    "### Operações de strings\n",
    "A linguagem Python possui muitos métodos implementados para manipular strings. \n",
    "\n",
    "**Métodos** são funções específicas para uma classe (neste caso, o tipo de dado `string`). Dito isso, é intuítivo que os métodos de Strings não funcionam com classes diferente com tipos de dados numéricos.  \n",
    "\n",
    "Os métodos de uma classe podem ser utilizado digitando um `.` após o nome da váriavel que contém a string, ou a propria string, e digitando o método e seus respectivos argumentos como se fosse uma função normal.\n",
    "> Curiosidade: Para entender melhor sobre o que são métodos, recomendo que você futuramente realize uma leitura sobre paradigmas de programação, principalmente o orientado a objetos.\n",
    "\n",
    "O primeiro exemplo que temos é o metódo `upper()` cujo objetivo é retornar a string com todos caracteres para seu equivalente maíusculo. Note que ao utilizar este método, o valor na váriavel `my_string` não é alterado para maiusculo. O método `lower()` pode ser utilizado da mesma forma para retornar a string com todos seus caracteres em minusculo. O método `title()` pode ser utilizado para transformar todos caracteres após um espaço em maiusculo"
   ]
  },
  {
   "cell_type": "code",
   "execution_count": 116,
   "metadata": {},
   "outputs": [
    {
     "name": "stdout",
     "output_type": "stream",
     "text": [
      "OLA MUNDO!ola mundo!Ola Mundo!\n"
     ]
    }
   ],
   "source": [
    "print(my_string.upper() + my_string.lower() + my_string.title())"
   ]
  },
  {
   "cell_type": "markdown",
   "metadata": {},
   "source": [
    "O método `replace()` pode ser utilizado para encontrar as ocorrências do primeiro argumento do método na string e substituir estas ocorrências pelo segundo argumeno. Todas as ocorrências serão substituídas e a comparação é case sensitive. "
   ]
  },
  {
   "cell_type": "code",
   "execution_count": 111,
   "metadata": {},
   "outputs": [
    {
     "name": "stdout",
     "output_type": "stream",
     "text": [
      "Adeus mundo! Adeus\n"
     ]
    }
   ],
   "source": [
    "# Note que todas ocorrências do primeiro argumento são substituidas.\n",
    "tchau = (my_string + \" Ola\").replace(\"Ola\",\"Adeus\")\n",
    "print(tchau)"
   ]
  },
  {
   "cell_type": "markdown",
   "metadata": {},
   "source": [
    "O método `find()` pode ser utilizado para encontrar o indíce de inicio de uma substring, passada como parametro, dentro de uma string. A busca retorna o menor indíce de inicio da substring. A comparação também é case sensetive. Se a substring não for encontrada, então é retornada o valor -1."
   ]
  },
  {
   "cell_type": "code",
   "execution_count": 115,
   "metadata": {},
   "outputs": [
    {
     "name": "stdout",
     "output_type": "stream",
     "text": [
      "4\n",
      "-1\n"
     ]
    }
   ],
   "source": [
    "pos_mundo = my_string.find(\"mundo!\")\n",
    "print(pos_mundo)\n",
    "pos_Adeus = my_string.find(\"Adeus\")\n",
    "print(pos_Adeus)"
   ]
  },
  {
   "cell_type": "markdown",
   "metadata": {},
   "source": [
    "## Formatação de Strings\n",
    "A **string de formatação** é um par de caracteres(`{}`) que indica que nesta posição da string um valor deve ser inserido. A utilização de formatação de strings permite ter um texto \"padrão\" para acompanhar e apresentar váriaveis e valores.  O valor a ser inserido na string é passado como um argumento após fechar a string e chamar o método `format()` para a própria string. Para *n* strings de formatação, *n* argumentos devem ser passados para o método `format()`. Os valores são inseridos na string an ordem que eles são informados."
   ]
  },
  {
   "cell_type": "code",
   "execution_count": 5,
   "metadata": {},
   "outputs": [
    {
     "name": "stdout",
     "output_type": "stream",
     "text": [
      "Eu gosto de {} e {}.\n",
      "Eu gosto de comer e dormir.\n"
     ]
    }
   ],
   "source": [
    "stringA = \"Eu gosto de {} e {}.\"\n",
    "print(stringA)\n",
    "stringA = stringA.format(\"comer\",\"dormir\")\n",
    "print(stringA)"
   ]
  },
  {
   "cell_type": "markdown",
   "metadata": {},
   "source": [
    "Para inserir ou poder modificar em qual string de formatação a string da váriavel deve ser inserida, indíces podem ser utilizado para indentificar qual ordem seguir. O indíce é adotado pela ordem que os parametrôs são inseridos no método `format()`."
   ]
  },
  {
   "cell_type": "code",
   "execution_count": 6,
   "metadata": {},
   "outputs": [
    {
     "name": "stdout",
     "output_type": "stream",
     "text": [
      "Eu não gosto de: C; B e A.\n"
     ]
    }
   ],
   "source": [
    "stringB = \"Eu não gosto de: {2}; {1} e {0}.\"\n",
    "stringB = stringB.format(\"A\",\"B\",\"C\")\n",
    "print(stringB)"
   ]
  },
  {
   "cell_type": "markdown",
   "metadata": {},
   "source": [
    "Outra forma de organizar a ordem de inserção na string é através da atribuição de nomes para os valores. Um nome(seguindo os padrões de nomeação de váriaveis) pode ser definido para evitar confusões ou ter que manipular indíces."
   ]
  },
  {
   "cell_type": "code",
   "execution_count": 7,
   "metadata": {},
   "outputs": [
    {
     "name": "stdout",
     "output_type": "stream",
     "text": [
      "Origem: Vitória \t Destino:Salvador; \t Horário de bordo:18:05\n"
     ]
    }
   ],
   "source": [
    "stringC = \"Origem: {orig} \\t Destino:{dest}; \\t Horário de bordo:{temp}\"\n",
    "stringC = stringC.format(dest=\"Salvador\",temp=\"18:05\", orig=\"Vitória\")\n",
    "print(stringC)"
   ]
  },
  {
   "cell_type": "markdown",
   "metadata": {},
   "source": [
    "Além disto, é possível informar o numero de caracteres que devem ser utilizado para realizar formatação. Esta formatação pode ser alinhar texto para esquerda, centralizado ou direita. Utilizamos o valor numérico entre os colchetes após o simbolo `:` pra informar a largura que a string deve possuir para formatação. O caractere logo após o simbolo `:` indica que pontos devem ser utilizados para preencher o espaço vazio. Após inserir o tamanho para formatação, utilizamos simbolos para indicar o alinhamento."
   ]
  },
  {
   "cell_type": "code",
   "execution_count": 18,
   "metadata": {},
   "outputs": [
    {
     "name": "stdout",
     "output_type": "stream",
     "text": [
      "Esquerda................. \n",
      " ..................Direita \n",
      " ......Centralizado.......\n"
     ]
    }
   ],
   "source": [
    "stringA = '{:.<25}'.format(\"Esquerda\")\n",
    "stringB = '{:.>25}'.format('Direita')\n",
    "stringC = \"{:.^25}\".format(\"Centralizado\")\n",
    "print(stringA,\"\\n\",stringB,\"\\n\",stringC)"
   ]
  },
  {
   "cell_type": "markdown",
   "metadata": {},
   "source": [
    "> Observação: A documentação do Python possui uma especificação da mini-liguagem que pode ser utilizada para formatar strings ([link](https://docs.python.org/3.4/library/string.html#formatspec)). A documentação possui diversos exemplos sobre como especificar conversões entre bases numéricas, utilizar formatações numéricas pré-definidas similar a linguagem C, organizar alinhamento e muito mais. Recomendo a leitura para quando for trabalhar com projetos que envolvem processamentos mais complexos de strings. "
   ]
  }
 ],
 "metadata": {
  "kernelspec": {
   "display_name": "Python 3",
   "language": "python",
   "name": "python3"
  },
  "language_info": {
   "codemirror_mode": {
    "name": "ipython",
    "version": 3
   },
   "file_extension": ".py",
   "mimetype": "text/x-python",
   "name": "python",
   "nbconvert_exporter": "python",
   "pygments_lexer": "ipython3",
   "version": "3.7.7"
  },
  "toc-autonumbering": true,
  "toc-showmarkdowntxt": true
 },
 "nbformat": 4,
 "nbformat_minor": 4
}
