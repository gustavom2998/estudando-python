{
 "cells": [
  {
   "cell_type": "markdown",
   "metadata": {},
   "source": [
    "# NumPy: Arrays Estruturados\n",
    "Neste tópico, propomos o estudo do pacote `NumPy`, cujo objetivo é fornecer suporte para arrays multidimensionais, que possuem implementações prontas para operações básicas e funções de algebra linear extremamente úteis. Este pacote é a base de grande parte dos pacotes do Python que serão futuramente estudados. A implementação deste pacote é feita através de C, logo, ele é extremamente otimizado (devido a tipagém estática e uso de memória contigua), sendo ótimo para carregar, armazenear, e manipular dados dentro de memória no Python."
   ]
  },
  {
   "cell_type": "markdown",
   "metadata": {},
   "source": [
    "## Arrays Estruturados\n",
    "Na maioria das vezes, os dados podem ser representados por um array homegêneo de valores, mas nem sempre isto é verdade. O uso de **arrays estruturados** e **arrays de registros** fornecem uma forma eficiente de armazenados dados homogêneos e compostos que são utilizados pelos DataFrames do Pandas. \n",
    "\n",
    "A ideia de aplicação destes tipos de arrays surge quando temos 3 conjuntos de dados diferentes, que são relacionados. Ao tentar armazenar los normalmente, não temos como correlacionar os valores. "
   ]
  },
  {
   "cell_type": "code",
   "execution_count": 90,
   "metadata": {},
   "outputs": [],
   "source": [
    "nome = ['Joao','Maria','Jose',\"Ana\"]\n",
    "idade = [20,61,29,17]\n",
    "peso = [68.0, 63.0, 88.0, 71.3]"
   ]
  },
  {
   "cell_type": "markdown",
   "metadata": {},
   "source": [
    "Podemos criar um array estruturados criando um array e especificando um paramêtro `dtype` contendo um dicionário com primeiro a chave `'names'` associado a uma tupla de strings contendo o nome dos dados (váriaveis) e a segunda chave `formats` a uma tupla de strings contendo o tipo de dado para cada name. \n",
    "\n",
    "Para o array de strings, definimos o tipo unicode de tamanho máximo de 10 caracteres, para a idade definimos um intero de 4 bytes, e para o peso um float de 8 bytes. "
   ]
  },
  {
   "cell_type": "code",
   "execution_count": 91,
   "metadata": {},
   "outputs": [],
   "source": [
    "import numpy as np\n",
    "dados = np.zeros(4,dtype = {'names':('nome','idade','peso'),\n",
    "                            'formats':('U10', 'i4', 'f8')})"
   ]
  },
  {
   "cell_type": "markdown",
   "metadata": {},
   "source": [
    "Então, podemos preencher este array como se fosse um dicionário. "
   ]
  },
  {
   "cell_type": "code",
   "execution_count": 92,
   "metadata": {},
   "outputs": [
    {
     "name": "stdout",
     "output_type": "stream",
     "text": [
      "[('Joao', 20, 68. ) ('Maria', 61, 63. ) ('Jose', 29, 88. )\n",
      " ('Ana', 17, 71.3)]\n"
     ]
    }
   ],
   "source": [
    "dados['nome'] = nome\n",
    "dados['idade'] = idade\n",
    "dados['peso'] = peso\n",
    "print(dados)"
   ]
  },
  {
   "cell_type": "markdown",
   "metadata": {},
   "source": [
    "Também podemos acessar os registros do array através de indíces numéricos."
   ]
  },
  {
   "cell_type": "code",
   "execution_count": 93,
   "metadata": {},
   "outputs": [
    {
     "name": "stdout",
     "output_type": "stream",
     "text": [
      "('Joao', 20, 68.)\n"
     ]
    }
   ],
   "source": [
    "print(dados[0])"
   ]
  },
  {
   "cell_type": "markdown",
   "metadata": {},
   "source": [
    "Podemos utilizar a indexação composta para acessar dados específicos de um registro, além de poder aplicar todas as técnicas vistas anteriormente para indexação de arrays."
   ]
  },
  {
   "cell_type": "code",
   "execution_count": 94,
   "metadata": {},
   "outputs": [
    {
     "name": "stdout",
     "output_type": "stream",
     "text": [
      "Jose\n",
      "Jose\n",
      "Jose\n"
     ]
    }
   ],
   "source": [
    "print(dados[2][0])\n",
    "print(dados[2]['nome'])\n",
    "print(dados['nome'][2])"
   ]
  },
  {
   "cell_type": "code",
   "execution_count": 95,
   "metadata": {},
   "outputs": [
    {
     "name": "stdout",
     "output_type": "stream",
     "text": [
      "[('Joao', 20, 68. ) ('Ana', 17, 71.3)]\n"
     ]
    }
   ],
   "source": [
    "print(dados[dados['idade'] < 25]) # Utilizacao de uma mascara booleana"
   ]
  },
  {
   "cell_type": "markdown",
   "metadata": {},
   "source": [
    "## Criando arrays estruturados\n",
    "Além da forma de dicionário demonstrada anteriormente para criar um array estruturada, podemos utilizar outras formas de definir estes arrays.\n",
    "\n",
    "Por questão de simplicidade, os tipos numéricos podem ser definio tanto com tipos do Python ou do Numpy. "
   ]
  },
  {
   "cell_type": "code",
   "execution_count": 96,
   "metadata": {},
   "outputs": [],
   "source": [
    "dados2 = np.dtype({'names':('nome','idade','peso'),\n",
    "                            'formats':((np.str_,10), int, np.float32)})"
   ]
  },
  {
   "cell_type": "markdown",
   "metadata": {},
   "source": [
    "Outra forma ainda mais intuítiva é definir uma lista de tuplas, onde cada tupla contém o nome do atributo e o tipo."
   ]
  },
  {
   "cell_type": "code",
   "execution_count": 97,
   "metadata": {},
   "outputs": [],
   "source": [
    "dados2 = np.dtype([('nome','U10'),('idade','i4'),('peso','f8')])"
   ]
  },
  {
   "cell_type": "markdown",
   "metadata": {},
   "source": [
    "Além disso, o nome dos atributos não precisam necessariamente serem especificados. Desta forma, basta especiciar todos os tipos de dados separados por vírgulas.  "
   ]
  },
  {
   "cell_type": "code",
   "execution_count": 98,
   "metadata": {},
   "outputs": [],
   "source": [
    "dados2 = np.dtype('U10','i4','f8')"
   ]
  },
  {
   "cell_type": "markdown",
   "metadata": {},
   "source": [
    "Os tipos de dados para criação podem iniciar com `<` ou `>`, que indicam um armazenamento do tipo little endian ou big endian. O segundo caractere indica o tipo de dado em si, mostrado na tabela abaixo, e o ultímo é o tamanho daquele tipo de dado a ser utilizado em bytes.\n",
    "\n",
    "| Caractere | Descrição | Exemplo |\n",
    "| --- | --- | --- |\n",
    "| 'b' | Byte | np.dtype('b') |\n",
    "| 'i' | Inteiro c/Sinal | np.dtype('i4') == np.int32 |\n",
    "| 'u' | Inteiro s/Sinal | np.dtype('u1') == np.uint8 |\n",
    "| 'f' | Ponto flutuante | np.dtype('f8') == np.int64 |\n",
    "| 'c' | Ponto flutuante complexo | np.dtype('c16') == np.complex128 |\n",
    "| 'S','a' | String | np.dtype('S5') |\n",
    "| 'U' | String Unicode | np.dtype('U') == np.str_ |\n",
    "| 'V' | Dado raw (void) | np.dtype('V') == np.void |"
   ]
  },
  {
   "cell_type": "markdown",
   "metadata": {},
   "source": [
    "## Tipos Composto Avançados\n",
    "É possível definir tipos compostos ainda mais avançados. É possível criar um elemento que contém um array ou matriz de valores. Por exemplo, abaixo podemos criar um array contendo em uma única estrutura, para cada registro: Um inteiro, e uma matriz/array 3x3 de floats de 8 bits. \n",
    "\n",
    "O motivo por trás de fazer isso é pois é possível interagir com esta estrutura diretamente através do C. Isto pode ser interessanet para criar uma interface com um código antigo em C, e processar ele através de Python. "
   ]
  },
  {
   "cell_type": "code",
   "execution_count": 99,
   "metadata": {},
   "outputs": [
    {
     "name": "stdout",
     "output_type": "stream",
     "text": [
      "[(0, [[0., 0., 0.], [0., 0., 0.], [0., 0., 0.]])]\n"
     ]
    }
   ],
   "source": [
    "tp = np.dtype([('id','i8'),('mat','f8', (3,3))])\n",
    "y = np.zeros(1,dtype=tp)\n",
    "print(y)"
   ]
  },
  {
   "cell_type": "markdown",
   "metadata": {},
   "source": [
    "## Arrays de registros\n",
    "A classe `recarray`, que é quase indêntica um array estruturado, possuí campos que podem ser acessados como atributos de um objeto ao invés de serem chaves de dicionário. Uma vantagem é a facilidade de digitar menos caracteres ao acessar o array, e a melhora de legibilidade. A desvantagem é que estes tipos de array possuem um overhead maior, logo, são menos otimizados."
   ]
  },
  {
   "cell_type": "code",
   "execution_count": 100,
   "metadata": {},
   "outputs": [
    {
     "name": "stdout",
     "output_type": "stream",
     "text": [
      "['Joao' 'Maria' 'Jose' 'Ana']\n"
     ]
    }
   ],
   "source": [
    "dados = dados.view(np.recarray)\n",
    "print(dados.nome)"
   ]
  },
  {
   "cell_type": "markdown",
   "metadata": {},
   "source": [
    "O uso deste tipo de array é recomendado para aplicações mais simples, que não precisam ser tão otimizadas. "
   ]
  },
  {
   "cell_type": "code",
   "execution_count": null,
   "metadata": {},
   "outputs": [],
   "source": []
  }
 ],
 "metadata": {
  "kernelspec": {
   "display_name": "Python 3",
   "language": "python",
   "name": "python3"
  },
  "language_info": {
   "codemirror_mode": {
    "name": "ipython",
    "version": 3
   },
   "file_extension": ".py",
   "mimetype": "text/x-python",
   "name": "python",
   "nbconvert_exporter": "python",
   "pygments_lexer": "ipython3",
   "version": "3.7.7"
  }
 },
 "nbformat": 4,
 "nbformat_minor": 4
}
