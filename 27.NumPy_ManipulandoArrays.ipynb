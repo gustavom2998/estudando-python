{
 "cells": [
  {
   "cell_type": "markdown",
   "metadata": {},
   "source": [
    "# NumPy: Manipulando Arrays\n",
    "Neste tópico, propomos o estudo do pacote `NumPy`, cujo objetivo é fornecer suporte para arrays multidimensionais, que possuem implementações prontas para operações básicas e funções de algebra linear extremamente úteis. Este pacote é a base de grande parte dos pacotes do Python que serão futuramente estudados. A implementação deste pacote é feita através de C, logo, ele é extremamente otimizado (devido a tipagém estática e uso de memória contigua), sendo ótimo para carregar, armazenear, e manipular dados dentro de memória no Python.\n",
    "\n",
    "## Atributos de um Array\n",
    "Antes de iniciar a etapa de manipulação de um array, é necessário conhecer seus atributos, que determinam o seu tamanho, formato, consumo de memória e tipo de dados. Todos os arrays possuem alguns atributos principais: \n",
    "* `ndim` - Numero de dimensões; \n",
    "* `shape` - O tamanho de cada dimensão; \n",
    "* `size` - Numero de elementos que existem no array; \n",
    "* `dtype` - tipo de dado armazenado no array; \n",
    "* `itemsize` - Tamanho em bytes que cada elemento no array ocupa em memória;\n",
    "* `nbytes` - Tamanho total que o array ocupa em memória."
   ]
  },
  {
   "cell_type": "code",
   "execution_count": 357,
   "metadata": {},
   "outputs": [
    {
     "name": "stdout",
     "output_type": "stream",
     "text": [
      "Dimensões: 2\n",
      "Tamanho Dimensões: (3, 3)\n",
      "# Elementos: 9\n",
      "Tipo de dado: float64\n",
      "Tamanho de elemento (bytes): (3, 3)\n",
      "Tamanho de array (bytes): 72\n"
     ]
    }
   ],
   "source": [
    "import numpy as np\n",
    "\n",
    "x = np.eye(3)\n",
    "print(\"Dimensões: \" + str(x.ndim))\n",
    "print(\"Tamanho Dimensões: \" + str(x.shape))\n",
    "print(\"# Elementos: \" + str(x.size))\n",
    "print(\"Tipo de dado: \" + str(x.dtype))\n",
    "print(\"Tamanho de elemento (bytes): \" + str(x.shape))\n",
    "print(\"Tamanho de array (bytes): \" + str(x.nbytes))"
   ]
  },
  {
   "cell_type": "markdown",
   "metadata": {},
   "source": [
    "## Indexação de Arrays\n",
    "A indexação de arrays é o mecânismo que permite acessar determinadas partes (incluindo elementos indivíduais) de um array. Ela é semelhante a indexação para listas/tuplas. A Indexação de arrays unidimensionais ocorre através da especificação da posição (primeiro item é 0) entre colchetes (`[]`)."
   ]
  },
  {
   "cell_type": "code",
   "execution_count": 358,
   "metadata": {},
   "outputs": [
    {
     "data": {
      "text/plain": [
       "0"
      ]
     },
     "execution_count": 358,
     "metadata": {},
     "output_type": "execute_result"
    }
   ],
   "source": [
    "x = np.arange(5)\n",
    "x[0]"
   ]
  },
  {
   "cell_type": "markdown",
   "metadata": {},
   "source": [
    "A indexação negativa para acessar elementos a partir do fim é permitida, começando de -1 para o ultimo item até `-array.size` para acessar o primeiro indice do array."
   ]
  },
  {
   "cell_type": "code",
   "execution_count": 359,
   "metadata": {},
   "outputs": [
    {
     "name": "stdout",
     "output_type": "stream",
     "text": [
      "4 0\n"
     ]
    }
   ],
   "source": [
    "print(x[-1], x[-x.size])"
   ]
  },
  {
   "cell_type": "markdown",
   "metadata": {},
   "source": [
    "Para a indexação de arrays multidimensionais, deve se utilizar a vírgula entre o colchetes para indicar a posiçã de cada dimensão."
   ]
  },
  {
   "cell_type": "code",
   "execution_count": 360,
   "metadata": {},
   "outputs": [
    {
     "data": {
      "text/plain": [
       "array([[0.03695969, 0.02318178, 0.22482343],\n",
       "       [0.85603274, 0.78215444, 0.43724958]])"
      ]
     },
     "execution_count": 360,
     "metadata": {},
     "output_type": "execute_result"
    }
   ],
   "source": [
    "x = np.random.default_rng()\n",
    "x = x.random((2,3))\n",
    "x"
   ]
  },
  {
   "cell_type": "code",
   "execution_count": 361,
   "metadata": {},
   "outputs": [
    {
     "data": {
      "text/plain": [
       "0.036959693927003046"
      ]
     },
     "execution_count": 361,
     "metadata": {},
     "output_type": "execute_result"
    }
   ],
   "source": [
    "x[0,0]"
   ]
  },
  {
   "cell_type": "code",
   "execution_count": 362,
   "metadata": {},
   "outputs": [
    {
     "data": {
      "text/plain": [
       "array([0.85603274, 0.78215444, 0.43724958])"
      ]
     },
     "execution_count": 362,
     "metadata": {},
     "output_type": "execute_result"
    }
   ],
   "source": [
    "x[-1]"
   ]
  },
  {
   "cell_type": "markdown",
   "metadata": {},
   "source": [
    "Utilizando a notação anterior, é possível atualizar os valores dos indíces."
   ]
  },
  {
   "cell_type": "code",
   "execution_count": 363,
   "metadata": {},
   "outputs": [
    {
     "data": {
      "text/plain": [
       "array([[2.        , 0.02318178, 0.22482343],\n",
       "       [0.85603274, 0.78215444, 0.43724958]])"
      ]
     },
     "execution_count": 363,
     "metadata": {},
     "output_type": "execute_result"
    }
   ],
   "source": [
    "x[0,0] = 2\n",
    "x"
   ]
  },
  {
   "cell_type": "markdown",
   "metadata": {},
   "source": [
    "## Fatiamento de arrays\n",
    "Novamente, temos um comportamento semelhante ao de listas para realizar o fateamento. O fateamento de arrays consiste em selecionar um subconjunto de valores utilizando o operador `:`. Este deve ser utilizado entre colchetes para obter um array da seguinte maneira `array[inicio:fim]` ou `array[inicio:fim:passo]`, com os valores ausentes indicando 0, ultimo e 1 respectivamente como demonstrado abaixo."
   ]
  },
  {
   "cell_type": "code",
   "execution_count": 364,
   "metadata": {},
   "outputs": [
    {
     "data": {
      "text/plain": [
       "array([2.        , 0.02318178, 0.22482343])"
      ]
     },
     "execution_count": 364,
     "metadata": {},
     "output_type": "execute_result"
    }
   ],
   "source": [
    "x[0,:]"
   ]
  },
  {
   "cell_type": "markdown",
   "metadata": {},
   "source": [
    "Note que no exemplo acima, fixamos o valor 0 para obter a primeira linha, e realizamos o fatiamento para conter todos os itens desta primeira linha. De forma semelhante, poderiamos especificar um passo maior para saltor o valor do meio."
   ]
  },
  {
   "cell_type": "code",
   "execution_count": 365,
   "metadata": {},
   "outputs": [
    {
     "data": {
      "text/plain": [
       "array([2.        , 0.22482343])"
      ]
     },
     "execution_count": 365,
     "metadata": {},
     "output_type": "execute_result"
    }
   ],
   "source": [
    "x[0,::2]"
   ]
  },
  {
   "cell_type": "markdown",
   "metadata": {},
   "source": [
    "E de forma bastante intuitiva, podemos fixar para obter a primeira coluna, e todas as linhas, obtendo assim todos valores da primeira coluna."
   ]
  },
  {
   "cell_type": "code",
   "execution_count": 366,
   "metadata": {},
   "outputs": [
    {
     "data": {
      "text/plain": [
       "array([2.        , 0.85603274])"
      ]
     },
     "execution_count": 366,
     "metadata": {},
     "output_type": "execute_result"
    }
   ],
   "source": [
    "x[:,0]"
   ]
  },
  {
   "cell_type": "markdown",
   "metadata": {},
   "source": [
    "É muito importante destacar que o fatiamento de arrays em Python retorna views para os arrays, e não copias. Logo, ao alterar um valor em uma view, o array original também será atualizado."
   ]
  },
  {
   "cell_type": "code",
   "execution_count": 367,
   "metadata": {},
   "outputs": [
    {
     "name": "stdout",
     "output_type": "stream",
     "text": [
      "[2.         0.02318178 0.22482343]\n"
     ]
    }
   ],
   "source": [
    "y = x[0,:]\n",
    "print(y)"
   ]
  },
  {
   "cell_type": "code",
   "execution_count": 368,
   "metadata": {},
   "outputs": [
    {
     "name": "stdout",
     "output_type": "stream",
     "text": [
      "[[1.         0.02318178 0.22482343]\n",
      " [0.85603274 0.78215444 0.43724958]]\n"
     ]
    }
   ],
   "source": [
    "y[0] = 1\n",
    "print(x)"
   ]
  },
  {
   "cell_type": "markdown",
   "metadata": {},
   "source": [
    "Pode ser que muitas vezes se deseja apenas criar uma cópia de um array, então para isso, existe o método copy. Ele evita que alterações em consultas modifiquem o array original."
   ]
  },
  {
   "cell_type": "code",
   "execution_count": 369,
   "metadata": {},
   "outputs": [
    {
     "name": "stdout",
     "output_type": "stream",
     "text": [
      "[[1.         0.02318178 0.22482343]\n",
      " [0.85603274 0.78215444 0.43724958]]\n"
     ]
    }
   ],
   "source": [
    "y = x[0,:].copy()\n",
    "y[0] = 5\n",
    "print(x)"
   ]
  },
  {
   "cell_type": "markdown",
   "metadata": {},
   "source": [
    "## Remodelagem de Arrays\n",
    "A remodelagem de arrays é a tarefa de reorganizar a redistribuição dos valores do array entre dimensões. Por exemplo, utilizando o método `reshape()` de um array, podemos definir um novo shape para reorganizar os elementos do array através da passagem de uma tupla. É necessário que o novo shape permita mapear todos os valores do shape antigo para o novo, logo, ambos devem ter a mesma quantidade de elementos."
   ]
  },
  {
   "cell_type": "code",
   "execution_count": 370,
   "metadata": {},
   "outputs": [
    {
     "data": {
      "text/plain": [
       "array([[ 0,  1,  2,  3],\n",
       "       [ 4,  5,  6,  7],\n",
       "       [ 8,  9, 10, 11],\n",
       "       [12, 13, 14, 15]])"
      ]
     },
     "execution_count": 370,
     "metadata": {},
     "output_type": "execute_result"
    }
   ],
   "source": [
    "x = np.arange(16)\n",
    "x.reshape((4,4))"
   ]
  },
  {
   "cell_type": "code",
   "execution_count": 371,
   "metadata": {},
   "outputs": [
    {
     "data": {
      "text/plain": [
       "array([[ 0,  1,  2,  3,  4,  5,  6,  7],\n",
       "       [ 8,  9, 10, 11, 12, 13, 14, 15]])"
      ]
     },
     "execution_count": 371,
     "metadata": {},
     "output_type": "execute_result"
    }
   ],
   "source": [
    "x.reshape((2,8))"
   ]
  },
  {
   "cell_type": "markdown",
   "metadata": {},
   "source": [
    "Outra forma de remodelar um array é através da utilização da palavra reservada `newaxis`, que pode ser utilizado para indicar a adição de uma nova dimensão no array existente."
   ]
  },
  {
   "cell_type": "code",
   "execution_count": 372,
   "metadata": {},
   "outputs": [
    {
     "data": {
      "text/plain": [
       "array([[0],\n",
       "       [1],\n",
       "       [2],\n",
       "       [3]])"
      ]
     },
     "execution_count": 372,
     "metadata": {},
     "output_type": "execute_result"
    }
   ],
   "source": [
    "x = np.arange(4)\n",
    "x[:,np.newaxis]"
   ]
  },
  {
   "cell_type": "code",
   "execution_count": 373,
   "metadata": {},
   "outputs": [
    {
     "data": {
      "text/plain": [
       "array([[0, 1, 2, 3]])"
      ]
     },
     "execution_count": 373,
     "metadata": {},
     "output_type": "execute_result"
    }
   ],
   "source": [
    "x = np.arange(4)\n",
    "x[np.newaxis,:]"
   ]
  },
  {
   "cell_type": "markdown",
   "metadata": {},
   "source": [
    "## Concatenação e Cisão de Arrays\n",
    "Estas duas tarefas involvem trabalhar com mais de um array, sendo possível unir dois arrays para criar um único, ou dividir um array em dois arrays distintos. \n",
    "\n",
    "\n",
    "### Concatenação\n",
    "As funções `concatenate()` e `stack()` permitem realizar a concatenação de alguma forma. Primeiro, exemplificamos a forma mais simples, que é a concatenação de dois arrays. Para isso, é necessário passar os arrays como paramêtro dentro de uma lista. O segundo paramêtro (`axis`) é opcional, e indica em qual dimensão os arrays serão concatenados. "
   ]
  },
  {
   "cell_type": "code",
   "execution_count": 374,
   "metadata": {},
   "outputs": [
    {
     "data": {
      "text/plain": [
       "array([0, 1, 2, 3, 4, 5, 6, 7, 8, 9])"
      ]
     },
     "execution_count": 374,
     "metadata": {},
     "output_type": "execute_result"
    }
   ],
   "source": [
    "x =  np.arange(5)\n",
    "y = np.arange(5,10)\n",
    "np.concatenate([x,y])"
   ]
  },
  {
   "cell_type": "markdown",
   "metadata": {},
   "source": [
    "As funções `stack()`; `vstack()` e `hstack()` permitem adicionar uma nova dimensão (axis) para concatenar o array. As duas ultimas são extremamente úteis para para trabalhar com arrays de duas dimensões. \n",
    "\n",
    "A função `stack()` recebe dois paramêtros sendo uma lista de arrays o primeiro e o segundo em qual dimensão deve ocorrer a concatenação. "
   ]
  },
  {
   "cell_type": "code",
   "execution_count": 375,
   "metadata": {},
   "outputs": [
    {
     "data": {
      "text/plain": [
       "array([[0, 1, 2, 3, 4],\n",
       "       [5, 6, 7, 8, 9]])"
      ]
     },
     "execution_count": 375,
     "metadata": {},
     "output_type": "execute_result"
    }
   ],
   "source": [
    "z1 = np.stack([x,y],0)\n",
    "z1"
   ]
  },
  {
   "cell_type": "code",
   "execution_count": 376,
   "metadata": {},
   "outputs": [
    {
     "data": {
      "text/plain": [
       "array([[0, 5],\n",
       "       [1, 6],\n",
       "       [2, 7],\n",
       "       [3, 8],\n",
       "       [4, 9]])"
      ]
     },
     "execution_count": 376,
     "metadata": {},
     "output_type": "execute_result"
    }
   ],
   "source": [
    "z2 = np.stack([x,y],1)\n",
    "z2"
   ]
  },
  {
   "cell_type": "code",
   "execution_count": 377,
   "metadata": {},
   "outputs": [
    {
     "data": {
      "text/plain": [
       "array([[ 0,  1,  2,  3,  4],\n",
       "       [ 5,  6,  7,  8,  9],\n",
       "       [10, 11, 12, 13, 14]])"
      ]
     },
     "execution_count": 377,
     "metadata": {},
     "output_type": "execute_result"
    }
   ],
   "source": [
    "np.vstack([z1,[10,11,12,13,14]])"
   ]
  },
  {
   "cell_type": "code",
   "execution_count": 378,
   "metadata": {},
   "outputs": [
    {
     "data": {
      "text/plain": [
       "array([[ 0,  1,  2,  3,  4, 10],\n",
       "       [ 5,  6,  7,  8,  9, 11]])"
      ]
     },
     "execution_count": 378,
     "metadata": {},
     "output_type": "execute_result"
    }
   ],
   "source": [
    "np.hstack([z1,[[10],[11]]])"
   ]
  },
  {
   "cell_type": "markdown",
   "metadata": {},
   "source": [
    "### Cisão de Arrays\n",
    "A cisão é o oposto da concatenação, onde ocorre a transformação de um array em dois ou mais arrays de saída, retornando uma lista de arrays. Aqui destacamos principalmente as funções `split()`; `vsplit()` e `hsplit()`.\n",
    "\n",
    "Para a função `split()`, o primeiro paramêtro a ser informado deve ser o array a ser dividido. Caso o segundo paramêtro for um valor inteiro, ele é o numero de subarrays resultantes, e o terceiro deve ser a dimensão em que ocorre a cisão."
   ]
  },
  {
   "cell_type": "code",
   "execution_count": 379,
   "metadata": {},
   "outputs": [
    {
     "data": {
      "text/plain": [
       "[array([[0, 1, 2, 3, 4]]), array([[5, 6, 7, 8, 9]])]"
      ]
     },
     "execution_count": 379,
     "metadata": {},
     "output_type": "execute_result"
    }
   ],
   "source": [
    "np.split(z1,2,0)"
   ]
  },
  {
   "cell_type": "markdown",
   "metadata": {},
   "source": [
    "Ainda, para a função `split()`, se o segundo paramêtro for um array unidimensional de inteiros ordenados, então, ele indica em quais posições ocorre a cisão do array. Por exemplo, ao definir que o segundo e quarto elemento devem ser posições de cisão ao longo da dimensão vertical, definimos que o resultado será 3 arrays."
   ]
  },
  {
   "cell_type": "code",
   "execution_count": 380,
   "metadata": {},
   "outputs": [
    {
     "data": {
      "text/plain": [
       "[array([[0, 1],\n",
       "        [5, 6]]),\n",
       " array([[2, 3],\n",
       "        [7, 8]]),\n",
       " array([[4],\n",
       "        [9]])]"
      ]
     },
     "execution_count": 380,
     "metadata": {},
     "output_type": "execute_result"
    }
   ],
   "source": [
    "np.split(z1,[2,4],1)"
   ]
  },
  {
   "cell_type": "markdown",
   "metadata": {},
   "source": [
    "Para trabalhar com arrays de duas dimensões, pode ser mais intuitivo trabalhar com as funções `vsplit()` e `hsplit()`. O `vsplit()` é indentico ao `split()` com o axis = 0, enquanto o `hsplit()` é equivalente ao `split()` com axis = 1.\n",
    "\n",
    "Ao utilizar o `hsplit()`, o resultado é os lados esquerdo e direito já que a cisão ocorre paralela a linha horizontal."
   ]
  },
  {
   "cell_type": "code",
   "execution_count": 381,
   "metadata": {},
   "outputs": [
    {
     "data": {
      "text/plain": [
       "[array([[0, 1, 2],\n",
       "        [5, 6, 7]]),\n",
       " array([[3, 4],\n",
       "        [8, 9]])]"
      ]
     },
     "execution_count": 381,
     "metadata": {},
     "output_type": "execute_result"
    }
   ],
   "source": [
    "np.hsplit(z1,[3])"
   ]
  },
  {
   "cell_type": "markdown",
   "metadata": {},
   "source": [
    "Ao utilizado o `vsplit()`, o resultado é a parte superior e inferno do array. já que a cisão o corre paralela a linha vertical."
   ]
  },
  {
   "cell_type": "code",
   "execution_count": 382,
   "metadata": {},
   "outputs": [
    {
     "data": {
      "text/plain": [
       "[array([[0, 1, 2, 3, 4]]), array([[5, 6, 7, 8, 9]])]"
      ]
     },
     "execution_count": 382,
     "metadata": {},
     "output_type": "execute_result"
    }
   ],
   "source": [
    "np.vsplit(z1,[1])"
   ]
  }
 ],
 "metadata": {
  "kernelspec": {
   "display_name": "Python 3",
   "language": "python",
   "name": "python3"
  },
  "language_info": {
   "codemirror_mode": {
    "name": "ipython",
    "version": 3
   },
   "file_extension": ".py",
   "mimetype": "text/x-python",
   "name": "python",
   "nbconvert_exporter": "python",
   "pygments_lexer": "ipython3",
   "version": "3.7.7"
  }
 },
 "nbformat": 4,
 "nbformat_minor": 4
}
