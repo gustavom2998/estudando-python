{
 "cells": [
  {
   "cell_type": "markdown",
   "metadata": {},
   "source": [
    "# Programação Orientada a Objetos - Herança\n",
    "A orientação a objetos é um paradigma de programação conhecido por seus quatro pilares principais: Encapsulamento; Abstração; Herença e Polimorfismo. O propósito deste paradigma é solucionar os problemas tradicionais da programação procedural, onde muitas vezes há pouco aproveitamento de código e fraca associação entre dados e às funções reponsáveis por manipular estes dados. Neste estudo, buscamos revisar os conceitos fundamentais da orientação a objetos e identificar como eles são implementados na linguagem Python."
   ]
  },
  {
   "cell_type": "markdown",
   "metadata": {},
   "source": [
    "## Herança\n",
    "A herança é a capacidade de um classe construir em cima de uma classe existente. Ao herdar de uma classe (chamada de classe pai, ou superclasse), os atributos e métodos disponíveis na classe pai automaticamente estarão definidas na classe filha (ou subclasse). Ainda, é possível definir mais atributos e métodos na classe filho, sem afetar a classe pai. \n",
    "\n",
    "As vantagens da herança são inumeras, já que ela evita repetição de código, como consequência facilitando a manutenibilidade. Para definir uma nova classe que herda de outra classe, deve se passar o nome da classe pai como paramêtro da nova classe, conforme visto abaixo. No método construtor, é necessário utilizar o método construtor do pai através da palavra reservada `super()`, e depois complementar com os atributos da nova classe. "
   ]
  },
  {
   "cell_type": "code",
   "execution_count": 6,
   "metadata": {},
   "outputs": [
    {
     "name": "stdout",
     "output_type": "stream",
     "text": [
      "Nome: Fulano\n",
      "CPF: 111.222.333-44\n",
      "\n",
      "Nome: Ciclano\n",
      "CPF: 777.888.999-00\n",
      "Salario: R$1000\n"
     ]
    }
   ],
   "source": [
    "class Pessoa:\n",
    "    def __init__(self, nome, cpf):\n",
    "        self.nome = nome\n",
    "        self.cpf = cpf\n",
    "        \n",
    "class Funcionario(Pessoa): # Parametro demonstra a ocorrencia de heranca\n",
    "    def __init__(self,nome,cpf,salario):\n",
    "        super().__init__(nome,cpf) # Utiliza o metodo construtor do pai\n",
    "        self.salario = salario # Define os atributos especificos da classe como normalmente\n",
    "        \n",
    "fulano = Pessoa(\"Fulano\",\"111.222.333-44\")\n",
    "ciclano = Funcionario(\"Ciclano\",\"777.888.999-00\",1000)"
   ]
  },
  {
   "cell_type": "markdown",
   "metadata": {},
   "source": [
    "Dentro do Python, toda classe é uma subclasse, já que mesmo sem definir, O Python cria uma classe definida pelo usuário como subclasse da classe `object`. Entre o Python 2.2 e 3, havia dois tipos de definições de classes, e era necessário dizer explicitamente que uma classe herdava da classe de objetos para garantir que a definição do Python 3 de classes era utilizada. "
   ]
  },
  {
   "cell_type": "markdown",
   "metadata": {},
   "source": [
    "# Sobreescrita de Métodos\n",
    "A sobreescrita permite ao usuário redefinir/expandir um método herdado, para garantir que o método funcione corretamente para a subclasse. É possível completamente sobreescrever o método, criando um novo que não dependa do método da superclasse. Também é possível sobreescrever o método na subclasse para extender a funcionalidade da superclasse, chamando o método da superclasse e completando com o comportamento necessário. \n",
    "\n",
    "No exemplo abaixo, definimos a superclasse pessoa e subclasse funcionário, ambas com o método `__str__`. Neste caso, utilizamos o retorno da superclasse durante a sobreescrita do método na subclasse, e completamos o retorno com as informações dos atributos do funcionário, para imprimir todas as informações do funcionário. "
   ]
  },
  {
   "cell_type": "code",
   "execution_count": 8,
   "metadata": {},
   "outputs": [
    {
     "name": "stdout",
     "output_type": "stream",
     "text": [
      "Nome: Fulano\n",
      "CPF: 111.222.333-44\n",
      "\n",
      "Nome: Ciclano\n",
      "CPF: 777.888.999-00\n",
      "Salario: R$1000\n"
     ]
    }
   ],
   "source": [
    "class Pessoa:\n",
    "    def __init__(self, nome, cpf):\n",
    "        self.nome = nome\n",
    "        self.cpf = cpf\n",
    "        \n",
    "    def __str__(self):\n",
    "        nome = \"Nome: \" + self.nome + \"\\n\"\n",
    "        cpf = \"CPF: \" + self.cpf + \"\\n\"\n",
    "        return(nome + cpf)\n",
    "        \n",
    "class Funcionario(Pessoa): \n",
    "    def __init__(self,nome,cpf,salario):\n",
    "        super().__init__(nome,cpf) \n",
    "        self.salario = salario\n",
    "        \n",
    "    def __str__(self):\n",
    "        sup = super().__str__()\n",
    "        return sup + \"Salario: R$\" + str(self.salario)\n",
    "        \n",
    "fulano = Pessoa(\"Fulano\",\"111.222.333-44\")\n",
    "ciclano = Funcionario(\"Ciclano\",\"777.888.999-00\",1000)\n",
    "\n",
    "print(fulano)\n",
    "print(ciclano)"
   ]
  },
  {
   "cell_type": "markdown",
   "metadata": {},
   "source": [
    "## Modificadores de Acesso\n",
    "Os modificadores de acesso em Python definem quais classes podem acessar os dados (atributos ou métodos) da nova classe. \n",
    "\n",
    "Atributos ou métodos do tipo protected (protegido) só podem ser acessados por código no escopo da definição da classe, ou de classes que herdam a classe original do atributo ou método. Logo, qualquer código que esteja fora da classe não pode"
   ]
  },
  {
   "cell_type": "markdown",
   "metadata": {},
   "source": [
    "# Herança Multipla\n",
    "Diferente do Java, O Python é uma linguagem que permite herança multipla. Logo, é possível herdar de mais de uma classe ao mesmo tempo."
   ]
  },
  {
   "cell_type": "code",
   "execution_count": null,
   "metadata": {},
   "outputs": [],
   "source": [
    "class Pessoa:\n",
    "    def __init__(self, nome, cpf):\n",
    "        self.nome = nome\n",
    "        self.cpf = cpf\n",
    "\n",
    "class Carro:\n",
    "    def __init__(self,fabricante,modelo):\n",
    "        self.gasolina = 100\n",
    "        self.fabricante = fabricante\n",
    "        self.modelo = modelo\n",
    "        \n",
    "class Piloto(Pessoa,Carro):\n",
    "    def __init__(self,nome,cpf, fabricante, modelo, categoria)\n",
    "        super().__init__(self,nome,cpf)\n",
    "\n",
    "    "
   ]
  }
 ],
 "metadata": {
  "kernelspec": {
   "display_name": "Python 3",
   "language": "python",
   "name": "python3"
  },
  "language_info": {
   "codemirror_mode": {
    "name": "ipython",
    "version": 3
   },
   "file_extension": ".py",
   "mimetype": "text/x-python",
   "name": "python",
   "nbconvert_exporter": "python",
   "pygments_lexer": "ipython3",
   "version": "3.7.7"
  }
 },
 "nbformat": 4,
 "nbformat_minor": 4
}
