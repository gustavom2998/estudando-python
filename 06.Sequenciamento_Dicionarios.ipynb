{
 "cells": [
  {
   "cell_type": "markdown",
   "metadata": {},
   "source": [
    "# Sequenciamento - Dicionários\n",
    "Neste notebook estudamos algumas estruturas de dados da linguagem Python utilizadas para **sequenciamento**. Segundo a documentação, estruturas de **sequenciamento** compartilham certas propriedades como indexação, fatiamento, concatenação e muito mais. \n",
    "> Observação: Para ler mais sobre as estruturas de sequenciamento, recomendo a leitura da documentação sobre estes tipos de dados na documentação do Python 3 ([link](https://docs.python.org/3/library/stdtypes.html#typesseq)).\n",
    "\n",
    "Nos estudos, buscamos entender como utilizar estas estruturas e suas principais diferenças.\n",
    "\n",
    "## Dicionários\n",
    "**Dicionários** são um tipo de estrutura de sequenciamento. Enquanto listas possuem elementos associado a indíces inteiros numéricos, dicionários associam elementos a chaves. Uma chave é um valor imútavel (geralmente uma sequência de caracteres) e um valor pode ser qualquer tipo de elemento, como temos em listas. \n",
    "\n",
    "### Criação de um dicionário\n",
    "\n",
    "Criamos um dicionário da mesma forma que criamos um conjunto, utilizando o operador `{}`. Este dicionário deve conter uma sequência de pares chave-valor separados por vírgulas. Um par chave valor pode ser estabelecido inserido um valor de chave, depois o operador `:`, e finalmente o valor armazenado para a chave. "
   ]
  },
  {
   "cell_type": "code",
   "execution_count": 86,
   "metadata": {},
   "outputs": [
    {
     "name": "stdout",
     "output_type": "stream",
     "text": [
      "{'a': 0, 'b': 1, 'c': 2}\n"
     ]
    }
   ],
   "source": [
    "dic1 = {'a':0, 'b':1, 'c':2}\n",
    "print(dic1)"
   ]
  },
  {
   "cell_type": "markdown",
   "metadata": {},
   "source": [
    "Como falos, uma chave pode ser qualquer valor imútavel. Logo, podemos utilizar uma tupla como chave como vemos no exemplo a seguir. Como não podemos ter chaves duplicadas, se uma chave for repetida na definição do dicionário o valor será substituído. \n",
    "> Observação: Todos os valores usado como chave tem que ser imútavel. Isto inclui os valores dentro da chave. Logo, não se pode usar uma tupla que contém uma lista como chave por exemplo. Para saber mais sobre isso, recomendo a leitura da documentação do Python sobre dicionários ([link](https://docs.python.org/3/tutorial/datastructures.html#dictionaries))."
   ]
  },
  {
   "cell_type": "code",
   "execution_count": 87,
   "metadata": {},
   "outputs": [
    {
     "name": "stdout",
     "output_type": "stream",
     "text": [
      "{(1, 2): 5, (2, 1): 1, (2, 2): 0}\n"
     ]
    }
   ],
   "source": [
    "dic2 = {(1,2):0, (2,1):1, (2,2):0, (1,2):5}\n",
    "print(dic2)"
   ]
  },
  {
   "cell_type": "markdown",
   "metadata": {},
   "source": [
    "Podemos construir um dicionário através da função construtura `dict()`. Esta função pode ser usada de três formas diferentes. A primeira é informando os pares chave valor usando o operador `=` para indicar um par, e vírgulas para separar os pares. Além disto, não é necessário colocar as chaves entre aspas."
   ]
  },
  {
   "cell_type": "code",
   "execution_count": 88,
   "metadata": {},
   "outputs": [
    {
     "data": {
      "text/plain": [
       "{'a': 5, 'b': 2, 'c': 6}"
      ]
     },
     "execution_count": 88,
     "metadata": {},
     "output_type": "execute_result"
    }
   ],
   "source": [
    "dicA = dict(a = 5, b = 2, c = 6)\n",
    "dicA"
   ]
  },
  {
   "cell_type": "markdown",
   "metadata": {},
   "source": [
    "Outra forma que podemos fazer isto é fornecendo uma estrutura de zip que contém dois iteráveis de mesmo tamanho. A primeira lista é usada como as chaves e a segunda como os valores. \n",
    "> Observação: Para entender o que são estruturas do tipo zip, recomendo a leitura da documentação ([link](https://docs.python.org/3.3/library/functions.html?highlight=zip#zip))."
   ]
  },
  {
   "cell_type": "code",
   "execution_count": 89,
   "metadata": {},
   "outputs": [
    {
     "data": {
      "text/plain": [
       "{'a': 5, 'b': 2, 'c': 6}"
      ]
     },
     "execution_count": 89,
     "metadata": {},
     "output_type": "execute_result"
    }
   ],
   "source": [
    "dicB = dict(zip(['a','b','c'],[5,2,6]))\n",
    "dicB"
   ]
  },
  {
   "cell_type": "markdown",
   "metadata": {},
   "source": [
    "Também podemos transformar outros iteráveis em dicionários através deste método. Para isso, é necessário que cada elemento dentro do itéravel seja um para de iteráveis. O primeiro valor do par é utilizado como chave, e o segundo como valor. Vemos a baixo."
   ]
  },
  {
   "cell_type": "code",
   "execution_count": 90,
   "metadata": {},
   "outputs": [
    {
     "data": {
      "text/plain": [
       "True"
      ]
     },
     "execution_count": 90,
     "metadata": {},
     "output_type": "execute_result"
    }
   ],
   "source": [
    "lista = [('a',5), ('b',2), ('c',6)]\n",
    "dicC = dict(lista)\n",
    "dicA == dicB == dicC "
   ]
  },
  {
   "cell_type": "markdown",
   "metadata": {},
   "source": [
    "### Acessando valores através de chaves\n",
    "Podemos acessar valores baseado nos nomes das chaves como fazemos com indexação para listas tradicionais."
   ]
  },
  {
   "cell_type": "code",
   "execution_count": 91,
   "metadata": {},
   "outputs": [
    {
     "data": {
      "text/plain": [
       "1"
      ]
     },
     "execution_count": 91,
     "metadata": {},
     "output_type": "execute_result"
    }
   ],
   "source": [
    "dic1['b']"
   ]
  },
  {
   "cell_type": "markdown",
   "metadata": {},
   "source": [
    "É possível obter um valor através do método `get()` também. Para isto basta informar um chave como argumento."
   ]
  },
  {
   "cell_type": "code",
   "execution_count": 92,
   "metadata": {},
   "outputs": [
    {
     "data": {
      "text/plain": [
       "1"
      ]
     },
     "execution_count": 92,
     "metadata": {},
     "output_type": "execute_result"
    }
   ],
   "source": [
    "dic1.get('b')"
   ]
  },
  {
   "cell_type": "markdown",
   "metadata": {},
   "source": [
    "### Inserção de novos pares\n",
    "Para inserir um novo valor, basta sobreescrever o dicionário usando uma chave que ainda não foi utilizada."
   ]
  },
  {
   "cell_type": "code",
   "execution_count": 93,
   "metadata": {},
   "outputs": [
    {
     "name": "stdout",
     "output_type": "stream",
     "text": [
      "{'a': 0, 'b': 1, 'c': 2, 'd': 10}\n"
     ]
    }
   ],
   "source": [
    "dic1['d'] = 10\n",
    "print(dic1)"
   ]
  },
  {
   "cell_type": "markdown",
   "metadata": {},
   "source": [
    "### Atualizando valores de chaves\n",
    "Usando uma chave que já existe no dicionário, podemos atulizar um valor para uma determinada chave."
   ]
  },
  {
   "cell_type": "code",
   "execution_count": 94,
   "metadata": {},
   "outputs": [
    {
     "name": "stdout",
     "output_type": "stream",
     "text": [
      "{'a': 0, 'b': 1, 'c': 5, 'd': 10}\n"
     ]
    }
   ],
   "source": [
    "dic1['c'] = 5\n",
    "print(dic1)"
   ]
  },
  {
   "cell_type": "markdown",
   "metadata": {},
   "source": [
    "### Remoção de valores\n",
    "Para apagar um par chave-valor podemos utilizar a função `del()`. Esta função não tem retorno e já atualiza o dicionário."
   ]
  },
  {
   "cell_type": "code",
   "execution_count": 95,
   "metadata": {},
   "outputs": [
    {
     "name": "stdout",
     "output_type": "stream",
     "text": [
      "{'a': 0, 'b': 1, 'd': 10}\n"
     ]
    }
   ],
   "source": [
    "del(dic1['c'])\n",
    "print(dic1)"
   ]
  },
  {
   "cell_type": "markdown",
   "metadata": {},
   "source": [
    "O método `pop()` recebe um argumento que é a chave a ser removida. Diferente da ultima função, ela retorna o valor associado a chave removida. O método também já atualiza o dicionário sem precisar sobreescrever. "
   ]
  },
  {
   "cell_type": "code",
   "execution_count": 96,
   "metadata": {},
   "outputs": [
    {
     "data": {
      "text/plain": [
       "0"
      ]
     },
     "execution_count": 96,
     "metadata": {},
     "output_type": "execute_result"
    }
   ],
   "source": [
    "dic1.pop('a')"
   ]
  },
  {
   "cell_type": "markdown",
   "metadata": {},
   "source": [
    "A ultima forma de remover um par é através do método `popitem()` que (a partir do Python 3.7) remove o ultimo par inserido no dicionário. O par é retornado. Este método não recebe argumento."
   ]
  },
  {
   "cell_type": "code",
   "execution_count": 97,
   "metadata": {},
   "outputs": [
    {
     "data": {
      "text/plain": [
       "('d', 10)"
      ]
     },
     "execution_count": 97,
     "metadata": {},
     "output_type": "execute_result"
    }
   ],
   "source": [
    "dic1.popitem()"
   ]
  },
  {
   "cell_type": "markdown",
   "metadata": {},
   "source": [
    "O método `clear()` permite limpar um dicionário de todos os pares chave-valor. Não há retorno do método"
   ]
  },
  {
   "cell_type": "code",
   "execution_count": 98,
   "metadata": {},
   "outputs": [
    {
     "name": "stdout",
     "output_type": "stream",
     "text": [
      "{}\n"
     ]
    }
   ],
   "source": [
    "dic1.clear()\n",
    "print(dic1)"
   ]
  },
  {
   "cell_type": "markdown",
   "metadata": {},
   "source": [
    "### Verificação de existência de chave\n",
    "Também podemos verificar que uma chave existe em um dicionário através do operador `in`. Ele funciona de forma similar ao qul vimos em conjuntos. Se a chave existir no dicionário, ele retorna o valor booleano `True`, caso contrário, ele retorna o valor booleano `False`."
   ]
  },
  {
   "cell_type": "code",
   "execution_count": 99,
   "metadata": {},
   "outputs": [
    {
     "name": "stdout",
     "output_type": "stream",
     "text": [
      "False\n"
     ]
    }
   ],
   "source": [
    "print('a' in dic1)"
   ]
  },
  {
   "cell_type": "markdown",
   "metadata": {},
   "source": [
    "### Métodos de dicionários"
   ]
  },
  {
   "cell_type": "markdown",
   "metadata": {},
   "source": [
    "Para encontrar todas as chaves presentes no dicionário podemos utilizar o método `keys()` para o dicionário."
   ]
  },
  {
   "cell_type": "code",
   "execution_count": 100,
   "metadata": {},
   "outputs": [
    {
     "data": {
      "text/plain": [
       "dict_keys([(1, 2), (2, 1), (2, 2)])"
      ]
     },
     "execution_count": 100,
     "metadata": {},
     "output_type": "execute_result"
    }
   ],
   "source": [
    "dic2.keys()"
   ]
  },
  {
   "cell_type": "markdown",
   "metadata": {},
   "source": [
    "Da mesma foram podemos utilizar o método `values()` para obter todos valores no dicionário."
   ]
  },
  {
   "cell_type": "code",
   "execution_count": 101,
   "metadata": {},
   "outputs": [
    {
     "data": {
      "text/plain": [
       "dict_values([5, 1, 0])"
      ]
     },
     "execution_count": 101,
     "metadata": {},
     "output_type": "execute_result"
    }
   ],
   "source": [
    "dic2.values()"
   ]
  },
  {
   "cell_type": "markdown",
   "metadata": {},
   "source": [
    "Por ultimo, temos o método `items()` que retorna todos os pares de chave-valor. "
   ]
  },
  {
   "cell_type": "code",
   "execution_count": 102,
   "metadata": {},
   "outputs": [
    {
     "data": {
      "text/plain": [
       "dict_items([((1, 2), 5), ((2, 1), 1), ((2, 2), 0)])"
      ]
     },
     "execution_count": 102,
     "metadata": {},
     "output_type": "execute_result"
    }
   ],
   "source": [
    "dic2.items()"
   ]
  },
  {
   "cell_type": "markdown",
   "metadata": {},
   "source": [
    "### Aninhamento em dicionários\n",
    "Qualquer objeto de Python pode ser um valor, o que nos permite inserir qualquer estrutura como um valor. As chaves tem a restrição que devem ser imútaveis, mas temos que qualquer objeto imútavel pode ser uma chave. \n",
    "Isto nos permite usar listas, tuplas ou até mesmo outros dicionários de forma aninhada em dicionários. "
   ]
  },
  {
   "cell_type": "code",
   "execution_count": 103,
   "metadata": {},
   "outputs": [
    {
     "name": "stdout",
     "output_type": "stream",
     "text": [
      "dict_keys(['1', '2', '3'])\n",
      "dict_values([{'a': 5, 'b': 2, 'c': 6}, {'a': 5, 'b': 2, 'c': 6}, {'a': 5, 'b': 2, 'c': 6}])\n"
     ]
    }
   ],
   "source": [
    "dicMestre = {'1':dicA, '2':dicB, '3':dicC}\n",
    "print(dicMestre.keys())\n",
    "print(dicMestre.values())"
   ]
  }
 ],
 "metadata": {
  "kernelspec": {
   "display_name": "Python 3",
   "language": "python",
   "name": "python3"
  },
  "language_info": {
   "codemirror_mode": {
    "name": "ipython",
    "version": 3
   },
   "file_extension": ".py",
   "mimetype": "text/x-python",
   "name": "python",
   "nbconvert_exporter": "python",
   "pygments_lexer": "ipython3",
   "version": "3.7.7"
  }
 },
 "nbformat": 4,
 "nbformat_minor": 4
}
