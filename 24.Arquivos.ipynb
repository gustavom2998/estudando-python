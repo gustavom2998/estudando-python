{
 "cells": [
  {
   "cell_type": "markdown",
   "metadata": {},
   "source": [
    "# Arquivos: Leitura e Escrita\n",
    "Neste estudo, brevemente revisamos com realizar a leitura e escrita de diversos tipos de arquivos em Python.\n",
    "\n",
    "## Classe File\n",
    "Em Python, há uma classe específica para trabalhar com a criação e manipulação de arquivos. \n",
    "A classe `File` fornece um interface mais amigável para trabalhar com arquivos, sendo a base implementada através do módulo `io` (input/output). Um objeto do tipo file pode representar: Arquivos Binários Raw; Arquivos Binários em Buffer e Arquivos de Texto. Para se instânciar um arquivo desta classe, deve se utilizar a função `open()`."
   ]
  },
  {
   "cell_type": "code",
   "execution_count": 32,
   "metadata": {},
   "outputs": [],
   "source": [
    "f = open(\"24test.txt\",\"w\")\n",
    "f.write(\"Ola 1.\\n\")\n",
    "f.write(\"Ola 2.\\n\")\n",
    "f.write(\"Ola 3.\\n\")\n",
    "f.close()"
   ]
  },
  {
   "cell_type": "markdown",
   "metadata": {},
   "source": [
    "O arquivo file possuí multiplos a tributos, incluindo: `closed` - Booleano que diz se a conexão com o arquivo já foi encerrada; `mode` - String que indica o módo de operação do arquivo; `name` - string contendo o nome do arquivo. "
   ]
  },
  {
   "cell_type": "markdown",
   "metadata": {},
   "source": [
    "## Leitura de Arquivos com Classe File\n",
    "A criação e manipulação de arquivos pode ser feita através da função `open()`. A função comumente recebe dois paramêtros, o primeiro (`file`) sendo uma string com o diretório do arquivo com base no diretório atual do Python, e o segundo (`mode`) sendo uma string com o módo de manipulação do arquivo. Os principais módos de manipulação são: \n",
    "\n",
    "| Módo | Significado |\n",
    "| --- | --- |\n",
    "| 'r' | Abertura de arquivo para leitura (read). |\n",
    "| 'w' | Abertura de arquivo para escrita, truncando o arquivo primeiramente. |\n",
    "| 'x' | Abertura de arquivo para criação exclusiva. Se o arquivo já existir, um erro é gerado. |\n",
    "| 'a' | Abertura de arquivo para escrita, anexando ao final do arquivo se ele já existri. |\n",
    "| 'b' | Módo binário. |\n",
    "| 't' | Módo de texto. |\n",
    "| '+' | Módo de atualização (Leitura e escrita). |\n",
    "\n",
    "Ao utilizar a função `open()`, deve se atribuir o objeto file para uma váriavel. É possível acessar o  atributo `.mode` do arquivo, e após finalizar, é sempre necessário utilizar o método `.close()`. O atributo `closed` contém um valor booleano que indica se a conexão com o arquivo foi corretamente encerrada."
   ]
  },
  {
   "cell_type": "code",
   "execution_count": 33,
   "metadata": {},
   "outputs": [
    {
     "name": "stdout",
     "output_type": "stream",
     "text": [
      "True\n"
     ]
    }
   ],
   "source": [
    "f = open(\"24test.txt\",\"r\")\n",
    "f.close()\n",
    "print(f.closed)"
   ]
  },
  {
   "cell_type": "markdown",
   "metadata": {},
   "source": [
    "Para evitar a necessidade de fazer isto, é possível utilizar o prótocolo with as. Isto é considerada uma prática melhor de programação, pois garante que o arquivo sempre vai ser fechado após executar as operações necessárias. O método `read()` é capaz de ler uma quantidade de caracteres (informado como paramêtro, de forma numérica) ou bytes. Se a quantidade não for informada, o arquivo inteiro é lido até chegar ao final do arquivo. "
   ]
  },
  {
   "cell_type": "code",
   "execution_count": 34,
   "metadata": {},
   "outputs": [
    {
     "name": "stdout",
     "output_type": "stream",
     "text": [
      "Ola 1.\n",
      "\n",
      "Ola 2.\n",
      "Ola 3.\n",
      "\n"
     ]
    }
   ],
   "source": [
    "with open(\"24test.txt\",\"r\") as arquivo:\n",
    "    fileA = arquivo.read(6)\n",
    "    print(fileA)\n",
    "    fileA = arquivo.read()\n",
    "    print(fileA)"
   ]
  },
  {
   "cell_type": "markdown",
   "metadata": {},
   "source": [
    "O método `readline()` lê a próxima linha do arquivo. Todo o texto da linha é retornado (incluíndo o \"\\n\"). Ele é util para ler uma linha de cada vez.  No exemplo abaixo, utilizamos ele para imprimir linha por linha do arquivo, até chegar ao final do arquivo (representado pelo retorno de ''). Há um paramêtro opcional numérico que representa o numero de bytes/caracteres que devem ser retornados da linha. Caso ele não seja informado, o padrão é retornar a linha inteira."
   ]
  },
  {
   "cell_type": "code",
   "execution_count": 35,
   "metadata": {},
   "outputs": [
    {
     "name": "stdout",
     "output_type": "stream",
     "text": [
      "Ola\n",
      " 1.\n",
      "\n",
      "\n",
      "Ola\n",
      " 2.\n",
      "\n",
      "\n",
      "Ola\n",
      " 3.\n",
      "\n",
      "\n",
      "\n"
     ]
    }
   ],
   "source": [
    "with open(\"24test.txt\",\"r\") as arquivo:\n",
    "    i = None\n",
    "\n",
    "    while i != '':\n",
    "        i = arquivo.readline(3)\n",
    "        print(i)"
   ]
  },
  {
   "cell_type": "markdown",
   "metadata": {},
   "source": [
    "O método `.readlines()` da classe file pode ser utilizado para identificar quebras de linhas (\"\\n\") no arquivo, e montar uma lista, onde cada posição é uma linha. É possível também passar um paramêtro numérico, que lê N linhas do arquivo de vez. "
   ]
  },
  {
   "cell_type": "code",
   "execution_count": 36,
   "metadata": {},
   "outputs": [
    {
     "name": "stdout",
     "output_type": "stream",
     "text": [
      "['Ola 1.\\n']\n",
      "['Ola 2.\\n', 'Ola 3.\\n']\n"
     ]
    }
   ],
   "source": [
    "with open(\"24test.txt\",\"r\") as arquivo:\n",
    "    fileA = arquivo.readlines(2)\n",
    "    print(fileA)\n",
    "    fileA = arquivo.readlines()\n",
    "    print(fileA)"
   ]
  },
  {
   "cell_type": "markdown",
   "metadata": {},
   "source": [
    "A classe file é iterável, logo, é possível imprimir uma linha de cada fez simplesmente percorrendo o arquivo com um for. "
   ]
  },
  {
   "cell_type": "code",
   "execution_count": 37,
   "metadata": {},
   "outputs": [
    {
     "name": "stdout",
     "output_type": "stream",
     "text": [
      "Ola 1.\n",
      "\n",
      "Ola 2.\n",
      "\n",
      "Ola 3.\n",
      "\n"
     ]
    }
   ],
   "source": [
    "with open(\"24test.txt\",\"r\") as arquivo:\n",
    "    for linha in arquivo:\n",
    "        print(linha)"
   ]
  },
  {
   "cell_type": "markdown",
   "metadata": {},
   "source": [
    "Por o arquivo ser iterável, é possível utilizar a compreensão de listas para poder pré-processar os dados antes de inserir-los na lista."
   ]
  },
  {
   "cell_type": "code",
   "execution_count": 39,
   "metadata": {},
   "outputs": [
    {
     "name": "stdout",
     "output_type": "stream",
     "text": [
      "['OLA 1.\\n', 'OLA 2.\\n', 'OLA 3.\\n']\n"
     ]
    }
   ],
   "source": [
    "linhas = None\n",
    "with open(\"24test.txt\",\"r\") as arquivo:\n",
    "    linhas = [linha.upper() for linha in arquivo]\n",
    "print(linhas)"
   ]
  },
  {
   "cell_type": "markdown",
   "metadata": {},
   "source": [
    "## Escritas de Arquivos com Classe File\n",
    "A função `open()` também permite a escrita de arquivos. Primeiro, se usa a função para criar um novo arquivo, passando como o primeiro argumento uma string contendo o diretório em que o arquivo deve ser salvo, e o segundo sendo uma string contendo o módo de operação \"w\", de escrita. O resultado do uso dessa função é um objeto File, que pode ser utilizado para realizar escritas."
   ]
  },
  {
   "cell_type": "code",
   "execution_count": null,
   "metadata": {},
   "outputs": [],
   "source": [
    "f = open(\"24test.txt\",\"w\")\n",
    "f.close()"
   ]
  },
  {
   "cell_type": "markdown",
   "metadata": {},
   "source": [
    "Então, pode se utilizar o método `.write()` do objeto do arquivo para realizar a escrita de dados. Este método recebe um argumento que é uma string contendo o texto a ser escrito no arquivo."
   ]
  },
  {
   "cell_type": "code",
   "execution_count": 1,
   "metadata": {},
   "outputs": [],
   "source": [
    "f = open(\"24test2.txt\",\"w\")\n",
    "f.write(\"Ola 3.\\n\")\n",
    "f.write(\"Ola 4.\\n\")\n",
    "f.write(\"Ola 5.\\n\")\n",
    "f.close()"
   ]
  },
  {
   "cell_type": "markdown",
   "metadata": {},
   "source": [
    "Semelhante a leitura, é possível utilizar um bloco with as para não ter que encerrar a conexão com o arquivo após finalizar a escrita. É possível utilizar o método write de forma consecutivas, cada vez adicionando uma string nova para o arquivo."
   ]
  },
  {
   "cell_type": "code",
   "execution_count": null,
   "metadata": {},
   "outputs": [],
   "source": [
    "with open(\"24test.txt\",\"w\") as arquivo:\n",
    "    f.write(\"Ola 1.\\n\")\n",
    "    f.write(\"Ola 2.\\n\")\n",
    "    f.write(\"Ola 3.\\n\")"
   ]
  },
  {
   "cell_type": "markdown",
   "metadata": {},
   "source": [
    "## Leitura de Multiplos Arquivos\n",
    "Muitas vezes pode ser necessário importar multiplos arquivos de uma vez só. É possível fazer isto lendo um arquivo de cada vez, mas é mais fácil fazer isso através do módulo `fileinput`, que possuí a função `input()` que pode receber uma lista de arquivos e tratar tudo como um único arquivo. Isto pode facilitar realizar manipulações sobre multiplos arquivos, pois tudo é referênciado como um só. "
   ]
  },
  {
   "cell_type": "code",
   "execution_count": 4,
   "metadata": {},
   "outputs": [
    {
     "name": "stdout",
     "output_type": "stream",
     "text": [
      "['OLA 1.\\n', 'OLA 2.\\n', 'OLA 3.\\n', 'OLA 3.\\n', 'OLA 4.\\n', 'OLA 5.\\n']\n"
     ]
    }
   ],
   "source": [
    "import fileinput\n",
    "\n",
    "with fileinput.input(files = ('24test.txt','24test2.txt')) as arquivos:\n",
    "    x = [line.upper() for line in arquivos]\n",
    "    print(x)"
   ]
  },
  {
   "cell_type": "markdown",
   "metadata": {},
   "source": [
    "Além desta funcionalidade básica, este módulo é capaz de retornar multiplas informações sobre os arquivos sendo manipulados.\n",
    "> Dica: Para mais informações, ver a documentação sobre o módulo `fileinput` no [link](https://docs.python.org/3/library/fileinput.html#module-fileinput)."
   ]
  },
  {
   "cell_type": "markdown",
   "metadata": {},
   "source": [
    "## Acrescentando dados ao Arquivo\n",
    "É possível utilizar o método append para escrever em um arquivo que já existe. Para acrescentar, basta utilizar a função `open()` com o modo de manipulação \"a\"."
   ]
  },
  {
   "cell_type": "markdown",
   "metadata": {},
   "source": [
    "## Manipulação de arquivos existentes\n",
    "Para manipular os arquivos exisntes, como renomear e deletar arquivos, é necessário utilizar o módulo `os`, que é responsável por permitir o Python a interagir com o sistema operacional, sem necessariamente o usuário ter que saber as particularidades sobre o seu sisetma. \n",
    "\n",
    "### Renomeando arquivos\n",
    "É possível renomear arquivos através da função `rename()`, que deve receber duas strings como paramêtro, sendo a primeira o nome antigo, e a segunda o nome novo."
   ]
  },
  {
   "cell_type": "code",
   "execution_count": 12,
   "metadata": {},
   "outputs": [],
   "source": [
    "from os import rename\n",
    "rename('24test.txt','24exec.txt')"
   ]
  },
  {
   "cell_type": "code",
   "execution_count": 13,
   "metadata": {},
   "outputs": [],
   "source": [
    "rename('24exec.txt','24test.txt')"
   ]
  },
  {
   "cell_type": "markdown",
   "metadata": {},
   "source": [
    "### Apagando arquivos\n",
    "A função `remove()` apaga o arquivo através do nome passado como argumento."
   ]
  },
  {
   "cell_type": "code",
   "execution_count": 14,
   "metadata": {},
   "outputs": [],
   "source": [
    "from os import remove\n",
    "remove('24test2.txt')"
   ]
  },
  {
   "cell_type": "markdown",
   "metadata": {},
   "source": [
    "### Trabalhando com Diretórios\n",
    "Diretórios são estruturas hierarquicás do sistema operacional para poder trabalhar com diretórios. O módulo `os` possuí multiplas funções que permitem alterar, criar e modificar diretórios. Listamos algumas das funcionalidades abaixo.\n",
    "\n",
    "| Função | Descrição | Paramêtros |\n",
    "| --- | --- | --- |\n",
    "| `mkdir()` | Utiliza para criar um novo diretório. | `path`: Caminho onde o novo diretório será criado (incluí o nome do novo); `mode`: Opcional, valor inteiro que representa modo do diretório a ser criado; `dir_fd`: Opcional, Descritor de arquivo referindo ao diretório.  | \n",
    "| `chdir()` | Utilizada para alterar o diretório atual do programa. | `path`: Caminho do diretório a ser acessado. |\n",
    "| `getcwd()` | Retorna string que representa o nome do diretório atual. | `None` |\n",
    "| `rmdir()` |  Remove/apaga um diretório. | `path`: Caminho onde se encontra o diretório a ser excluído; `dir_fd`: Optional, Descritor de arquivo referindo ao diretório. |\n",
    "| `listdir()` | Retorna uma lista contendo nomes do arquivos dentro do diretório especificado. | `path`: Caminho do diretório que deve ser analisado. |\n",
    "\n",
    "O uso do path `'..'` indica referência ao diretório pai do atual, e `'.'` indica o diretório atual.\n"
   ]
  },
  {
   "cell_type": "markdown",
   "metadata": {},
   "source": [
    "## Acesso rândomico de arquivos\n",
    "Até então, acessamos os conteúdos do arquivo de forma sequêncial, iniciando no começo do arquivo, e lendo de X em X bytes/caracteres até chegar no final do arquivo. Algumas vezes, pode ser que você deseja saltar diretamento para uma posição do arquivo, ao invés de ter que percorrer todas as linhas anteriores até chegar lá. Esta forma de acesso, que podemos escolher qual porção do arquivos desejamos ler é chamado de acesso aleatório de arquivo. \n",
    "\n",
    "Quando abrimos um arquivo e atribuímos ele a uma variável, esta váriavel aponta para a posição atual do arquivo. Conforme vomos lendo, este ponteiro vai se locomovendo, até chegar no final do arquivo. Ao querer fazer o acesso de forma aleatória, o programador deseja mudar a posição do ponteiro de forma manual. \n",
    "\n",
    "O método `seek()` do arquivo permite fazer isso, recebendo dois argumentos principais, o primeiro (offset) sendo um valor numérico representando quantos caracteres/bytes se deseja locomover, com um valor negativo indicando para trás. O segundo (whence) argumento é de qual byte deve servir como referência, ou seja, o ponto inicial do movimento. Este valor de whence pode ser três valores: 0 (ínicio do arquivo - que é o default); 1 (na posição atual); 2 (no final do arquivo). "
   ]
  },
  {
   "cell_type": "code",
   "execution_count": 34,
   "metadata": {},
   "outputs": [
    {
     "name": "stdout",
     "output_type": "stream",
     "text": [
      "Ola 1.\n",
      "\n",
      "Ola 1.\n",
      "\n",
      "Ola 2.\n",
      "\n"
     ]
    }
   ],
   "source": [
    "with open('24test.txt','r') as arquivo:\n",
    "    print(arquivo.readline())\n",
    "    arquivo.seek(0)\n",
    "    print(arquivo.readline())\n",
    "    arquivo.seek(0,1)\n",
    "    print(arquivo.readline())\n",
    "    "
   ]
  },
  {
   "cell_type": "markdown",
   "metadata": {},
   "source": [
    "## Arquivos Temporários\n",
    "Durante a execução de uma aplicação, muitas vezes é necessário criar um arquivo durante a execução, e então excluir-lo após finalizar a execução. Para isso, existe o módulo `tempfile`, que facilita a criação e operação destes tipos de arquivos. As classes `TemporaryFile`, `NamedTemporaryFile`, `TemporaryDirectory` e `SpooledTemporaryFile` todos representam arquivos com funcionalidades extendidas e limpea automática que implemetnam o protocolo gerenciador de contexto. \n",
    "\n",
    "De forma resumida, as funcionalidades de alto nível deste módulo são:\n",
    "* `TemporaryFile(mode='w+b')`: Retorna objeto de arquivo anônimo que pode ser utilizado como um espaço de armazenamento temporário. Ao finalizar a utilização do arquivo, ele é apagado do sistema de arquivos. Escrita de conteúdo em binário por default.\n",
    "* `NamedTemporaryFile(mode='w+b')`:  Semelhante a anterior, entretanto, o arquivo possuí um nome visível no sistema. \n",
    "* `SpooledTemporaryFile(maxsize=0, mode='w+b')`: Semelhante ao temporary file, entrentanto, os dados são pré carregados na memóry até excidir maxsize ou chamar o método `fileno()`, então salvando uma copia no disco (semelhante o temporary file).\n",
    "* `TemporaryDirectory(mode='w+b')`: Cria um diretório temporário que é distruído após a compleção do contexto. "
   ]
  },
  {
   "cell_type": "markdown",
   "metadata": {},
   "source": [
    "## Caminhos utilizando Pathlib\n",
    "O módulo `pathlib` possuí um conjunto de classes que representam caminhos do sistema de arquivos. A principal classe deste módulo é a `Path`. Um arquivo desta classe permite manipular e gerenciar o caminho até um arquivo ou diretório. Ela também é capaz de replicar algaums funcionalidades de caminhos do módulo `os`. \n",
    "\n",
    "Para criar um objeto do tipo Path, se utiliza o construtor do objeto disponibilizado no módulo. Há diferentes métodos disponivíeis para um Path, como por exemplo:\n",
    "* `exists()`: Retornar booleano, verdadeiro se o Path atual apontar para um arquivo/diretório existente.\n",
    "* `is_dir()`: Retorna um valor booleano, verdadeiro se o path for um diretório existente, e falso em qualquer outro.\n",
    "* `is_file()`: Retorna um valor booleano, verdadeiro se o path for um arquivo existente, e falso em qualquer outro.\n",
    "* `absolute()`: Um Path é considerado absoluto se ele tiver uma raíz e um drive.\n",
    "* `is_absolute()`: Retorna valor booleano indicando se o caminho é absoluto ou não.\n"
   ]
  },
  {
   "cell_type": "code",
   "execution_count": 2,
   "metadata": {},
   "outputs": [
    {
     "name": "stdout",
     "output_type": "stream",
     "text": [
      "p: .\n",
      "Existe?: True\n",
      "É diretório?: True\n",
      "É arquivo?: False\n",
      "Absoluto: C:\\Users\\1513 X-MXTI\\Documents\\MEGAsync\\MEGAsync Uploads\\faculdade\\Outros\\Data Science\\Data Science IBM\\Python\\estudando-python\n"
     ]
    }
   ],
   "source": [
    "from pathlib import Path\n",
    "p = Path('.') # Path para o diretório atual\n",
    "print('p:', p)\n",
    "print('Existe?:', p.exists())\n",
    "print('É diretório?:', p.is_dir())\n",
    "print('É arquivo?:', p.is_file())\n",
    "print('Absoluto:', p.absolute())"
   ]
  },
  {
   "cell_type": "markdown",
   "metadata": {},
   "source": [
    "# Referência\n",
    "[2] HUNT, John. **Advanced Guide to Python 3 Programming**. Springer Nature Switzerland AG 2019. 2019. "
   ]
  },
  {
   "cell_type": "code",
   "execution_count": null,
   "metadata": {},
   "outputs": [],
   "source": []
  }
 ],
 "metadata": {
  "kernelspec": {
   "display_name": "Python 3",
   "language": "python",
   "name": "python3"
  },
  "language_info": {
   "codemirror_mode": {
    "name": "ipython",
    "version": 3
   },
   "file_extension": ".py",
   "mimetype": "text/x-python",
   "name": "python",
   "nbconvert_exporter": "python",
   "pygments_lexer": "ipython3",
   "version": "3.7.7"
  }
 },
 "nbformat": 4,
 "nbformat_minor": 4
}
