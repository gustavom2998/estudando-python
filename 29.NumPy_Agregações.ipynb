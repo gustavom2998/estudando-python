{
 "cells": [
  {
   "cell_type": "markdown",
   "metadata": {},
   "source": [
    "# NumPy: Agregações\n",
    "Neste tópico, propomos o estudo do pacote `NumPy`, cujo objetivo é fornecer suporte para arrays multidimensionais, que possuem implementações prontas para operações básicas e funções de algebra linear extremamente úteis. Este pacote é a base de grande parte dos pacotes do Python que serão futuramente estudados. A implementação deste pacote é feita através de C, logo, ele é extremamente otimizado (devido a tipagém estática e uso de memória contigua), sendo ótimo para carregar, armazenear, e manipular dados dentro de memória no Python.\n",
    "\n",
    "## Agregações\n",
    "Uma função de agregação permite resumir valores númericos através de algum conjunto de operações, tendo aplicações em estátística descritiva, além de ser aplicada em vários campos como operações matemáticas. O NumPy possuí implementações otimizadas para estes vastos tipos de operações.\n",
    "\n",
    "### Somatório\n",
    "Apesar de existir a implementação do Python para realizar somátório de um iterável, a do NumPy é muito mais otimizada, por isso, recomendo se utilizar ela."
   ]
  },
  {
   "cell_type": "code",
   "execution_count": 16,
   "metadata": {},
   "outputs": [
    {
     "name": "stdout",
     "output_type": "stream",
     "text": [
      "[0 1 2 3 4 5 6 7 8 9]\n",
      "45\n",
      "45\n"
     ]
    }
   ],
   "source": [
    "import numpy as np\n",
    "x = np.arange(10)\n",
    "print(x)\n",
    "print(np.sum(x)) # Implementacao do NumPy\n",
    "print(sum(x)) # Implementacao do Python - Lerda"
   ]
  },
  {
   "cell_type": "markdown",
   "metadata": {},
   "source": [
    "### Máximo e Mínimo\n",
    "Da mesma forma, apesar de existir as funções `max()` e `min()` do Python, as implementações destas funções para o NumPy são muito mais otimizadas. "
   ]
  },
  {
   "cell_type": "code",
   "execution_count": 17,
   "metadata": {},
   "outputs": [
    {
     "name": "stdout",
     "output_type": "stream",
     "text": [
      "9\n",
      "0\n"
     ]
    }
   ],
   "source": [
    "print(np.max(x))\n",
    "print(np.min(x))"
   ]
  },
  {
   "cell_type": "markdown",
   "metadata": {},
   "source": [
    "### Agregações Multidimensionais\n",
    "Pode ser interessante realizar as agregações apresentadas anteriormente ao longo de uma dimensão (linha ou coluna por exemplo). Por default, as operações de agregação passam pelo aray inteiro, basta especificar qual `axis` deve ser utilizado como direção de agregação para poder mudar este comportamento."
   ]
  },
  {
   "cell_type": "code",
   "execution_count": 18,
   "metadata": {},
   "outputs": [],
   "source": [
    "x = np.arange(16)\n",
    "x = np.reshape(x,(4,4))"
   ]
  },
  {
   "cell_type": "code",
   "execution_count": 19,
   "metadata": {},
   "outputs": [
    {
     "data": {
      "text/plain": [
       "array([24, 28, 32, 36])"
      ]
     },
     "execution_count": 19,
     "metadata": {},
     "output_type": "execute_result"
    }
   ],
   "source": [
    "np.sum(x,axis=0) # Realiza somatorio percorrendo as linhas (verticalmente)"
   ]
  },
  {
   "cell_type": "code",
   "execution_count": 22,
   "metadata": {},
   "outputs": [
    {
     "data": {
      "text/plain": [
       "array([ 3,  7, 11, 15])"
      ]
     },
     "execution_count": 22,
     "metadata": {},
     "output_type": "execute_result"
    }
   ],
   "source": [
    "np.max(x,axis=1) # Encontra maior valor percorrendo colunas (horizontalmente)"
   ]
  },
  {
   "cell_type": "markdown",
   "metadata": {},
   "source": [
    "### Demais Funções\n",
    "| Tipo de dado | Significado |\n",
    "| --- | --- |\n",
    "| 'np.sum' | Computa a soma dos valores. |\n",
    "| 'np.prod' | Computa o produto dos valores. |\n",
    "| 'np.mean' | Computa a média dos valores. |\n",
    "| 'np.std' | Computa o desvio padrão para o conjunto de valores. |\n",
    "| 'np.var' | Computa a variância para o conjunto de valores. |\n",
    "| 'np.min' | Encontra o menor valor dentro do conjunto de valores. |\n",
    "| 'np.max' | Encontra o maior valor dentro do conjunto de valores. |\n",
    "| 'np.argmin' | Encontra o indíce do menor valor. |\n",
    "| 'np.argmax' | Encontra o indíce do maior valor. |\n",
    "| 'np.median' | Inteiro que ocupa um byte (-128 a 127). |\n",
    "| 'np.sum' | Computa a mediana para o conjunto de valores. |\n",
    "| 'np.percentile' | Retorna o q-ésimo perncentil para o conjunto de valores. |\n",
    "| 'np.any' | Retorna se qualquer um dos elementos é verdadeiro (OR entre elementos). |\n",
    "| 'np.all' | Retorna se todos os elementos é verdadeiro (AND entre elementos). |"
   ]
  },
  {
   "cell_type": "code",
   "execution_count": null,
   "metadata": {},
   "outputs": [],
   "source": []
  }
 ],
 "metadata": {
  "kernelspec": {
   "display_name": "Python 3",
   "language": "python",
   "name": "python3"
  },
  "language_info": {
   "codemirror_mode": {
    "name": "ipython",
    "version": 3
   },
   "file_extension": ".py",
   "mimetype": "text/x-python",
   "name": "python",
   "nbconvert_exporter": "python",
   "pygments_lexer": "ipython3",
   "version": "3.7.7"
  }
 },
 "nbformat": 4,
 "nbformat_minor": 4
}
